{
 "cells": [
  {
   "cell_type": "code",
   "execution_count": 1,
   "id": "ad9cbe3c",
   "metadata": {
    "scrolled": true
   },
   "outputs": [
    {
     "name": "stdout",
     "output_type": "stream",
     "text": [
      "1 1\n",
      "1 2\n",
      "1 3\n",
      "1 4\n",
      "complete i loop \n",
      "2 1\n",
      "2 2\n",
      "2 3\n",
      "2 4\n",
      "complete i loop \n",
      "3 1\n",
      "3 2\n",
      "3 3\n",
      "3 4\n",
      "complete i loop \n",
      "4 1\n",
      "4 2\n",
      "4 3\n",
      "4 4\n",
      "complete i loop \n"
     ]
    }
   ],
   "source": [
    "for i in range(1,5):\n",
    "    for j in range(1,5):\n",
    "        print(i,j)\n",
    "    print(\"complete i loop \")"
   ]
  },
  {
   "cell_type": "code",
   "execution_count": 5,
   "id": "5b62c129",
   "metadata": {},
   "outputs": [
    {
     "name": "stdout",
     "output_type": "stream",
     "text": [
      "1 1       1 2       1 3       1 4       1 5       \n",
      "2 1       2 2       2 3       2 4       2 5       \n",
      "3 1       3 2       3 3       3 4       3 5       \n",
      "4 1       4 2       4 3       4 4       4 5       \n",
      "5 1       5 2       5 3       5 4       5 5       \n",
      "6 1       6 2       6 3       6 4       6 5       \n",
      "7 1       7 2       7 3       7 4       7 5       \n",
      "8 1       8 2       8 3       8 4       8 5       \n",
      "9 1       9 2       9 3       9 4       9 5       \n",
      "10 1       10 2       10 3       10 4       10 5       \n"
     ]
    }
   ],
   "source": [
    "for i in range(1,11):\n",
    "    for j in range(1,6):\n",
    "        print(i,j,end=\"       \")\n",
    "    print()"
   ]
  },
  {
   "cell_type": "code",
   "execution_count": 6,
   "id": "9e7d3d85",
   "metadata": {},
   "outputs": [
    {
     "name": "stdout",
     "output_type": "stream",
     "text": [
      "2 4 6 8 10 12 14 16 18 20 \n",
      "3 6 9 12 15 18 21 24 27 30 \n",
      "4 8 12 16 20 24 28 32 36 40 \n"
     ]
    }
   ],
   "source": [
    "for i in range(2,5):\n",
    "    for j in range(1,11):\n",
    "        print(i*j,end=\" \")\n",
    "    print()"
   ]
  },
  {
   "cell_type": "code",
   "execution_count": 7,
   "id": "90b0a865",
   "metadata": {},
   "outputs": [
    {
     "name": "stdout",
     "output_type": "stream",
     "text": [
      "3 4 5 6 7 8 9 10 11 12 \n",
      "4 5 6 7 8 9 10 11 12 13 \n",
      "5 6 7 8 9 10 11 12 13 14 \n"
     ]
    }
   ],
   "source": [
    "for i in range(2,5):\n",
    "    for j in range(1,11):\n",
    "        print(i+j,end=\" \")\n",
    "    print()"
   ]
  },
  {
   "cell_type": "code",
   "execution_count": 8,
   "id": "3417c40b",
   "metadata": {},
   "outputs": [
    {
     "name": "stdout",
     "output_type": "stream",
     "text": [
      "* * * * * \n",
      "* * * * * \n",
      "* * * * * \n",
      "* * * * * \n",
      "* * * * * \n"
     ]
    }
   ],
   "source": [
    "for i in range(1,6):\n",
    "    for j in range(1,6):\n",
    "        print(\"*\",end=\" \")\n",
    "    print()"
   ]
  },
  {
   "cell_type": "code",
   "execution_count": 3,
   "id": "c74893c5",
   "metadata": {},
   "outputs": [
    {
     "name": "stdout",
     "output_type": "stream",
     "text": [
      "| * + O | | * + O | | * + O | | * + O | ~\n",
      "| * + O | | * + O | | * + O | | * + O | ~\n",
      "| * + O | | * + O | | * + O | | * + O | ~\n",
      "| * + O | | * + O | | * + O | | * + O | ~\n",
      "~~~~~~~~~~~~~~~~~~~~~~~~~~~~~~~~~~~~~~~\n",
      "| * + O | | * + O | | * + O | | * + O | ~\n",
      "| * + O | | * + O | | * + O | | * + O | ~\n",
      "| * + O | | * + O | | * + O | | * + O | ~\n",
      "| * + O | | * + O | | * + O | | * + O | ~\n",
      "~~~~~~~~~~~~~~~~~~~~~~~~~~~~~~~~~~~~~~~\n",
      "| * + O | | * + O | | * + O | | * + O | ~\n",
      "| * + O | | * + O | | * + O | | * + O | ~\n",
      "| * + O | | * + O | | * + O | | * + O | ~\n",
      "| * + O | | * + O | | * + O | | * + O | ~\n",
      "~~~~~~~~~~~~~~~~~~~~~~~~~~~~~~~~~~~~~~~\n",
      "| * + O | | * + O | | * + O | | * + O | ~\n",
      "| * + O | | * + O | | * + O | | * + O | ~\n",
      "| * + O | | * + O | | * + O | | * + O | ~\n",
      "| * + O | | * + O | | * + O | | * + O | ~\n",
      "~~~~~~~~~~~~~~~~~~~~~~~~~~~~~~~~~~~~~~~\n"
     ]
    }
   ],
   "source": [
    "for i in range(1,5):\n",
    "    for j in range(1,5):\n",
    "        for k in range(1,5):\n",
    "            i = \"*\"\n",
    "            j = \"+\"\n",
    "            k = \"O\"\n",
    "            print(\"|\",i,j,k,\"|\",end=\" \")\n",
    "        print(\"~\")\n",
    "    print(\"~~~~~~~~~~~~~~~~~~~~~~~~~~~~~~~~~~~~~~~\")"
   ]
  },
  {
   "cell_type": "code",
   "execution_count": 4,
   "id": "47cb6066",
   "metadata": {},
   "outputs": [
    {
     "name": "stdout",
     "output_type": "stream",
     "text": [
      "\n",
      "| 2 | 4 | 6 | 8 | 10 | 12 | 14 | 16 | 18 | 20 \n",
      "\n",
      "| 3 | 6 | 9 | 12 | 15 | 18 | 21 | 24 | 27 | 30 \n",
      "\n",
      "| 4 | 8 | 12 | 16 | 20 | 24 | 28 | 32 | 36 | 40 \n",
      "\n",
      "| 5 | 10 | 15 | 20 | 25 | 30 | 35 | 40 | 45 | 50 \n",
      "\n",
      "| 6 | 12 | 18 | 24 | 30 | 36 | 42 | 48 | 54 | 60 \n",
      "\n",
      "| 7 | 14 | 21 | 28 | 35 | 42 | 49 | 56 | 63 | 70 \n",
      "\n",
      "| 8 | 16 | 24 | 32 | 40 | 48 | 56 | 64 | 72 | 80 \n",
      "\n",
      "| 9 | 18 | 27 | 36 | 45 | 54 | 63 | 72 | 81 | 90 \n",
      "\n",
      "| 10 | 20 | 30 | 40 | 50 | 60 | 70 | 80 | 90 | 100 \n"
     ]
    }
   ],
   "source": [
    "for i in range(2,11):\n",
    "    print()\n",
    "    for j in range(1,11):\n",
    "        print(\"|\",i*j,end=\" \")\n",
    "    print()"
   ]
  },
  {
   "cell_type": "code",
   "execution_count": 5,
   "id": "71dc20d0",
   "metadata": {},
   "outputs": [
    {
     "name": "stdout",
     "output_type": "stream",
     "text": [
      "**********\n",
      "| * | ** | *** | **** \n",
      "****\n",
      "| * | ** | *** | **** \n",
      "****\n",
      "| * | ** | *** | **** \n",
      "****\n",
      "| * | ** | *** | **** \n"
     ]
    }
   ],
   "source": [
    "for i in range(1,5):\n",
    "    i = \"*\"\n",
    "    print(i*j)\n",
    "    for j in range(1,5):\n",
    "        print(\"|\",i*j,end=\" \")\n",
    "    print()"
   ]
  },
  {
   "cell_type": "code",
   "execution_count": 6,
   "id": "680d7d24",
   "metadata": {},
   "outputs": [
    {
     "name": "stdout",
     "output_type": "stream",
     "text": [
      "1 1\n",
      "1 2\n",
      "1 3\n",
      "1 4\n",
      "1 5\n",
      "1 6\n",
      "1 7\n",
      "1 8\n",
      "1 9\n",
      "1 10\n",
      "i loop ends here\n",
      "2 1\n",
      "2 2\n",
      "2 3\n",
      "2 4\n",
      "2 5\n",
      "2 6\n",
      "2 7\n",
      "2 8\n",
      "2 9\n",
      "2 10\n",
      "i loop ends here\n",
      "3 1\n",
      "3 2\n",
      "3 3\n",
      "3 4\n",
      "3 5\n",
      "3 6\n",
      "3 7\n",
      "3 8\n",
      "3 9\n",
      "3 10\n",
      "i loop ends here\n",
      "4 1\n",
      "4 2\n",
      "4 3\n",
      "4 4\n",
      "4 5\n",
      "4 6\n",
      "4 7\n",
      "4 8\n",
      "4 9\n",
      "4 10\n",
      "i loop ends here\n",
      "5 1\n",
      "5 2\n",
      "5 3\n",
      "5 4\n",
      "5 5\n",
      "5 6\n",
      "5 7\n",
      "5 8\n",
      "5 9\n",
      "5 10\n",
      "i loop ends here\n",
      "6 1\n",
      "6 2\n",
      "6 3\n",
      "6 4\n",
      "6 5\n",
      "6 6\n",
      "6 7\n",
      "6 8\n",
      "6 9\n",
      "6 10\n",
      "i loop ends here\n",
      "7 1\n",
      "7 2\n",
      "7 3\n",
      "7 4\n",
      "7 5\n",
      "7 6\n",
      "7 7\n",
      "7 8\n",
      "7 9\n",
      "7 10\n",
      "i loop ends here\n",
      "8 1\n",
      "8 2\n",
      "8 3\n",
      "8 4\n",
      "8 5\n",
      "8 6\n",
      "8 7\n",
      "8 8\n",
      "8 9\n",
      "8 10\n",
      "i loop ends here\n",
      "9 1\n",
      "9 2\n",
      "9 3\n",
      "9 4\n",
      "9 5\n",
      "9 6\n",
      "9 7\n",
      "9 8\n",
      "9 9\n",
      "9 10\n",
      "i loop ends here\n",
      "10 1\n",
      "10 2\n",
      "10 3\n",
      "10 4\n",
      "10 5\n",
      "10 6\n",
      "10 7\n",
      "10 8\n",
      "10 9\n",
      "10 10\n",
      "i loop ends here\n"
     ]
    }
   ],
   "source": [
    "for i in range(1,11):\n",
    "    for j in range(1,11):\n",
    "        print(i,j)\n",
    "    print(\"i loop ends here\")\n",
    "        "
   ]
  },
  {
   "cell_type": "code",
   "execution_count": 7,
   "id": "b82a6f8e",
   "metadata": {},
   "outputs": [
    {
     "name": "stdout",
     "output_type": "stream",
     "text": [
      "1 2 3 4 5 6 7 8 9 10 \n",
      "2 4 6 8 10 12 14 16 18 20 \n",
      "3 6 9 12 15 18 21 24 27 30 \n",
      "4 8 12 16 20 24 28 32 36 40 \n",
      "5 10 15 20 25 30 35 40 45 50 \n",
      "6 12 18 24 30 36 42 48 54 60 \n",
      "7 14 21 28 35 42 49 56 63 70 \n",
      "8 16 24 32 40 48 56 64 72 80 \n",
      "9 18 27 36 45 54 63 72 81 90 \n",
      "10 20 30 40 50 60 70 80 90 100 \n"
     ]
    }
   ],
   "source": [
    "for i in range(1,11):\n",
    "    for j in range(1,11):\n",
    "        print(i*j,end = \" \")\n",
    "    print()"
   ]
  },
  {
   "cell_type": "code",
   "execution_count": 8,
   "id": "c430a4dc",
   "metadata": {},
   "outputs": [
    {
     "name": "stdout",
     "output_type": "stream",
     "text": [
      "* * * * * * * * * * \n",
      "* * * * * * * * * * \n",
      "* * * * * * * * * * \n",
      "* * * * * * * * * * \n",
      "* * * * * * * * * * \n",
      "* * * * * * * * * * \n",
      "* * * * * * * * * * \n",
      "* * * * * * * * * * \n",
      "* * * * * * * * * * \n",
      "* * * * * * * * * * \n"
     ]
    }
   ],
   "source": [
    "for i in range(1,11):\n",
    "    for j in range(1,11):\n",
    "        print(\"*\",end = \" \")\n",
    "    print()"
   ]
  },
  {
   "cell_type": "code",
   "execution_count": 9,
   "id": "d3bbabcf",
   "metadata": {},
   "outputs": [
    {
     "name": "stdout",
     "output_type": "stream",
     "text": [
      "1 2 3 4 5 \n",
      "1 2 3 4 5 \n",
      "1 2 3 4 5 \n",
      "1 2 3 4 5 \n",
      "1 2 3 4 5 \n"
     ]
    }
   ],
   "source": [
    "for i in range(1,6):\n",
    "    for i in range(1,6):\n",
    "        print(i,end = \" \")\n",
    "    print()"
   ]
  },
  {
   "cell_type": "code",
   "execution_count": 10,
   "id": "f95f57ec",
   "metadata": {},
   "outputs": [
    {
     "name": "stdout",
     "output_type": "stream",
     "text": [
      "1 2 3 4 5 \n",
      "1 2 3 4 5 \n",
      "1 2 3 4 5 \n",
      "1 2 3 4 5 \n",
      "1 2 3 4 5 \n",
      "end the code\n"
     ]
    }
   ],
   "source": [
    "for i in range(1,6):\n",
    "    for j in range(1,6):\n",
    "        print(j,end = \" \")\n",
    "    print()\n",
    "else:\n",
    "    print(\"end the code\")"
   ]
  },
  {
   "cell_type": "code",
   "execution_count": 11,
   "id": "4c7358dc",
   "metadata": {},
   "outputs": [
    {
     "name": "stdout",
     "output_type": "stream",
     "text": [
      "1 2 3 4 5 6 7 8 9 10 \n",
      "2 4 6 8 10 12 14 16 18 20 \n",
      "3 6 9 12 15 18 21 24 27 30 \n",
      "4 8 12 16 20 24 28 32 36 40 \n",
      "5 10 15 20 25 30 35 40 45 50 \n",
      "6 12 18 24 30 36 42 48 54 60 \n",
      "7 14 21 28 35 42 49 56 63 70 \n",
      "8 16 24 32 40 48 56 64 72 80 \n",
      "9 18 27 36 45 54 63 72 81 90 \n",
      "10 20 30 40 50 60 70 80 90 100 \n",
      "end the code\n"
     ]
    }
   ],
   "source": [
    "i = 1\n",
    "while i < 11:\n",
    "    j = 1\n",
    "    while j < 11:\n",
    "        print(i*j,end=\" \")\n",
    "        j+=1\n",
    "    i+=1\n",
    "    print()\n",
    "else:\n",
    "    print(\"end the code\")"
   ]
  },
  {
   "cell_type": "code",
   "execution_count": 12,
   "id": "de0ab4bc",
   "metadata": {},
   "outputs": [
    {
     "name": "stdout",
     "output_type": "stream",
     "text": [
      "1 2 3 4 5 6 7 8 9 10 \n",
      "2 4 6 8 10 12 14 16 18 20 \n",
      "3 6 9 12 15 18 21 24 27 30 \n",
      "4 8 12 16 20 24 28 32 36 40 \n",
      "5 10 15 20 25 30 35 40 45 50 \n",
      "6 12 18 24 30 36 42 48 54 60 \n",
      "7 14 21 28 35 42 49 56 63 70 \n",
      "8 16 24 32 40 48 56 64 72 80 \n",
      "9 18 27 36 45 54 63 72 81 90 \n",
      "10 20 30 40 50 60 70 80 90 100 \n",
      "the ends\n"
     ]
    }
   ],
   "source": [
    "i = 1\n",
    "while i < 11:\n",
    "    for j in range(1,11):\n",
    "        print(i*j,end=\" \")\n",
    "    i +=1\n",
    "    print()\n",
    "else:\n",
    "    print(\"the ends\")"
   ]
  },
  {
   "cell_type": "code",
   "execution_count": 13,
   "id": "9f1c57ff",
   "metadata": {},
   "outputs": [
    {
     "name": "stdout",
     "output_type": "stream",
     "text": [
      "1 2 3 4 5 6 7 8 9 10 \n",
      "2 4 6 8 10 12 14 16 18 20 \n",
      "3 6 9 12 15 18 21 24 27 30 \n",
      "4 8 12 16 20 24 28 32 36 40 \n",
      "5 10 15 20 25 30 35 40 45 50 \n",
      "6 12 18 24 30 36 42 48 54 60 \n",
      "7 14 21 28 35 42 49 56 63 70 \n",
      "8 16 24 32 40 48 56 64 72 80 \n",
      "9 18 27 36 45 54 63 72 81 90 \n",
      "10 20 30 40 50 60 70 80 90 100 \n",
      "the ends\n"
     ]
    }
   ],
   "source": [
    "for i in range(1,11):\n",
    "    j = 1\n",
    "    while j < 11:\n",
    "        print(i*j,end = \" \")\n",
    "        j += 1\n",
    "    print()\n",
    "else:\n",
    "    print(\"the ends\")"
   ]
  },
  {
   "cell_type": "code",
   "execution_count": 14,
   "id": "6d39b76f",
   "metadata": {},
   "outputs": [
    {
     "name": "stdout",
     "output_type": "stream",
     "text": [
      "1\n",
      "2\n",
      "3\n",
      "4\n",
      "5\n"
     ]
    }
   ],
   "source": [
    "for i in range(1,11):\n",
    "    if i > 5:\n",
    "        break\n",
    "    print(i)"
   ]
  },
  {
   "cell_type": "code",
   "execution_count": 21,
   "id": "d035b29b",
   "metadata": {},
   "outputs": [
    {
     "name": "stdout",
     "output_type": "stream",
     "text": [
      "1\n",
      "2\n",
      "3\n",
      "4\n",
      "5\n"
     ]
    }
   ],
   "source": [
    "i = 1\n",
    "while i < 11:\n",
    "    if i > 5:\n",
    "        break\n",
    "    print(i)\n",
    "    i += 1"
   ]
  },
  {
   "cell_type": "code",
   "execution_count": 22,
   "id": "d39cb816",
   "metadata": {},
   "outputs": [
    {
     "name": "stdout",
     "output_type": "stream",
     "text": [
      "1\n",
      "2\n",
      "3\n",
      "4\n",
      "5\n",
      "6\n",
      "7\n",
      "8\n",
      "9\n",
      "10\n",
      "the ends\n"
     ]
    }
   ],
   "source": [
    "for i in range(1,11):\n",
    "    if 1%2 == 0:\n",
    "        continue\n",
    "    print(i)\n",
    "else:\n",
    "    print(\"the ends\")"
   ]
  },
  {
   "cell_type": "code",
   "execution_count": 23,
   "id": "ab826f76",
   "metadata": {},
   "outputs": [
    {
     "name": "stdout",
     "output_type": "stream",
     "text": [
      "1\n",
      "2\n",
      "3\n",
      "4\n",
      "6\n",
      "7\n",
      "8\n",
      "9\n",
      "10\n",
      "11\n"
     ]
    }
   ],
   "source": [
    "i = 0\n",
    "while i < 11:\n",
    "    i += 1\n",
    "    if i == 5:\n",
    "        continue\n",
    "    print(i)"
   ]
  },
  {
   "cell_type": "code",
   "execution_count": 24,
   "id": "88ab4c8e",
   "metadata": {},
   "outputs": [
    {
     "name": "stdout",
     "output_type": "stream",
     "text": [
      "1\n",
      "2\n",
      "3\n",
      "4\n",
      "5\n",
      "6\n",
      "7\n",
      "8\n",
      "9\n",
      "10\n",
      "11\n"
     ]
    }
   ],
   "source": [
    "i = 0\n",
    "while i < 11:\n",
    "    i += 1\n",
    "    if i == 5:\n",
    "        pass\n",
    "    print(i)"
   ]
  },
  {
   "cell_type": "code",
   "execution_count": 25,
   "id": "d453a9bd",
   "metadata": {},
   "outputs": [
    {
     "name": "stdout",
     "output_type": "stream",
     "text": [
      "1\n",
      "2\n",
      "3\n",
      "4\n",
      "5\n",
      "6\n",
      "7\n",
      "8\n",
      "9\n",
      "10\n",
      "the ends\n"
     ]
    }
   ],
   "source": [
    "for i in range(1,11):\n",
    "    if 1%2 == 0:\n",
    "        pass\n",
    "    print(i)\n",
    "else:\n",
    "    print(\"the ends\")"
   ]
  },
  {
   "cell_type": "code",
   "execution_count": 28,
   "id": "a9181296",
   "metadata": {},
   "outputs": [
    {
     "name": "stdout",
     "output_type": "stream",
     "text": [
      "*******************************************************\n",
      "******************************************************\n",
      "****************************************************\n",
      "*************************************************\n",
      "*********************************************\n",
      "****************************************\n",
      "**********************************\n",
      "***************************\n",
      "*******************\n",
      "**********\n",
      "the ends\n"
     ]
    }
   ],
   "source": [
    "for i in range(1,11):\n",
    "    j = \"*\"\n",
    "    while i < 11:\n",
    "        print(i*j,end = \"\")\n",
    "        i += 1\n",
    "    print()\n",
    "else:\n",
    "    print(\"the ends\")"
   ]
  },
  {
   "cell_type": "code",
   "execution_count": 7,
   "id": "81dd557a",
   "metadata": {},
   "outputs": [
    {
     "name": "stdout",
     "output_type": "stream",
     "text": [
      "1 \n",
      "1 2 \n",
      "1 2 3 \n",
      "1 2 3 4 \n",
      "1 2 3 4 5 \n"
     ]
    }
   ],
   "source": [
    "for i in range(1,6):\n",
    "    for j in range(1,i+1):\n",
    "        print(j,end=\" \")\n",
    "    print()"
   ]
  },
  {
   "cell_type": "code",
   "execution_count": 2,
   "id": "f998cbd0",
   "metadata": {},
   "outputs": [
    {
     "name": "stdout",
     "output_type": "stream",
     "text": [
      "1 2 3 4 5 \n",
      "1 2 3 4 \n",
      "1 2 3 \n",
      "1 2 \n",
      "1 \n",
      "\n"
     ]
    }
   ],
   "source": [
    "i=6\n",
    "while i>0:\n",
    "    j=1\n",
    "    while j<i:\n",
    "        print(j,end=' ')\n",
    "        j+=1\n",
    "    i-=1\n",
    "    print()"
   ]
  },
  {
   "cell_type": "code",
   "execution_count": 8,
   "id": "7dda0433",
   "metadata": {},
   "outputs": [
    {
     "name": "stdout",
     "output_type": "stream",
     "text": [
      "1 1 1 1 1 \n",
      "2 2 2 2 \n",
      "3 3 3 \n",
      "4 4 \n",
      "5 \n"
     ]
    }
   ],
   "source": [
    "i = 1\n",
    "while i < 6:\n",
    "    j = 6\n",
    "    while j > i:\n",
    "        print(i,end = \" \")\n",
    "        j-=1\n",
    "    i+=1\n",
    "    print()"
   ]
  },
  {
   "cell_type": "code",
   "execution_count": 12,
   "id": "076aaaad",
   "metadata": {},
   "outputs": [
    {
     "name": "stdout",
     "output_type": "stream",
     "text": [
      "        1 \n",
      "      1 2 \n",
      "    1 2 3 \n",
      "  1 2 3 4 \n",
      "1 2 3 4 5 \n"
     ]
    }
   ],
   "source": [
    "#hijt\n",
    "for i in range(1,6):\n",
    "    for j in range(5,i,-1):\n",
    "        print(\" \",end=\" \")\n",
    "    for k in range(1,i+1):\n",
    "        print(k,end=\" \")\n",
    "    print()"
   ]
  },
  {
   "cell_type": "code",
   "execution_count": 13,
   "id": "77886ed5",
   "metadata": {},
   "outputs": [
    {
     "name": "stdout",
     "output_type": "stream",
     "text": [
      "        1 \n",
      "      2 2 \n",
      "    3 3 3 \n",
      "  4 4 4 4 \n",
      "5 5 5 5 5 \n"
     ]
    }
   ],
   "source": [
    "for i in range(1,6):\n",
    "    for j in range(5,i,-1):\n",
    "        print(\" \",end=\" \")\n",
    "    for k in range(1,i+1):\n",
    "        print(i,end=\" \")\n",
    "    print()"
   ]
  },
  {
   "cell_type": "code",
   "execution_count": 19,
   "id": "21fd0480",
   "metadata": {},
   "outputs": [
    {
     "name": "stdout",
     "output_type": "stream",
     "text": [
      "          1 \n",
      "        2 2 \n",
      "      3 3 3 \n",
      "    4 4 4 4 \n",
      "  5 5 5 5 5 \n"
     ]
    }
   ],
   "source": [
    "for i in range(1,6):\n",
    "    for j in range(5,i-1,-1):\n",
    "        print(\" \",end=\" \")\n",
    "    for k in range(-1,i-1):\n",
    "        print(j,end=\" \")\n",
    "    print()"
   ]
  },
  {
   "cell_type": "code",
   "execution_count": 20,
   "id": "c5e93b4b",
   "metadata": {},
   "outputs": [
    {
     "name": "stdout",
     "output_type": "stream",
     "text": [
      "        * \n",
      "      * * \n",
      "    * * * \n",
      "  * * * * \n",
      "* * * * * \n"
     ]
    }
   ],
   "source": [
    "#hijt\n",
    "for i in range(1,6):\n",
    "    for j in range(5,i,-1):\n",
    "        print(\" \",end=\" \")\n",
    "    for k in range(1,i+1):\n",
    "        print(\"*\",end=\" \")\n",
    "    print()"
   ]
  },
  {
   "cell_type": "markdown",
   "id": "44767b1d",
   "metadata": {},
   "source": [
    "n = 5  # Number of rows\n",
    "\n",
    "for i in range(1, n + 1):  # Outer loop for rows\n",
    "    for j in range(i):      # Inner loop for printing asterisks\n",
    "        print(\"*\", end=\"\")\n",
    "    print()  # Move to the next line after each row\n",
    "    \n",
    "    \n",
    "   The outer loop to print the number of rows.\n",
    "The inner loops to print the number of columns.\n",
    "The variable to print whitespace according to the required place in Python.\n",
    "\n"
   ]
  },
  {
   "cell_type": "code",
   "execution_count": 28,
   "id": "a4f89362",
   "metadata": {},
   "outputs": [
    {
     "name": "stdout",
     "output_type": "stream",
     "text": [
      "          1 \n",
      "        1 2 \n",
      "      1 2 3 \n",
      "    1 2 3 4 \n",
      "  1 2 3 4 5 \n"
     ]
    }
   ],
   "source": [
    "for i in range(1,6):\n",
    "    for j in range(5,i-1,-1):\n",
    "        print(\" \",end=\" \")\n",
    "    for k in range(1,i+1):\n",
    "        print(k,end=\" \")\n",
    "    print()"
   ]
  },
  {
   "cell_type": "code",
   "execution_count": 31,
   "id": "483fca44",
   "metadata": {},
   "outputs": [
    {
     "name": "stdout",
     "output_type": "stream",
     "text": [
      "Enter the number of rows5\n",
      "0 \n",
      "0 1 \n",
      "0 1 2 \n",
      "0 1 2 3 \n",
      "0 1 2 3 4 \n"
     ]
    }
   ],
   "source": [
    "# Simple Python program to print the Simple pyramid pattern   \n",
    "n = int(input(\"Enter the number of rows\"))       \n",
    "# Here, we are declaring the integer variable to store the input rows  \n",
    "# Here, we are declaring an outer loop to handle number of rows    \n",
    "for i in range(0, n):    \n",
    "    # Here, we are declaring an inner loop to handle number of columns    \n",
    "    # Here, the values are changing according to outer loop    \n",
    "        for j in range(0, i + 1):    \n",
    "            # Here, we are declaring a for loop for printing stars    \n",
    "            print(j, end=\" \")       \n",
    "        # Here, we are giving the ending line after each row    \n",
    "        print()    "
   ]
  },
  {
   "cell_type": "code",
   "execution_count": 39,
   "id": "11a29271",
   "metadata": {},
   "outputs": [
    {
     "ename": "IndentationError",
     "evalue": "unindent does not match any outer indentation level (<tokenize>, line 14)",
     "output_type": "error",
     "traceback": [
      "\u001b[1;36m  File \u001b[1;32m<tokenize>:14\u001b[1;36m\u001b[0m\n\u001b[1;33m    print()\u001b[0m\n\u001b[1;37m    ^\u001b[0m\n\u001b[1;31mIndentationError\u001b[0m\u001b[1;31m:\u001b[0m unindent does not match any outer indentation level\n"
     ]
    }
   ],
   "source": [
    "# Simple Python program to print the simple reversed right angle pyramid pattern    \n",
    "rows = int(input(\"Enter the number of rows:\"))   \n",
    "# Here, we are declaring the integer variable to store the input rows   \n",
    "k = 2 * rows - 2     # Here, the K is used for number of spaces    \n",
    "# Here, we are declaring an outer loop to handle number of rows  \n",
    "for i in range(0, rows):    \n",
    "      # Here, we are declaring an inner loop to handle number of spaces  \n",
    "    for j in range(0, k):    \n",
    "        print(end=\" \")    \n",
    "    k = k - 2      # Here, we are decrementing the k value after each iteration    \n",
    "# Here, we are declaring an for loop to handle number of rows      \n",
    "for j in range(0, i + 1):    \n",
    "        print(\"* \", end=\"\")   # Here, we are printing the star pattern    \n",
    "    print()    "
   ]
  },
  {
   "cell_type": "code",
   "execution_count": 40,
   "id": "6613c4f6",
   "metadata": {},
   "outputs": [
    {
     "name": "stdout",
     "output_type": "stream",
     "text": [
      "Enter the number of rows:5\n",
      "* * * * *  \n",
      "* * * *  \n",
      "* * *  \n",
      "* *  \n",
      "*  \n",
      " \n"
     ]
    }
   ],
   "source": [
    "# Simple Python program to print the simple downward half - pyramid pattern    \n",
    "rows = int(input(\"Enter the number of rows:\"))   \n",
    "# Here, we are declaring the integer variable to store the input rows   \n",
    "# Here, we are declaring the outer for loop for executing in reversed order    \n",
    "for i in range(rows + 1, 0, -1):      \n",
    "    for j in range(0, i - 1):     # here, we are declaring the for loop to print the pattern  \n",
    "        print(\"*\", end=' ')    \n",
    "    print(\" \")    "
   ]
  },
  {
   "cell_type": "code",
   "execution_count": 42,
   "id": "5279c982",
   "metadata": {},
   "outputs": [
    {
     "ename": "IndentationError",
     "evalue": "unindent does not match any outer indentation level (<tokenize>, line 15)",
     "output_type": "error",
     "traceback": [
      "\u001b[1;36m  File \u001b[1;32m<tokenize>:15\u001b[1;36m\u001b[0m\n\u001b[1;33m    print(\" \")\u001b[0m\n\u001b[1;37m    ^\u001b[0m\n\u001b[1;31mIndentationError\u001b[0m\u001b[1;31m:\u001b[0m unindent does not match any outer indentation level\n"
     ]
    }
   ],
   "source": [
    "# Simple Python program to print the simple triangle pyramid  \n",
    "n = int(input(\"Enter the number of rows: \"))    \n",
    "# Here, we are declaring the integer variable to store the input rows  \n",
    "m = (2 * n) - 2     # Here, the m is used for number of spaces  \n",
    "# Here, we are declaring an outer loop to handle number of rows  \n",
    "for i in range(0, n):    \n",
    "     # Here, we are declaring an for loop to handle number of spaces  \n",
    "    for j in range(0, m):    \n",
    "        print(end=\" \")    \n",
    "    m = m - 1      # Here, we are decrementing the m after each loop    \n",
    "# Here, we are declaring an outer loop to print the pattern      \n",
    "for j in range(0, i + 1):    \n",
    "        # Here, we are printing the full Triangle pyramid using stars    \n",
    "        print(\"* \", end=' ')    \n",
    "    print(\" \")    "
   ]
  },
  {
   "cell_type": "code",
   "execution_count": 43,
   "id": "6c6762e0",
   "metadata": {},
   "outputs": [
    {
     "name": "stdout",
     "output_type": "stream",
     "text": [
      "Enter the number of rows: 6\n",
      "          * * * * * * * \n",
      "           * * * * * * \n",
      "            * * * * * \n",
      "             * * * * \n",
      "              * * * \n",
      "               * * \n",
      "                * \n"
     ]
    }
   ],
   "source": [
    "# Simple Python program to print the simple Downward Triangle Pattern  \n",
    "# Here, we are declaring the integer variable to store the input rows  \n",
    "rows = int(input(\"Enter the number of rows: \"))    \n",
    "# Here, the k variable is used to print the space    \n",
    "k = 2 * rows - 2    \n",
    "# Here, we are declaring an outer for loop to handle number of rows   \n",
    "for i in range(rows, -1, -1):    \n",
    "    # Here, we are declaring an inner for loop to print the number of space.    \n",
    "    for j in range(k, 0, -1):    \n",
    "        print(end=\" \")    \n",
    "    k = k + 1    \n",
    "    # Here, the inner for loop will be used to print the number of stars    \n",
    "    for j in range(0, i + 1):    \n",
    "        print(\"*\", end=\" \")    \n",
    "    print(\"\")    "
   ]
  },
  {
   "cell_type": "code",
   "execution_count": 44,
   "id": "42946b78",
   "metadata": {},
   "outputs": [
    {
     "name": "stdout",
     "output_type": "stream",
     "text": [
      "Enter the number of rows: 5\n",
      "        * \n",
      "       * * \n",
      "      * * * \n",
      "     * * * * \n",
      "    * * * * * \n",
      "   * * * * * * \n",
      "    * * * * * \n",
      "     * * * * \n",
      "      * * * \n",
      "       * * \n",
      "        * \n"
     ]
    }
   ],
   "source": [
    "# Simple Python program to print the simple Diamond shaped pattern  \n",
    "# Here, we are declaring the integer variable to store the input rows  \n",
    "rows = int(input(\"Enter the number of rows: \"))    \n",
    "# Here, we are using the k variable to print the space    \n",
    "k = 2 * rows - 2    \n",
    "# Here, we are declaring an outer for loop to handle number of rows    \n",
    "for i in range(0, rows):    \n",
    "    # Here, we are declaring an inner for loop to print the number of spaces   \n",
    "    for j in range(0, k):    \n",
    "        print(end=\" \")    \n",
    "    # Here, we are decrementing the k value after each iteration    \n",
    "    k = k - 1    \n",
    "# Here, we are declaring an inner for loop to print the pattern    \n",
    "    for j in range(0, i + 1):    \n",
    "        print(\"* \", end=\"\")    \n",
    "    print(\"\")    \n",
    "# Here, we are writing the code for Downward triangle Pyramid    \n",
    "# Here, we are using the k variable to print the space    \n",
    "k = rows - 2    \n",
    "# Here, we are declaring the for loop for downward triangle pyramid    \n",
    "for i in range(rows, -1, -1):    \n",
    "    # Here, we are declaring an inner for loop to print the pattern    \n",
    "    for j in range(k, 0, -1):    \n",
    "        print(end=\" \")    \n",
    "    # Here, we are Incrementing the k value after each iteration    \n",
    "    k = k + 1    \n",
    "    # Here, this inner loop will print number of stars    \n",
    "    for j in range(0, i + 1):    \n",
    "        print(\"* \", end=\"\")    \n",
    "    print(\"\")    \n",
    "# Here, this print is used for new line after each row to display pattern correctly  "
   ]
  },
  {
   "cell_type": "code",
   "execution_count": null,
   "id": "1f4f2304",
   "metadata": {},
   "outputs": [],
   "source": []
  }
 ],
 "metadata": {
  "kernelspec": {
   "display_name": "Python 3 (ipykernel)",
   "language": "python",
   "name": "python3"
  },
  "language_info": {
   "codemirror_mode": {
    "name": "ipython",
    "version": 3
   },
   "file_extension": ".py",
   "mimetype": "text/x-python",
   "name": "python",
   "nbconvert_exporter": "python",
   "pygments_lexer": "ipython3",
   "version": "3.11.4"
  }
 },
 "nbformat": 4,
 "nbformat_minor": 5
}
