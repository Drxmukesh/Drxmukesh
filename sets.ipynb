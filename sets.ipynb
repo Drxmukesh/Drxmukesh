{
 "cells": [
  {
   "cell_type": "code",
   "execution_count": 59,
   "id": "caa0f7ef",
   "metadata": {},
   "outputs": [
    {
     "name": "stdout",
     "output_type": "stream",
     "text": [
      "<class 'int'>\n",
      "{True, 1.2, 12j, 'a', 'm', 'd', 'e', 23, 'c', 'b', 'f'}\n",
      "\n",
      "{'d', 'a', 'e', 'c', 'b', 'f'}\n",
      "6\n",
      "\n",
      "{65, 34, 4, 5, 6, 45, 46, 657, 86, 567, 45436}\n",
      "11\n",
      "\n",
      "{'Choudhary', 'choudhary', 'mukesh', 'Mukesh'}\n",
      "4\n",
      "{'choudhary', 'mukesh'}\n",
      "2\n"
     ]
    }
   ],
   "source": [
    "a={\"mukesh\",\"mukesh\",\"choudhary\",\"choudhary\"}\n",
    "b={\"mukesh\",\"choudhary\",\"Mukesh\",\"Choudhary\"}\n",
    "c={4,5,34,46,45,65,567,657,6,86,45436}\n",
    "d={\"a\",\"b\",\"c\",\"d\",\"e\",\"f\"}\n",
    "e={True,12j,\"m\",1.2,23,\"a\",\"b\",\"c\",\"d\",\"e\",\"f\"}\n",
    "print(type(1))\n",
    "print(e)\n",
    "print()\n",
    "print(d)\n",
    "print(len(d))\n",
    "print()\n",
    "print(c)\n",
    "print(len(c))\n",
    "print()\n",
    "print(b)\n",
    "print(len(b))\n",
    "print(a)\n",
    "print(len(a))\n"
   ]
  },
  {
   "cell_type": "code",
   "execution_count": 91,
   "id": "ee215bc6",
   "metadata": {},
   "outputs": [
    {
     "name": "stdout",
     "output_type": "stream",
     "text": [
      "{'banana', 'apple', 'cherry'}\n"
     ]
    }
   ],
   "source": [
    "\n",
    "thisset = set((\"apple\", \"banana\", \"cherry\")) \n",
    "print(thisset)"
   ]
  },
  {
   "cell_type": "code",
   "execution_count": 60,
   "id": "8c454609",
   "metadata": {},
   "outputs": [
    {
     "name": "stdout",
     "output_type": "stream",
     "text": [
      "{0, 1}\n"
     ]
    }
   ],
   "source": [
    "a={1,0,True,False}\n",
    "print(a)"
   ]
  },
  {
   "cell_type": "code",
   "execution_count": 61,
   "id": "838db4c7",
   "metadata": {},
   "outputs": [
    {
     "name": "stdout",
     "output_type": "stream",
     "text": [
      "{False, True}\n"
     ]
    }
   ],
   "source": [
    "a={True,False,1,1,1,1,1,0,0,0,0,0,0,0,0,0}\n",
    "print(a)"
   ]
  },
  {
   "cell_type": "code",
   "execution_count": 62,
   "id": "989baeb8",
   "metadata": {},
   "outputs": [],
   "source": [
    "a.add(\"mukesh\")"
   ]
  },
  {
   "cell_type": "code",
   "execution_count": 63,
   "id": "7fd5452d",
   "metadata": {},
   "outputs": [
    {
     "name": "stdout",
     "output_type": "stream",
     "text": [
      "{False, True, 'mukesh'}\n"
     ]
    }
   ],
   "source": [
    "print(a)"
   ]
  },
  {
   "cell_type": "code",
   "execution_count": 64,
   "id": "0618f52f",
   "metadata": {},
   "outputs": [
    {
     "name": "stdout",
     "output_type": "stream",
     "text": [
      "<class 'set'>\n",
      "{False, True, 'mukesh', 23, 12}\n",
      "<class 'tuple'>\n",
      "{False, True, 37, 'mukesh', 23, 25, 12}\n",
      "<class 'list'>\n",
      "{False, True, 67, 'mukesh', 12, 23, 89, 25, 37}\n"
     ]
    }
   ],
   "source": [
    "a1={12,23}\n",
    "print(type(a1))\n",
    "a.update(a1)\n",
    "print(a)\n",
    "a2=(25,37)\n",
    "print(type(a2))\n",
    "a.update(a2)\n",
    "print(a)\n",
    "a3=[67,89]\n",
    "print(type(a3))\n",
    "a.update(a3)\n",
    "print(a)"
   ]
  },
  {
   "cell_type": "code",
   "execution_count": 65,
   "id": "155420b5",
   "metadata": {},
   "outputs": [
    {
     "name": "stdout",
     "output_type": "stream",
     "text": [
      "{False, 67, 'mukesh', 12, 23, 89, 25, 37}\n",
      "\n",
      "{False, 'mukesh', 12, 23, 89, 25, 37}\n",
      "\n",
      "{'mukesh', 12, 23, 89, 25, 37}\n"
     ]
    }
   ],
   "source": [
    "a.remove(1)\n",
    "print(a)\n",
    "print()\n",
    "a.discard(67)\n",
    "print(a)\n",
    "print()\n",
    "a.pop()\n",
    "print(a)"
   ]
  },
  {
   "cell_type": "code",
   "execution_count": 83,
   "id": "68edafdf",
   "metadata": {},
   "outputs": [
    {
     "name": "stdout",
     "output_type": "stream",
     "text": [
      "{'o', 'a', 'i', 'u', 'd', 'e', 'c', 'b'}\n",
      "\n",
      "{'e', 'a'}\n",
      "\n",
      "{'i', 'o', 'u'}\n",
      "\n",
      "None\n",
      "Empty DataFrame\n",
      "Columns: []\n",
      "Index: []\n",
      "\n",
      "{'d', 'c', 'b'}\n"
     ]
    }
   ],
   "source": [
    "e={\"a\",\"e\",\"i\",\"o\",\"u\"}\n",
    "f={\"a\",\"b\",\"c\",\"d\",\"e\"}\n",
    "g={\"z\",\"X\"}\n",
    "\n",
    "\n",
    "import pandas as pd\n",
    "\n",
    "print(e.union(f))     #print both but duplicate only one\n",
    "print()\n",
    "print(e.intersection(f))           #print common\n",
    "print()\n",
    "print(e.difference(f))             #print e which are not presents in f\n",
    "print()\n",
    "print(e.symmetric_difference_update(f))         #do not print common\n",
    "a=pd.DataFrame(e.symmetric_difference_update(f))\n",
    "print(a)\n",
    "print()\n",
    "print(f.difference(e))              #print f which are not presents in e"
   ]
  },
  {
   "cell_type": "code",
   "execution_count": null,
   "id": "56a53ccb",
   "metadata": {},
   "outputs": [],
   "source": []
  },
  {
   "cell_type": "code",
   "execution_count": null,
   "id": "58a15c31",
   "metadata": {},
   "outputs": [],
   "source": []
  },
  {
   "cell_type": "code",
   "execution_count": null,
   "id": "c85fe529",
   "metadata": {},
   "outputs": [],
   "source": []
  },
  {
   "cell_type": "code",
   "execution_count": null,
   "id": "ab744322",
   "metadata": {},
   "outputs": [],
   "source": []
  },
  {
   "cell_type": "code",
   "execution_count": null,
   "id": "cb01dde4",
   "metadata": {},
   "outputs": [],
   "source": []
  },
  {
   "cell_type": "code",
   "execution_count": null,
   "id": "623588ea",
   "metadata": {},
   "outputs": [],
   "source": []
  },
  {
   "cell_type": "code",
   "execution_count": null,
   "id": "9794ad82",
   "metadata": {},
   "outputs": [],
   "source": []
  },
  {
   "cell_type": "code",
   "execution_count": null,
   "id": "38369c84",
   "metadata": {},
   "outputs": [],
   "source": []
  },
  {
   "cell_type": "code",
   "execution_count": null,
   "id": "ab080238",
   "metadata": {},
   "outputs": [],
   "source": []
  },
  {
   "cell_type": "code",
   "execution_count": null,
   "id": "50b40ff9",
   "metadata": {},
   "outputs": [],
   "source": []
  },
  {
   "cell_type": "code",
   "execution_count": null,
   "id": "b201ad05",
   "metadata": {},
   "outputs": [],
   "source": []
  },
  {
   "cell_type": "code",
   "execution_count": null,
   "id": "d91d602f",
   "metadata": {},
   "outputs": [],
   "source": []
  },
  {
   "cell_type": "code",
   "execution_count": null,
   "id": "58057246",
   "metadata": {},
   "outputs": [],
   "source": []
  }
 ],
 "metadata": {
  "kernelspec": {
   "display_name": "Python 3 (ipykernel)",
   "language": "python",
   "name": "python3"
  },
  "language_info": {
   "codemirror_mode": {
    "name": "ipython",
    "version": 3
   },
   "file_extension": ".py",
   "mimetype": "text/x-python",
   "name": "python",
   "nbconvert_exporter": "python",
   "pygments_lexer": "ipython3",
   "version": "3.11.4"
  }
 },
 "nbformat": 4,
 "nbformat_minor": 5
}
