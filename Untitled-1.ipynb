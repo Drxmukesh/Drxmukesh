{
 "cells": [
  {
   "cell_type": "code",
   "execution_count": null,
   "metadata": {},
   "outputs": [],
   "source": [
    "#create model .py\n",
    "from django.db import models\n",
    "\n",
    "class Device(models.Model):\n",
    "    name = models.CharField(max_length=200)\n",
    "    ip_address = models.CharField(max_length=200)\n",
    "    backup_directory = models.CharField(max_length=200)\n",
    "\n",
    "class Backup(models.Model):\n",
    "    device = models.ForeignKey(Device, on_delete=models.CASCADE)\n",
    "    backup_date = models.DateTimeField(auto_now_add=True)\n",
    "    backup_file = models.FileField(upload_to='backups/')"
   ]
  },
  {
   "cell_type": "code",
   "execution_count": null,
   "metadata": {},
   "outputs": [],
   "source": [
    "# create view .py\n",
    "from django.shortcuts import render\n",
    "from .models import Device, Backup\n",
    "\n",
    "def device_list(request):\n",
    "    devices = Device.objects.all()\n",
    "    return render(request, 'backup_app/device_list.html', {'devices': devices})\n",
    "\n",
    "def device_create(request):\n",
    "    # Code to handle form submission and device creation\n",
    "\n",
    "def device_backup(request, device_id):\n",
    "    # Code to"
   ]
  }
 ],
 "metadata": {
  "language_info": {
   "name": "python"
  }
 },
 "nbformat": 4,
 "nbformat_minor": 2
}
