{
 "cells": [
  {
   "cell_type": "markdown",
   "id": "0a4c5717",
   "metadata": {},
   "source": [
    "# variable "
   ]
  },
  {
   "cell_type": "code",
   "execution_count": 1,
   "id": "1617aa4d",
   "metadata": {},
   "outputs": [
    {
     "name": "stdout",
     "output_type": "stream",
     "text": [
      "1\n"
     ]
    }
   ],
   "source": [
    "a=1          #a is variable and 1 is values\n",
    "print(a)"
   ]
  },
  {
   "cell_type": "markdown",
   "id": "aed49b07",
   "metadata": {},
   "source": [
    "# keywords"
   ]
  },
  {
   "cell_type": "code",
   "execution_count": 2,
   "id": "9daacde2",
   "metadata": {},
   "outputs": [
    {
     "data": {
      "text/plain": [
       "['False',\n",
       " 'None',\n",
       " 'True',\n",
       " 'and',\n",
       " 'as',\n",
       " 'assert',\n",
       " 'async',\n",
       " 'await',\n",
       " 'break',\n",
       " 'class',\n",
       " 'continue',\n",
       " 'def',\n",
       " 'del',\n",
       " 'elif',\n",
       " 'else',\n",
       " 'except',\n",
       " 'finally',\n",
       " 'for',\n",
       " 'from',\n",
       " 'global',\n",
       " 'if',\n",
       " 'import',\n",
       " 'in',\n",
       " 'is',\n",
       " 'lambda',\n",
       " 'nonlocal',\n",
       " 'not',\n",
       " 'or',\n",
       " 'pass',\n",
       " 'raise',\n",
       " 'return',\n",
       " 'try',\n",
       " 'while',\n",
       " 'with',\n",
       " 'yield']"
      ]
     },
     "execution_count": 2,
     "metadata": {},
     "output_type": "execute_result"
    }
   ],
   "source": [
    "import keyword\n",
    "keyword.kwlist"
   ]
  },
  {
   "cell_type": "markdown",
   "id": "852e7992",
   "metadata": {},
   "source": [
    "# data types\n",
    "### integer(int),float(float),string(str),boolean(bool),complex(complex)\n",
    "## formate \n",
    "### print(type(variable)"
   ]
  },
  {
   "cell_type": "code",
   "execution_count": 3,
   "id": "8b8cc7c9",
   "metadata": {},
   "outputs": [
    {
     "name": "stdout",
     "output_type": "stream",
     "text": [
      "1\n",
      "<class 'int'>\n"
     ]
    }
   ],
   "source": [
    "a=1     #integers\n",
    "print(a)\n",
    "print(type(a))"
   ]
  },
  {
   "cell_type": "code",
   "execution_count": 4,
   "id": "5007bf98",
   "metadata": {},
   "outputs": [
    {
     "name": "stdout",
     "output_type": "stream",
     "text": [
      "1.2\n",
      "<class 'float'>\n"
     ]
    }
   ],
   "source": [
    "a=1.2 \n",
    "print(a)                        #float\n",
    "print(type(a))"
   ]
  },
  {
   "cell_type": "code",
   "execution_count": 5,
   "id": "23948dbb",
   "metadata": {},
   "outputs": [
    {
     "name": "stdout",
     "output_type": "stream",
     "text": [
      "23j\n",
      "<class 'complex'>\n"
     ]
    }
   ],
   "source": [
    "a=23j                   #complex only use j alphabet with numeric or integer\n",
    "print(a)\n",
    "print(type(a))"
   ]
  },
  {
   "cell_type": "code",
   "execution_count": 6,
   "id": "f8c5f831",
   "metadata": {},
   "outputs": [
    {
     "name": "stdout",
     "output_type": "stream",
     "text": [
      "mukesh\n",
      "<class 'str'>\n"
     ]
    }
   ],
   "source": [
    "a=\"mukesh\"              #string\n",
    "print(a)\n",
    "print(type(a))"
   ]
  },
  {
   "cell_type": "code",
   "execution_count": 7,
   "id": "474689dc",
   "metadata": {},
   "outputs": [
    {
     "name": "stdout",
     "output_type": "stream",
     "text": [
      "True\n",
      "<class 'bool'>\n"
     ]
    }
   ],
   "source": [
    "a=True                 #boolean only True &  False\n",
    "print(a)\n",
    "print(type(a))"
   ]
  },
  {
   "cell_type": "markdown",
   "id": "37e933a6",
   "metadata": {},
   "source": [
    "# change data type"
   ]
  },
  {
   "cell_type": "markdown",
   "id": "864e0466",
   "metadata": {},
   "source": [
    "## int____into       string,float,complex,boolean\n",
    "## float__into       string,int,complex,boolean\n",
    "## string_into       boolean\n"
   ]
  },
  {
   "cell_type": "markdown",
   "id": "3650fab5",
   "metadata": {},
   "source": [
    "# formate\n",
    "## variable=values\n",
    "## print(variable)\n",
    "## print(type(variable)) \n",
    "## new_variable=\"data_type\"(variable)   #data_type is int,str,float,bool,complex\n",
    "## print(new_variable)\n",
    "## print(type(new_variable))"
   ]
  },
  {
   "cell_type": "code",
   "execution_count": 8,
   "id": "0938135a",
   "metadata": {},
   "outputs": [
    {
     "name": "stdout",
     "output_type": "stream",
     "text": [
      "1.4\n",
      "<class 'float'>\n",
      "1\n",
      "<class 'int'>\n"
     ]
    }
   ],
   "source": [
    "a=1.4\n",
    "print(a)\n",
    "print(type(a))         #example\n",
    "a1=int(a)\n",
    "print(a1)\n",
    "print(type(a1))"
   ]
  },
  {
   "cell_type": "markdown",
   "id": "fcaca8f1",
   "metadata": {},
   "source": [
    "#    operators"
   ]
  },
  {
   "cell_type": "markdown",
   "id": "5e07ae0f",
   "metadata": {},
   "source": [
    "\n",
    "\n",
    "# formate\n",
    "### print(first variable \"operaton\" other variable)"
   ]
  },
  {
   "cell_type": "markdown",
   "id": "a874da05",
   "metadata": {},
   "source": [
    "# arthmetic operator  (ex. +,-,*,/,//,**,%) "
   ]
  },
  {
   "cell_type": "code",
   "execution_count": 9,
   "id": "11e74d2a",
   "metadata": {},
   "outputs": [
    {
     "name": "stdout",
     "output_type": "stream",
     "text": [
      "3 4 8 3\n"
     ]
    }
   ],
   "source": [
    "#a=3   b=4     c=8        d=3\n",
    "a=3\n",
    "b=4\n",
    "c=8\n",
    "d=3\n",
    "print(a,b,c,d)"
   ]
  },
  {
   "cell_type": "code",
   "execution_count": 10,
   "id": "9081bacd",
   "metadata": {},
   "outputs": [
    {
     "name": "stdout",
     "output_type": "stream",
     "text": [
      "7\n"
     ]
    }
   ],
   "source": [
    "print(a+b+c+d)"
   ]
  },
  {
   "cell_type": "code",
   "execution_count": 11,
   "id": "2da559b3",
   "metadata": {},
   "outputs": [
    {
     "name": "stdout",
     "output_type": "stream",
     "text": [
      "-1\n",
      "1\n"
     ]
    }
   ],
   "source": [
    "print(a-b)\n",
    "print(b-a)"
   ]
  },
  {
   "cell_type": "code",
   "execution_count": 12,
   "id": "e87ed94a",
   "metadata": {},
   "outputs": [
    {
     "name": "stdout",
     "output_type": "stream",
     "text": [
      "24\n"
     ]
    }
   ],
   "source": [
    "print(a*c)"
   ]
  },
  {
   "cell_type": "code",
   "execution_count": 13,
   "id": "e90b9f1e",
   "metadata": {},
   "outputs": [
    {
     "name": "stdout",
     "output_type": "stream",
     "text": [
      "0.5\n",
      "2.0\n"
     ]
    }
   ],
   "source": [
    "print(b/c)\n",
    "print(c/b)\n",
    "\n"
   ]
  },
  {
   "cell_type": "code",
   "execution_count": 14,
   "id": "62e31b62",
   "metadata": {},
   "outputs": [
    {
     "name": "stdout",
     "output_type": "stream",
     "text": [
      "4\n",
      "0\n"
     ]
    }
   ],
   "source": [
    "print(b%c)\n",
    "print(c%b)       #show reminder\n",
    "\n"
   ]
  },
  {
   "cell_type": "code",
   "execution_count": 15,
   "id": "e31030b1",
   "metadata": {},
   "outputs": [
    {
     "name": "stdout",
     "output_type": "stream",
     "text": [
      "0\n",
      "2\n"
     ]
    }
   ],
   "source": [
    "print(d//c)\n",
    "print(c//d)    # / & remove decimal point linke 1.5 is show only 1 \n"
   ]
  },
  {
   "cell_type": "code",
   "execution_count": 16,
   "id": "f5a2eece",
   "metadata": {},
   "outputs": [
    {
     "name": "stdout",
     "output_type": "stream",
     "text": [
      "64\n",
      "81\n"
     ]
    }
   ],
   "source": [
    "print(b**a)                #after **is as power like b**a   a=3 , b=4   4 ki power 3\n",
    "print(a**b)               #after **is as power like a**b    a=3 , b=4   3 ki power 4\n",
    "\n"
   ]
  },
  {
   "cell_type": "markdown",
   "id": "4c443487",
   "metadata": {},
   "source": [
    "## Realtional /comperison operator    (ex. >,<,>=,<=,!=,==)"
   ]
  },
  {
   "cell_type": "code",
   "execution_count": 17,
   "id": "5be49666",
   "metadata": {},
   "outputs": [
    {
     "name": "stdout",
     "output_type": "stream",
     "text": [
      "False\n"
     ]
    }
   ],
   "source": [
    "print(b>c)"
   ]
  },
  {
   "cell_type": "code",
   "execution_count": 18,
   "id": "3cfcd49a",
   "metadata": {},
   "outputs": [
    {
     "name": "stdout",
     "output_type": "stream",
     "text": [
      "True\n"
     ]
    }
   ],
   "source": [
    "print(b<c)"
   ]
  },
  {
   "cell_type": "code",
   "execution_count": 19,
   "id": "06f78fab",
   "metadata": {},
   "outputs": [
    {
     "name": "stdout",
     "output_type": "stream",
     "text": [
      "False\n"
     ]
    }
   ],
   "source": [
    "print(b>=c)"
   ]
  },
  {
   "cell_type": "code",
   "execution_count": 20,
   "id": "ce8dd866",
   "metadata": {},
   "outputs": [
    {
     "name": "stdout",
     "output_type": "stream",
     "text": [
      "True\n"
     ]
    }
   ],
   "source": [
    "print(b<=c)"
   ]
  },
  {
   "cell_type": "code",
   "execution_count": 21,
   "id": "27d2a15b",
   "metadata": {},
   "outputs": [
    {
     "name": "stdout",
     "output_type": "stream",
     "text": [
      "True\n"
     ]
    }
   ],
   "source": [
    "print(b!=c)"
   ]
  },
  {
   "cell_type": "code",
   "execution_count": 22,
   "id": "fac151c2",
   "metadata": {},
   "outputs": [
    {
     "name": "stdout",
     "output_type": "stream",
     "text": [
      "False\n"
     ]
    }
   ],
   "source": [
    "print(b==c)"
   ]
  },
  {
   "cell_type": "markdown",
   "id": "8114d98f",
   "metadata": {},
   "source": [
    "## assignment operator   (ex.  =,+=,-=,*=,/=,%=,//=,**="
   ]
  },
  {
   "cell_type": "code",
   "execution_count": 23,
   "id": "a0116192",
   "metadata": {},
   "outputs": [
    {
     "name": "stdout",
     "output_type": "stream",
     "text": [
      "3 4 8 3\n",
      "7\n"
     ]
    }
   ],
   "source": [
    "#a=3   b=4     c=8        d=3\n",
    "a=3\n",
    "b=4\n",
    "c=8\n",
    "d=3\n",
    "print(a,b,c,d)\n",
    "a+=b\n",
    "print(a)"
   ]
  },
  {
   "cell_type": "code",
   "execution_count": 24,
   "id": "9760fb13",
   "metadata": {},
   "outputs": [
    {
     "name": "stdout",
     "output_type": "stream",
     "text": [
      "3 4 8 3\n",
      "-1\n"
     ]
    }
   ],
   "source": [
    "#a=3   b=4     c=8        d=3\n",
    "a=3\n",
    "b=4\n",
    "c=8\n",
    "d=3\n",
    "print(a,b,c,d)\n",
    "a-=b\n",
    "print(a)"
   ]
  },
  {
   "cell_type": "code",
   "execution_count": 25,
   "id": "f566dbea",
   "metadata": {},
   "outputs": [
    {
     "name": "stdout",
     "output_type": "stream",
     "text": [
      "3 4 8 3\n",
      "0.75\n"
     ]
    }
   ],
   "source": [
    "#a=3   b=4     c=8        d=3\n",
    "a=3\n",
    "b=4\n",
    "c=8\n",
    "d=3\n",
    "print(a,b,c,d)\n",
    "a/=b\n",
    "print(a)"
   ]
  },
  {
   "cell_type": "code",
   "execution_count": 26,
   "id": "8b71d7c7",
   "metadata": {},
   "outputs": [
    {
     "name": "stdout",
     "output_type": "stream",
     "text": [
      "3 4 8 3\n",
      "12\n"
     ]
    }
   ],
   "source": [
    "#a=3   b=4     c=8        d=3\n",
    "a=3\n",
    "b=4\n",
    "c=8\n",
    "d=3\n",
    "print(a,b,c,d)\n",
    "a*=b\n",
    "print(a)"
   ]
  },
  {
   "cell_type": "code",
   "execution_count": 27,
   "id": "70f2248d",
   "metadata": {},
   "outputs": [
    {
     "name": "stdout",
     "output_type": "stream",
     "text": [
      "3 4 8 3\n",
      "3\n"
     ]
    }
   ],
   "source": [
    "#a=3   b=4     c=8        d=3\n",
    "a=3\n",
    "b=4\n",
    "c=8\n",
    "d=3\n",
    "print(a,b,c,d)\n",
    "a%=b\n",
    "print(a)"
   ]
  },
  {
   "cell_type": "code",
   "execution_count": 28,
   "id": "c443e92e",
   "metadata": {},
   "outputs": [
    {
     "name": "stdout",
     "output_type": "stream",
     "text": [
      "3 4 8 3\n",
      "81\n"
     ]
    }
   ],
   "source": [
    "#a=3   b=4     c=8        d=3\n",
    "a=3\n",
    "b=4\n",
    "c=8\n",
    "d=3\n",
    "print(a,b,c,d)\n",
    "a**=b\n",
    "print(a)"
   ]
  },
  {
   "cell_type": "code",
   "execution_count": 29,
   "id": "c24de8ec",
   "metadata": {},
   "outputs": [
    {
     "name": "stdout",
     "output_type": "stream",
     "text": [
      "3 4 8 3\n",
      "0\n"
     ]
    }
   ],
   "source": [
    "#a=3   b=4     c=8        d=3\n",
    "a=3\n",
    "b=4\n",
    "c=8\n",
    "d=3\n",
    "print(a,b,c,d)\n",
    "a//=b\n",
    "print(a)"
   ]
  },
  {
   "cell_type": "code",
   "execution_count": 30,
   "id": "8cc73e43",
   "metadata": {},
   "outputs": [
    {
     "name": "stdout",
     "output_type": "stream",
     "text": [
      "3 4 8 3\n",
      "4\n"
     ]
    }
   ],
   "source": [
    "#a=3   b=4     c=8        d=3\n",
    "a=3\n",
    "b=4\n",
    "c=8\n",
    "d=3\n",
    "print(a,b,c,d)\n",
    "a=b\n",
    "print(a)"
   ]
  },
  {
   "cell_type": "markdown",
   "id": "95510fbd",
   "metadata": {},
   "source": [
    "## membership operator     (ex.   in , not in)"
   ]
  },
  {
   "cell_type": "code",
   "execution_count": 31,
   "id": "1f25c511",
   "metadata": {},
   "outputs": [
    {
     "name": "stdout",
     "output_type": "stream",
     "text": [
      "False\n",
      "False\n",
      "False\n"
     ]
    }
   ],
   "source": [
    "a=\"develearn\"\n",
    "b=\"learn\"\n",
    "c=\"earn\"\n",
    "d=\"Learn\"\n",
    "print(a in b)\n",
    "print(a in c)\n",
    "print(a in d)"
   ]
  },
  {
   "cell_type": "code",
   "execution_count": 32,
   "id": "799e4324",
   "metadata": {},
   "outputs": [
    {
     "name": "stdout",
     "output_type": "stream",
     "text": [
      "develearn learn earn Learn\n",
      "True\n",
      "True\n",
      "False\n"
     ]
    }
   ],
   "source": [
    "print(a,b,c,d)\n",
    "print(b in a)\n",
    "print(c in a)\n",
    "print(d in a)"
   ]
  },
  {
   "cell_type": "code",
   "execution_count": 33,
   "id": "c0d585e8",
   "metadata": {},
   "outputs": [
    {
     "name": "stdout",
     "output_type": "stream",
     "text": [
      "develearn learn earn Learn\n",
      "True\n",
      "True\n",
      "True\n"
     ]
    }
   ],
   "source": [
    "print(a,b,c,d)\n",
    "print(a not in b)\n",
    "print(a not in c)\n",
    "print(a not in d)"
   ]
  },
  {
   "cell_type": "code",
   "execution_count": 34,
   "id": "098eed33",
   "metadata": {},
   "outputs": [
    {
     "name": "stdout",
     "output_type": "stream",
     "text": [
      "develearn learn earn Learn\n",
      "False\n",
      "False\n",
      "True\n"
     ]
    }
   ],
   "source": [
    "print(a,b,c,d)\n",
    "print(b not in a)\n",
    "print(c not in a)\n",
    "print(d not in a)"
   ]
  },
  {
   "cell_type": "markdown",
   "id": "52bae260",
   "metadata": {},
   "source": [
    "## identity operator       (ex. is , is not)"
   ]
  },
  {
   "cell_type": "code",
   "execution_count": 35,
   "id": "2b824409",
   "metadata": {},
   "outputs": [
    {
     "name": "stdout",
     "output_type": "stream",
     "text": [
      "learn learn earn\n"
     ]
    }
   ],
   "source": [
    "a=\"learn\"\n",
    "b=\"learn\"\n",
    "c=\"earn\"\n",
    "d=\"Learn\"\n",
    "print(a,b,c)"
   ]
  },
  {
   "cell_type": "code",
   "execution_count": 36,
   "id": "e8d53775",
   "metadata": {},
   "outputs": [
    {
     "name": "stdout",
     "output_type": "stream",
     "text": [
      "True\n",
      "False\n",
      "False\n"
     ]
    }
   ],
   "source": [
    "print(a is b)\n",
    "print(a is c)\n",
    "print(a is d)"
   ]
  },
  {
   "cell_type": "code",
   "execution_count": 37,
   "id": "5ea6d7f6",
   "metadata": {},
   "outputs": [
    {
     "name": "stdout",
     "output_type": "stream",
     "text": [
      "False\n",
      "True\n",
      "True\n"
     ]
    }
   ],
   "source": [
    "print(a is not b)\n",
    "print(a is not c)\n",
    "print(a is not d)"
   ]
  },
  {
   "cell_type": "markdown",
   "id": "e46b0221",
   "metadata": {},
   "source": [
    "## logical operator    (ex.   and(&),or(|),not(~)\n",
    "#### T=True(1)           F=False(0)\n",
    "### and   (T,T=T)   (T,F=F)  (F,T=F)    (F,F=F)\n",
    "#### NOT WITH AND\n",
    "### not    (T,T=F)   (T,F=T)  (F,T=T)    (F,F=T)  \n",
    "### or      (T,T=T)   (T,F=T)  (F,T=F)    (F,F=F)\n",
    "#### NOT WITH OR\n",
    "### not    (T,T=F)   (T,F=F)  (F,T=F)    (F,F=T)    "
   ]
  },
  {
   "cell_type": "code",
   "execution_count": 38,
   "id": "13c99c15",
   "metadata": {},
   "outputs": [
    {
     "name": "stdout",
     "output_type": "stream",
     "text": [
      "apply and conditon\n",
      "a=32 , b=23 , c=26 , d=12\n",
      "False\n",
      "\n",
      "not apply on both conditions with and\n",
      "a=32 , b=23 , c=26 , d=12\n",
      "True\n",
      "\n",
      "not apply on a>b conditions with and\n",
      "a=32 , b=23 , c=26 , d=12\n",
      "False\n",
      "\n",
      "not apply on a<b conditions with and\n",
      "a=32 , b=23 , c=26 , d=12\n",
      "True\n",
      "\n",
      "\n",
      "apply or conditon\n",
      "a=32 , b=23 , c=26 , d=12\n",
      "True\n",
      "\n",
      "not apply on both conditions with or\n",
      "a=32 , b=23 , c=26 , d=12\n",
      "False\n",
      "\n",
      "not apply on a>b conditions with or\n",
      "a=32 , b=23 , c=26 , d=12\n",
      "False\n",
      "\n",
      "not apply on a<b conditions with or\n",
      "a=32 , b=23 , c=26 , d=12\n",
      "True\n"
     ]
    }
   ],
   "source": [
    "a=32\n",
    "b=23\n",
    "c=26\n",
    "d=12\n",
    "print(\"apply and conditon\")\n",
    "print(\"a=32 , b=23 , c=26 , d=12\")\n",
    "print((a>b)and(c<d))\n",
    "print()\n",
    "print(\"not apply on both conditions with and\")\n",
    "print(\"a=32 , b=23 , c=26 , d=12\")\n",
    "print(not((a>b)and(c<d)))     #not apply on both conditions with and\n",
    "print()\n",
    "print(\"not apply on a>b conditions with and\")\n",
    "print(\"a=32 , b=23 , c=26 , d=12\")\n",
    "print(not(a>b)and(c<d))       #not apply on a>b conditions with and\n",
    "print()\n",
    "print(\"not apply on a<b conditions with and\")\n",
    "print(\"a=32 , b=23 , c=26 , d=12\")\n",
    "print((a>b)and(not(c<d)))     #not apply on a<b conditions with and\n",
    "print()\n",
    "print()\n",
    "print(\"apply or conditon\")\n",
    "print(\"a=32 , b=23 , c=26 , d=12\")\n",
    "print((a>b)or(c<d))\n",
    "print()\n",
    "print(\"not apply on both conditions with or\")\n",
    "print(\"a=32 , b=23 , c=26 , d=12\")\n",
    "print(not((a>b)or(c<d)))     #not apply on both conditions with or\n",
    "print()\n",
    "print(\"not apply on a>b conditions with or\")\n",
    "print(\"a=32 , b=23 , c=26 , d=12\")\n",
    "print(not(a>b)or(c<d))       #not apply on a>b conditions with or\n",
    "print()\n",
    "print(\"not apply on a<b conditions with or\")\n",
    "print(\"a=32 , b=23 , c=26 , d=12\")\n",
    "print((a>b)or(not(c<d)))     #not apply on a<b conditions with or\n"
   ]
  },
  {
   "cell_type": "markdown",
   "id": "10ce2a3e",
   "metadata": {},
   "source": [
    "## bitwise operator       (ex. AND(&) , OR(|) , XOR(^) , NOT(~)\n",
    "### bitwise operator is same as logical operator"
   ]
  },
  {
   "cell_type": "code",
   "execution_count": null,
   "id": "579eedbf",
   "metadata": {},
   "outputs": [],
   "source": []
  }
 ],
 "metadata": {
  "kernelspec": {
   "display_name": "Python 3 (ipykernel)",
   "language": "python",
   "name": "python3"
  },
  "language_info": {
   "codemirror_mode": {
    "name": "ipython",
    "version": 3
   },
   "file_extension": ".py",
   "mimetype": "text/x-python",
   "name": "python",
   "nbconvert_exporter": "python",
   "pygments_lexer": "ipython3",
   "version": "3.11.4"
  }
 },
 "nbformat": 4,
 "nbformat_minor": 5
}
