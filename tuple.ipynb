{
 "cells": [
  {
   "cell_type": "code",
   "execution_count": 1,
   "id": "49ca5266",
   "metadata": {},
   "outputs": [
    {
     "name": "stdout",
     "output_type": "stream",
     "text": [
      "('raj', 'jay', 'viru', 'ravi', 'siva', 'sasi', 'papu', 'karan')\n",
      "8\n",
      "('windows', 'android', 'linux', 'ios', 'unix', 'macos', 'chromeos', 'parrotos')\n",
      "8\n",
      "(11, 13, 2.4, 17, 2, 0, 13, 4)\n",
      "8\n"
     ]
    }
   ],
   "source": [
    "a=(\"raj\",\"jay\",\"viru\",\"ravi\",\"siva\",\"sasi\",\"papu\",\"karan\")\n",
    "print(a)\n",
    "print(len(a))\n",
    "b=(\"windows\",\"android\",\"linux\",\"ios\",\"unix\",\"macos\",\"chromeos\",\"parrotos\")\n",
    "print(b)\n",
    "print(len(b))\n",
    "c=(11,13,2.4,17,2,0,13,4)\n",
    "print(c)\n",
    "print(len(c))"
   ]
  },
  {
   "cell_type": "code",
   "execution_count": 15,
   "id": "8ed2f8f9",
   "metadata": {},
   "outputs": [
    {
     "name": "stdout",
     "output_type": "stream",
     "text": [
      "<class 'tuple'>\n",
      "<class 'list'>\n"
     ]
    }
   ],
   "source": [
    "print(type(a))\n",
    "d=list(a)  #tuple converts into list\n",
    "print(type(d))"
   ]
  },
  {
   "cell_type": "code",
   "execution_count": 1,
   "id": "d9928204",
   "metadata": {},
   "outputs": [
    {
     "name": "stdout",
     "output_type": "stream",
     "text": [
      "<class 'str'>\n",
      "('raj',)\n",
      "<class 'tuple'>\n",
      "\n",
      "\n",
      "<class 'tuple'>\n",
      "1\n",
      "('raj',)\n"
     ]
    }
   ],
   "source": [
    "#single string convert in tuple\n",
    "e=(\"raj\")\n",
    "print(type(e))\n",
    "f=tuple([e])\n",
    "print(f)\n",
    "print(type(f))\n",
    "print()\n",
    "print()\n",
    "#other formate just create second emplty value\n",
    "g=(\"raj\",)\n",
    "print(type(g))\n",
    "print(len(g))\n",
    "print(g)"
   ]
  },
  {
   "cell_type": "code",
   "execution_count": 17,
   "id": "9c91b562",
   "metadata": {},
   "outputs": [
    {
     "name": "stdout",
     "output_type": "stream",
     "text": [
      "('raj', 'jay', 'viru', 'ravi', 'siva', 'sasi', 'papu', 'karan', 'windows', 'android', 'linux', 'ios', 'unix', 'macos', 'chromeos', 'parrotos')\n"
     ]
    }
   ],
   "source": [
    "h=a+b\n",
    "print(h)"
   ]
  },
  {
   "cell_type": "code",
   "execution_count": 24,
   "id": "625c42f6",
   "metadata": {},
   "outputs": [
    {
     "name": "stdout",
     "output_type": "stream",
     "text": [
      "windows\n"
     ]
    }
   ],
   "source": [
    "raj,jay,viru,ravi,siva,sasi,papu,karan=b\n",
    "print(raj)\n",
    "print(jay)\n",
    "print(viru)\n",
    "print(ravi)\n",
    "print(siva)\n",
    "pro"
   ]
  },
  {
   "cell_type": "code",
   "execution_count": 27,
   "id": "4460f6a5",
   "metadata": {},
   "outputs": [
    {
     "name": "stdout",
     "output_type": "stream",
     "text": [
      "['windows', 'android', 'linux', 'ios', 'unix']\n"
     ]
    }
   ],
   "source": [
    "*raj,jay,viru,ravi=b\n",
    "print(raj)\n",
    "print(jay)\n",
    "print(viru)\n",
    "print(ravi)"
   ]
  },
  {
   "cell_type": "code",
   "execution_count": null,
   "id": "51e4d809",
   "metadata": {},
   "outputs": [],
   "source": [
    "raj,*jay,viru,ravi=b\n",
    "print(raj)"
   ]
  },
  {
   "cell_type": "code",
   "execution_count": 8,
   "id": "4ae4fb9d",
   "metadata": {},
   "outputs": [
    {
     "name": "stdout",
     "output_type": "stream",
     "text": [
      "<class 'tuple'>\n",
      "1\n"
     ]
    }
   ],
   "source": [
    "e=(\"mukesh\",)\n",
    "print(type(e))\n",
    "print(len(e))"
   ]
  },
  {
   "cell_type": "code",
   "execution_count": 12,
   "id": "8b8ee594",
   "metadata": {},
   "outputs": [
    {
     "data": {
      "text/plain": [
       "('m', 'u', 'k', 'e', 's', 'h')"
      ]
     },
     "execution_count": 12,
     "metadata": {},
     "output_type": "execute_result"
    }
   ],
   "source": [
    "t=(\"m\",\"u\",\"k\")\n",
    "t1=(\"e\",\"s\",\"h\")\n",
    "t3=t+t1\n",
    "t3"
   ]
  },
  {
   "cell_type": "code",
   "execution_count": 13,
   "id": "dce57a5a",
   "metadata": {},
   "outputs": [
    {
     "name": "stdout",
     "output_type": "stream",
     "text": [
      "yellow\n",
      "orange\n",
      "red\n",
      "blue\n"
     ]
    }
   ],
   "source": [
    "l=[\"yellow\",\"orange\",\"red\",\"blue\"]\n",
    "banana,orange,apple,null=l\n",
    "print(banana)\n",
    "print(orange)\n",
    "print(apple)\n",
    "print(null)"
   ]
  },
  {
   "cell_type": "code",
   "execution_count": 14,
   "id": "f49d9112",
   "metadata": {},
   "outputs": [
    {
     "name": "stdout",
     "output_type": "stream",
     "text": [
      "yellow\n",
      "orange\n",
      "['red', 'blue']\n"
     ]
    }
   ],
   "source": [
    "l=[\"yellow\",\"orange\",\"red\",\"blue\"]\n",
    "banana,orange,*apple=l\n",
    "print(banana)\n",
    "print(orange)\n",
    "print(apple)"
   ]
  },
  {
   "cell_type": "code",
   "execution_count": 15,
   "id": "5933be2b",
   "metadata": {},
   "outputs": [
    {
     "name": "stdout",
     "output_type": "stream",
     "text": [
      "yellow\n",
      "['orange', 'red']\n",
      "blue\n"
     ]
    }
   ],
   "source": [
    "l=[\"yellow\",\"orange\",\"red\",\"blue\"]\n",
    "banana,*orange,apple=l\n",
    "print(banana)\n",
    "print(orange)\n",
    "print(apple)"
   ]
  },
  {
   "cell_type": "code",
   "execution_count": 16,
   "id": "f7fa1653",
   "metadata": {},
   "outputs": [
    {
     "name": "stdout",
     "output_type": "stream",
     "text": [
      "['yellow', 'orange']\n",
      "red\n",
      "blue\n"
     ]
    }
   ],
   "source": [
    "l=[\"yellow\",\"orange\",\"red\",\"blue\"]\n",
    "*banana,orange,apple=l\n",
    "print(banana)\n",
    "print(orange)\n",
    "print(apple)"
   ]
  },
  {
   "cell_type": "code",
   "execution_count": 2,
   "id": "5f473144",
   "metadata": {},
   "outputs": [
    {
     "name": "stdout",
     "output_type": "stream",
     "text": [
      "yellow\n",
      "orange\n",
      "['red', 'blue', 'black', 'kiwi']\n"
     ]
    }
   ],
   "source": [
    "l=[\"yellow\",\"orange\",\"red\",\"blue\",\"black\",\"kiwi\"]\n",
    "banana,orange,*apple=l\n",
    "print(banana)\n",
    "print(orange)\n",
    "print(apple)"
   ]
  },
  {
   "cell_type": "code",
   "execution_count": null,
   "id": "70c1afbc",
   "metadata": {},
   "outputs": [],
   "source": []
  },
  {
   "cell_type": "code",
   "execution_count": null,
   "id": "59868f6a",
   "metadata": {},
   "outputs": [],
   "source": []
  }
 ],
 "metadata": {
  "kernelspec": {
   "display_name": "Python 3 (ipykernel)",
   "language": "python",
   "name": "python3"
  },
  "language_info": {
   "codemirror_mode": {
    "name": "ipython",
    "version": 3
   },
   "file_extension": ".py",
   "mimetype": "text/x-python",
   "name": "python",
   "nbconvert_exporter": "python",
   "pygments_lexer": "ipython3",
   "version": "3.12.2"
  }
 },
 "nbformat": 4,
 "nbformat_minor": 5
}
