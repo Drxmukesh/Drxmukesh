{
 "cells": [
  {
   "cell_type": "code",
   "execution_count": 18,
   "id": "7338a123",
   "metadata": {},
   "outputs": [
    {
     "name": "stdout",
     "output_type": "stream",
     "text": [
      "2\n",
      "4\n",
      "6\n",
      "8\n",
      "10\n",
      "12\n",
      "14\n",
      "16\n",
      "18\n",
      "20\n"
     ]
    }
   ],
   "source": [
    "# Q1. Write a program to print first 10 even numbers.\n",
    "steps = 0\n",
    "number = 2 \n",
    "while steps < 10:\n",
    "    print(number) \n",
    "    number += 2  \n",
    "    steps += 1"
   ]
  },
  {
   "cell_type": "code",
   "execution_count": 16,
   "id": "b29b5351",
   "metadata": {},
   "outputs": [
    {
     "name": "stdout",
     "output_type": "stream",
     "text": [
      "1\n",
      "3\n",
      "5\n",
      "7\n",
      "9\n",
      "11\n",
      "13\n",
      "15\n",
      "17\n",
      "19\n"
     ]
    }
   ],
   "source": [
    "# Q2. Write a program to print first 10 odd numbers.\n",
    "steps = 1\n",
    "while steps <= 19:\n",
    "    print(steps)\n",
    "    steps += 2"
   ]
  },
  {
   "cell_type": "code",
   "execution_count": 17,
   "id": "892ea0a9",
   "metadata": {},
   "outputs": [
    {
     "name": "stdout",
     "output_type": "stream",
     "text": [
      "20\n",
      "18\n",
      "16\n",
      "14\n",
      "12\n",
      "10\n",
      "8\n",
      "6\n",
      "4\n",
      "2\n"
     ]
    }
   ],
   "source": [
    "#Q3 Write a program to print first 10 even numbers in reverse order\n",
    "steps = 10 \n",
    "number = 20  \n",
    "while steps > 0:\n",
    "    print(number)\n",
    "    number -= 2\n",
    "    steps -= 1"
   ]
  },
  {
   "cell_type": "code",
   "execution_count": 19,
   "id": "e28a2cd3",
   "metadata": {},
   "outputs": [],
   "source": [
    "# Q6. Write a program to print numbers from 1 to 20 except multiple of 2 & 3.\n",
    "num = 1\n",
    "while num > 20:\n",
    "    num%2 != 0 and num%3 != 0\n",
    "    print(num)\n",
    "    num += 1"
   ]
  },
  {
   "cell_type": "code",
   "execution_count": 3,
   "id": "0d17c67d",
   "metadata": {},
   "outputs": [
    {
     "name": "stdout",
     "output_type": "stream",
     "text": [
      "1\n",
      "5\n",
      "7\n",
      "11\n",
      "13\n",
      "17\n",
      "19\n"
     ]
    }
   ],
   "source": [
    "# Q6. Write a program to print numbers from 1 to 20 except multiple of 2 & 3.\n",
    "num = 0\n",
    "while num < 20:\n",
    "    if num%2 != 0 and num%3 != 0:\n",
    "        print(num)\n",
    "    num+=1"
   ]
  },
  {
   "cell_type": "code",
   "execution_count": 6,
   "id": "7c1104e7",
   "metadata": {},
   "outputs": [
    {
     "name": "stdout",
     "output_type": "stream",
     "text": [
      "enter a number :12\n",
      "enter a number :12\n",
      "enter a number :12\n",
      "enter a number :12\n",
      "enter a number :12\n",
      "enter a number :12\n",
      "enter a number :12\n",
      "enter a number :12\n",
      "enter a number :12\n",
      "enter a number :12\n",
      "average  : 12.0\n"
     ]
    }
   ],
   "source": [
    "# Q7. Write a program to accept 10 numbers from the user and display it’s average.\n",
    "total = []\n",
    "steps = 1\n",
    "\n",
    "while steps < 11:\n",
    "    num = int(input(\"enter a number :\"))\n",
    "    total.append(num)\n",
    "    steps=steps+1\n",
    "print(\"average  :\",sum(total)/len(total))\n",
    "    "
   ]
  },
  {
   "cell_type": "code",
   "execution_count": 9,
   "id": "eec5867a",
   "metadata": {},
   "outputs": [
    {
     "name": "stdout",
     "output_type": "stream",
     "text": [
      "enter a number :2\n",
      "enter a number :3232\n",
      "enter a number :23\n",
      "enter a number :423\n",
      "enter a number :434\n",
      "enter a number :4\n",
      "enter a number :4\n",
      "enter a number :32\n",
      "enter a number :434\n",
      "enter a number :3\n",
      "largest   : 3232\n",
      "smallest  : 2\n"
     ]
    }
   ],
   "source": [
    "# Q8. Write a program to accept 10 numbers from the user and display the largest & smallest number number.\n",
    "total = []\n",
    "steps = 1\n",
    "\n",
    "while steps < 11:\n",
    "    num = int(input(\"enter a number :\"))\n",
    "    total.append(num)\n",
    "    steps=steps+1\n",
    "list1 = sorted(total)\n",
    "print(\"largest   :\",list1[-1])\n",
    "print(\"smallest  :\",list1[0])"
   ]
  },
  {
   "cell_type": "code",
   "execution_count": 15,
   "id": "1551c0c0",
   "metadata": {},
   "outputs": [
    {
     "name": "stdout",
     "output_type": "stream",
     "text": [
      "True\n"
     ]
    }
   ],
   "source": []
  },
  {
   "cell_type": "code",
   "execution_count": null,
   "id": "4acdb986",
   "metadata": {},
   "outputs": [],
   "source": []
  }
 ],
 "metadata": {
  "kernelspec": {
   "display_name": "Python 3 (ipykernel)",
   "language": "python",
   "name": "python3"
  },
  "language_info": {
   "codemirror_mode": {
    "name": "ipython",
    "version": 3
   },
   "file_extension": ".py",
   "mimetype": "text/x-python",
   "name": "python",
   "nbconvert_exporter": "python",
   "pygments_lexer": "ipython3",
   "version": "3.11.4"
  }
 },
 "nbformat": 4,
 "nbformat_minor": 5
}
