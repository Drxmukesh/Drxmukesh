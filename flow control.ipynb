{
 "cells": [
  {
   "cell_type": "code",
   "execution_count": 1,
   "id": "1092347d",
   "metadata": {},
   "outputs": [
    {
     "name": "stdout",
     "output_type": "stream",
     "text": [
      "enter number12\n",
      "enter number12\n",
      "enter number23\n",
      "enter number34\n",
      "enter number44\n",
      "enter number45\n",
      "enter number56\n",
      "enter number56\n",
      "enter number45\n",
      "enter number45\n",
      "average 37.2\n"
     ]
    }
   ],
   "source": [
    "#7 Write a program to accept 10 numbers from the user and display it’s average.\n",
    "sum1=[]         \n",
    "for i in range(10):\n",
    "    number = int(input(\"enter number\"))\n",
    "    sum1.append(number)\n",
    "    \n",
    "print(\"average\",sum(sum1)/len(sum1))"
   ]
  },
  {
   "cell_type": "code",
   "execution_count": 3,
   "id": "ec5d3a6d",
   "metadata": {},
   "outputs": [
    {
     "name": "stdout",
     "output_type": "stream",
     "text": [
      "enter number112\n",
      "enter number32423\n",
      "enter number324423\n",
      "enter number34\n",
      "enter number33\n",
      "enter number323\n",
      "enter number232\n",
      "enter number232\n",
      "enter number23\n",
      "enter number23\n",
      "largest number  :  324423\n",
      "smallest number :  23\n"
     ]
    }
   ],
   "source": [
    "#8 Write a program to accept 10 numbers from the user and display the largest & smallest number number.\n",
    "list1 =[]         \n",
    "for i in range(10):\n",
    "    number = int(input(\"enter number\"))\n",
    "    list1.append(number)\n",
    "    \n",
    "print(\"largest number  : \",max(list1))\n",
    "print(\"smallest number : \",min(list1))"
   ]
  },
  {
   "cell_type": "code",
   "execution_count": 6,
   "id": "aea57ec4",
   "metadata": {},
   "outputs": [
    {
     "name": "stdout",
     "output_type": "stream",
     "text": [
      "odd number:  23\n",
      "odd number:  45\n",
      "\n",
      "odd number:  25\n",
      "\n",
      "odd number:  33\n",
      "odd number:  71\n",
      "\n"
     ]
    }
   ],
   "source": [
    "#9 Write a program to print only odd numbers from the given list using for loop. L = [23, 45, 32, 25, 46, 33, 71, 90]\n",
    "L = [23, 45, 32, 25, 46, 33, 71, 90]\n",
    "for i in L:\n",
    "    if i%2 !=0:\n",
    "        print(\"odd number: \",i)\n",
    "    else:\n",
    "        print()"
   ]
  },
  {
   "cell_type": "code",
   "execution_count": 7,
   "id": "47a49d80",
   "metadata": {},
   "outputs": [
    {
     "name": "stdout",
     "output_type": "stream",
     "text": [
      "this number not multiple of 2 & 3 1\n",
      "this number not multiple of 2 & 3 5\n",
      "this number not multiple of 2 & 3 7\n",
      "this number not multiple of 2 & 3 11\n",
      "this number not multiple of 2 & 3 13\n",
      "this number not multiple of 2 & 3 17\n",
      "this number not multiple of 2 & 3 19\n"
     ]
    }
   ],
   "source": [
    "#6  Write a program to print numbers from 1 to 20 except multiple of 2 & 3.\n",
    "for i in range(21):\n",
    "    if i%2 != 0 and i%3 !=0:\n",
    "        print(\"this number not multiple of 2 & 3\",i)    "
   ]
  },
  {
   "cell_type": "code",
   "execution_count": 21,
   "id": "1b5f2836",
   "metadata": {},
   "outputs": [
    {
     "name": "stdout",
     "output_type": "stream",
     "text": [
      "enetr a number :6\n",
      "factorial of  6 is 720\n"
     ]
    }
   ],
   "source": [
    "# 4. Write a program to find the factorial of a number.\n",
    "num = int(input(\"enetr a number :\"))\n",
    "f=1\n",
    "for i in range(num,0,-1):\n",
    "    f= f*i\n",
    "print(\"factorial of \",num,\"is\",f)"
   ]
  },
  {
   "cell_type": "code",
   "execution_count": 1,
   "id": "50f0bc2d",
   "metadata": {},
   "outputs": [
    {
     "name": "stdout",
     "output_type": "stream",
     "text": [
      "enter a number :123\n",
      "123 is not a prime number\n"
     ]
    }
   ],
   "source": [
    "# Write a program to check whether a number is prime or not.\n",
    "num = int(input(\"enter a number :\"))\n",
    "for i in range(2,num):\n",
    "    if num%i == 0:\n",
    "        f=1\n",
    "if f==1:\n",
    "    print(num,\"is not a prime number\")\n",
    "else:\n",
    "    print(num,\"is not a prime number\")"
   ]
  },
  {
   "cell_type": "code",
   "execution_count": null,
   "id": "e86af793",
   "metadata": {},
   "outputs": [],
   "source": []
  }
 ],
 "metadata": {
  "kernelspec": {
   "display_name": "Python 3 (ipykernel)",
   "language": "python",
   "name": "python3"
  },
  "language_info": {
   "codemirror_mode": {
    "name": "ipython",
    "version": 3
   },
   "file_extension": ".py",
   "mimetype": "text/x-python",
   "name": "python",
   "nbconvert_exporter": "python",
   "pygments_lexer": "ipython3",
   "version": "3.11.4"
  }
 },
 "nbformat": 4,
 "nbformat_minor": 5
}
