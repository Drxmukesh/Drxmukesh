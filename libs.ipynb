{
 "cells": [
  {
   "cell_type": "code",
   "execution_count": 2,
   "id": "a3afc692-fffb-4c64-8c6c-466954c42fc9",
   "metadata": {
    "tags": []
   },
   "outputs": [],
   "source": [
    "import pandas as pd"
   ]
  },
  {
   "cell_type": "code",
   "execution_count": 5,
   "id": "627d868f-87d1-4b10-9877-24c25b094f80",
   "metadata": {
    "tags": []
   },
   "outputs": [
    {
     "name": "stdout",
     "output_type": "stream",
     "text": [
      "     PassengerId  Survived  Pclass  \\\n",
      "0            892         0       3   \n",
      "1            893         1       3   \n",
      "2            894         0       2   \n",
      "3            895         0       3   \n",
      "4            896         1       3   \n",
      "..           ...       ...     ...   \n",
      "413         1305         0       3   \n",
      "414         1306         1       1   \n",
      "415         1307         0       3   \n",
      "416         1308         0       3   \n",
      "417         1309         0       3   \n",
      "\n",
      "                                             Name     Sex   Age  SibSp  Parch  \\\n",
      "0                                Kelly, Mr. James    male  34.5      0      0   \n",
      "1                Wilkes, Mrs. James (Ellen Needs)  female  47.0      1      0   \n",
      "2                       Myles, Mr. Thomas Francis    male  62.0      0      0   \n",
      "3                                Wirz, Mr. Albert    male  27.0      0      0   \n",
      "4    Hirvonen, Mrs. Alexander (Helga E Lindqvist)  female  22.0      1      1   \n",
      "..                                            ...     ...   ...    ...    ...   \n",
      "413                            Spector, Mr. Woolf    male   NaN      0      0   \n",
      "414                  Oliva y Ocana, Dona. Fermina  female  39.0      0      0   \n",
      "415                  Saether, Mr. Simon Sivertsen    male  38.5      0      0   \n",
      "416                           Ware, Mr. Frederick    male   NaN      0      0   \n",
      "417                      Peter, Master. Michael J    male   NaN      1      1   \n",
      "\n",
      "                 Ticket      Fare Cabin Embarked  \n",
      "0                330911    7.8292   NaN        Q  \n",
      "1                363272    7.0000   NaN        S  \n",
      "2                240276    9.6875   NaN        Q  \n",
      "3                315154    8.6625   NaN        S  \n",
      "4               3101298   12.2875   NaN        S  \n",
      "..                  ...       ...   ...      ...  \n",
      "413           A.5. 3236    8.0500   NaN        S  \n",
      "414            PC 17758  108.9000  C105        C  \n",
      "415  SOTON/O.Q. 3101262    7.2500   NaN        S  \n",
      "416              359309    8.0500   NaN        S  \n",
      "417                2668   22.3583   NaN        C  \n",
      "\n",
      "[418 rows x 12 columns]\n"
     ]
    }
   ],
   "source": [
    "se=pd.read_csv(\"D:\\\\python\\\\tested.csv\")\n",
    "print(se)"
   ]
  },
  {
   "cell_type": "code",
   "execution_count": 7,
   "id": "9186750c-1a2a-4d10-b237-23afce0bb065",
   "metadata": {},
   "outputs": [
    {
     "name": "stdout",
     "output_type": "stream",
     "text": [
      "  18.1s 1 /opt/conda/lib/python3.10/site-packages/traitlets/traitlets.py:2930: FutureWarning: --Exporter.preprocessors=[\"remove_papermill_header.RemovePapermillHeader\"] for containers is deprecated in traitlets 5.0. You can pass `--Exporter.preprocessors item` ... multiple times to add items to a list.\n",
      "0                                      18.1s 2 warn(                                                                                                                                                                                                                                                           \n",
      "1  18.1s 3 [NbConvertApp] WARNING | Config option...                                                                                                                                                                                                                                                           \n",
      "2  18.2s 4 [NbConvertApp] Converting notebook __n...                                                                                                                                                                                                                                                           \n",
      "3  19.1s 5 [NbConvertApp] Writing 2780467 bytes t...                                                                                                                                                                                                                                                           \n",
      "4  21.2s 6 /opt/conda/lib/python3.10/site-package...                                                                                                                                                                                                                                                           \n",
      "5                                      21.2s 7 warn(                                                                                                                                                                                                                                                           \n",
      "6  21.2s 8 [NbConvertApp] WARNING | Config option...                                                                                                                                                                                                                                                           \n",
      "7  21.2s 9 [NbConvertApp] Converting notebook __n...                                                                                                                                                                                                                                                           \n",
      "8  22.8s 10 [NbConvertApp] Writing 1383329 bytes ...                                                                                                                                                                                                                                                           \n"
     ]
    }
   ],
   "source": [
    "se=pd.read_csv(\"D:\\\\python\\\\introduction-singapore-cryptocurrency.log\")\n",
    "print(se)"
   ]
  },
  {
   "cell_type": "code",
   "execution_count": 8,
   "id": "7e92c224",
   "metadata": {},
   "outputs": [
    {
     "name": "stdout",
     "output_type": "stream",
     "text": [
      "  18.1s 1 /opt/conda/lib/python3.10/site-packages/traitlets/traitlets.py:2930: FutureWarning: --Exporter.preprocessors=[\"remove_papermill_header.RemovePapermillHeader\"] for containers is deprecated in traitlets 5.0. You can pass `--Exporter.preprocessors item` ... multiple times to add items to a list.\n",
      "0                                      18.1s 2 warn(                                                                                                                                                                                                                                                           \n",
      "1  18.1s 3 [NbConvertApp] WARNING | Config option...                                                                                                                                                                                                                                                           \n",
      "2  18.2s 4 [NbConvertApp] Converting notebook __n...                                                                                                                                                                                                                                                           \n",
      "3  19.1s 5 [NbConvertApp] Writing 2780467 bytes t...                                                                                                                                                                                                                                                           \n",
      "4  21.2s 6 /opt/conda/lib/python3.10/site-package...                                                                                                                                                                                                                                                           \n",
      "5                                      21.2s 7 warn(                                                                                                                                                                                                                                                           \n",
      "6  21.2s 8 [NbConvertApp] WARNING | Config option...                                                                                                                                                                                                                                                           \n",
      "7  21.2s 9 [NbConvertApp] Converting notebook __n...                                                                                                                                                                                                                                                           \n",
      "8  22.8s 10 [NbConvertApp] Writing 1383329 bytes ...                                                                                                                                                                                                                                                           \n"
     ]
    }
   ],
   "source": [
    "print(se)"
   ]
  },
  {
   "cell_type": "code",
   "execution_count": null,
   "id": "91e6fdc6",
   "metadata": {},
   "outputs": [],
   "source": []
  }
 ],
 "metadata": {
  "kernelspec": {
   "display_name": "Python 3 (ipykernel)",
   "language": "python",
   "name": "python3"
  },
  "language_info": {
   "codemirror_mode": {
    "name": "ipython",
    "version": 3
   },
   "file_extension": ".py",
   "mimetype": "text/x-python",
   "name": "python",
   "nbconvert_exporter": "python",
   "pygments_lexer": "ipython3",
   "version": "3.11.5"
  }
 },
 "nbformat": 4,
 "nbformat_minor": 5
}
