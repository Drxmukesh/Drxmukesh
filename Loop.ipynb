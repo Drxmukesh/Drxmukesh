{
 "cells": [
  {
   "cell_type": "code",
   "execution_count": 19,
   "id": "87e5bc8f",
   "metadata": {},
   "outputs": [
    {
     "name": "stdout",
     "output_type": "stream",
     "text": [
      "apple\n",
      "apple\n",
      "banana\n",
      "banana\n",
      "cherry\n",
      "cherry\n",
      "cherry\n",
      "['apple', 'banana', 'cherry']\n"
     ]
    }
   ],
   "source": [
    "fruits = [\"apple\", \"banana\", \"cherry\"]\n",
    "for x in fruits:\n",
    "    print(x)\n",
    "    print(x)\n",
    "print(x)\n",
    "print(fruits)"
   ]
  },
  {
   "cell_type": "code",
   "execution_count": 21,
   "id": "66e16afd",
   "metadata": {},
   "outputs": [
    {
     "name": "stdout",
     "output_type": "stream",
     "text": [
      "1/3/5/7/9/11/13/15/17/19/\n",
      "2/4/6/8/10/12/14/16/18/20/"
     ]
    }
   ],
   "source": [
    "for x in range(1,21,2):\n",
    "    print(x,end=\"/\")\n",
    "print()\n",
    "\n",
    "\n",
    "for x in range(2,21,2):\n",
    "    print(x,end=\"/\")\n"
   ]
  },
  {
   "cell_type": "code",
   "execution_count": 3,
   "id": "202065cd",
   "metadata": {},
   "outputs": [
    {
     "name": "stdout",
     "output_type": "stream",
     "text": [
      "1        1\n",
      "2        2\n",
      "3        3\n",
      "4        4\n",
      "5        5\n",
      "6        6\n",
      "7        7\n",
      "8        8\n",
      "9        9\n",
      "10        10\n"
     ]
    }
   ],
   "source": [
    "import pandas as pd\n",
    "for i in range(1,11):\n",
    "    print(i,end=\" \")\n",
    "    print(\"       \",end=\"\")\n",
    "    print(i)"
   ]
  },
  {
   "cell_type": "code",
   "execution_count": 4,
   "id": "f519d7ab",
   "metadata": {},
   "outputs": [
    {
     "name": "stdout",
     "output_type": "stream",
     "text": [
      "[10, 9, 8, 7, 6, 5, 4, 3, 2, 1, 0]\n"
     ]
    }
   ],
   "source": [
    "a=list(range(11))\n",
    "print(a[::-1])"
   ]
  },
  {
   "cell_type": "code",
   "execution_count": 5,
   "id": "1236240b",
   "metadata": {},
   "outputs": [
    {
     "name": "stdout",
     "output_type": "stream",
     "text": [
      "enter number12\n",
      "enter number23\n",
      "enter number34\n",
      "enter number45\n",
      "enter number45\n",
      "enter number343\n",
      "enter number4343\n",
      "enter number4343\n",
      "enter number4343\n",
      "enter number44\n",
      "average 1357.5\n"
     ]
    }
   ],
   "source": [
    "sum1=[]         \n",
    "for i in range(10):\n",
    "    number = int(input(\"enter number\"))\n",
    "    sum1.append(number)\n",
    "    \n",
    "print(\"average\",sum(sum1)/len(sum1))"
   ]
  },
  {
   "cell_type": "code",
   "execution_count": 6,
   "id": "1ad1e6e9",
   "metadata": {},
   "outputs": [
    {
     "name": "stdout",
     "output_type": "stream",
     "text": [
      "cat 3\n",
      "window 6\n",
      "defenestrate 12\n"
     ]
    }
   ],
   "source": [
    "words = ['cat', 'window', 'defenestrate']\n",
    "for w in words:\n",
    "    print(w,len(w))"
   ]
  },
  {
   "cell_type": "markdown",
   "id": "d80a1046",
   "metadata": {},
   "source": []
  },
  {
   "cell_type": "code",
   "execution_count": 7,
   "id": "61dc3f02",
   "metadata": {},
   "outputs": [
    {
     "name": "stdout",
     "output_type": "stream",
     "text": [
      "['defenestrate', 'cat', 'window', 'defenestrate']\n"
     ]
    }
   ],
   "source": [
    "words = ['cat', 'window', 'defenestrate']\n",
    "for w in words[:]:\n",
    "    if len(w) > 6:\n",
    "        words.insert(0,w)\n",
    "        \n",
    "print(words)"
   ]
  },
  {
   "cell_type": "code",
   "execution_count": 8,
   "id": "3aaad2cb",
   "metadata": {},
   "outputs": [
    {
     "name": "stdout",
     "output_type": "stream",
     "text": [
      "0\n",
      "1\n",
      "2\n",
      "3\n",
      "4\n"
     ]
    }
   ],
   "source": [
    "for i in range(5):     # i is a iteration like veriable\n",
    "    print(i)"
   ]
  },
  {
   "cell_type": "code",
   "execution_count": 9,
   "id": "af30cffb",
   "metadata": {},
   "outputs": [
    {
     "name": "stdout",
     "output_type": "stream",
     "text": [
      "0 January\n",
      "1 February\n",
      "2 March \n",
      "3 april\n",
      "4 may\n",
      "5 June \n",
      "6 July \n",
      "7 August \n",
      "8 september\n",
      "9 October \n",
      "10 November \n",
      "11 December \n"
     ]
    }
   ],
   "source": [
    "month = [\"January\",\"February\",\"March \",\"april\",\"may\",\"June \",\"July \",\"August \",\"september\",\"October \",\"November \",\"December \"]\n",
    "for i in range(0,12):\n",
    "    print(i,month[i])"
   ]
  },
  {
   "cell_type": "code",
   "execution_count": 10,
   "id": "b218d98d",
   "metadata": {},
   "outputs": [
    {
     "name": "stdout",
     "output_type": "stream",
     "text": [
      "0 January\n",
      "1 February\n",
      "2 March \n",
      "3 april\n",
      "4 may\n",
      "5 June \n",
      "6 July \n",
      "7 August \n",
      "8 september\n",
      "9 October \n",
      "10 November \n",
      "11 December \n"
     ]
    }
   ],
   "source": [
    "month = [\"January\",\"February\",\"March \",\"april\",\"may\",\"June \",\"July \",\"August \",\"september\",\"October \",\"November \",\"December \"]\n",
    "for i in range(0,len(month)):\n",
    "    print(i,month[i])"
   ]
  },
  {
   "cell_type": "code",
   "execution_count": 11,
   "id": "ebf39b96",
   "metadata": {},
   "outputs": [
    {
     "name": "stdout",
     "output_type": "stream",
     "text": [
      "range(0, 10)\n",
      "[0, 1, 2, 3, 4]\n",
      "(0, 1, 2, 3, 4)\n",
      "{0, 1, 2, 3, 4}\n"
     ]
    }
   ],
   "source": [
    "print(range(10))\n",
    "print(list(range(5)))\n",
    "print(tuple(range(5)))\n",
    "print(set(range(5)))"
   ]
  },
  {
   "cell_type": "code",
   "execution_count": 12,
   "id": "d232c89d",
   "metadata": {},
   "outputs": [
    {
     "name": "stdout",
     "output_type": "stream",
     "text": [
      "2 is a prime number\n",
      "3 is a prime number\n",
      "4 equal 2 * 2\n",
      "5 is a prime number\n",
      "6 equal 2 * 3\n",
      "7 is a prime number\n",
      "8 equal 2 * 4\n",
      "9 equal 3 * 3\n"
     ]
    }
   ],
   "source": [
    "for n in range(2,10):\n",
    "    for x in range (2,n):\n",
    "        if n%x == 0:\n",
    "            print(n,\"equal\",x,\"*\",n//x)\n",
    "            break\n",
    "    else:\n",
    "        print(n,\"is a prime number\")"
   ]
  },
  {
   "cell_type": "code",
   "execution_count": 17,
   "id": "d0824af0",
   "metadata": {},
   "outputs": [
    {
     "name": "stdout",
     "output_type": "stream",
     "text": [
      "[12, 12, 2, 3, 4, 5, 0]    True\n",
      "[12, 12, 2, 3, 4, 5]    True\n",
      "[0, 0, 0, 0, 0]     False\n"
     ]
    }
   ],
   "source": [
    "l1 = [12,12,2,3,4,5,0]\n",
    "print(l1,\"  \",any(l1))\n",
    "l1 = [12,12,2,3,4,5]\n",
    "print(l1,\"  \",any(l1))\n",
    "l1 = [0,0,0,0,0]\n",
    "print(l1,\"   \",any(l1))"
   ]
  },
  {
   "cell_type": "code",
   "execution_count": 18,
   "id": "7a667b65",
   "metadata": {},
   "outputs": [
    {
     "name": "stdout",
     "output_type": "stream",
     "text": [
      "[12, 12, 2, 3, 4, 5, 0]    False\n",
      "[12, 1, 2, 34, 3, 33]    True\n"
     ]
    }
   ],
   "source": [
    "l2 = [12,12,2,3,4,5,0]\n",
    "print(l2,\"  \",all(l2))\n",
    "l2 = [12,1,2,34,3,33,]\n",
    "print(l2,\"  \",all(l2))"
   ]
  },
  {
   "cell_type": "code",
   "execution_count": null,
   "id": "2f387c67",
   "metadata": {},
   "outputs": [],
   "source": [
    "# while loop is used for condition bases program (in infinite number of element)\n"
   ]
  }
 ],
 "metadata": {
  "kernelspec": {
   "display_name": "Python 3 (ipykernel)",
   "language": "python",
   "name": "python3"
  },
  "language_info": {
   "codemirror_mode": {
    "name": "ipython",
    "version": 3
   },
   "file_extension": ".py",
   "mimetype": "text/x-python",
   "name": "python",
   "nbconvert_exporter": "python",
   "pygments_lexer": "ipython3",
   "version": "3.11.4"
  }
 },
 "nbformat": 4,
 "nbformat_minor": 5
}
