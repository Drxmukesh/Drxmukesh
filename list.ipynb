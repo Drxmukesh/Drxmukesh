{
 "cells": [
  {
   "cell_type": "code",
   "execution_count": 107,
   "id": "eb088d71",
   "metadata": {},
   "outputs": [
    {
     "name": "stdout",
     "output_type": "stream",
     "text": [
      "['mukesh', 'vinod', 'rajveer', 'anish', 'bishal', 'naresh', 'kailash']\n",
      "<class 'list'>\n"
     ]
    }
   ],
   "source": [
    "l=[\"mukesh\",\"vinod\",\"rajveer\",\"anish\",\"bishal\",\"naresh\",\"kailash\"]\n",
    "print(l)\n",
    "print(type(l))"
   ]
  },
  {
   "cell_type": "code",
   "execution_count": 108,
   "id": "1fe3082a",
   "metadata": {},
   "outputs": [
    {
     "name": "stdout",
     "output_type": "stream",
     "text": [
      "['vinod', 'rajveer']\n",
      "['mukesh', 'vinod', 'rajveer', 'anish', 'bishal', 'naresh', 'kailash']\n"
     ]
    }
   ],
   "source": [
    "print(l[1:3])\n",
    "print(l)"
   ]
  },
  {
   "cell_type": "code",
   "execution_count": 109,
   "id": "723a962b",
   "metadata": {},
   "outputs": [
    {
     "name": "stdout",
     "output_type": "stream",
     "text": [
      "['vinod', 'anish', 'naresh']\n"
     ]
    }
   ],
   "source": [
    "print(l[1::2])"
   ]
  },
  {
   "cell_type": "code",
   "execution_count": 110,
   "id": "33b6d1aa",
   "metadata": {},
   "outputs": [
    {
     "name": "stdout",
     "output_type": "stream",
     "text": [
      "['rajveer', 'anish', 'bishal']\n"
     ]
    }
   ],
   "source": [
    "print(l[-5:-2])"
   ]
  },
  {
   "cell_type": "code",
   "execution_count": 111,
   "id": "842e8d8a",
   "metadata": {},
   "outputs": [
    {
     "name": "stdout",
     "output_type": "stream",
     "text": [
      "['mukesh', 'vinod', 'rajveer', 'anish', 'bishal', ['mukeh'], 'kailash']\n"
     ]
    }
   ],
   "source": [
    "l[-2]=[\"mukeh\"]\n",
    "print(l)"
   ]
  },
  {
   "cell_type": "code",
   "execution_count": 112,
   "id": "c8dea28b",
   "metadata": {},
   "outputs": [
    {
     "name": "stdout",
     "output_type": "stream",
     "text": [
      "[12332323, 'mukesh', 'vinod', 'ravi', 'rajveer', 'anish', 'bishal', ['mukeh'], 'kailash']\n"
     ]
    }
   ],
   "source": [
    "l[:2:1]=[12332323,\"mukesh\",\"vinod\",\"ravi\"]  \n",
    "print(l)"
   ]
  },
  {
   "cell_type": "code",
   "execution_count": 113,
   "id": "cbf199b6",
   "metadata": {},
   "outputs": [
    {
     "name": "stdout",
     "output_type": "stream",
     "text": [
      "[12332323, 'akash', 'mukesh', 'vinod', 'ravi', 'rajveer', 'anish', 'bishal', ['mukeh'], 'kailash']\n"
     ]
    }
   ],
   "source": [
    "l.insert(1,\"akash\")\n",
    "print(l)"
   ]
  },
  {
   "cell_type": "code",
   "execution_count": 114,
   "id": "14f947dc",
   "metadata": {},
   "outputs": [
    {
     "name": "stdout",
     "output_type": "stream",
     "text": [
      "['abhi', 'raj', 'pankaj']\n"
     ]
    }
   ],
   "source": [
    "l2=[\"abhi\",\"raj\",\"pankaj\"]\n",
    "print(l2)\n"
   ]
  },
  {
   "cell_type": "code",
   "execution_count": 115,
   "id": "74aa082b",
   "metadata": {},
   "outputs": [
    {
     "name": "stdout",
     "output_type": "stream",
     "text": [
      "(12332323, 'akash', 'mukesh', 'vinod', 'ravi', 'rajveer', 'anish', 'bishal', ['mukeh'], 'kailash')\n",
      "0    12332323\n",
      "1       akash\n",
      "2      mukesh\n",
      "3       vinod\n",
      "4        ravi\n",
      "5     rajveer\n",
      "6       anish\n",
      "7      bishal\n",
      "8     [mukeh]\n",
      "9     kailash\n",
      "dtype: object\n"
     ]
    }
   ],
   "source": [
    "z=tuple(l)\n",
    "print(z)\n",
    "print(pd.Series(z))"
   ]
  },
  {
   "cell_type": "code",
   "execution_count": 116,
   "id": "b9e9ce75",
   "metadata": {},
   "outputs": [
    {
     "name": "stdout",
     "output_type": "stream",
     "text": [
      "[12332323, 'akash', 'mukesh', ['abhi', 'raj', 'pankaj'], 'vinod', 'ravi', 'rajveer', 'anish', 'bishal', ['mukeh'], 'kailash']\n",
      "                      0\n",
      "0              12332323\n",
      "1                 akash\n",
      "2                mukesh\n",
      "3   [abhi, raj, pankaj]\n",
      "4                 vinod\n",
      "5                  ravi\n",
      "6               rajveer\n",
      "7                 anish\n",
      "8                bishal\n",
      "9               [mukeh]\n",
      "10              kailash\n",
      "0                12332323\n",
      "1                   akash\n",
      "2                  mukesh\n",
      "3     [abhi, raj, pankaj]\n",
      "4                   vinod\n",
      "5                    ravi\n",
      "6                 rajveer\n",
      "7                   anish\n",
      "8                  bishal\n",
      "9                 [mukeh]\n",
      "10                kailash\n",
      "dtype: object\n",
      "                      0\n",
      "0              12332323\n",
      "1                 akash\n",
      "2                mukesh\n",
      "3   [abhi, raj, pankaj]\n",
      "4                 vinod\n",
      "5                  ravi\n",
      "6               rajveer\n",
      "7                 anish\n",
      "8                bishal\n",
      "9               [mukeh]\n",
      "10              kailash\n"
     ]
    }
   ],
   "source": [
    "l.insert(3,l2)         \n",
    "print(l)\n",
    "import pandas as pd\n",
    "print(pd.DataFrame(l))\n",
    "s=pd.Series(data=l)\n",
    "df=pd.DataFrame(data=l)\n",
    "print(s)\n",
    "print(df)"
   ]
  },
  {
   "cell_type": "code",
   "execution_count": 117,
   "id": "d17aadcb",
   "metadata": {},
   "outputs": [
    {
     "name": "stdout",
     "output_type": "stream",
     "text": [
      "[12332323, 'akash', 'kamlesh', 'mukesh', ['abhi', 'raj', 'pankaj'], 'vinod', 'ravi', 'rajveer', 'anish', 'bishal', ['mukeh'], 'kailash']\n"
     ]
    }
   ],
   "source": [
    "l.insert(2,\"kamlesh\")\n",
    "print(l)"
   ]
  },
  {
   "cell_type": "code",
   "execution_count": 118,
   "id": "17bcc11c",
   "metadata": {},
   "outputs": [],
   "source": [
    "l2=[1,2,3,4]"
   ]
  },
  {
   "cell_type": "code",
   "execution_count": 119,
   "id": "8edb38ad",
   "metadata": {},
   "outputs": [],
   "source": [
    "l.insert(2,l2)"
   ]
  },
  {
   "cell_type": "code",
   "execution_count": 120,
   "id": "9f186b2e",
   "metadata": {},
   "outputs": [
    {
     "data": {
      "text/plain": [
       "[12332323,\n",
       " 'akash',\n",
       " [1, 2, 3, 4],\n",
       " 'kamlesh',\n",
       " 'mukesh',\n",
       " ['abhi', 'raj', 'pankaj'],\n",
       " 'vinod',\n",
       " 'ravi',\n",
       " 'rajveer',\n",
       " 'anish',\n",
       " 'bishal',\n",
       " ['mukeh'],\n",
       " 'kailash']"
      ]
     },
     "execution_count": 120,
     "metadata": {},
     "output_type": "execute_result"
    }
   ],
   "source": [
    "l"
   ]
  },
  {
   "cell_type": "code",
   "execution_count": 121,
   "id": "6d089f86",
   "metadata": {},
   "outputs": [],
   "source": [
    "l.insert(3,l2)"
   ]
  },
  {
   "cell_type": "code",
   "execution_count": 122,
   "id": "9bbfa3dc",
   "metadata": {},
   "outputs": [],
   "source": [
    "l.append(\"mukesh\")"
   ]
  },
  {
   "cell_type": "code",
   "execution_count": 123,
   "id": "c976b690",
   "metadata": {},
   "outputs": [
    {
     "data": {
      "text/plain": [
       "[12332323,\n",
       " 'akash',\n",
       " [1, 2, 3, 4],\n",
       " [1, 2, 3, 4],\n",
       " 'kamlesh',\n",
       " 'mukesh',\n",
       " ['abhi', 'raj', 'pankaj'],\n",
       " 'vinod',\n",
       " 'ravi',\n",
       " 'rajveer',\n",
       " 'anish',\n",
       " 'bishal',\n",
       " ['mukeh'],\n",
       " 'kailash',\n",
       " 'mukesh']"
      ]
     },
     "execution_count": 123,
     "metadata": {},
     "output_type": "execute_result"
    }
   ],
   "source": [
    "l"
   ]
  },
  {
   "cell_type": "code",
   "execution_count": 124,
   "id": "4cf3cb07",
   "metadata": {},
   "outputs": [],
   "source": [
    "l.extend(l2)"
   ]
  },
  {
   "cell_type": "code",
   "execution_count": 125,
   "id": "13d89f85",
   "metadata": {},
   "outputs": [
    {
     "data": {
      "text/plain": [
       "[12332323,\n",
       " 'akash',\n",
       " [1, 2, 3, 4],\n",
       " [1, 2, 3, 4],\n",
       " 'kamlesh',\n",
       " 'mukesh',\n",
       " ['abhi', 'raj', 'pankaj'],\n",
       " 'vinod',\n",
       " 'ravi',\n",
       " 'rajveer',\n",
       " 'anish',\n",
       " 'bishal',\n",
       " ['mukeh'],\n",
       " 'kailash',\n",
       " 'mukesh',\n",
       " 1,\n",
       " 2,\n",
       " 3,\n",
       " 4]"
      ]
     },
     "execution_count": 125,
     "metadata": {},
     "output_type": "execute_result"
    }
   ],
   "source": [
    "l"
   ]
  },
  {
   "cell_type": "code",
   "execution_count": 126,
   "id": "498e62a2",
   "metadata": {},
   "outputs": [
    {
     "name": "stdout",
     "output_type": "stream",
     "text": [
      "<class 'list'>\n"
     ]
    }
   ],
   "source": [
    "print(type(l))"
   ]
  },
  {
   "cell_type": "code",
   "execution_count": 127,
   "id": "536a0b99",
   "metadata": {},
   "outputs": [
    {
     "data": {
      "text/plain": [
       "[12332323,\n",
       " 'akash',\n",
       " [1, 2, 3, 4],\n",
       " [1, 2, 3, 4],\n",
       " 'kamlesh',\n",
       " ['abhi', 'raj', 'pankaj'],\n",
       " 'vinod',\n",
       " 'ravi',\n",
       " 'rajveer',\n",
       " 'anish',\n",
       " 'bishal',\n",
       " ['mukeh'],\n",
       " 'kailash',\n",
       " 'mukesh',\n",
       " 1,\n",
       " 2,\n",
       " 3,\n",
       " 4]"
      ]
     },
     "execution_count": 127,
     "metadata": {},
     "output_type": "execute_result"
    }
   ],
   "source": [
    "l.remove(\"mukesh\") #remove perticular values from list\n",
    "l"
   ]
  },
  {
   "cell_type": "code",
   "execution_count": 128,
   "id": "673407db",
   "metadata": {},
   "outputs": [
    {
     "data": {
      "text/plain": [
       "'akash'"
      ]
     },
     "execution_count": 128,
     "metadata": {},
     "output_type": "execute_result"
    }
   ],
   "source": [
    "l.pop(1) #remove perticular value by index"
   ]
  },
  {
   "cell_type": "code",
   "execution_count": 129,
   "id": "e45d49a3",
   "metadata": {},
   "outputs": [
    {
     "data": {
      "text/plain": [
       "[12332323,\n",
       " [1, 2, 3, 4],\n",
       " 'kamlesh',\n",
       " 'vinod',\n",
       " 'ravi',\n",
       " 'rajveer',\n",
       " 'anish',\n",
       " 'bishal',\n",
       " ['mukeh'],\n",
       " 'kailash',\n",
       " 'mukesh',\n",
       " 1,\n",
       " 2,\n",
       " 3,\n",
       " 4]"
      ]
     },
     "execution_count": 129,
     "metadata": {},
     "output_type": "execute_result"
    }
   ],
   "source": [
    "del l[2:6:2]         #it delete value [start:end:gap]\n",
    "l"
   ]
  },
  {
   "cell_type": "code",
   "execution_count": 130,
   "id": "f511c4e2",
   "metadata": {},
   "outputs": [],
   "source": [
    "#l.clear()    clear list value empty list"
   ]
  },
  {
   "cell_type": "code",
   "execution_count": 131,
   "id": "8793a829",
   "metadata": {},
   "outputs": [
    {
     "name": "stdout",
     "output_type": "stream",
     "text": [
      "[12332323, [1, 2, 3, 4], 'kamlesh', 'vinod', 'ravi', 'rajveer', 'anish', 'bishal', ['mukeh'], 'kailash', 'mukesh', 1, 2, 3, 4]\n"
     ]
    }
   ],
   "source": [
    "print(l)"
   ]
  },
  {
   "cell_type": "code",
   "execution_count": 135,
   "id": "a316c150",
   "metadata": {},
   "outputs": [
    {
     "name": "stdout",
     "output_type": "stream",
     "text": [
      "['ravi', 'rajveer', 'anish']\n"
     ]
    }
   ],
   "source": [
    "l.pop(-1)\n",
    "l.pop(-1)\n",
    "l.pop(-1)\n",
    "l.pop(-1)\n",
    "l.pop(0)\n",
    "l.pop(0)\n",
    "print(l)"
   ]
  },
  {
   "cell_type": "code",
   "execution_count": 133,
   "id": "2459ee89",
   "metadata": {},
   "outputs": [],
   "source": [
    "#del l  # delete list"
   ]
  },
  {
   "cell_type": "code",
   "execution_count": 139,
   "id": "01c502b0",
   "metadata": {},
   "outputs": [
    {
     "name": "stdout",
     "output_type": "stream",
     "text": [
      "['ravi', 'rajveer', 'anish']\n"
     ]
    }
   ],
   "source": [
    "l.sort(reverse=True)\n",
    "print(l)"
   ]
  },
  {
   "cell_type": "code",
   "execution_count": 140,
   "id": "867120f5",
   "metadata": {},
   "outputs": [
    {
     "name": "stdout",
     "output_type": "stream",
     "text": [
      "['deva', 'mukesh', 'rvi', 'suresh']\n",
      "['suresh', 'rvi', 'mukesh', 'deva']\n"
     ]
    }
   ],
   "source": [
    "l=[\"mukesh\",\"suresh\",\"rvi\",\"deva\"]\n",
    "l.sort()\n",
    "print(l)\n",
    "l.sort(reverse=True)\n",
    "print(l)"
   ]
  },
  {
   "cell_type": "code",
   "execution_count": 141,
   "id": "82a0433c",
   "metadata": {},
   "outputs": [
    {
     "name": "stdout",
     "output_type": "stream",
     "text": [
      "['suresh', 'rvi', 'mukesh', 'deva']\n"
     ]
    }
   ],
   "source": [
    "l1=l.copy()\n",
    "print(l1)"
   ]
  },
  {
   "cell_type": "code",
   "execution_count": 143,
   "id": "fdfbe0ab",
   "metadata": {},
   "outputs": [
    {
     "name": "stdout",
     "output_type": "stream",
     "text": [
      "['suresh', 'rvi', 'mukesh', 'deva', 'suresh', 'rvi', 'mukesh', 'deva']\n"
     ]
    }
   ],
   "source": [
    "l3=l1+l\n",
    "print(l3)\n"
   ]
  },
  {
   "cell_type": "code",
   "execution_count": null,
   "id": "39c0735b",
   "metadata": {},
   "outputs": [],
   "source": []
  },
  {
   "cell_type": "code",
   "execution_count": null,
   "id": "b50053b2",
   "metadata": {},
   "outputs": [],
   "source": []
  },
  {
   "cell_type": "code",
   "execution_count": null,
   "id": "31596099",
   "metadata": {},
   "outputs": [],
   "source": []
  }
 ],
 "metadata": {
  "kernelspec": {
   "display_name": "Python 3 (ipykernel)",
   "language": "python",
   "name": "python3"
  },
  "language_info": {
   "codemirror_mode": {
    "name": "ipython",
    "version": 3
   },
   "file_extension": ".py",
   "mimetype": "text/x-python",
   "name": "python",
   "nbconvert_exporter": "python",
   "pygments_lexer": "ipython3",
   "version": "3.11.4"
  }
 },
 "nbformat": 4,
 "nbformat_minor": 5
}
