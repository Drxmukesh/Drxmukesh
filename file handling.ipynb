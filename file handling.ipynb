{
 "cells": [
  {
   "cell_type": "code",
   "execution_count": 1,
   "id": "8005f78b",
   "metadata": {},
   "outputs": [],
   "source": [
    "#open(\"path/file name.txt\",mode=\"w\",\"r\",\"a\")\n",
    "#w=write \n",
    "#r=read text file\n",
    "#a=add text in file"
   ]
  },
  {
   "cell_type": "code",
   "execution_count": 4,
   "id": "11d76e1a",
   "metadata": {},
   "outputs": [
    {
     "data": {
      "text/plain": [
       "9"
      ]
     },
     "execution_count": 4,
     "metadata": {},
     "output_type": "execute_result"
    }
   ],
   "source": [
    "# write \n",
    "user=open(\"D:\\mukesh.txt\",mode = \"w\")\n",
    "user.write(\"i am here\")"
   ]
  },
  {
   "cell_type": "code",
   "execution_count": 3,
   "id": "1f8da43e",
   "metadata": {},
   "outputs": [
    {
     "data": {
      "text/plain": [
       "'i am here'"
      ]
     },
     "execution_count": 3,
     "metadata": {},
     "output_type": "execute_result"
    }
   ],
   "source": [
    "# read\n",
    "user=open(\"C:\\mukesh\\mukesh.txt\",mode = \"r\")\n",
    "user.read()"
   ]
  },
  {
   "cell_type": "code",
   "execution_count": 4,
   "id": "5d1278f6",
   "metadata": {},
   "outputs": [
    {
     "data": {
      "text/plain": [
       "39"
      ]
     },
     "execution_count": 4,
     "metadata": {},
     "output_type": "execute_result"
    }
   ],
   "source": [
    "#add text\n",
    "user=open(\"C:\\mukesh\\mukesh.txt\",mode = \"a\")\n",
    "user.write(\"for learning python programing language\")"
   ]
  },
  {
   "cell_type": "code",
   "execution_count": 5,
   "id": "d33d02ba",
   "metadata": {},
   "outputs": [
    {
     "data": {
      "text/plain": [
       "40"
      ]
     },
     "execution_count": 5,
     "metadata": {},
     "output_type": "execute_result"
    }
   ],
   "source": [
    "#use string function\n",
    "user=open(\"C:\\mukesh\\mukesh.txt\",mode = \"a\")\n",
    "user.write(\"\\nfor learning python programing language\")"
   ]
  },
  {
   "cell_type": "code",
   "execution_count": 6,
   "id": "d4be55ae",
   "metadata": {},
   "outputs": [],
   "source": [
    "user.close()"
   ]
  },
  {
   "cell_type": "code",
   "execution_count": 7,
   "id": "c612745c",
   "metadata": {},
   "outputs": [],
   "source": [
    "user.close()"
   ]
  },
  {
   "cell_type": "code",
   "execution_count": 8,
   "id": "04ade5c0",
   "metadata": {},
   "outputs": [
    {
     "data": {
      "text/plain": [
       "'i am herefor learning python programing language\\nfor learning python programing language'"
      ]
     },
     "execution_count": 8,
     "metadata": {},
     "output_type": "execute_result"
    }
   ],
   "source": [
    "# read\n",
    "user=open(\"C:\\mukesh\\mukesh.txt\",mode = \"r\")\n",
    "user.read()"
   ]
  },
  {
   "cell_type": "code",
   "execution_count": 9,
   "id": "d1909c96",
   "metadata": {},
   "outputs": [],
   "source": [
    "user.close()"
   ]
  },
  {
   "cell_type": "code",
   "execution_count": 10,
   "id": "f8ab8c08",
   "metadata": {},
   "outputs": [
    {
     "data": {
      "text/plain": [
       "9"
      ]
     },
     "execution_count": 10,
     "metadata": {},
     "output_type": "execute_result"
    }
   ],
   "source": [
    "# write \n",
    "user=open(\"C:\\mukesh\\mukesh.txt\",mode = \"w\")\n",
    "user.write(\"i am here\")"
   ]
  },
  {
   "cell_type": "code",
   "execution_count": 11,
   "id": "e20c162d",
   "metadata": {
    "scrolled": true
   },
   "outputs": [
    {
     "ename": "ValueError",
     "evalue": "I/O operation on closed file.",
     "output_type": "error",
     "traceback": [
      "\u001b[1;31m---------------------------------------------------------------------------\u001b[0m",
      "\u001b[1;31mValueError\u001b[0m                                Traceback (most recent call last)",
      "Cell \u001b[1;32mIn[11], line 2\u001b[0m\n\u001b[0;32m      1\u001b[0m user\u001b[38;5;241m.\u001b[39mclose()\n\u001b[1;32m----> 2\u001b[0m user\u001b[38;5;241m.\u001b[39mwrite(\u001b[38;5;124m\"\u001b[39m\u001b[38;5;124mi am here\u001b[39m\u001b[38;5;124m\"\u001b[39m)\n",
      "\u001b[1;31mValueError\u001b[0m: I/O operation on closed file."
     ]
    }
   ],
   "source": [
    "user.close()\n",
    "user.write(\"i am here\")"
   ]
  },
  {
   "cell_type": "code",
   "execution_count": 6,
   "id": "d4dc7d31",
   "metadata": {},
   "outputs": [
    {
     "ename": "PermissionError",
     "evalue": "[Errno 13] Permission denied: 'C:\\\\mukes.py'",
     "output_type": "error",
     "traceback": [
      "\u001b[1;31m---------------------------------------------------------------------------\u001b[0m",
      "\u001b[1;31mPermissionError\u001b[0m                           Traceback (most recent call last)",
      "Cell \u001b[1;32mIn[6], line 2\u001b[0m\n\u001b[0;32m      1\u001b[0m \u001b[38;5;66;03m# write \u001b[39;00m\n\u001b[1;32m----> 2\u001b[0m user\u001b[38;5;241m=\u001b[39m\u001b[38;5;28mopen\u001b[39m(\u001b[38;5;124m\"\u001b[39m\u001b[38;5;124mC:\u001b[39m\u001b[38;5;124m\\\u001b[39m\u001b[38;5;124mmukes.py\u001b[39m\u001b[38;5;124m\"\u001b[39m,mode \u001b[38;5;241m=\u001b[39m \u001b[38;5;124m\"\u001b[39m\u001b[38;5;124mw\u001b[39m\u001b[38;5;124m\"\u001b[39m)\n\u001b[0;32m      3\u001b[0m user\u001b[38;5;241m.\u001b[39mwrite(\u001b[38;5;124m\"\"\"\u001b[39m\u001b[38;5;124muser=input(\u001b[39m\u001b[38;5;124m\"\u001b[39m\u001b[38;5;124mname : \u001b[39m\u001b[38;5;124m\"\u001b[39m\u001b[38;5;124m)\u001b[39m\n\u001b[0;32m      4\u001b[0m \u001b[38;5;124myour_age = int(input(\u001b[39m\u001b[38;5;124m\"\u001b[39m\u001b[38;5;124mage : \u001b[39m\u001b[38;5;124m\"\u001b[39m\u001b[38;5;124m))\u001b[39m\n\u001b[0;32m      5\u001b[0m \n\u001b[0;32m      6\u001b[0m \u001b[38;5;124mprint(f\u001b[39m\u001b[38;5;124m\"\u001b[39m\u001b[38;5;124mwelcome to python mr/ms \u001b[39m\u001b[38;5;132;01m{user}\u001b[39;00m\u001b[38;5;124m your age is \u001b[39m\u001b[38;5;132;01m{your_age}\u001b[39;00m\u001b[38;5;124m\"\u001b[39m\u001b[38;5;124m)\u001b[39m\u001b[38;5;124m\"\"\"\u001b[39m)\n",
      "File \u001b[1;32mC:\\ProgramData\\anaconda3\\Lib\\site-packages\\IPython\\core\\interactiveshell.py:284\u001b[0m, in \u001b[0;36m_modified_open\u001b[1;34m(file, *args, **kwargs)\u001b[0m\n\u001b[0;32m    277\u001b[0m \u001b[38;5;28;01mif\u001b[39;00m file \u001b[38;5;129;01min\u001b[39;00m {\u001b[38;5;241m0\u001b[39m, \u001b[38;5;241m1\u001b[39m, \u001b[38;5;241m2\u001b[39m}:\n\u001b[0;32m    278\u001b[0m     \u001b[38;5;28;01mraise\u001b[39;00m \u001b[38;5;167;01mValueError\u001b[39;00m(\n\u001b[0;32m    279\u001b[0m         \u001b[38;5;124mf\u001b[39m\u001b[38;5;124m\"\u001b[39m\u001b[38;5;124mIPython won\u001b[39m\u001b[38;5;124m'\u001b[39m\u001b[38;5;124mt let you open fd=\u001b[39m\u001b[38;5;132;01m{\u001b[39;00mfile\u001b[38;5;132;01m}\u001b[39;00m\u001b[38;5;124m by default \u001b[39m\u001b[38;5;124m\"\u001b[39m\n\u001b[0;32m    280\u001b[0m         \u001b[38;5;124m\"\u001b[39m\u001b[38;5;124mas it is likely to crash IPython. If you know what you are doing, \u001b[39m\u001b[38;5;124m\"\u001b[39m\n\u001b[0;32m    281\u001b[0m         \u001b[38;5;124m\"\u001b[39m\u001b[38;5;124myou can use builtins\u001b[39m\u001b[38;5;124m'\u001b[39m\u001b[38;5;124m open.\u001b[39m\u001b[38;5;124m\"\u001b[39m\n\u001b[0;32m    282\u001b[0m     )\n\u001b[1;32m--> 284\u001b[0m \u001b[38;5;28;01mreturn\u001b[39;00m io_open(file, \u001b[38;5;241m*\u001b[39margs, \u001b[38;5;241m*\u001b[39m\u001b[38;5;241m*\u001b[39mkwargs)\n",
      "\u001b[1;31mPermissionError\u001b[0m: [Errno 13] Permission denied: 'C:\\\\mukes.py'"
     ]
    }
   ],
   "source": [
    "# write \n",
    "user=open(\"C:\\mukes.py\",mode = \"w\")\n",
    "user.write(\"\"\"user=input(\"name : \")\n",
    "your_age = int(input(\"age : \"))\n",
    "\n",
    "print(f\"welcome to python mr/ms {user} your age is {your_age}\")\"\"\")"
   ]
  },
  {
   "cell_type": "code",
   "execution_count": 26,
   "id": "87aa3f91",
   "metadata": {},
   "outputs": [
    {
     "data": {
      "text/plain": [
       "27"
      ]
     },
     "execution_count": 26,
     "metadata": {},
     "output_type": "execute_result"
    }
   ],
   "source": [
    "# write \n",
    "user=open(\"C:\\mukesh.txt\",mode = \"w\")\n",
    "user.write(\"mukesh choudhary  iam here \")"
   ]
  },
  {
   "cell_type": "code",
   "execution_count": 28,
   "id": "066f8d57",
   "metadata": {},
   "outputs": [],
   "source": [
    "# read\n",
    "user=open(\"C:\\mukesh\\mukes.html\",mode = \"r\")\n",
    "user.close()"
   ]
  },
  {
   "cell_type": "code",
   "execution_count": 13,
   "id": "97ff488a",
   "metadata": {},
   "outputs": [
    {
     "data": {
      "text/plain": [
       "'a=12\\nb=13\\nc=14\\nprint(a+b+c)\\nif a>b:\\n    print(c)\\n'"
      ]
     },
     "execution_count": 13,
     "metadata": {},
     "output_type": "execute_result"
    }
   ],
   "source": [
    "# read\n",
    "user=open(\"C:\\mukesh\\mukes.py\",mode = \"r\")\n",
    "user.read()"
   ]
  },
  {
   "cell_type": "code",
   "execution_count": null,
   "id": "3bdabc02",
   "metadata": {},
   "outputs": [],
   "source": []
  },
  {
   "cell_type": "code",
   "execution_count": null,
   "id": "e3d16a90",
   "metadata": {},
   "outputs": [],
   "source": []
  },
  {
   "cell_type": "code",
   "execution_count": null,
   "id": "2de40a26",
   "metadata": {},
   "outputs": [],
   "source": []
  },
  {
   "cell_type": "code",
   "execution_count": null,
   "id": "6fae2a3f",
   "metadata": {},
   "outputs": [],
   "source": []
  },
  {
   "cell_type": "code",
   "execution_count": null,
   "id": "79a8d9df",
   "metadata": {},
   "outputs": [],
   "source": []
  },
  {
   "cell_type": "code",
   "execution_count": null,
   "id": "3fd7a8c1",
   "metadata": {},
   "outputs": [],
   "source": []
  },
  {
   "cell_type": "code",
   "execution_count": null,
   "id": "b50b667b",
   "metadata": {},
   "outputs": [],
   "source": []
  }
 ],
 "metadata": {
  "kernelspec": {
   "display_name": "Python 3 (ipykernel)",
   "language": "python",
   "name": "python3"
  },
  "language_info": {
   "codemirror_mode": {
    "name": "ipython",
    "version": 3
   },
   "file_extension": ".py",
   "mimetype": "text/x-python",
   "name": "python",
   "nbconvert_exporter": "python",
   "pygments_lexer": "ipython3",
   "version": "3.11.4"
  }
 },
 "nbformat": 4,
 "nbformat_minor": 5
}
