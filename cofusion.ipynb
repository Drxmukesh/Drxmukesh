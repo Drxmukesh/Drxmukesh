{
 "cells": [
  {
   "cell_type": "code",
   "execution_count": 1,
   "id": "55f6de5d",
   "metadata": {},
   "outputs": [
    {
     "name": "stdout",
     "output_type": "stream",
     "text": [
      "0\n",
      "32\n",
      "32\n",
      "44\n",
      "12\n",
      "12.0\n"
     ]
    }
   ],
   "source": [
    "import math\n",
    "print((lambda a,b:a&b)(12,32))\n",
    "print((lambda a,b:a and b)(12,32))\n",
    "print((lambda a,b:a and b)(math.sqrt(144),32))\n",
    "\n",
    "\n",
    "print((lambda a,b:a | b)(12,32))\n",
    "print((lambda a,b:a or b)(12,32))\n",
    "print((lambda a,b:a or b)(math.sqrt(144),32))"
   ]
  },
  {
   "cell_type": "code",
   "execution_count": 2,
   "id": "3c33fa61",
   "metadata": {},
   "outputs": [
    {
     "name": "stdout",
     "output_type": "stream",
     "text": [
      "0.01\n",
      "0.02\n",
      "0.03\n",
      "0.04\n",
      "0.05\n",
      "0.060000000000000005\n",
      "0.07\n",
      "0.08\n"
     ]
    }
   ],
   "source": [
    "a=0\n",
    "a+=0.01\n",
    "print(a)\n",
    "a+=0.01\n",
    "print(a)\n",
    "a+=0.01\n",
    "print(a)\n",
    "a+=0.01\n",
    "print(a)\n",
    "a+=0.01\n",
    "print(a)\n",
    "a+=0.01\n",
    "print(a)\n",
    "a+=0.01\n",
    "print(a)\n",
    "a+=0.01\n",
    "print(a)"
   ]
  },
  {
   "cell_type": "code",
   "execution_count": 3,
   "id": "22948734",
   "metadata": {},
   "outputs": [
    {
     "name": "stdout",
     "output_type": "stream",
     "text": [
      "0.01  0.02  0.03  0.04  0.05  0.060000000000000005  0.07  0.08  \n",
      "0.01  0.02  0.03  0.04  0.05  0.060000000000000005  0.07  0.08  "
     ]
    }
   ],
   "source": [
    "a=0   #number of zro after decimal is 1\n",
    "for i in range(1,9):\n",
    "    a+=0.01\n",
    "    print(a,end=\"  \")\n",
    "print()   \n",
    "a=0\n",
    "while a<0.08:\n",
    "    a+=0.01\n",
    "    print(a,end=\"  \")"
   ]
  },
  {
   "cell_type": "code",
   "execution_count": 4,
   "id": "a88d6a8f",
   "metadata": {},
   "outputs": [
    {
     "name": "stdout",
     "output_type": "stream",
     "text": [
      "0.1  0.2  0.30000000000000004  0.4  0.5  0.6  0.7  0.7999999999999999  0.8999999999999999  0.9999999999999999  \n",
      "0.1  0.2  0.30000000000000004  0.4  0.5  0.6  0.7  0.7999999999999999  0.8999999999999999  0.9999999999999999  "
     ]
    }
   ],
   "source": [
    "a=0             #number of zro after decimal is 0\n",
    "for i in range(1,11):\n",
    "    a+=0.1\n",
    "    print(a,end=\"  \")\n",
    "\n",
    "print()\n",
    "a=0\n",
    "while a<0.9:\n",
    "    a+=0.1\n",
    "    print(a,end=\"  \")"
   ]
  },
  {
   "cell_type": "code",
   "execution_count": 5,
   "id": "551e56c2",
   "metadata": {},
   "outputs": [
    {
     "name": "stdout",
     "output_type": "stream",
     "text": [
      "0.0001  0.0002  0.00030000000000000003  0.0004  0.0005  0.0006000000000000001  0.0007000000000000001  0.0008000000000000001  0.0009000000000000002  \n",
      "0.0001  0.0002  0.00030000000000000003  0.0004  0.0005  0.0006000000000000001  0.0007000000000000001  0.0008000000000000001  0.0009000000000000002  "
     ]
    }
   ],
   "source": [
    "a=0            #number of zro after decimal is 3\n",
    "for i in range(1,10):\n",
    "    a+=0.0001\n",
    "    print(a,end=\"  \")\n",
    "  \n",
    "print()\n",
    "a=0\n",
    "while a<0.0009:\n",
    "    a+=0.0001\n",
    "    print(a,end=\"  \")"
   ]
  },
  {
   "cell_type": "code",
   "execution_count": 6,
   "id": "8083c972",
   "metadata": {},
   "outputs": [
    {
     "name": "stdout",
     "output_type": "stream",
     "text": [
      "0.001  0.002  0.003  0.004  0.005  0.006  0.007  0.008  0.009000000000000001  \n",
      "0.001  0.002  0.003  0.004  0.005  0.006  0.007  0.008  0.009000000000000001  "
     ]
    }
   ],
   "source": [
    "a=0            #number of zro after decimal is 2\n",
    "for i in range(1,10):\n",
    "    a+=0.001\n",
    "    print(a,end=\"  \")\n",
    "  \n",
    "print()\n",
    "a=0\n",
    "while a<0.009:\n",
    "    a+=0.001\n",
    "    print(a,end=\"  \")"
   ]
  },
  {
   "cell_type": "code",
   "execution_count": 7,
   "id": "5224cbeb",
   "metadata": {},
   "outputs": [
    {
     "name": "stdout",
     "output_type": "stream",
     "text": [
      "1e-05  2e-05  3.0000000000000004e-05  4e-05  5e-05  6e-05  7.000000000000001e-05  8e-05  9e-05  \n",
      "1e-05  2e-05  3.0000000000000004e-05  4e-05  5e-05  6e-05  7.000000000000001e-05  8e-05  9e-05  "
     ]
    }
   ],
   "source": [
    "a=0               #number of zro after decimal is 4\n",
    "for i in range(1,10):\n",
    "    a+=0.00001\n",
    "    print(a,end=\"  \")\n",
    "  \n",
    "print()\n",
    "a=0\n",
    "while a<0.00009:\n",
    "    a+=0.00001\n",
    "    print(a,end=\"  \")"
   ]
  },
  {
   "cell_type": "code",
   "execution_count": 8,
   "id": "7dd82ce0",
   "metadata": {},
   "outputs": [
    {
     "name": "stdout",
     "output_type": "stream",
     "text": [
      "1e-06  2e-06  3e-06  4e-06  4.9999999999999996e-06  5.999999999999999e-06  6.999999999999999e-06  8e-06  9e-06  \n",
      "1e-06  2e-06  3e-06  4e-06  4.9999999999999996e-06  5.999999999999999e-06  6.999999999999999e-06  8e-06  9e-06  "
     ]
    }
   ],
   "source": [
    "a=0                    #number of zro after decimal is 5\n",
    "for i in range(1,10):\n",
    "    a+=0.000001\n",
    "    print(a,end=\"  \")\n",
    "  \n",
    "print()\n",
    "a=0\n",
    "while a<0.000009:\n",
    "    a+=0.000001\n",
    "    print(a,end=\"  \")"
   ]
  },
  {
   "cell_type": "code",
   "execution_count": 9,
   "id": "6c7de3ac",
   "metadata": {},
   "outputs": [
    {
     "name": "stdout",
     "output_type": "stream",
     "text": [
      "1e-07  2e-07  3e-07  4e-07  5e-07  6e-07  7e-07  8e-07  9e-07  \n",
      "1e-07  2e-07  3e-07  4e-07  5e-07  6e-07  7e-07  8e-07  9e-07  "
     ]
    }
   ],
   "source": [
    "a=0                    #number of zro after decimal is 6\n",
    "for i in range(1,10):\n",
    "    a+=0.0000001\n",
    "    print(a,end=\"  \")\n",
    "  \n",
    "print()\n",
    "a=0\n",
    "while a<0.0000009:\n",
    "    a+=0.0000001\n",
    "    print(a,end=\"  \")"
   ]
  },
  {
   "cell_type": "code",
   "execution_count": 10,
   "id": "10a7c424",
   "metadata": {},
   "outputs": [
    {
     "name": "stdout",
     "output_type": "stream",
     "text": [
      "1e-08  2e-08  3.0000000000000004e-08  4e-08  5e-08  6e-08  6.999999999999999e-08  7.999999999999999e-08  8.999999999999999e-08  \n",
      "1e-08  2e-08  3.0000000000000004e-08  4e-08  5e-08  6e-08  6.999999999999999e-08  7.999999999999999e-08  8.999999999999999e-08  9.999999999999998e-08  "
     ]
    }
   ],
   "source": [
    "a=0                      #number of zro after decimal is 7\n",
    "for i in range(1,10):\n",
    "    a+=0.00000001\n",
    "    print(a,end=\"  \")\n",
    "  \n",
    "print()\n",
    "a=0\n",
    "while a<0.00000009:\n",
    "    a+=0.00000001\n",
    "    print(a,end=\"  \")"
   ]
  },
  {
   "cell_type": "code",
   "execution_count": 11,
   "id": "b6d7b323",
   "metadata": {},
   "outputs": [
    {
     "name": "stdout",
     "output_type": "stream",
     "text": [
      "1e-09  2e-09  3.0000000000000004e-09  4e-09  5e-09  6e-09  7e-09  8e-09  9.000000000000001e-09  \n",
      "1e-09  2e-09  3.0000000000000004e-09  4e-09  5e-09  6e-09  7e-09  8e-09  9.000000000000001e-09  "
     ]
    }
   ],
   "source": [
    "a=0                       #number of zro after decimal is 8\n",
    "for i in range(1,10):\n",
    "    a+=0.000000001\n",
    "    print(a,end=\"  \")\n",
    "  \n",
    "print()\n",
    "a=0\n",
    "while a<0.000000009:\n",
    "    a+=0.000000001\n",
    "    print(a,end=\"  \")"
   ]
  },
  {
   "cell_type": "code",
   "execution_count": 12,
   "id": "e78d272c",
   "metadata": {},
   "outputs": [
    {
     "name": "stdout",
     "output_type": "stream",
     "text": [
      "1e-10  2e-10  3e-10  4e-10  5e-10  6e-10  7e-10  7.999999999999999e-10  8.999999999999999e-10  \n",
      "1e-10  2e-10  3e-10  4e-10  5e-10  6e-10  7e-10  7.999999999999999e-10  8.999999999999999e-10  9.999999999999999e-10  "
     ]
    }
   ],
   "source": [
    "a=0                             #number of zro after decimal is 9\n",
    "for i in range(1,10):\n",
    "    a+=0.0000000001\n",
    "    print(a,end=\"  \")\n",
    "  \n",
    "print()\n",
    "a=0\n",
    "while a<0.0000000009:\n",
    "    a+=0.0000000001\n",
    "    print(a,end=\"  \")"
   ]
  },
  {
   "cell_type": "code",
   "execution_count": 13,
   "id": "967b8e67",
   "metadata": {},
   "outputs": [
    {
     "name": "stdout",
     "output_type": "stream",
     "text": [
      "1e-11  2e-11  3e-11  4e-11  4.9999999999999995e-11  6e-11  7e-11  8.000000000000001e-11  9.000000000000001e-11  \n",
      "1e-11  2e-11  3e-11  4e-11  4.9999999999999995e-11  6e-11  7e-11  8.000000000000001e-11  9.000000000000001e-11  "
     ]
    }
   ],
   "source": [
    "a=0                          #number of zro after decimal is 10\n",
    "for i in range(1,10):\n",
    "    a+=0.00000000001\n",
    "    print(a,end=\"  \")\n",
    "  \n",
    "print()\n",
    "a=0\n",
    "while a<0.00000000009:\n",
    "    a+=0.00000000001\n",
    "    print(a,end=\"  \")"
   ]
  },
  {
   "cell_type": "code",
   "execution_count": 14,
   "id": "af4af700",
   "metadata": {},
   "outputs": [
    {
     "name": "stdout",
     "output_type": "stream",
     "text": [
      "1e-12  2e-12  3e-12  4e-12  5e-12  5.9999999999999995e-12  6.999999999999999e-12  8e-12  9e-12  \n",
      "1e-12  2e-12  3e-12  4e-12  5e-12  5.9999999999999995e-12  6.999999999999999e-12  8e-12  9e-12  "
     ]
    }
   ],
   "source": [
    "a=0 #number of zro after decimal is 11\n",
    "for i in range(1,10):\n",
    "    a+=0.000000000001\n",
    "    print(a,end=\"  \")\n",
    "  \n",
    "print()\n",
    "a=0\n",
    "while a<0.000000000009:\n",
    "    a+=0.000000000001\n",
    "    print(a,end=\"  \")"
   ]
  },
  {
   "cell_type": "code",
   "execution_count": 15,
   "id": "2aaadf79",
   "metadata": {},
   "outputs": [
    {
     "name": "stdout",
     "output_type": "stream",
     "text": [
      "1e-13  2e-13  3.0000000000000003e-13  4e-13  5e-13  6e-13  6.999999999999999e-13  7.999999999999999e-13  8.999999999999999e-13  \n",
      "1e-13  2e-13  3.0000000000000003e-13  4e-13  5e-13  6e-13  6.999999999999999e-13  7.999999999999999e-13  8.999999999999999e-13  1e-12  "
     ]
    }
   ],
   "source": [
    "a=0           #number of zro after decimal is 12\n",
    "for i in range(1,10):\n",
    "    a+=0.0000000000001\n",
    "    print(a,end=\"  \")\n",
    "  \n",
    "print()\n",
    "a=0\n",
    "while a<0.0000000000009:\n",
    "    a+=0.0000000000001\n",
    "    print(a,end=\"  \")"
   ]
  },
  {
   "cell_type": "code",
   "execution_count": 1,
   "id": "2cd3a32d",
   "metadata": {},
   "outputs": [
    {
     "name": "stdout",
     "output_type": "stream",
     "text": [
      "$ dir\n",
      "0\n",
      "$ ls\n",
      "1\n",
      "$ cd ..\n",
      "0\n",
      "$ mkdir m\n",
      "0\n",
      "$ exit\n"
     ]
    }
   ],
   "source": [
    "import os\n",
    "\n",
    "while True:\n",
    "    # Get user input\n",
    "    command = input(\"$ \")\n",
    "\n",
    "    # Exit the shell if the user enters 'exit'\n",
    "    if command.lower() == 'exit':\n",
    "        break\n",
    "\n",
    "    # Execute the command\n",
    "    try:\n",
    "        result = os.system(command)\n",
    "        print(f\"{result}\")\n",
    "    except Exception as e:\n",
    "        print(f\"An error occurred: {e}\")\n"
   ]
  },
  {
   "cell_type": "code",
   "execution_count": 1,
   "id": "89ea2c0c",
   "metadata": {},
   "outputs": [
    {
     "name": "stdout",
     "output_type": "stream",
     "text": [
      "//:23\n",
      "23\n",
      "23\n",
      "//:dir\n",
      "dir\n",
      "dir\n",
      "//:exit\n",
      "exit\n"
     ]
    }
   ],
   "source": [
    "import os\n",
    "\n",
    "while True:\n",
    "    command = input('//:')\n",
    "    if command == 'exit':\n",
    "        break\n",
    "    else:\n",
    "        os.system(command)\n",
    "        print(command)"
   ]
  },
  {
   "cell_type": "code",
   "execution_count": 5,
   "id": "59e2bc52",
   "metadata": {},
   "outputs": [
    {
     "name": "stdout",
     "output_type": "stream",
     "text": [
      "0.0\n"
     ]
    }
   ],
   "source": [
    "print(0/1)"
   ]
  },
  {
   "cell_type": "code",
   "execution_count": 6,
   "id": "a0eedc54",
   "metadata": {},
   "outputs": [
    {
     "name": "stdout",
     "output_type": "stream",
     "text": [
      "grammar ap torture sat burden\n"
     ]
    }
   ],
   "source": [
    "import random\n",
    "\n",
    "class TextGenerator:\n",
    "    def __init__(self, text_data):\n",
    "        self.text_data = text_data\n",
    "        self.words = self.text_data.split()\n",
    "\n",
    "    def generate_text(self, length):\n",
    "        generated_text = []\n",
    "        for i in range(length):\n",
    "            word = random.choice(self.words)\n",
    "            generated_text.append(word)\n",
    "        return ' '.join(generated_text)\n",
    "\n",
    "if __name__ == '__main__':\n",
    "    text_data = \"\"\"a\n",
    "\n",
    "\n",
    "\n",
    "fr\n",
    "p\n",
    "\n",
    "xml\n",
    "xnxx\n",
    "\"\"\"\n",
    "\n",
    "    text_generator = TextGenerator(text_data)\n",
    "    generated_text = text_generator.generate_text(5)\n",
    "\n",
    "    print(generated_text)"
   ]
  },
  {
   "cell_type": "code",
   "execution_count": 7,
   "id": "597927e9",
   "metadata": {},
   "outputs": [
    {
     "name": "stdout",
     "output_type": "stream",
     "text": [
      "be is anything or a text can is It it anything be story, can This a text can a story, sample be. is can to a sample is It is text a be. a It sample you be. can story, story, It It can It a you it want data. It a This be story, a can to be story, anything can be a be. a want a you you a song, a you a can be. can it it want can anything a a a else else be. a can be be. a sample poem, imagine. to text to\n"
     ]
    }
   ],
   "source": [
    "import random\n",
    "\n",
    "class TextGenerator:\n",
    "    def __init__(self, text_data):\n",
    "        self.text_data = text_data\n",
    "        self.words = self.text_data.split()\n",
    "\n",
    "    def generate_text(self, length):\n",
    "        generated_text = []\n",
    "        for i in range(length):\n",
    "            word = random.choice(self.words)\n",
    "            generated_text.append(word)\n",
    "        return ' '.join(generated_text)\n",
    "\n",
    "if __name__ == '__main__':\n",
    "    text_data = \"\"\"\n",
    "    This is a sample text data. It can be anything you want it to be.\n",
    "    It can be a story, a poem, a song, or anything else you can imagine.\n",
    "    \"\"\"\n",
    "\n",
    "    text_generator = TextGenerator(text_data)\n",
    "    generated_text = text_generator.generate_text(100)\n",
    "\n",
    "    print(generated_text)"
   ]
  },
  {
   "cell_type": "code",
   "execution_count": 13,
   "id": "d00f33dc",
   "metadata": {},
   "outputs": [
    {
     "ename": "NameError",
     "evalue": "name 'LanguageModel' is not defined",
     "output_type": "error",
     "traceback": [
      "\u001b[1;31m---------------------------------------------------------------------------\u001b[0m",
      "\u001b[1;31mNameError\u001b[0m                                 Traceback (most recent call last)",
      "Cell \u001b[1;32mIn[13], line 25\u001b[0m\n\u001b[0;32m     20\u001b[0m \u001b[38;5;28;01mif\u001b[39;00m \u001b[38;5;18m__name__\u001b[39m \u001b[38;5;241m==\u001b[39m \u001b[38;5;124m\"\u001b[39m\u001b[38;5;124m__main__\u001b[39m\u001b[38;5;124m\"\u001b[39m:\n\u001b[0;32m     21\u001b[0m     corpus \u001b[38;5;241m=\u001b[39m \u001b[38;5;124m\"\"\"\u001b[39m\n\u001b[0;32m     22\u001b[0m \u001b[38;5;124m    This is a corpus of text that is free of grammar mistakes.\u001b[39m\n\u001b[0;32m     23\u001b[0m \u001b[38;5;124m    \u001b[39m\u001b[38;5;124m\"\"\"\u001b[39m\n\u001b[1;32m---> 25\u001b[0m     generator \u001b[38;5;241m=\u001b[39m TextGenerator(corpus)\n\u001b[0;32m     26\u001b[0m     text \u001b[38;5;241m=\u001b[39m generator\u001b[38;5;241m.\u001b[39mgenerate(\u001b[38;5;241m100\u001b[39m)\n\u001b[0;32m     27\u001b[0m     \u001b[38;5;28mprint\u001b[39m(text)\n",
      "Cell \u001b[1;32mIn[13], line 6\u001b[0m, in \u001b[0;36mTextGenerator.__init__\u001b[1;34m(self, corpus)\u001b[0m\n\u001b[0;32m      4\u001b[0m \u001b[38;5;28;01mdef\u001b[39;00m \u001b[38;5;21m__init__\u001b[39m(\u001b[38;5;28mself\u001b[39m, corpus):\n\u001b[0;32m      5\u001b[0m     \u001b[38;5;28mself\u001b[39m\u001b[38;5;241m.\u001b[39mcorpus \u001b[38;5;241m=\u001b[39m corpus\n\u001b[1;32m----> 6\u001b[0m     \u001b[38;5;28mself\u001b[39m\u001b[38;5;241m.\u001b[39mmodel \u001b[38;5;241m=\u001b[39m \u001b[38;5;28mself\u001b[39m\u001b[38;5;241m.\u001b[39mtrain()\n",
      "Cell \u001b[1;32mIn[13], line 9\u001b[0m, in \u001b[0;36mTextGenerator.train\u001b[1;34m(self)\u001b[0m\n\u001b[0;32m      8\u001b[0m \u001b[38;5;28;01mdef\u001b[39;00m \u001b[38;5;21mtrain\u001b[39m(\u001b[38;5;28mself\u001b[39m):\n\u001b[1;32m----> 9\u001b[0m     model \u001b[38;5;241m=\u001b[39m LanguageModel()\n\u001b[0;32m     10\u001b[0m     model\u001b[38;5;241m.\u001b[39mtrain(\u001b[38;5;28mself\u001b[39m\u001b[38;5;241m.\u001b[39mcorpus)\n\u001b[0;32m     11\u001b[0m     \u001b[38;5;28;01mreturn\u001b[39;00m model\n",
      "\u001b[1;31mNameError\u001b[0m: name 'LanguageModel' is not defined"
     ]
    }
   ],
   "source": [
    "import random\n",
    "\n",
    "class TextGenerator:\n",
    "    def __init__(self, corpus):\n",
    "        self.corpus = corpus\n",
    "        self.model = self.train()\n",
    "\n",
    "    def train(self):\n",
    "        model = LanguageModel()\n",
    "        model.train(self.corpus)\n",
    "        return model\n",
    "\n",
    "    def generate(self, length):\n",
    "        text = \"\"\n",
    "        for i in range(length):\n",
    "            word = self.model.generate()\n",
    "            text += word + \" \"\n",
    "        return text\n",
    "\n",
    "if __name__ == \"__main__\":\n",
    "    corpus = \"\"\"\n",
    "    This is a corpus of text that is free of grammar mistakes.\n",
    "    \"\"\"\n",
    "\n",
    "    generator = TextGenerator(corpus)\n",
    "    text = generator.generate(100)\n",
    "    print(text)"
   ]
  },
  {
   "cell_type": "code",
   "execution_count": 20,
   "id": "e29cb477",
   "metadata": {},
   "outputs": [
    {
     "ename": "ModuleNotFoundError",
     "evalue": "No module named 'openai'",
     "output_type": "error",
     "traceback": [
      "\u001b[1;31m---------------------------------------------------------------------------\u001b[0m",
      "\u001b[1;31mModuleNotFoundError\u001b[0m                       Traceback (most recent call last)",
      "Cell \u001b[1;32mIn[20], line 1\u001b[0m\n\u001b[1;32m----> 1\u001b[0m \u001b[38;5;28;01mimport\u001b[39;00m \u001b[38;5;21;01mopenai\u001b[39;00m\n\u001b[0;32m      2\u001b[0m \u001b[38;5;28;01mimport\u001b[39;00m \u001b[38;5;21;01msecrets\u001b[39;00m\n\u001b[0;32m      3\u001b[0m \u001b[38;5;28;01mimport\u001b[39;00m \u001b[38;5;21;01mstring\u001b[39;00m\n",
      "\u001b[1;31mModuleNotFoundError\u001b[0m: No module named 'openai'"
     ]
    }
   ],
   "source": [
    "import openai\n",
    "import secrets\n",
    "import string\n",
    "\n",
    "def generate_api_key(length=32):\n",
    "    # Define the characters to use in the API key\n",
    "    characters = string.ascii_letters + string.digits\n",
    "\n",
    "    # Generate a random API key\n",
    "    api_key = ''.join(secrets.choice(characters) for _ in range(length))\n",
    "\n",
    "    return api_key\n",
    "\n",
    "# Example: Generate a 32-character API key\n",
    "api_key = generate_api_key()\n",
    "print(\"Generated API Key:\", api_key)\n",
    "\n",
    "# Set up your OpenAI API key\n",
    "openai.api_key = api_key\n",
    "\n",
    "def generate_text(prompt):\n",
    "    # Use the OpenAI GPT-3 model to generate text\n",
    "    response = openai.Completion.create(\n",
    "        engine=\"text-davinci-003\",\n",
    "        prompt=prompt,\n",
    "        max_tokens=150,  # You can adjust this parameter based on your requirements\n",
    "        temperature=0.7,  # You can adjust this parameter for creativity\n",
    "        n=1,  # Number of completions to generate\n",
    "        stop=None  # You can provide a list of strings to stop generation at a specific point\n",
    "    )\n",
    "\n",
    "    # Extract and return the generated text from the API response\n",
    "    return response.choices[0].text.strip()\n",
    "\n",
    "# Example usage\n",
    "prompt = \"Once upon a time\"\n",
    "generated_text = generate_text(prompt)\n",
    "print(generated_text)"
   ]
  },
  {
   "cell_type": "code",
   "execution_count": 19,
   "id": "70c46931",
   "metadata": {},
   "outputs": [
    {
     "ename": "LookupError",
     "evalue": "\n**********************************************************************\n  Resource \u001b[93mstopwords\u001b[0m not found.\n  Please use the NLTK Downloader to obtain the resource:\n\n  \u001b[31m>>> import nltk\n  >>> nltk.download('stopwords')\n  \u001b[0m\n  For more information see: https://www.nltk.org/data.html\n\n  Attempted to load \u001b[93mcorpora/stopwords\u001b[0m\n\n  Searched in:\n    - 'C:\\\\Users\\\\Admin/nltk_data'\n    - 'C:\\\\ProgramData\\\\anaconda3\\\\nltk_data'\n    - 'C:\\\\ProgramData\\\\anaconda3\\\\share\\\\nltk_data'\n    - 'C:\\\\ProgramData\\\\anaconda3\\\\lib\\\\nltk_data'\n    - 'C:\\\\Users\\\\Admin\\\\AppData\\\\Roaming\\\\nltk_data'\n    - 'C:\\\\nltk_data'\n    - 'D:\\\\nltk_data'\n    - 'E:\\\\nltk_data'\n**********************************************************************\n",
     "output_type": "error",
     "traceback": [
      "\u001b[1;31m---------------------------------------------------------------------------\u001b[0m",
      "\u001b[1;31mLookupError\u001b[0m                               Traceback (most recent call last)",
      "File \u001b[1;32mC:\\ProgramData\\anaconda3\\Lib\\site-packages\\nltk\\corpus\\util.py:84\u001b[0m, in \u001b[0;36mLazyCorpusLoader.__load\u001b[1;34m(self)\u001b[0m\n\u001b[0;32m     83\u001b[0m \u001b[38;5;28;01mtry\u001b[39;00m:\n\u001b[1;32m---> 84\u001b[0m     root \u001b[38;5;241m=\u001b[39m nltk\u001b[38;5;241m.\u001b[39mdata\u001b[38;5;241m.\u001b[39mfind(\u001b[38;5;124mf\u001b[39m\u001b[38;5;124m\"\u001b[39m\u001b[38;5;132;01m{\u001b[39;00m\u001b[38;5;28mself\u001b[39m\u001b[38;5;241m.\u001b[39msubdir\u001b[38;5;132;01m}\u001b[39;00m\u001b[38;5;124m/\u001b[39m\u001b[38;5;132;01m{\u001b[39;00mzip_name\u001b[38;5;132;01m}\u001b[39;00m\u001b[38;5;124m\"\u001b[39m)\n\u001b[0;32m     85\u001b[0m \u001b[38;5;28;01mexcept\u001b[39;00m \u001b[38;5;167;01mLookupError\u001b[39;00m:\n",
      "File \u001b[1;32mC:\\ProgramData\\anaconda3\\Lib\\site-packages\\nltk\\data.py:583\u001b[0m, in \u001b[0;36mfind\u001b[1;34m(resource_name, paths)\u001b[0m\n\u001b[0;32m    582\u001b[0m resource_not_found \u001b[38;5;241m=\u001b[39m \u001b[38;5;124mf\u001b[39m\u001b[38;5;124m\"\u001b[39m\u001b[38;5;130;01m\\n\u001b[39;00m\u001b[38;5;132;01m{\u001b[39;00msep\u001b[38;5;132;01m}\u001b[39;00m\u001b[38;5;130;01m\\n\u001b[39;00m\u001b[38;5;132;01m{\u001b[39;00mmsg\u001b[38;5;132;01m}\u001b[39;00m\u001b[38;5;130;01m\\n\u001b[39;00m\u001b[38;5;132;01m{\u001b[39;00msep\u001b[38;5;132;01m}\u001b[39;00m\u001b[38;5;130;01m\\n\u001b[39;00m\u001b[38;5;124m\"\u001b[39m\n\u001b[1;32m--> 583\u001b[0m \u001b[38;5;28;01mraise\u001b[39;00m \u001b[38;5;167;01mLookupError\u001b[39;00m(resource_not_found)\n",
      "\u001b[1;31mLookupError\u001b[0m: \n**********************************************************************\n  Resource \u001b[93mstopwords\u001b[0m not found.\n  Please use the NLTK Downloader to obtain the resource:\n\n  \u001b[31m>>> import nltk\n  >>> nltk.download('stopwords')\n  \u001b[0m\n  For more information see: https://www.nltk.org/data.html\n\n  Attempted to load \u001b[93mcorpora/stopwords.zip/stopwords/\u001b[0m\n\n  Searched in:\n    - 'C:\\\\Users\\\\Admin/nltk_data'\n    - 'C:\\\\ProgramData\\\\anaconda3\\\\nltk_data'\n    - 'C:\\\\ProgramData\\\\anaconda3\\\\share\\\\nltk_data'\n    - 'C:\\\\ProgramData\\\\anaconda3\\\\lib\\\\nltk_data'\n    - 'C:\\\\Users\\\\Admin\\\\AppData\\\\Roaming\\\\nltk_data'\n    - 'C:\\\\nltk_data'\n    - 'D:\\\\nltk_data'\n    - 'E:\\\\nltk_data'\n**********************************************************************\n",
      "\nDuring handling of the above exception, another exception occurred:\n",
      "\u001b[1;31mLookupError\u001b[0m                               Traceback (most recent call last)",
      "Cell \u001b[1;32mIn[19], line 32\u001b[0m\n\u001b[0;32m     29\u001b[0m         \u001b[38;5;28;01mreturn\u001b[39;00m \u001b[38;5;124m'\u001b[39m\u001b[38;5;124m \u001b[39m\u001b[38;5;124m'\u001b[39m\u001b[38;5;241m.\u001b[39mjoin(new_sentence)\n\u001b[0;32m     31\u001b[0m \u001b[38;5;28;01mif\u001b[39;00m \u001b[38;5;18m__name__\u001b[39m \u001b[38;5;241m==\u001b[39m \u001b[38;5;124m'\u001b[39m\u001b[38;5;124m__main__\u001b[39m\u001b[38;5;124m'\u001b[39m:\n\u001b[1;32m---> 32\u001b[0m     text_generator \u001b[38;5;241m=\u001b[39m TextGenerator()\n\u001b[0;32m     33\u001b[0m     text \u001b[38;5;241m=\u001b[39m \u001b[38;5;124m'\u001b[39m\u001b[38;5;124mThe quick brown fox jumps over the lazy dog.\u001b[39m\u001b[38;5;124m'\u001b[39m\n\u001b[0;32m     34\u001b[0m     new_text \u001b[38;5;241m=\u001b[39m text_generator\u001b[38;5;241m.\u001b[39mgenerate_text(text)\n",
      "Cell \u001b[1;32mIn[19], line 7\u001b[0m, in \u001b[0;36mTextGenerator.__init__\u001b[1;34m(self)\u001b[0m\n\u001b[0;32m      6\u001b[0m \u001b[38;5;28;01mdef\u001b[39;00m \u001b[38;5;21m__init__\u001b[39m(\u001b[38;5;28mself\u001b[39m):\n\u001b[1;32m----> 7\u001b[0m     \u001b[38;5;28mself\u001b[39m\u001b[38;5;241m.\u001b[39mstop_words \u001b[38;5;241m=\u001b[39m \u001b[38;5;28mset\u001b[39m(stopwords\u001b[38;5;241m.\u001b[39mwords(\u001b[38;5;124m'\u001b[39m\u001b[38;5;124menglish\u001b[39m\u001b[38;5;124m'\u001b[39m))\n",
      "File \u001b[1;32mC:\\ProgramData\\anaconda3\\Lib\\site-packages\\nltk\\corpus\\util.py:121\u001b[0m, in \u001b[0;36mLazyCorpusLoader.__getattr__\u001b[1;34m(self, attr)\u001b[0m\n\u001b[0;32m    118\u001b[0m \u001b[38;5;28;01mif\u001b[39;00m attr \u001b[38;5;241m==\u001b[39m \u001b[38;5;124m\"\u001b[39m\u001b[38;5;124m__bases__\u001b[39m\u001b[38;5;124m\"\u001b[39m:\n\u001b[0;32m    119\u001b[0m     \u001b[38;5;28;01mraise\u001b[39;00m \u001b[38;5;167;01mAttributeError\u001b[39;00m(\u001b[38;5;124m\"\u001b[39m\u001b[38;5;124mLazyCorpusLoader object has no attribute \u001b[39m\u001b[38;5;124m'\u001b[39m\u001b[38;5;124m__bases__\u001b[39m\u001b[38;5;124m'\u001b[39m\u001b[38;5;124m\"\u001b[39m)\n\u001b[1;32m--> 121\u001b[0m \u001b[38;5;28mself\u001b[39m\u001b[38;5;241m.\u001b[39m__load()\n\u001b[0;32m    122\u001b[0m \u001b[38;5;66;03m# This looks circular, but its not, since __load() changes our\u001b[39;00m\n\u001b[0;32m    123\u001b[0m \u001b[38;5;66;03m# __class__ to something new:\u001b[39;00m\n\u001b[0;32m    124\u001b[0m \u001b[38;5;28;01mreturn\u001b[39;00m \u001b[38;5;28mgetattr\u001b[39m(\u001b[38;5;28mself\u001b[39m, attr)\n",
      "File \u001b[1;32mC:\\ProgramData\\anaconda3\\Lib\\site-packages\\nltk\\corpus\\util.py:86\u001b[0m, in \u001b[0;36mLazyCorpusLoader.__load\u001b[1;34m(self)\u001b[0m\n\u001b[0;32m     84\u001b[0m             root \u001b[38;5;241m=\u001b[39m nltk\u001b[38;5;241m.\u001b[39mdata\u001b[38;5;241m.\u001b[39mfind(\u001b[38;5;124mf\u001b[39m\u001b[38;5;124m\"\u001b[39m\u001b[38;5;132;01m{\u001b[39;00m\u001b[38;5;28mself\u001b[39m\u001b[38;5;241m.\u001b[39msubdir\u001b[38;5;132;01m}\u001b[39;00m\u001b[38;5;124m/\u001b[39m\u001b[38;5;132;01m{\u001b[39;00mzip_name\u001b[38;5;132;01m}\u001b[39;00m\u001b[38;5;124m\"\u001b[39m)\n\u001b[0;32m     85\u001b[0m         \u001b[38;5;28;01mexcept\u001b[39;00m \u001b[38;5;167;01mLookupError\u001b[39;00m:\n\u001b[1;32m---> 86\u001b[0m             \u001b[38;5;28;01mraise\u001b[39;00m e\n\u001b[0;32m     88\u001b[0m \u001b[38;5;66;03m# Load the corpus.\u001b[39;00m\n\u001b[0;32m     89\u001b[0m corpus \u001b[38;5;241m=\u001b[39m \u001b[38;5;28mself\u001b[39m\u001b[38;5;241m.\u001b[39m__reader_cls(root, \u001b[38;5;241m*\u001b[39m\u001b[38;5;28mself\u001b[39m\u001b[38;5;241m.\u001b[39m__args, \u001b[38;5;241m*\u001b[39m\u001b[38;5;241m*\u001b[39m\u001b[38;5;28mself\u001b[39m\u001b[38;5;241m.\u001b[39m__kwargs)\n",
      "File \u001b[1;32mC:\\ProgramData\\anaconda3\\Lib\\site-packages\\nltk\\corpus\\util.py:81\u001b[0m, in \u001b[0;36mLazyCorpusLoader.__load\u001b[1;34m(self)\u001b[0m\n\u001b[0;32m     79\u001b[0m \u001b[38;5;28;01melse\u001b[39;00m:\n\u001b[0;32m     80\u001b[0m     \u001b[38;5;28;01mtry\u001b[39;00m:\n\u001b[1;32m---> 81\u001b[0m         root \u001b[38;5;241m=\u001b[39m nltk\u001b[38;5;241m.\u001b[39mdata\u001b[38;5;241m.\u001b[39mfind(\u001b[38;5;124mf\u001b[39m\u001b[38;5;124m\"\u001b[39m\u001b[38;5;132;01m{\u001b[39;00m\u001b[38;5;28mself\u001b[39m\u001b[38;5;241m.\u001b[39msubdir\u001b[38;5;132;01m}\u001b[39;00m\u001b[38;5;124m/\u001b[39m\u001b[38;5;132;01m{\u001b[39;00m\u001b[38;5;28mself\u001b[39m\u001b[38;5;241m.\u001b[39m__name\u001b[38;5;132;01m}\u001b[39;00m\u001b[38;5;124m\"\u001b[39m)\n\u001b[0;32m     82\u001b[0m     \u001b[38;5;28;01mexcept\u001b[39;00m \u001b[38;5;167;01mLookupError\u001b[39;00m \u001b[38;5;28;01mas\u001b[39;00m e:\n\u001b[0;32m     83\u001b[0m         \u001b[38;5;28;01mtry\u001b[39;00m:\n",
      "File \u001b[1;32mC:\\ProgramData\\anaconda3\\Lib\\site-packages\\nltk\\data.py:583\u001b[0m, in \u001b[0;36mfind\u001b[1;34m(resource_name, paths)\u001b[0m\n\u001b[0;32m    581\u001b[0m sep \u001b[38;5;241m=\u001b[39m \u001b[38;5;124m\"\u001b[39m\u001b[38;5;124m*\u001b[39m\u001b[38;5;124m\"\u001b[39m \u001b[38;5;241m*\u001b[39m \u001b[38;5;241m70\u001b[39m\n\u001b[0;32m    582\u001b[0m resource_not_found \u001b[38;5;241m=\u001b[39m \u001b[38;5;124mf\u001b[39m\u001b[38;5;124m\"\u001b[39m\u001b[38;5;130;01m\\n\u001b[39;00m\u001b[38;5;132;01m{\u001b[39;00msep\u001b[38;5;132;01m}\u001b[39;00m\u001b[38;5;130;01m\\n\u001b[39;00m\u001b[38;5;132;01m{\u001b[39;00mmsg\u001b[38;5;132;01m}\u001b[39;00m\u001b[38;5;130;01m\\n\u001b[39;00m\u001b[38;5;132;01m{\u001b[39;00msep\u001b[38;5;132;01m}\u001b[39;00m\u001b[38;5;130;01m\\n\u001b[39;00m\u001b[38;5;124m\"\u001b[39m\n\u001b[1;32m--> 583\u001b[0m \u001b[38;5;28;01mraise\u001b[39;00m \u001b[38;5;167;01mLookupError\u001b[39;00m(resource_not_found)\n",
      "\u001b[1;31mLookupError\u001b[0m: \n**********************************************************************\n  Resource \u001b[93mstopwords\u001b[0m not found.\n  Please use the NLTK Downloader to obtain the resource:\n\n  \u001b[31m>>> import nltk\n  >>> nltk.download('stopwords')\n  \u001b[0m\n  For more information see: https://www.nltk.org/data.html\n\n  Attempted to load \u001b[93mcorpora/stopwords\u001b[0m\n\n  Searched in:\n    - 'C:\\\\Users\\\\Admin/nltk_data'\n    - 'C:\\\\ProgramData\\\\anaconda3\\\\nltk_data'\n    - 'C:\\\\ProgramData\\\\anaconda3\\\\share\\\\nltk_data'\n    - 'C:\\\\ProgramData\\\\anaconda3\\\\lib\\\\nltk_data'\n    - 'C:\\\\Users\\\\Admin\\\\AppData\\\\Roaming\\\\nltk_data'\n    - 'C:\\\\nltk_data'\n    - 'D:\\\\nltk_data'\n    - 'E:\\\\nltk_data'\n**********************************************************************\n"
     ]
    }
   ],
   "source": [
    "import nltk\n",
    "from nltk.corpus import stopwords\n",
    "from nltk.tokenize import word_tokenize\n",
    "\n",
    "class TextGenerator:\n",
    "    def __init__(self):\n",
    "        self.stop_words = set(stopwords.words('english'))\n",
    "\n",
    "    def generate_text(self, text):\n",
    "        # Tokenize the text\n",
    "        tokens = word_tokenize(text)\n",
    "\n",
    "        # Remove stop words\n",
    "        tokens = [token for token in tokens if token not in self.stop_words]\n",
    "\n",
    "        # Generate a new sentence\n",
    "        new_sentence = []\n",
    "        for token in tokens:\n",
    "            # If the token is a punctuation mark, add it to the new sentence\n",
    "            if token in ['.', ',', ';', ':', '?', '!']:\n",
    "                new_sentence.append(token)\n",
    "            # If the token is a word, add it to the new sentence with a random chance of changing it to a synonym\n",
    "            else:\n",
    "                synonyms = nltk.corpus.wordnet.synsets(token)\n",
    "                synonym = synonyms[random.randint(0, len(synonyms) - 1)].name()\n",
    "                new_sentence.append(synonym)\n",
    "\n",
    "        # Return the new sentence\n",
    "        return ' '.join(new_sentence)\n",
    "\n",
    "if __name__ == '__main__':\n",
    "    text_generator = TextGenerator()\n",
    "    text = 'The quick brown fox jumps over the lazy dog.'\n",
    "    new_text = text_generator.generate_text(text)\n",
    "    print(new_text)"
   ]
  },
  {
   "cell_type": "code",
   "execution_count": 18,
   "id": "7f22d331",
   "metadata": {},
   "outputs": [
    {
     "name": "stdout",
     "output_type": "stream",
     "text": [
      "enter sentancea b c\n",
      "c c a c b\n"
     ]
    }
   ],
   "source": [
    "import random\n",
    "\n",
    "class TextGenerator:\n",
    "    def __init__(self, text_data):\n",
    "        self.text_data = text_data\n",
    "        self.words = self.text_data.split()\n",
    "\n",
    "    def generate_text(self, length):\n",
    "        generated_text = []\n",
    "        for i in range(length):\n",
    "            word = random.choice(self.words)\n",
    "            generated_text.append(word)\n",
    "        return ' '.join(generated_text)\n",
    "\n",
    "if __name__ == '__main__':\n",
    "    text_data =str(input(\"enter sentance\"))\n",
    "\n",
    "    text_generator = TextGenerator(text_data)\n",
    "    generated_text = text_generator.generate_text(len(text_data))\n",
    "\n",
    "    print(generated_text)"
   ]
  },
  {
   "cell_type": "code",
   "execution_count": 1,
   "id": "02a996ab",
   "metadata": {},
   "outputs": [
    {
     "name": "stdout",
     "output_type": "stream",
     "text": [
      "enter a number12\n",
      "enter a second number2\n",
      "first number more  10  of second number\n"
     ]
    }
   ],
   "source": [
    "user = int(input(\"enter a number\"))\n",
    "user1 = int(input(\"enter a second number\"))\n",
    "if user>user1:\n",
    "    print(\"first number more \",user-user1,\" of second number\")\n",
    "elif user1>user:\n",
    "    print(\"second number more \",user1-user,\" of first number\")\n"
   ]
  },
  {
   "cell_type": "code",
   "execution_count": 3,
   "id": "d25ff299",
   "metadata": {},
   "outputs": [
    {
     "name": "stdout",
     "output_type": "stream",
     "text": [
      "0  1  2  3  4  5  6  7  8  9  "
     ]
    }
   ],
   "source": [
    "a=0\n",
    "while a<10:\n",
    "    print(a,end=\"  \")\n",
    "    a+=True"
   ]
  },
  {
   "cell_type": "code",
   "execution_count": null,
   "id": "ddcc2c33",
   "metadata": {},
   "outputs": [],
   "source": []
  },
  {
   "cell_type": "code",
   "execution_count": null,
   "id": "f72dbaba",
   "metadata": {},
   "outputs": [],
   "source": []
  }
 ],
 "metadata": {
  "kernelspec": {
   "display_name": "Python 3 (ipykernel)",
   "language": "python",
   "name": "python3"
  },
  "language_info": {
   "codemirror_mode": {
    "name": "ipython",
    "version": 3
   },
   "file_extension": ".py",
   "mimetype": "text/x-python",
   "name": "python",
   "nbconvert_exporter": "python",
   "pygments_lexer": "ipython3",
   "version": "3.12.1"
  }
 },
 "nbformat": 4,
 "nbformat_minor": 5
}
