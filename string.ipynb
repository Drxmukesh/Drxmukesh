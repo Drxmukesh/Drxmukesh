{
 "cells": [
  {
   "cell_type": "markdown",
   "id": "4f24d7e6",
   "metadata": {},
   "source": [
    "# string"
   ]
  },
  {
   "cell_type": "code",
   "execution_count": 44,
   "id": "66b0e998",
   "metadata": {},
   "outputs": [
    {
     "name": "stdout",
     "output_type": "stream",
     "text": [
      "mukesh choudhary\n"
     ]
    }
   ],
   "source": [
    "# store string in variable\n",
    "a=\"mukesh choudhary\"\n",
    "print(a)"
   ]
  },
  {
   "cell_type": "code",
   "execution_count": 45,
   "id": "6a232c9f",
   "metadata": {},
   "outputs": [
    {
     "name": "stdout",
     "output_type": "stream",
     "text": [
      "good morning everyone\n",
      "i am mukesh choudhary\n"
     ]
    }
   ],
   "source": [
    "#assign a multiline string in a variable\n",
    "#Formate\n",
    "#\"\"\"_\"\"\"       or       '''_'''\n",
    "b='''good morning everyone\n",
    "i am mukesh choudhary'''\n",
    "print(b)"
   ]
  },
  {
   "cell_type": "code",
   "execution_count": 46,
   "id": "f2ce73ff",
   "metadata": {},
   "outputs": [
    {
     "name": "stdout",
     "output_type": "stream",
     "text": [
      "u\n"
     ]
    }
   ],
   "source": [
    "print(a[1])    #it start index to the zero"
   ]
  },
  {
   "cell_type": "code",
   "execution_count": 47,
   "id": "bbdac24f",
   "metadata": {},
   "outputs": [
    {
     "name": "stdout",
     "output_type": "stream",
     "text": [
      "uk\n"
     ]
    }
   ],
   "source": [
    "print(a[1:3])    #it start from first and end with third position"
   ]
  },
  {
   "cell_type": "code",
   "execution_count": 48,
   "id": "9e994e52",
   "metadata": {},
   "outputs": [
    {
     "name": "stdout",
     "output_type": "stream",
     "text": [
      "muke\n"
     ]
    }
   ],
   "source": [
    "print(a[:4])    #by default it start from zero(o)"
   ]
  },
  {
   "cell_type": "code",
   "execution_count": 49,
   "id": "b3c179b0",
   "metadata": {},
   "outputs": [
    {
     "name": "stdout",
     "output_type": "stream",
     "text": [
      "esh choudhary\n"
     ]
    }
   ],
   "source": [
    "print(a[3:])     #by default it ends with last charactor"
   ]
  },
  {
   "cell_type": "code",
   "execution_count": 50,
   "id": "5b7c6a68",
   "metadata": {},
   "outputs": [
    {
     "name": "stdout",
     "output_type": "stream",
     "text": [
      "mukesh choudhary\n"
     ]
    }
   ],
   "source": [
    "print(a[:])        #by  default start from zero(0)  end with last charactor"
   ]
  },
  {
   "cell_type": "code",
   "execution_count": 51,
   "id": "de419dc9",
   "metadata": {},
   "outputs": [
    {
     "name": "stdout",
     "output_type": "stream",
     "text": [
      "oudh\n"
     ]
    }
   ],
   "source": [
    "print(a[-7:-3])   #it strat count from last  mukesh choudhary"
   ]
  },
  {
   "cell_type": "code",
   "execution_count": 61,
   "id": "29ea357a",
   "metadata": {},
   "outputs": [
    {
     "name": "stdout",
     "output_type": "stream",
     "text": [
      "m\n",
      "u\n",
      "k\n",
      "e\n",
      "s\n",
      "h\n"
     ]
    }
   ],
   "source": [
    "for c in a:              #print one by one in seperate line\n",
    "    print(c[:6])"
   ]
  },
  {
   "cell_type": "code",
   "execution_count": 53,
   "id": "62ac87fa",
   "metadata": {},
   "outputs": [
    {
     "name": "stdout",
     "output_type": "stream",
     "text": [
      "16\n"
     ]
    }
   ],
   "source": [
    "print(len(a)) #find the length of string"
   ]
  },
  {
   "cell_type": "code",
   "execution_count": 54,
   "id": "a3aef4cc",
   "metadata": {},
   "outputs": [
    {
     "name": "stdout",
     "output_type": "stream",
     "text": [
      "True\n",
      "False\n",
      "True\n"
     ]
    }
   ],
   "source": [
    "d=\"mukesh\"\n",
    "print(d in a)       #check any specify char or sub sting in string\n",
    "print(a in d)\n",
    "print(\"u\" in a)"
   ]
  },
  {
   "cell_type": "code",
   "execution_count": 55,
   "id": "8aceb67c",
   "metadata": {},
   "outputs": [
    {
     "name": "stdout",
     "output_type": "stream",
     "text": [
      "False\n",
      "True\n"
     ]
    }
   ],
   "source": [
    "print(d not in a)\n",
    "print(a not in d)"
   ]
  },
  {
   "cell_type": "code",
   "execution_count": 66,
   "id": "ce93abbc",
   "metadata": {},
   "outputs": [
    {
     "name": "stdout",
     "output_type": "stream",
     "text": [
      "MUKESH\n",
      "mukesh\n"
     ]
    }
   ],
   "source": [
    "#it convert into upper case and lower case\n",
    "print(a.upper())\n",
    "print(a.lower())"
   ]
  },
  {
   "cell_type": "code",
   "execution_count": 63,
   "id": "97b08aad",
   "metadata": {},
   "outputs": [
    {
     "name": "stdout",
     "output_type": "stream",
     "text": [
      "       mukesh         choudhary \n",
      "mukesh         choudhary\n"
     ]
    }
   ],
   "source": [
    "e=\"       mukesh         choudhary \"\n",
    "print(e)                               #remove space\n",
    "print(e.strip())"
   ]
  },
  {
   "cell_type": "code",
   "execution_count": 58,
   "id": "8a3fa9de",
   "metadata": {},
   "outputs": [
    {
     "name": "stdout",
     "output_type": "stream",
     "text": [
      "sukesh choudhary\n",
      "mskesh chosdhary\n",
      "suresh choudhary\n",
      "suesh choudhary\n"
     ]
    }
   ],
   "source": [
    "print(a.replace(\"m\",\"s\"))         #it replace charactor or string\n",
    "print(a.replace(\"u\",\"s\"))\n",
    "print(a.replace(\"muk\",\"sur\"))\n",
    "print(a.replace(\"muk\",\"su\"))"
   ]
  },
  {
   "cell_type": "code",
   "execution_count": 59,
   "id": "f291aa96",
   "metadata": {},
   "outputs": [
    {
     "name": "stdout",
     "output_type": "stream",
     "text": [
      "['mukesh', 'houdhary']\n"
     ]
    }
   ],
   "source": [
    "a = \"mukeshchoudhary\"\n",
    "print(a.split(\"c\"))     #split string by specifing charactor"
   ]
  },
  {
   "cell_type": "code",
   "execution_count": 60,
   "id": "6bc04860",
   "metadata": {},
   "outputs": [
    {
     "name": "stdout",
     "output_type": "stream",
     "text": [
      "mukesh   mukesh choudhary\n"
     ]
    }
   ],
   "source": [
    "a=\"mukesh\"\n",
    "b=\"mukesh\"\n",
    "c=\"choudhary\"\n",
    "print(a+\"   \"+b+\" \"+c)"
   ]
  },
  {
   "cell_type": "code",
   "execution_count": 10,
   "id": "e56e540c",
   "metadata": {},
   "outputs": [
    {
     "name": "stdout",
     "output_type": "stream",
     "text": [
      "mukesh choudhary\n"
     ]
    },
    {
     "data": {
      "text/plain": [
       "['mukesh', 'choudhary']"
      ]
     },
     "execution_count": 10,
     "metadata": {},
     "output_type": "execute_result"
    }
   ],
   "source": [
    "a=\"mukesh choudhary\"\n",
    "print(a)\n",
    "a.split()"
   ]
  },
  {
   "cell_type": "code",
   "execution_count": 11,
   "id": "bc809a83",
   "metadata": {},
   "outputs": [
    {
     "name": "stdout",
     "output_type": "stream",
     "text": [
      "    i am mukesh choudhary\n"
     ]
    },
    {
     "data": {
      "text/plain": [
       "'i am mukesh choudhary'"
      ]
     },
     "execution_count": 11,
     "metadata": {},
     "output_type": "execute_result"
    }
   ],
   "source": [
    "c=\"    i am mukesh choudhary\"\n",
    "print(c)\n",
    "c.strip()"
   ]
  },
  {
   "cell_type": "code",
   "execution_count": null,
   "id": "4adfb468",
   "metadata": {},
   "outputs": [],
   "source": []
  }
 ],
 "metadata": {
  "kernelspec": {
   "display_name": "Python 3 (ipykernel)",
   "language": "python",
   "name": "python3"
  },
  "language_info": {
   "codemirror_mode": {
    "name": "ipython",
    "version": 3
   },
   "file_extension": ".py",
   "mimetype": "text/x-python",
   "name": "python",
   "nbconvert_exporter": "python",
   "pygments_lexer": "ipython3",
   "version": "3.11.4"
  }
 },
 "nbformat": 4,
 "nbformat_minor": 5
}
