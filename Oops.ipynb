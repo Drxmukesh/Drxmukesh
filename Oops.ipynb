{
 "cells": [
  {
   "cell_type": "code",
   "execution_count": 4,
   "id": "694523f4",
   "metadata": {},
   "outputs": [],
   "source": [
    "class car:\n",
    "    pass"
   ]
  },
  {
   "cell_type": "code",
   "execution_count": 5,
   "id": "0a82cd56",
   "metadata": {},
   "outputs": [
    {
     "name": "stdout",
     "output_type": "stream",
     "text": [
      "<__main__.car object at 0x000001EA054510D0>\n"
     ]
    }
   ],
   "source": [
    "print(car())\n"
   ]
  },
  {
   "cell_type": "code",
   "execution_count": 6,
   "id": "f70f4834",
   "metadata": {},
   "outputs": [],
   "source": [
    "class car:\n",
    "    def __init__(self, name, colour):\n",
    "        self.name = name\n",
    "        self.colour = colour"
   ]
  },
  {
   "cell_type": "code",
   "execution_count": 7,
   "id": "89c62840",
   "metadata": {},
   "outputs": [],
   "source": [
    "class car:\n",
    "    car_type = \"sedan\"\n",
    "    def __init__(self, name, colour):\n",
    "        self.name=name\n",
    "        self.colour=colour"
   ]
  },
  {
   "cell_type": "code",
   "execution_count": 8,
   "id": "098bfb97",
   "metadata": {},
   "outputs": [],
   "source": [
    "class Car:\n",
    "    car_type = \"suv\"\n",
    "    def __init__(self, name, mileage):\n",
    "        self.name = name\n",
    "        self.mileage = mileage\n",
    "    def description(self):\n",
    "        return f\"The {self.name} car gives the mileage of {self.mileage}km/l\"\n",
    "    def max_speed(self, speed):\n",
    "        return f\"The {self.name} runs at the maximum speed of {speed}km/hr\""
   ]
  },
  {
   "cell_type": "code",
   "execution_count": 9,
   "id": "09bd7bc0",
   "metadata": {},
   "outputs": [
    {
     "name": "stdout",
     "output_type": "stream",
     "text": [
      "The audi Q3 car gives the mileage of 18.0km/l\n",
      "The audi Q3 runs at the maximum speed of 220km/hr\n"
     ]
    }
   ],
   "source": [
    "obj1 = Car(\"audi Q3\",18.00)\n",
    "print(obj1.description())\n",
    "print(obj1.max_speed(220))"
   ]
  },
  {
   "cell_type": "code",
   "execution_count": 10,
   "id": "7d1ed80f",
   "metadata": {},
   "outputs": [
    {
     "name": "stdout",
     "output_type": "stream",
     "text": [
      "The audi Q3 runs at the maximum speed of 220km/hr\n",
      "The BMW Z4 m40i runs at the maximum speed of 270km/hr\n"
     ]
    }
   ],
   "source": [
    "class Car:\n",
    "    def __init__(self, name, mileage):\n",
    "        self.name = name\n",
    "        self.mileage = mileage\n",
    "    def max_speed(self, speed):\n",
    "        return f\"The {self.name} runs at the maximum speed of {speed}km/hr\"\n",
    "audi = Car(\"audi Q3\",18)\n",
    "print(audi.max_speed(220))\n",
    "bmw = Car(\"BMW Z4 m40i\",8)\n",
    "print(bmw.max_speed(270))"
   ]
  },
  {
   "cell_type": "code",
   "execution_count": 11,
   "id": "cae59c6a",
   "metadata": {},
   "outputs": [
    {
     "name": "stdout",
     "output_type": "stream",
     "text": [
      "The peacock colour is green,blue and brown in colour and size is medium\n"
     ]
    }
   ],
   "source": [
    "class bird:\n",
    "    def __init__(self,name,colour):\n",
    "        self.name=name\n",
    "        self.colour=colour\n",
    "    def Bird_size(self,size):\n",
    "        return f\"The {self.name} colour is {self.colour} in colour and size is {size}\"\n",
    "birds= bird('peacock','green,blue and brown')\n",
    "print(birds.Bird_size(\"medium\"))"
   ]
  },
  {
   "cell_type": "code",
   "execution_count": 12,
   "id": "4f545ca9",
   "metadata": {},
   "outputs": [],
   "source": [
    "class animals:\n",
    "    def __init__(self, name, colour, types):\n",
    "        self.name = name\n",
    "        self.colour = colour\n",
    "        self.types = types\n",
    "    \n",
    "    def display(self):\n",
    "        return f\"the {self.name} is {self.colour} in colour and it is {self.types} \"\n",
    "    \n",
    "    def sound(self,sound):\n",
    "        return f\"sound of {self.name} is {sound}\"\n",
    "    \n",
    "    def kids(self,kids):\n",
    "        return f\"kids of {self.name} is {kids}\""
   ]
  },
  {
   "cell_type": "code",
   "execution_count": 13,
   "id": "092f5f89",
   "metadata": {},
   "outputs": [
    {
     "name": "stdout",
     "output_type": "stream",
     "text": [
      "the lion is brown in colour and it is whild \n",
      "sound of lion is loud\n",
      "kids of lion is lion cubs\n",
      "\n",
      "the dog is brown in colour and it is whild \n",
      "sound of dog is crowdy\n",
      "kids of dog is papies\n",
      "\n",
      "the cow is white in colour and it is pet and also whild \n",
      "sound of cow is chick\n",
      "kids of cow is calf\n"
     ]
    }
   ],
   "source": [
    "obj1=animals(\"lion\",\"brown\",\"whild\")\n",
    "print(obj1.display())\n",
    "print(obj1.sound(\"loud\"))\n",
    "print(obj1.kids(\"lion cubs\"))\n",
    "\n",
    "print()\n",
    "obj2=animals(\"dog\",\"brown\",\"whild\")\n",
    "print(obj2.display())\n",
    "print(obj2.sound(\"crowdy\"))\n",
    "print(obj2.kids(\"papies\"))\n",
    "\n",
    "print()\n",
    "obj3=animals(\"cow\",\"white\",\"pet and also whild\")\n",
    "print(obj3.display())\n",
    "print(obj3.sound(\"chick\"))\n",
    "print(obj3.kids(\"calf\"))"
   ]
  },
  {
   "cell_type": "code",
   "execution_count": null,
   "id": "d7ee92a1",
   "metadata": {},
   "outputs": [],
   "source": []
  },
  {
   "cell_type": "code",
   "execution_count": null,
   "id": "4ec1b444",
   "metadata": {},
   "outputs": [],
   "source": []
  },
  {
   "cell_type": "code",
   "execution_count": 14,
   "id": "1d6ced66",
   "metadata": {},
   "outputs": [],
   "source": [
    "class _animals:\n",
    "    def __init__(self, name, colour, types):\n",
    "        self.name = name\n",
    "        self.colour = colour\n",
    "        self.types = types\n",
    "    \n",
    "    def display(self):\n",
    "        return f\"the {self.name} is {self.colour} in colour and it is {self.types} \"\n",
    "    \n",
    "    def sound(self,sound):\n",
    "        return f\"sound of {self.name} is {sound}\"\n",
    "    \n",
    "    def kids(self,kids):\n",
    "        return f\"kids of {self.name} is {kids}\""
   ]
  },
  {
   "cell_type": "code",
   "execution_count": 17,
   "id": "5c5b5c40",
   "metadata": {},
   "outputs": [
    {
     "name": "stdout",
     "output_type": "stream",
     "text": [
      "<class '__main__.animals'>\n"
     ]
    }
   ],
   "source": [
    "print(animals)"
   ]
  },
  {
   "cell_type": "code",
   "execution_count": 21,
   "id": "23eeaca9",
   "metadata": {},
   "outputs": [
    {
     "name": "stdout",
     "output_type": "stream",
     "text": [
      "mukesh students Jio LTE\n",
      "mukesh\n",
      "students\n",
      "Jio LTE\n",
      "\n",
      "mukesh students Jio LTE\n"
     ]
    }
   ],
   "source": [
    "class person:\n",
    "    name = \"mukesh\"\n",
    "    occup = \"students\"\n",
    "    network = \"Jio LTE\"\n",
    "    \n",
    "print(person.name,person.occup,person.network)\n",
    "    \n",
    "obj=person()\n",
    "print(obj.name)\n",
    "print(obj.occup)\n",
    "print(obj.network)\n",
    "print()\n",
    "print(obj.name,obj.occup,obj.network)"
   ]
  },
  {
   "cell_type": "code",
   "execution_count": 28,
   "id": "6139d24e",
   "metadata": {},
   "outputs": [
    {
     "data": {
      "text/plain": [
       "'my name is kailash\\n        i am HR manager\\n        i working 313 day and as per day i work 6 hours\\n        and my total salary of year is 2504 Rs \\\\- only '"
      ]
     },
     "execution_count": 28,
     "metadata": {},
     "output_type": "execute_result"
    }
   ],
   "source": [
    "class person:\n",
    "    name = \"mukesh\"\n",
    "    ocup = \"learner\"\n",
    "    w_day = 365-52\n",
    "    w_hour = 8\n",
    "    salary = w_day*w_hour\n",
    "    def info(self):\n",
    "        return f\"\"\"my name is {self.name}\n",
    "        i am {self.ocup}\n",
    "        i working {self.w_day} day and as per day i work {self.w_hour} hours\n",
    "        and my total salary of year is {self.salary} Rs \\- only \"\"\"\n",
    "\n",
    "admin = person()\n",
    "users = person()\n",
    "p_user= person()\n",
    "\n",
    "admin.name=\"kailash\"\n",
    "admin.ocup=\"HR manager\"\n",
    "admin.w_hour=6\n",
    "admin.info()"
   ]
  },
  {
   "cell_type": "code",
   "execution_count": 4,
   "id": "7f7de491",
   "metadata": {},
   "outputs": [
    {
     "data": {
      "text/plain": [
       "'my name is kailash \\n\\n        i am HR manager \\n\\n        i working 313 day and as per day i work 6 hours \\n\\n        and my total salary of year is 2504 Rs \\\\- only '"
      ]
     },
     "execution_count": 4,
     "metadata": {},
     "output_type": "execute_result"
    }
   ],
   "source": [
    "class person:\n",
    "    name = \"mukesh\"\n",
    "    ocup = \"learner\"\n",
    "    w_day = 365-52\n",
    "    w_hour = 8\n",
    "    salary = w_day*w_hour\n",
    "    def info(self):\n",
    "        return f\"\"\"my name is {self.name} \n",
    "        i am {self.ocup}\n",
    "        i working {self.w_day} day and as per day i work {self.w_hour} hours\n",
    "        and my total salary of year is {self.salary} Rs \\- only \"\"\"\n",
    "\n",
    "admin = person()\n",
    "users = person()\n",
    "p_user= person()\n",
    "\n",
    "admin.name=\"kailash\"\n",
    "admin.ocup=\"HR manager\"\n",
    "admin.w_hour=6\n",
    "admin.info()"
   ]
  },
  {
   "cell_type": "code",
   "execution_count": 9,
   "id": "d797a669",
   "metadata": {},
   "outputs": [
    {
     "name": "stdout",
     "output_type": "stream",
     "text": [
      " my name is kailash i am HR manager\n",
      " i working 313 day and as per day i work 6 hours\n",
      " my total salary of year is 2504 Rs \\- only \n"
     ]
    },
    {
     "ename": "TypeError",
     "evalue": "admin_u() missing 1 required positional argument: 'self'",
     "output_type": "error",
     "traceback": [
      "\u001b[1;31m---------------------------------------------------------------------------\u001b[0m",
      "\u001b[1;31mTypeError\u001b[0m                                 Traceback (most recent call last)",
      "Cell \u001b[1;32mIn[9], line 24\u001b[0m\n\u001b[0;32m     21\u001b[0m \u001b[38;5;28;01mdef\u001b[39;00m \u001b[38;5;21madmin_u\u001b[39m(\u001b[38;5;28mself\u001b[39m):\n\u001b[0;32m     22\u001b[0m     \u001b[38;5;28mself\u001b[39m\u001b[38;5;241m.\u001b[39msector \u001b[38;5;241m=\u001b[39m sector\n\u001b[1;32m---> 24\u001b[0m admin_c \u001b[38;5;241m=\u001b[39m admin_u()\n\u001b[0;32m     25\u001b[0m admin_c\u001b[38;5;241m.\u001b[39mname\u001b[38;5;241m=\u001b[39m\u001b[38;5;124m\"\u001b[39m\u001b[38;5;124mkailash\u001b[39m\u001b[38;5;124m\"\u001b[39m\n\u001b[0;32m     26\u001b[0m admin_c\u001b[38;5;241m.\u001b[39mocup\u001b[38;5;241m=\u001b[39m\u001b[38;5;124m\"\u001b[39m\u001b[38;5;124mHR manager\u001b[39m\u001b[38;5;124m\"\u001b[39m\n",
      "\u001b[1;31mTypeError\u001b[0m: admin_u() missing 1 required positional argument: 'self'"
     ]
    }
   ],
   "source": [
    "class person:\n",
    "    name = \"mukesh\"\n",
    "    ocup = \"learner\"\n",
    "    w_day = 365-52\n",
    "    w_hour = 8\n",
    "    salary = w_day*w_hour\n",
    "    def info(self):\n",
    "        print( f\" my name is {self.name} i am {self.ocup}\"\n",
    "         f\"\\n i working {self.w_day} day and as per day i work {self.w_hour} hours\"\n",
    "         f\"\\n my total salary of year is {self.salary} Rs \\- only \")\n",
    "\n",
    "admin = person()\n",
    "users = person()\n",
    "p_user= person()\n",
    "\n",
    "admin.name=\"kailash\"\n",
    "admin.ocup=\"HR manager\"\n",
    "admin.w_hour=6\n",
    "admin.info()\n",
    "\n",
    "def admin_u(self):\n",
    "    self.sector = sector\n",
    "    \n",
    "admin_c = admin_u()\n",
    "admin_c.name=\"kailash\"\n",
    "admin_c.ocup=\"HR manager\"\n",
    "admin_c.w_hour=6\n",
    "admin_c.sector=4\n",
    "admin_c.info()"
   ]
  },
  {
   "cell_type": "code",
   "execution_count": 11,
   "id": "1e46af49",
   "metadata": {},
   "outputs": [
    {
     "name": "stdout",
     "output_type": "stream",
     "text": [
      "5\n"
     ]
    }
   ],
   "source": [
    "class my_class:\n",
    "    x=5\n",
    "print(my_class.x)"
   ]
  },
  {
   "cell_type": "code",
   "execution_count": 12,
   "id": "d91cc400",
   "metadata": {},
   "outputs": [
    {
     "name": "stdout",
     "output_type": "stream",
     "text": [
      "5\n"
     ]
    }
   ],
   "source": [
    "pl = my_class()\n",
    "print(pl.x)"
   ]
  },
  {
   "cell_type": "code",
   "execution_count": 16,
   "id": "636dc554",
   "metadata": {},
   "outputs": [
    {
     "name": "stdout",
     "output_type": "stream",
     "text": [
      "admin\n",
      "101\n"
     ]
    }
   ],
   "source": [
    "#__init__ function with example\n",
    "\n",
    "class pc:\n",
    "    def __init__(self,user_name,pc_id):\n",
    "        self.user_name = user_name\n",
    "        self.pc_id = pc_id\n",
    "        \n",
    "head=pc(\"admin\",101)\n",
    "print(head.user_name)\n",
    "print(head.pc_id)"
   ]
  },
  {
   "cell_type": "code",
   "execution_count": 21,
   "id": "a2d08aaf",
   "metadata": {},
   "outputs": [
    {
     "name": "stdout",
     "output_type": "stream",
     "text": [
      "i use mukesh user account my unique id is 101\n"
     ]
    }
   ],
   "source": [
    "#__str__ function with example\n",
    "class pc:\n",
    "    def __init__(self,user_name,pc_id):\n",
    "        self.user_name = user_name\n",
    "        self.pc_id = pc_id\n",
    "    \n",
    "    def __str__(self):\n",
    "        return f\"i use {self.user_name} user account my unique id is {self.pc_id}\"\n",
    "    \n",
    "user = pc(\"mukesh\",101)\n",
    "print(user)"
   ]
  },
  {
   "cell_type": "code",
   "execution_count": 33,
   "id": "69cd90f9",
   "metadata": {},
   "outputs": [
    {
     "name": "stdout",
     "output_type": "stream",
     "text": [
      " pc define value not method value\n"
     ]
    }
   ],
   "source": [
    "#methods\n",
    "#__init__ function with example\n",
    "\n",
    "class pc:\n",
    "    def __init__(self,user_name,pc_id):\n",
    "        self.user_name = user_name\n",
    "        self.pc_id = pc_id\n",
    "        \n",
    "    def method(self,fav):\n",
    "        self.fav=fav\n",
    "        print(f\" {self.user_name} {self.pc_id} {self.fav}\")\n",
    "        \n",
    "head=pc(\"pc define value\",\"not\")\n",
    "head.method(\"method value\")"
   ]
  },
  {
   "cell_type": "code",
   "execution_count": 34,
   "id": "89f03614",
   "metadata": {},
   "outputs": [],
   "source": [
    "#pass    pass is avoidng error \n",
    "class pc:\n",
    "    pass"
   ]
  },
  {
   "cell_type": "code",
   "execution_count": 36,
   "id": "d7abf234",
   "metadata": {},
   "outputs": [
    {
     "name": "stdout",
     "output_type": "stream",
     "text": [
      "mukesh choudhary\n"
     ]
    }
   ],
   "source": [
    "#inheritance \n",
    "# craete perents class\n",
    "class person:\n",
    "    def __init__(self,fname,lname):\n",
    "        self.first_name = fname\n",
    "        self.last_name = lname\n",
    "        \n",
    "    def print_name(self):\n",
    "        print(self.first_name,self.last_name)\n",
    "        \n",
    "# use class(person) to craete object(obj1) , and then excute the method(print_name)\n",
    "\n",
    "obj1=person(\"mukesh\",\"choudhary\")\n",
    "obj1.print_name()"
   ]
  },
  {
   "cell_type": "code",
   "execution_count": 40,
   "id": "920a08b4",
   "metadata": {},
   "outputs": [
    {
     "name": "stdout",
     "output_type": "stream",
     "text": [
      "mahesh sirvi\n"
     ]
    }
   ],
   "source": [
    "# create child class(student)\n",
    "\n",
    "class student(person):\n",
    "    pass  #pass is use when do not add any other properties or method\n",
    "obj2=student(\"mahesh\",\"sirvi\")\n",
    "obj2.print_name()"
   ]
  },
  {
   "cell_type": "code",
   "execution_count": 43,
   "id": "c1df6ee5",
   "metadata": {},
   "outputs": [
    {
     "ename": "NameError",
     "evalue": "name 'Person' is not defined",
     "output_type": "error",
     "traceback": [
      "\u001b[1;31m---------------------------------------------------------------------------\u001b[0m",
      "\u001b[1;31mNameError\u001b[0m                                 Traceback (most recent call last)",
      "Cell \u001b[1;32mIn[43], line 2\u001b[0m\n\u001b[0;32m      1\u001b[0m \u001b[38;5;66;03m# add __init__ function it over ride the inheritance of parents __init__ funct\u001b[39;00m\n\u001b[1;32m----> 2\u001b[0m \u001b[38;5;28;01mclass\u001b[39;00m \u001b[38;5;21;01mStudent\u001b[39;00m(Person):\n\u001b[0;32m      3\u001b[0m     \u001b[38;5;28;01mdef\u001b[39;00m \u001b[38;5;21m__init__\u001b[39m(\u001b[38;5;28mself\u001b[39m, fname, lname):\n\u001b[0;32m      4\u001b[0m         Person\u001b[38;5;241m.\u001b[39m\u001b[38;5;21m__init__\u001b[39m(\u001b[38;5;28mself\u001b[39m, fname, lname)\n",
      "\u001b[1;31mNameError\u001b[0m: name 'Person' is not defined"
     ]
    }
   ],
   "source": [
    "# add __init__ function it over ride the inheritance of parents __init__ funct\n",
    "class Student(Person):\n",
    "    def __init__(self, fname, lname):\n",
    "        Person.__init__(self, fname, lname)\n",
    "obj2=student(\"mahesh\",\"sirvi\")\n",
    "obj2.print_name()"
   ]
  },
  {
   "cell_type": "code",
   "execution_count": null,
   "id": "c965c5f4",
   "metadata": {},
   "outputs": [
    {
     "name": "stdout",
     "output_type": "stream",
     "text": [
      "Hello! I'm your chatbot. Type 'exit' to end the conversation.\n",
      "You: i am mukesh\n",
      "Chatbot: None\n",
      "You: whats your name\n",
      "Chatbot: You can call me Chatbot.\n",
      "You: chatbot hi\n",
      "Chatbot: None\n"
     ]
    }
   ],
   "source": [
    "import nltk\n",
    "from nltk.chat.util import Chat, reflections\n",
    "\n",
    "# Define a list of patterns and responses for the chatbot\n",
    "patterns = [\n",
    "    (r'hi|hello|hey', ['Hello!', 'Hi there!', 'Hey!']),\n",
    "    (r'how are you', ['I am good, thank you!', 'I am doing well. How about you?']),\n",
    "    (r'(.*) your name', ['I am a chatbot created with Python.', 'You can call me Chatbot.']),\n",
    "    (r'bye|goodbye', ['Goodbye!', 'See you later!', 'Bye!']),\n",
    "    # Add more patterns and responses as needed\n",
    "]\n",
    "\n",
    "# Create a chatbot using the patterns\n",
    "chatbot = Chat(patterns, reflections)\n",
    "\n",
    "# Start the chat loop\n",
    "def run_chatbot():\n",
    "    print(\"Hello! I'm your chatbot. Type 'exit' to end the conversation.\")\n",
    "    while True:\n",
    "        user_input = input(\"You: \")\n",
    "        if user_input.lower() == 'exit':\n",
    "            print(\"Goodbye!\")\n",
    "            break\n",
    "        response = chatbot.respond(user_input)\n",
    "        print(\"Chatbot:\", response)\n",
    "\n",
    "if __name__ == \"__main__\":\n",
    "    run_chatbot()\n"
   ]
  },
  {
   "cell_type": "code",
   "execution_count": null,
   "id": "b60e517d",
   "metadata": {},
   "outputs": [],
   "source": []
  }
 ],
 "metadata": {
  "kernelspec": {
   "display_name": "Python 3 (ipykernel)",
   "language": "python",
   "name": "python3"
  },
  "language_info": {
   "codemirror_mode": {
    "name": "ipython",
    "version": 3
   },
   "file_extension": ".py",
   "mimetype": "text/x-python",
   "name": "python",
   "nbconvert_exporter": "python",
   "pygments_lexer": "ipython3",
   "version": "3.11.4"
  }
 },
 "nbformat": 4,
 "nbformat_minor": 5
}
