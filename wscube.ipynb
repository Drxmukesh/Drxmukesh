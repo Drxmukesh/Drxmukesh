{
 "cells": [
  {
   "cell_type": "code",
   "execution_count": 4,
   "metadata": {},
   "outputs": [
    {
     "name": "stdout",
     "output_type": "stream",
     "text": [
      "mukesh\t400\n",
      "mukesh    400\n",
      "mukesh              400\n"
     ]
    }
   ],
   "source": [
    "#tab define with size\n",
    "print(\"mukesh\\t400\")\n",
    "print(\"mukesh\\t400\".expandtabs(tabsize=10))\n",
    "print(\"mukesh\\t400\".expandtabs(tabsize=20))"
   ]
  },
  {
   "cell_type": "code",
   "execution_count": 13,
   "metadata": {},
   "outputs": [
    {
     "name": "stdout",
     "output_type": "stream",
     "text": [
      "A 65\n",
      "10\n",
      "32\n",
      "9\n",
      "64\n"
     ]
    }
   ],
   "source": [
    "#decimal syatem\n",
    "print(\"A\",ord(\"A\"))\n",
    "print(ord(\"\\n\"))\n",
    "print(ord(\" \"))\n",
    "print(ord(\"\\t\"))\n",
    "print(ord(\"@\"))"
   ]
  },
  {
   "cell_type": "code",
   "execution_count": 16,
   "metadata": {},
   "outputs": [
    {
     "name": "stdout",
     "output_type": "stream",
     "text": [
      "A\n",
      "@\n",
      " \n",
      "\t\n",
      "\"\n"
     ]
    }
   ],
   "source": [
    "#reverse decimar system\n",
    "print(chr(65))\n",
    "print(chr(64))\n",
    "print(chr(32))\n",
    "print(chr(9))\n",
    "print(chr(34))"
   ]
  },
  {
   "cell_type": "code",
   "execution_count": 20,
   "metadata": {},
   "outputs": [
    {
     "name": "stdout",
     "output_type": "stream",
     "text": [
      "0o101\n",
      "0x41\n",
      "0b1000001\n"
     ]
    }
   ],
   "source": [
    "print(oct(ord(\"A\")))\n",
    "print(hex(ord(\"A\")))\n",
    "print(bin(ord(\"A\")))"
   ]
  },
  {
   "cell_type": "code",
   "execution_count": 24,
   "metadata": {},
   "outputs": [
    {
     "name": "stdout",
     "output_type": "stream",
     "text": [
      "mukesh \n",
      "choudhary\n",
      "mukesh \n",
      "choudhary\n"
     ]
    }
   ],
   "source": [
    "print(\"mukesh \\012choudhary\")#escape charactor in other form\n",
    "print(\"mukesh \\x0achoudhary\")#escape charactor in other form"
   ]
  },
  {
   "cell_type": "code",
   "execution_count": 32,
   "metadata": {},
   "outputs": [
    {
     "name": "stdout",
     "output_type": "stream",
     "text": [
      "ram\t ₹500\n",
      "ram\t ₹500\n",
      "RAM\t ₹500\n"
     ]
    }
   ],
   "source": [
    "print(\"ram\\t \\N{INDIAN RUPEE SIGN}500\")\n",
    "print(\"ram\\t \\u20B9500\")\n",
    "print(\"RAM\\t \\U000020B9500\")"
   ]
  },
  {
   "cell_type": "code",
   "execution_count": 36,
   "metadata": {},
   "outputs": [
    {
     "name": "stdout",
     "output_type": "stream",
     "text": [
      "ram\\owe\n"
     ]
    },
    {
     "name": "stderr",
     "output_type": "stream",
     "text": [
      "<>:1: SyntaxWarning: invalid escape sequence '\\o'\n",
      "<>:1: SyntaxWarning: invalid escape sequence '\\o'\n",
      "C:\\Users\\Admin\\AppData\\Local\\Temp\\ipykernel_5828\\3382110455.py:1: SyntaxWarning: invalid escape sequence '\\o'\n",
      "  print(\"ram\\owe\")\n"
     ]
    }
   ],
   "source": [
    "print(\"ram\\owe\")"
   ]
  },
  {
   "cell_type": "code",
   "execution_count": null,
   "metadata": {},
   "outputs": [],
   "source": []
  }
 ],
 "metadata": {
  "kernelspec": {
   "display_name": "Python 3",
   "language": "python",
   "name": "python3"
  },
  "language_info": {
   "codemirror_mode": {
    "name": "ipython",
    "version": 3
   },
   "file_extension": ".py",
   "mimetype": "text/x-python",
   "name": "python",
   "nbconvert_exporter": "python",
   "pygments_lexer": "ipython3",
   "version": "3.12.1"
  }
 },
 "nbformat": 4,
 "nbformat_minor": 2
}
