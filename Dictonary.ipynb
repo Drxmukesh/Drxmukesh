{
 "cells": [
  {
   "cell_type": "code",
   "execution_count": 64,
   "id": "1067751a",
   "metadata": {},
   "outputs": [
    {
     "name": "stdout",
     "output_type": "stream",
     "text": [
      "{'Mukesh': 13, 'mukesh': 13}\n",
      "{'z': 1343345, 'a': 2, 'b': 3, 'c': 13, 'f': 1321, 's': 3242}\n",
      "{'a': 112, 'b': 17, 'c': 19}\n"
     ]
    }
   ],
   "source": [
    "a={\"Mukesh\":13,\"mukesh\":13}\n",
    "a1={\"z\":1343345,\"a\":2,\"b\":3,\"c\":13,\"f\":1321,\"s\":3242}\n",
    "a3=dict(a=112,b=17,c=19)\n",
    "print(a)\n",
    "print(a1)\n",
    "print(a3)"
   ]
  },
  {
   "cell_type": "code",
   "execution_count": 42,
   "id": "9756ccf0",
   "metadata": {},
   "outputs": [
    {
     "name": "stdout",
     "output_type": "stream",
     "text": [
      "dict_keys(['z', 'a', 'b', 'c'])\n",
      "dict_values([1343345, 2, 3, 13])\n",
      "dict_items([('z', 1343345), ('a', 2), ('b', 3), ('c', 13)])\n",
      "2\n",
      "1343345\n",
      "{'Mukesh': 13, 'mukesh': 13}\n"
     ]
    }
   ],
   "source": [
    "print(a1.keys())      #print only keys\n",
    "print(a1.values())      #print only values\n",
    "print(a1.items())       #print intems\n",
    "print(a1.get(\"a\"))     #print the values of b key\n",
    "print(a1[\"z\"])          # print the vlues of z\n",
    "print(a)               "
   ]
  },
  {
   "cell_type": "code",
   "execution_count": 46,
   "id": "23f49e45",
   "metadata": {},
   "outputs": [
    {
     "name": "stdout",
     "output_type": "stream",
     "text": [
      "{'z': 1343345, 'a': 2, 'b': 12, 'c': 13}\n"
     ]
    }
   ],
   "source": [
    "a1[\"b\"] =12\n",
    "print(a1)"
   ]
  },
  {
   "cell_type": "code",
   "execution_count": 38,
   "id": "27a12969",
   "metadata": {},
   "outputs": [
    {
     "name": "stdout",
     "output_type": "stream",
     "text": [
      "{'z': 1343345, 'a': 13, 'b': 3, 'c': 13}\n"
     ]
    }
   ],
   "source": [
    "a1.update({\"a\":13})\n",
    "print(a1)"
   ]
  },
  {
   "cell_type": "code",
   "execution_count": 50,
   "id": "19913f94",
   "metadata": {},
   "outputs": [
    {
     "data": {
      "text/plain": [
       "2"
      ]
     },
     "execution_count": 50,
     "metadata": {},
     "output_type": "execute_result"
    }
   ],
   "source": [
    "a1.pop(\"a\")"
   ]
  },
  {
   "cell_type": "code",
   "execution_count": 52,
   "id": "d6d4dee2",
   "metadata": {},
   "outputs": [
    {
     "name": "stdout",
     "output_type": "stream",
     "text": [
      "{'b': 12, 'c': 13}\n"
     ]
    }
   ],
   "source": [
    "del a1[\"z\"]\n",
    "print(a1)"
   ]
  },
  {
   "cell_type": "code",
   "execution_count": 53,
   "id": "a6110ecf",
   "metadata": {},
   "outputs": [
    {
     "name": "stdout",
     "output_type": "stream",
     "text": [
      "{}\n"
     ]
    }
   ],
   "source": [
    "thisdict = {\"brand\": \"Ford\",\n",
    "  \"model\": \"Mustang\",\n",
    "  \"year\": 1964}\n",
    "thisdict.clear()\n",
    "print(thisdict)"
   ]
  },
  {
   "cell_type": "code",
   "execution_count": 74,
   "id": "aea43bb3",
   "metadata": {},
   "outputs": [
    {
     "name": "stdout",
     "output_type": "stream",
     "text": [
      "{'z': 1343345, 'a': 2}\n"
     ]
    }
   ],
   "source": [
    "a1.popitem()\n",
    "print(a1)"
   ]
  },
  {
   "cell_type": "code",
   "execution_count": 75,
   "id": "793cea9d",
   "metadata": {},
   "outputs": [
    {
     "data": {
      "text/plain": [
       "('z', 1343345)"
      ]
     },
     "execution_count": 75,
     "metadata": {},
     "output_type": "execute_result"
    }
   ],
   "source": [
    "a1={\"z\":1343345,\"a\":2,\"b\":3,\"c\":13,\"f\":1321,\"s\":3242}\n",
    "a1.popitem()\n",
    "a1.popitem()\n",
    "a1.popitem()\n",
    "a1.popitem()\n",
    "a1.popitem()\n",
    "a1.popitem()"
   ]
  },
  {
   "cell_type": "code",
   "execution_count": 3,
   "id": "bc15765d",
   "metadata": {},
   "outputs": [
    {
     "name": "stdout",
     "output_type": "stream",
     "text": [
      "{'school': {'name': 'mukesh', 'age': 18, 'birth year': 2004}, 'college': {'name': 'mukesh', 'age': 19, 'birth year': 2004}}\n"
     ]
    }
   ],
   "source": [
    "a=dict(school={\"name\":\"mukesh\",\"age\":18,\"birth year\":2004},\n",
    "      college={\"name\":\"mukesh\",\"age\":19,\"birth year\":2004})\n",
    "print(a)"
   ]
  },
  {
   "cell_type": "code",
   "execution_count": 4,
   "id": "ad125189",
   "metadata": {},
   "outputs": [
    {
     "name": "stdout",
     "output_type": "stream",
     "text": [
      "19\n"
     ]
    }
   ],
   "source": [
    "print(a[\"college\"][\"age\"])"
   ]
  },
  {
   "cell_type": "code",
   "execution_count": 5,
   "id": "9d7fea63",
   "metadata": {},
   "outputs": [
    {
     "name": "stdout",
     "output_type": "stream",
     "text": [
      "{'name': 'mukesh', 'age': 19, 'birth year': 2004}\n"
     ]
    }
   ],
   "source": [
    "print(a[\"college\"])"
   ]
  },
  {
   "cell_type": "code",
   "execution_count": null,
   "id": "9d3f428a",
   "metadata": {},
   "outputs": [],
   "source": []
  }
 ],
 "metadata": {
  "kernelspec": {
   "display_name": "Python 3 (ipykernel)",
   "language": "python",
   "name": "python3"
  },
  "language_info": {
   "codemirror_mode": {
    "name": "ipython",
    "version": 3
   },
   "file_extension": ".py",
   "mimetype": "text/x-python",
   "name": "python",
   "nbconvert_exporter": "python",
   "pygments_lexer": "ipython3",
   "version": "3.11.4"
  }
 },
 "nbformat": 4,
 "nbformat_minor": 5
}
