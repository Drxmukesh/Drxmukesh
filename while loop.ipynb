{
 "cells": [
  {
   "cell_type": "code",
   "execution_count": null,
   "id": "ab23662c",
   "metadata": {},
   "outputs": [],
   "source": [
    "\"\"\"words = ['cat', 'window', 'defenestrate']\n",
    "for w in words:\n",
    "    words.insert(0,w)\n",
    "    print(w)\n",
    "    print(words)\n",
    "print(words)\"\"\""
   ]
  },
  {
   "cell_type": "code",
   "execution_count": null,
   "id": "58ebb882",
   "metadata": {},
   "outputs": [],
   "source": [
    "# while loop is used for condition bases program (on infinite number of element)"
   ]
  },
  {
   "cell_type": "code",
   "execution_count": 1,
   "id": "5f9e3e37",
   "metadata": {},
   "outputs": [
    {
     "name": "stdout",
     "output_type": "stream",
     "text": [
      "1\n",
      "2\n",
      "3\n",
      "4\n",
      "5\n",
      "6\n",
      "7\n",
      "8\n",
      "9\n",
      "10\n"
     ]
    }
   ],
   "source": [
    "for i in range(1,11,1):\n",
    "    print(i)"
   ]
  },
  {
   "cell_type": "code",
   "execution_count": 2,
   "id": "4ea07173",
   "metadata": {},
   "outputs": [
    {
     "name": "stdout",
     "output_type": "stream",
     "text": [
      "1\n",
      "2\n",
      "3\n",
      "4\n",
      "5\n",
      "6\n",
      "7\n",
      "8\n",
      "9\n",
      "10\n"
     ]
    }
   ],
   "source": [
    "i = 1 #2,3,4,5,6,7,8,9,10,11\n",
    "while i < 11: # since after 11 the condition is false it do not print 11 it stop at 10\n",
    "    print(i) #1 ,2,3,4,5,6,7,8,9,10\n",
    "    i += 1"
   ]
  },
  {
   "cell_type": "code",
   "execution_count": 3,
   "id": "44415e69",
   "metadata": {},
   "outputs": [
    {
     "name": "stdout",
     "output_type": "stream",
     "text": [
      "1 2 3 4 5 6 7 8 9 10 "
     ]
    }
   ],
   "source": [
    "i = 1 #2,3,4,5,6,7,8,9,10,11\n",
    "while i < 11: # since after 11 the condition is false it do not print 11 it stop at 10\n",
    "    print(i,end=\" \") #1 ,2,3,4,5,6,7,8,9,10\n",
    "    i += 1"
   ]
  },
  {
   "cell_type": "code",
   "execution_count": 4,
   "id": "5a51d9b2",
   "metadata": {},
   "outputs": [
    {
     "name": "stdout",
     "output_type": "stream",
     "text": [
      "1\n",
      "2\n",
      "3\n",
      "4\n"
     ]
    }
   ],
   "source": [
    "i = 1\n",
    "while i < 5:\n",
    "    print(i)\n",
    "    i+=1"
   ]
  },
  {
   "cell_type": "code",
   "execution_count": 5,
   "id": "dcc94f32",
   "metadata": {},
   "outputs": [
    {
     "name": "stdout",
     "output_type": "stream",
     "text": [
      "1\n",
      "2\n",
      "3\n",
      "4\n",
      "5\n"
     ]
    }
   ],
   "source": [
    "i = 0\n",
    "while i < 5:\n",
    "    i+=1\n",
    "    print(i)"
   ]
  },
  {
   "cell_type": "code",
   "execution_count": 6,
   "id": "84f9f6d3",
   "metadata": {},
   "outputs": [
    {
     "name": "stdout",
     "output_type": "stream",
     "text": [
      "2\n",
      "3\n",
      "4\n",
      "5\n"
     ]
    }
   ],
   "source": [
    "i = 1\n",
    "while i < 5:\n",
    "    i+=1\n",
    "    print(i)"
   ]
  },
  {
   "cell_type": "code",
   "execution_count": 8,
   "id": "ef8bd01a",
   "metadata": {},
   "outputs": [
    {
     "name": "stdout",
     "output_type": "stream",
     "text": [
      "enter a number :12\n",
      "enter a number :23\n",
      "enter a number :34\n",
      "enter a number :34\n",
      "enter a number :34\n",
      "enter a number :34\n",
      "enter a number :34\n",
      "enter a number :34\n",
      "enter a number :34\n",
      "enter a number :34\n",
      "30.7\n"
     ]
    }
   ],
   "source": [
    "i = 1   #7\n",
    "s = 0\n",
    "while i <11:\n",
    "    num = int(input(\"enter a number :\"))\n",
    "    s = s + num\n",
    "    i +=1\n",
    "print(s/10)    "
   ]
  },
  {
   "cell_type": "code",
   "execution_count": 9,
   "id": "5d87845a",
   "metadata": {},
   "outputs": [
    {
     "name": "stdout",
     "output_type": "stream",
     "text": [
      "print how many times  :12\n",
      "enter a name :23\n",
      "23\n",
      "23\n",
      "23\n",
      "23\n",
      "23\n",
      "23\n",
      "23\n",
      "23\n",
      "23\n",
      "23\n",
      "23\n",
      "23\n"
     ]
    }
   ],
   "source": [
    "times = int(input(\"print how many times  :\"))\n",
    "name = input(\"enter a name :\")\n",
    "i = 1\n",
    "while i<=times:\n",
    "    print(name)\n",
    "    i = i+1"
   ]
  },
  {
   "cell_type": "code",
   "execution_count": null,
   "id": "cfa4bcae",
   "metadata": {},
   "outputs": [],
   "source": [
    "num = 1\n",
    "while num <= 20:\n",
    "    if num%2 == 0:\n",
    "        print(num)\n",
    "    num = num + 1"
   ]
  },
  {
   "cell_type": "code",
   "execution_count": null,
   "id": "9e4b4adc",
   "metadata": {},
   "outputs": [],
   "source": [
    "num = 1\n",
    "while num <= 20:\n",
    "    if num%2 != 0:\n",
    "        print(num)\n",
    "    num = num + 1"
   ]
  },
  {
   "cell_type": "code",
   "execution_count": 3,
   "id": "bc1370c1",
   "metadata": {},
   "outputs": [
    {
     "name": "stdout",
     "output_type": "stream",
     "text": [
      "1 : square is : 1\n",
      "2 : square is : 4\n",
      "3 : square is : 9\n",
      "4 : square is : 16\n",
      "5 : square is : 25\n",
      "6 : square is : 36\n",
      "7 : square is : 49\n",
      "8 : square is : 64\n",
      "9 : square is : 81\n",
      "complete a program\n"
     ]
    }
   ],
   "source": [
    "num = 1\n",
    "while num < 10:\n",
    "    print(num,\": square is :\",num*num)\n",
    "    num = num + 1\n",
    "else:\n",
    "    print(\"complete a program\")"
   ]
  },
  {
   "cell_type": "code",
   "execution_count": 7,
   "id": "e0a95538",
   "metadata": {},
   "outputs": [
    {
     "name": "stdout",
     "output_type": "stream",
     "text": [
      "10 ,20 ,30 ,40 ,50 ,60 ,70 ,80 ,90 ,100 ,110 ,120 ,130 ,140 ,150 ,160 ,170 ,180 ,190 ,200 ,210 ,220 ,230 ,240 ,250 ,260 ,270 ,280 ,290 ,300 ,complete 10 t0 300 series\n"
     ]
    }
   ],
   "source": [
    "num = 10\n",
    "while num <= 300:\n",
    "    print(num,end=\" ,\")\n",
    "    num = num + 10\n",
    "else:\n",
    "    print(\"complete 10 t0 300 series\")"
   ]
  },
  {
   "cell_type": "code",
   "execution_count": 8,
   "id": "47e59e45",
   "metadata": {},
   "outputs": [
    {
     "name": "stdout",
     "output_type": "stream",
     "text": [
      "7 ,14 ,21 ,28 ,35 ,42 ,49 ,56 ,63 ,70 ,77 ,84 ,91 ,98 ,105 ,complete a 7 to 105 series\n"
     ]
    }
   ],
   "source": [
    "num = 7\n",
    "while num <= 105:\n",
    "    print(num,end=\" ,\")\n",
    "    num = num + 7\n",
    "else:\n",
    "    print(\"complete a 7 to 105 series\")"
   ]
  },
  {
   "cell_type": "code",
   "execution_count": 10,
   "id": "65e92a5a",
   "metadata": {},
   "outputs": [
    {
     "name": "stdout",
     "output_type": "stream",
     "text": [
      "10 9 8 7 6 5 4 3 2 1 0 complete program of natural number in reverse order \n"
     ]
    }
   ],
   "source": [
    "num = 10\n",
    "while num >=0:\n",
    "    print(num,end=\" \")\n",
    "    num = num - 1\n",
    "else:\n",
    "    print(\"complete program of natural number in reverse order \")"
   ]
  },
  {
   "cell_type": "code",
   "execution_count": 12,
   "id": "e3764c6d",
   "metadata": {},
   "outputs": [
    {
     "name": "stdout",
     "output_type": "stream",
     "text": [
      "sum of all natural number : 55\n"
     ]
    }
   ],
   "source": [
    "num = 0\n",
    "new_list = []\n",
    "while num <= 10:\n",
    "    new_list.append(num)\n",
    "    num = num + 1\n",
    "else:\n",
    "    print(\"sum of all natural number :\",sum(new_list))"
   ]
  },
  {
   "cell_type": "code",
   "execution_count": 3,
   "id": "9213cf98",
   "metadata": {},
   "outputs": [
    {
     "name": "stdout",
     "output_type": "stream",
     "text": [
      "total 110\n"
     ]
    }
   ],
   "source": [
    "num = 0\n",
    "new = []\n",
    "while num <= 20:\n",
    "    if num%2 == 0:\n",
    "        new.append(num)\n",
    "    num = num + 1\n",
    "else:\n",
    "    print(\"total\",sum(new))"
   ]
  },
  {
   "cell_type": "code",
   "execution_count": 1,
   "id": "fe9d14de",
   "metadata": {},
   "outputs": [
    {
     "name": "stdout",
     "output_type": "stream",
     "text": [
      "enter a number3\n",
      "3\n",
      "6\n",
      "9\n",
      "12\n",
      "15\n",
      "18\n",
      "21\n",
      "24\n",
      "27\n",
      "30\n",
      "complete table\n"
     ]
    }
   ],
   "source": [
    "num = int(input(\"enter a number\"))\n",
    "itg = 1\n",
    "while itg <= 10:\n",
    "    print(num*itg)\n",
    "    itg = itg + 1\n",
    "else:\n",
    "    print(\"complete table\")"
   ]
  },
  {
   "cell_type": "code",
   "execution_count": 4,
   "id": "45a5b78c",
   "metadata": {},
   "outputs": [
    {
     "name": "stdout",
     "output_type": "stream",
     "text": [
      "enter a number :12\n",
      "prime\n"
     ]
    }
   ],
   "source": [
    "num = int(input(\"enter a number :\"))\n",
    "count = 2\n",
    "if num > count:\n",
    "    while "
   ]
  },
  {
   "cell_type": "code",
   "execution_count": 11,
   "id": "6ff1a087",
   "metadata": {},
   "outputs": [
    {
     "data": {
      "text/plain": [
       "45.0"
      ]
     },
     "execution_count": 11,
     "metadata": {},
     "output_type": "execute_result"
    }
   ],
   "source": [
    "9e3//200"
   ]
  },
  {
   "cell_type": "code",
   "execution_count": null,
   "id": "6fc57310",
   "metadata": {},
   "outputs": [],
   "source": []
  },
  {
   "cell_type": "code",
   "execution_count": null,
   "id": "053565a7",
   "metadata": {},
   "outputs": [],
   "source": []
  }
 ],
 "metadata": {
  "kernelspec": {
   "display_name": "Python 3 (ipykernel)",
   "language": "python",
   "name": "python3"
  },
  "language_info": {
   "codemirror_mode": {
    "name": "ipython",
    "version": 3
   },
   "file_extension": ".py",
   "mimetype": "text/x-python",
   "name": "python",
   "nbconvert_exporter": "python",
   "pygments_lexer": "ipython3",
   "version": "3.11.4"
  }
 },
 "nbformat": 4,
 "nbformat_minor": 5
}
