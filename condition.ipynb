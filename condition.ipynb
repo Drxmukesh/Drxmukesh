{
 "cells": [
  {
   "cell_type": "code",
   "execution_count": 9,
   "id": "3959831b",
   "metadata": {},
   "outputs": [],
   "source": [
    "a=234\n",
    "b=345\n",
    "if a>b:\n",
    "    print(\"a is greater then b\")"
   ]
  },
  {
   "cell_type": "code",
   "execution_count": 8,
   "id": "4f1d2a5a",
   "metadata": {},
   "outputs": [
    {
     "name": "stdout",
     "output_type": "stream",
     "text": [
      "a is greater then b\n"
     ]
    }
   ],
   "source": [
    "a=234\n",
    "b=345\n",
    "if a<b:\n",
    "    print(\"a is greater then b\")"
   ]
  },
  {
   "cell_type": "code",
   "execution_count": 13,
   "id": "4e6a6c5f",
   "metadata": {},
   "outputs": [
    {
     "name": "stdout",
     "output_type": "stream",
     "text": [
      "b is breater then a\n"
     ]
    }
   ],
   "source": [
    "a=234\n",
    "b=345\n",
    "if a>b:\n",
    "    print(\"a is greater then b\")\n",
    "else:\n",
    "    print(\"b is breater then a\")"
   ]
  },
  {
   "cell_type": "code",
   "execution_count": 14,
   "id": "ea8b9a75",
   "metadata": {},
   "outputs": [
    {
     "name": "stdout",
     "output_type": "stream",
     "text": [
      "a is greater then b\n"
     ]
    }
   ],
   "source": [
    "a=234\n",
    "b=345\n",
    "if a<b:\n",
    "    print(\"a is greater then b\")\n",
    "else:\n",
    "    print(\"b is breater then a\")"
   ]
  },
  {
   "cell_type": "code",
   "execution_count": 15,
   "id": "f285191a",
   "metadata": {},
   "outputs": [
    {
     "name": "stdout",
     "output_type": "stream",
     "text": [
      "ready to vote 1\n"
     ]
    }
   ],
   "source": [
    "vote1=21\n",
    "vote2=14\n",
    "if vote1>18:\n",
    "    print(\"ready to vote 1\")\n",
    "else:\n",
    "    print(\"not ready to vote 1\")"
   ]
  },
  {
   "cell_type": "code",
   "execution_count": 16,
   "id": "4f34b439",
   "metadata": {},
   "outputs": [
    {
     "name": "stdout",
     "output_type": "stream",
     "text": [
      "not ready to vote 1\n"
     ]
    }
   ],
   "source": [
    "vote1=21\n",
    "vote2=14\n",
    "if vote2>18:\n",
    "    print(\"ready to vote 1\")\n",
    "else:\n",
    "    print(\"not ready to vote 1\")"
   ]
  },
  {
   "cell_type": "code",
   "execution_count": 18,
   "id": "ce1d7201",
   "metadata": {},
   "outputs": [
    {
     "name": "stdout",
     "output_type": "stream",
     "text": [
      "1\n",
      "not ready to vote\n"
     ]
    }
   ],
   "source": [
    "a=int(input())\n",
    "if a>18:\n",
    "    print(\"ready to vote\")\n",
    "else:\n",
    "    print(\"not ready to vote\")\n"
   ]
  },
  {
   "cell_type": "code",
   "execution_count": 25,
   "id": "5080c8ff",
   "metadata": {},
   "outputs": [
    {
     "name": "stdout",
     "output_type": "stream",
     "text": [
      "24\n",
      "number is even\n"
     ]
    }
   ],
   "source": [
    "a=int(input())\n",
    "if a%2:\n",
    "    print(\"number is odd\")\n",
    "else:\n",
    "    print(\"number is even\")"
   ]
  },
  {
   "cell_type": "code",
   "execution_count": 28,
   "id": "5eac4fba",
   "metadata": {},
   "outputs": [
    {
     "name": "stdout",
     "output_type": "stream",
     "text": [
      "3\n",
      "number is even\n"
     ]
    }
   ],
   "source": [
    "a=int(input())\n",
    "if a//2:\n",
    "    print(\"number is even\")\n",
    "else:\n",
    "    print(\"number is odd\")"
   ]
  },
  {
   "cell_type": "code",
   "execution_count": 32,
   "id": "f46a4f87",
   "metadata": {},
   "outputs": [
    {
     "name": "stdout",
     "output_type": "stream",
     "text": [
      "2234234\n",
      "number is is not divided by 7\n"
     ]
    }
   ],
   "source": [
    "a=int(input())\n",
    "if a%7:\n",
    "    print(\"number is is not divided by 7\")\n",
    "else:\n",
    "    print(\"number is divided by 7\")"
   ]
  },
  {
   "cell_type": "code",
   "execution_count": 40,
   "id": "d2085fbe",
   "metadata": {},
   "outputs": [
    {
     "name": "stdout",
     "output_type": "stream",
     "text": [
      "mukeh\n",
      "d\n",
      "s is not present in string\n"
     ]
    }
   ],
   "source": [
    "a=input()\n",
    "b=input()\n",
    "if b in a:\n",
    "    print(\"s is present in string\")\n",
    "else:\n",
    "    print(\"s is not present in string\")"
   ]
  },
  {
   "cell_type": "code",
   "execution_count": 2,
   "id": "6a5b4025",
   "metadata": {},
   "outputs": [
    {
     "name": "stdout",
     "output_type": "stream",
     "text": [
      "12\n",
      "*\n",
      "12\n",
      "144.0\n"
     ]
    }
   ],
   "source": [
    "a=float(input())\n",
    "b=str(input())\n",
    "\n",
    "c=float(input())\n",
    "if \"+\" in b:\n",
    "    print(a+c)\n",
    "    \n",
    "elif \"-\" in b:\n",
    "    print(a-c)\n",
    "    \n",
    "elif \"*\" in b:\n",
    "    print(a*c)\n",
    "    \n",
    "elif \"/\" in b:\n",
    "    print(a/c)\n",
    "    \n",
    "else:\n",
    "    print(\"not capebale to calculate\")\n",
    "    "
   ]
  },
  {
   "cell_type": "code",
   "execution_count": 42,
   "id": "b697a3fb",
   "metadata": {},
   "outputs": [
    {
     "name": "stdout",
     "output_type": "stream",
     "text": [
      "23\n",
      "number is is not divided by 7\n"
     ]
    }
   ],
   "source": [
    "a=int(input())\n",
    "if a%7:print(\"number is is not divided by 7\")\n",
    "else:print(\"number is divided by 7\")"
   ]
  },
  {
   "cell_type": "code",
   "execution_count": 43,
   "id": "e2d1c486",
   "metadata": {},
   "outputs": [
    {
     "name": "stdout",
     "output_type": "stream",
     "text": [
      "332\n",
      "number is is not divided by 7\n"
     ]
    }
   ],
   "source": [
    "a=int(input())\n",
    "print(\"number is is not divided by 7\") if a%7 else print(\"number is divided by 7\")\n",
    "    "
   ]
  },
  {
   "cell_type": "code",
   "execution_count": 1,
   "id": "4f0534b6",
   "metadata": {},
   "outputs": [
    {
     "name": "stdout",
     "output_type": "stream",
     "text": [
      "12\n",
      "n\n",
      "12\n",
      "not capebale to calculate\n"
     ]
    }
   ],
   "source": [
    "a=float(input())\n",
    "b=str(input())\n",
    "\n",
    "c=float(input())\n",
    "if \"+\" in b:\n",
    "    print(a+c)\n",
    "    \n",
    "elif \"-\" in b:\n",
    "    print(a-c)\n",
    "    \n",
    "elif \"**\" in b:\n",
    "    print(a**c)\n",
    "    \n",
    "elif \"//\" in b:\n",
    "    print(a//c)\n",
    "    \n",
    "elif \"*\" in b:\n",
    "    print(a*c)\n",
    "    \n",
    "elif \"/\" in b:\n",
    "    print(a/c)\n",
    "\n",
    "    \n",
    "else:\n",
    "    print(\"not capebale to calculate\")\n",
    "    "
   ]
  },
  {
   "cell_type": "code",
   "execution_count": 3,
   "id": "cd129e01",
   "metadata": {},
   "outputs": [
    {
     "name": "stdout",
     "output_type": "stream",
     "text": [
      " amount:-100\n",
      "percent:-12\n",
      "only%(0) no.+% no.-%  :-=\n",
      "112.0\n"
     ]
    }
   ],
   "source": [
    "a=float(input(\" amount:-\"))\n",
    "b=float(input(\"percent:-\"))\n",
    "c=str(input(\"only%(0) no.+% no.-%  :-\"))\n",
    "d=a/100*b\n",
    "\n",
    "\n",
    "if c==\"0\":\n",
    "    print(d)\n",
    "\n",
    "elif c==\"+\" or c==\"=\":\n",
    "    print(d+a)\n",
    "\n",
    "elif c==\"-\":\n",
    "    print(a-d)"
   ]
  },
  {
   "cell_type": "code",
   "execution_count": 7,
   "id": "7f194a47",
   "metadata": {},
   "outputs": [
    {
     "name": "stdout",
     "output_type": "stream",
     "text": [
      " amount:-4\n",
      "percent:-3\n",
      "w\n"
     ]
    }
   ],
   "source": [
    "a=float(input(\" amount:-\"))\n",
    "b=float(input(\"percent:-\"))\n",
    "if a>b:\n",
    "    if b>12:\n",
    "        print(\"abc\")\n",
    "    else:\n",
    "        print(\"w\")\n",
    "else:\n",
    "    print(\"h\")"
   ]
  },
  {
   "cell_type": "code",
   "execution_count": 19,
   "id": "7c2ffa78",
   "metadata": {},
   "outputs": [
    {
     "name": "stdout",
     "output_type": "stream",
     "text": [
      " amount:-12\n",
      "percent:-34\n"
     ]
    }
   ],
   "source": [
    "a=float(input(\" amount:-\"))\n",
    "b=float(input(\"percent:-\"))\n"
   ]
  },
  {
   "cell_type": "markdown",
   "id": "979c5fa8",
   "metadata": {},
   "source": [
    "WAP a program to input a number and then print with a suitable message\n",
    "whether it is divisible by 17 or not"
   ]
  },
  {
   "cell_type": "code",
   "execution_count": null,
   "id": "8362dcd6",
   "metadata": {},
   "outputs": [],
   "source": []
  }
 ],
 "metadata": {
  "kernelspec": {
   "display_name": "Python 3 (ipykernel)",
   "language": "python",
   "name": "python3"
  },
  "language_info": {
   "codemirror_mode": {
    "name": "ipython",
    "version": 3
   },
   "file_extension": ".py",
   "mimetype": "text/x-python",
   "name": "python",
   "nbconvert_exporter": "python",
   "pygments_lexer": "ipython3",
   "version": "3.11.4"
  }
 },
 "nbformat": 4,
 "nbformat_minor": 5
}
