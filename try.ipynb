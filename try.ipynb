{
 "cells": [
  {
   "cell_type": "code",
   "execution_count": 1,
   "id": "80557496",
   "metadata": {},
   "outputs": [
    {
     "name": "stdout",
     "output_type": "stream",
     "text": [
      "1\n",
      "2\n",
      "3\n",
      "1 2 3\n",
      "1 3\n"
     ]
    }
   ],
   "source": [
    "a,b,c=1,2,3           #a=1   , b=2   ,    c=3\n",
    "print(a)\n",
    "print(b)\n",
    "print(c)\n",
    "print(a,b,c)\n",
    "print(a,c)"
   ]
  },
  {
   "cell_type": "code",
   "execution_count": 2,
   "id": "7f69405a",
   "metadata": {},
   "outputs": [
    {
     "name": "stdout",
     "output_type": "stream",
     "text": [
      "<class 'int'>\n",
      "5\n",
      "\n",
      "<class 'float'>\n",
      "1.2\n",
      "\n",
      "<class 'bool'>\n",
      "True\n",
      "\n",
      "<class 'complex'>\n",
      "12j\n",
      "\n",
      "<class 'str'>\n",
      "mukesh\n"
     ]
    }
   ],
   "source": [
    "a=5\n",
    "b=1.2\n",
    "c=True\n",
    "d=12j\n",
    "e=\"mukesh\"\n",
    "print(type(a))\n",
    "print(a)\n",
    "print()\n",
    "print(type(b))\n",
    "print(b)\n",
    "print()\n",
    "print(type(c))\n",
    "print(c)\n",
    "print()\n",
    "print(type(d))\n",
    "print(d)\n",
    "print()\n",
    "print(type(e))\n",
    "print(e)"
   ]
  },
  {
   "cell_type": "code",
   "execution_count": 3,
   "id": "b5ad7ec5",
   "metadata": {},
   "outputs": [
    {
     "name": "stdout",
     "output_type": "stream",
     "text": [
      "<class 'int'>\n",
      "convert int many types\n",
      "<class 'float'>\n",
      "5.0\n",
      "\n",
      "<class 'bool'>\n",
      "True\n",
      "\n",
      "<class 'complex'>\n",
      "(5+0j)\n",
      "\n",
      "<class 'str'>\n",
      "5\n"
     ]
    }
   ],
   "source": [
    "print(type(a))\n",
    "print(\"convert int many types\")\n",
    "f=float(a)\n",
    "g=bool(a)\n",
    "h=complex(a)\n",
    "i=str(a)\n",
    "print(type(f))\n",
    "print(f)\n",
    "print()\n",
    "print(type(g))\n",
    "print(g)\n",
    "print()\n",
    "print(type(h))\n",
    "print(h)\n",
    "print()\n",
    "print(type(i))\n",
    "print(i)"
   ]
  },
  {
   "cell_type": "code",
   "execution_count": 4,
   "id": "85cbd7a9",
   "metadata": {},
   "outputs": [
    {
     "name": "stdout",
     "output_type": "stream",
     "text": [
      "<class 'float'>\n",
      "float converts into a following type\n",
      "<class 'int'>\n",
      "1\n",
      "\n",
      "<class 'bool'>\n",
      "True\n",
      "\n",
      "<class 'complex'>\n",
      "(1.2+0j)\n",
      "\n",
      "<class 'str'>\n",
      "1.2\n"
     ]
    }
   ],
   "source": [
    "j=int(b)\n",
    "k=bool(b)\n",
    "l=complex(b)\n",
    "m=str(b)\n",
    "print(type(b))\n",
    "print(\"float converts into a following type\")\n",
    "print(type(j))\n",
    "print(j)\n",
    "print()\n",
    "print(type(k))\n",
    "print(k)\n",
    "print()\n",
    "print(type(l))\n",
    "print(l)\n",
    "print()\n",
    "print(type(m))\n",
    "print(m)"
   ]
  },
  {
   "cell_type": "code",
   "execution_count": 5,
   "id": "b034d2e4",
   "metadata": {},
   "outputs": [
    {
     "name": "stdout",
     "output_type": "stream",
     "text": [
      "<class 'bool'>\n",
      "convert boolean into following types\n",
      "<class 'int'>\n",
      "1\n",
      "\n",
      "<class 'float'>\n",
      "1.0\n",
      "\n",
      "<class 'complex'>\n",
      "(1+0j)\n",
      "\n",
      "<class 'str'>\n",
      "True\n"
     ]
    }
   ],
   "source": [
    "n=int(c)\n",
    "o=float(c)\n",
    "p=complex(c)\n",
    "q=str(c)\n",
    "print(type(c))\n",
    "print(\"convert boolean into following types\")\n",
    "print(type(n))\n",
    "print(n)\n",
    "print()\n",
    "print(type(o))\n",
    "print(o)\n",
    "print()\n",
    "print(type(p))\n",
    "print(p)\n",
    "print()\n",
    "print(type(q))\n",
    "print(q)"
   ]
  },
  {
   "cell_type": "code",
   "execution_count": 6,
   "id": "e6f83702",
   "metadata": {},
   "outputs": [
    {
     "name": "stdout",
     "output_type": "stream",
     "text": [
      "<class 'complex'>\n",
      "complex converts into following types\n",
      "<class 'bool'>\n",
      "True\n",
      "\n",
      "<class 'str'>\n",
      "12j\n"
     ]
    }
   ],
   "source": [
    "t=bool(d)\n",
    "u=str(d)\n",
    "print(type(d))\n",
    "print(\"complex converts into following types\")\n",
    "print(type(t))\n",
    "print(t)\n",
    "print()\n",
    "print(type(u))\n",
    "print(u)"
   ]
  },
  {
   "cell_type": "code",
   "execution_count": 7,
   "id": "a7cf34f1",
   "metadata": {},
   "outputs": [],
   "source": [
    "# if string have charactor value can not change in any data type if the sting contain numeric or boolean or complex value"
   ]
  },
  {
   "cell_type": "markdown",
   "id": "212dd0c7",
   "metadata": {},
   "source": [
    "z=1j\n",
    "x=z**12\n",
    "x"
   ]
  },
  {
   "cell_type": "code",
   "execution_count": 8,
   "id": "05f16711",
   "metadata": {},
   "outputs": [
    {
     "data": {
      "text/plain": [
       "32j"
      ]
     },
     "execution_count": 8,
     "metadata": {},
     "output_type": "execute_result"
    }
   ],
   "source": [
    "z=\"32j\"\n",
    "x=complex(z)\n",
    "x"
   ]
  },
  {
   "cell_type": "code",
   "execution_count": 9,
   "id": "10f14d1e",
   "metadata": {},
   "outputs": [],
   "source": [
    "a=3\n",
    "b=4\n",
    "c=3\n",
    "d=9\n",
    "e=12"
   ]
  },
  {
   "cell_type": "code",
   "execution_count": 10,
   "id": "02ff970f",
   "metadata": {},
   "outputs": [
    {
     "name": "stdout",
     "output_type": "stream",
     "text": [
      "8.0\n"
     ]
    }
   ],
   "source": [
    "print(((((((d+e)-a)*2)**d)/7)//2)%e)"
   ]
  },
  {
   "cell_type": "code",
   "execution_count": 11,
   "id": "cf8ff2f4",
   "metadata": {},
   "outputs": [
    {
     "name": "stdout",
     "output_type": "stream",
     "text": [
      "comperision between a(3) and b(4)\n",
      "False\n",
      "a>b\n",
      "\n",
      "True\n",
      "a<b\n",
      "\n",
      "False\n",
      "a>=b\n",
      "\n",
      "True\n",
      "a<=b\n",
      "\n",
      "True\n",
      "a!=b\n",
      "\n",
      "False\n",
      "a==b\n"
     ]
    }
   ],
   "source": [
    "print(\"comperision between a(3) and b(4)\")\n",
    "print(a>b)\n",
    "print(\"a>b\")\n",
    "print()\n",
    "print(a<b)\n",
    "print(\"a<b\")\n",
    "print()\n",
    "print(a>=b)\n",
    "print(\"a>=b\")\n",
    "print()\n",
    "print(a<=b)\n",
    "print(\"a<=b\")\n",
    "print()\n",
    "print(a!=b)\n",
    "print(\"a!=b\")\n",
    "print()\n",
    "print(a==b)\n",
    "print(\"a==b\")"
   ]
  },
  {
   "cell_type": "code",
   "execution_count": 12,
   "id": "99c50d5b",
   "metadata": {},
   "outputs": [
    {
     "name": "stdout",
     "output_type": "stream",
     "text": [
      "False\n"
     ]
    },
    {
     "data": {
      "text/plain": [
       "0"
      ]
     },
     "execution_count": 12,
     "metadata": {},
     "output_type": "execute_result"
    }
   ],
   "source": [
    "a=\"3\"\n",
    "b=\"4\"\n",
    "print(a in b)\n",
    "c=a in b\n",
    "d=int(c)\n",
    "d"
   ]
  },
  {
   "cell_type": "code",
   "execution_count": 13,
   "id": "2a8181d3",
   "metadata": {},
   "outputs": [
    {
     "name": "stdout",
     "output_type": "stream",
     "text": [
      "2023-10-04 15:40:31.174417\n"
     ]
    }
   ],
   "source": [
    "import datetime\n",
    "print(datetime.datetime.now())"
   ]
  },
  {
   "cell_type": "code",
   "execution_count": 14,
   "id": "17b43ee6",
   "metadata": {},
   "outputs": [
    {
     "name": "stdout",
     "output_type": "stream",
     "text": [
      "%a Weekday as abbreviated names. Sun, Mon, ..., Sat (en_US);\n",
      "So, Mo, ..., Sa (de_DE)\n",
      "(1)\n",
      "%A Weekdays as full names. Sunday, Monday, ...,\n",
      "Saturday (en_US);\n",
      "Sonntag, Montag, ...,\n",
      "Samstag (de_DE)\n",
      "\n",
      "(1)\n",
      "%w Weekday as a decimal number,\n",
      "where 0 is Sunday and 6 is Saturday.\n",
      "0, 1, ..., 6\n",
      "\n",
      "%d Day of the month as a zero-padded\n",
      "decimal number.\n",
      "\n",
      "01, 02, ..., 31\n",
      "\n",
      "%b Month as abbreviated names. Jan, Feb, ..., Dec (en_US);\n",
      "Jan, Feb, ..., Dez (de_DE)\n",
      "(1)\n",
      "%B Month as full names. January, February, ...,\n",
      "December (en_US);\n",
      "Januar, Februar, ...,\n",
      "Dezember (de_DE)\n",
      "\n",
      "(1)\n",
      "%m Month as a zero-padded decimal\n",
      "\n",
      "number.\n",
      "\n",
      "01, 02, ..., 12\n",
      "\n",
      "%y Year without century as a zero-\n",
      "padded decimal number.\n",
      "\n",
      "00, 01, ..., 99\n",
      "\n",
      "%Y Year with century as a decimal\n",
      "\n",
      "number.\n",
      "\n",
      "1970, 1988, 2001, 2013\n",
      "\n",
      "%H Hour (24-hour clock) as a zero-\n",
      "padded decimal number.\n",
      "\n",
      "00, 01, ..., 23\n",
      "\n",
      "%I Hour (12-hour clock) as a zero-\n",
      "padded decimal number.\n",
      "\n",
      "01, 02, ..., 12\n",
      "%p Equivalent of either AM or PM. AM, PM (en_US);\n",
      "am, pm (de_DE)\n",
      "\n",
      "(1), (2)\n",
      "\n",
      "%M Minute as a zero-padded decimal\n",
      "\n",
      "number.\n",
      "\n",
      "00, 01, ..., 59\n",
      "\n",
      "%S Second as a zero-padded decimal\n",
      "\n",
      "number.\n",
      "\n",
      "00, 01, ..., 59 (3)\n",
      "\n",
      "%f Microsecond as a decimal number,\n",
      "\n",
      "zero-padded on the left.\n",
      "\n",
      "000000, 000001, ...,\n",
      "999999\n",
      "\n",
      "(4)\n",
      "\n",
      "%z UTC offset in the form +HHMM or -\n",
      "HHMM (empty string if the object is\n",
      "naive).\n",
      "\n",
      "(empty), +0000, -0400,\n",
      "+1030\n",
      "\n",
      "(5)\n",
      "\n",
      "%Z Time zone name (empty string if the\n",
      "\n",
      "object is naive).\n",
      "\n",
      "(empty), UTC, EST, CST\n",
      "\n",
      "%j Day of the year as a zero-padded\n",
      "\n",
      "decimal number.\n",
      "\n",
      "001, 002, ..., 366\n",
      "\n",
      "%U Week number of the year (Sunday as\n",
      "the first day of the week) as a zero\n",
      "padded decimal number. All days in a\n",
      "new year preceding the first Sunday\n",
      "are considered to be in week 0.\n",
      "\n",
      "00, 01, ..., 53 (6)\n",
      "\n",
      "%W Week number of the year (Monday\n",
      "as the first day of the week) as a\n",
      "decimal number. All days in a new\n",
      "year preceding the first Monday are\n",
      "considered to be in week 0.\n",
      "\n",
      "00, 01, ..., 53 (6)\n",
      "\n",
      "%c Appropriate date and time\n",
      "\n",
      "representation.\n",
      "\n",
      "Tue Aug 16 21:30:00 1988\n",
      "(en_US);\n",
      "Di 16 Aug 21:30:00 1988\n",
      "(de_DE)\n",
      "\n",
      "(1)\n",
      "\n",
      "%x Appropriate date representation. 08/16/88 (None);\n",
      "08/16/1988 (en_US);\n",
      "16.08.1988 (de_DE)\n",
      "\n",
      "(1)\n",
      "\n",
      "%X Appropriate time representation. 21:30:00 (en_US);\n",
      "21:30:00 (de_DE)\n",
      "\n",
      "(1)\n",
      "\n",
      "%% A literal '%' character. %\n"
     ]
    }
   ],
   "source": [
    "print('''%a Weekday as abbreviated names. Sun, Mon, ..., Sat (en_US);\n",
    "So, Mo, ..., Sa (de_DE)\n",
    "(1)\n",
    "%A Weekdays as full names. Sunday, Monday, ...,\n",
    "Saturday (en_US);\n",
    "Sonntag, Montag, ...,\n",
    "Samstag (de_DE)\n",
    "\n",
    "(1)\n",
    "%w Weekday as a decimal number,\n",
    "where 0 is Sunday and 6 is Saturday.\n",
    "0, 1, ..., 6\n",
    "\n",
    "%d Day of the month as a zero-padded\n",
    "decimal number.\n",
    "\n",
    "01, 02, ..., 31\n",
    "\n",
    "%b Month as abbreviated names. Jan, Feb, ..., Dec (en_US);\n",
    "Jan, Feb, ..., Dez (de_DE)\n",
    "(1)\n",
    "%B Month as full names. January, February, ...,\n",
    "December (en_US);\n",
    "Januar, Februar, ...,\n",
    "Dezember (de_DE)\n",
    "\n",
    "(1)\n",
    "%m Month as a zero-padded decimal\n",
    "\n",
    "number.\n",
    "\n",
    "01, 02, ..., 12\n",
    "\n",
    "%y Year without century as a zero-\n",
    "padded decimal number.\n",
    "\n",
    "00, 01, ..., 99\n",
    "\n",
    "%Y Year with century as a decimal\n",
    "\n",
    "number.\n",
    "\n",
    "1970, 1988, 2001, 2013\n",
    "\n",
    "%H Hour (24-hour clock) as a zero-\n",
    "padded decimal number.\n",
    "\n",
    "00, 01, ..., 23\n",
    "\n",
    "%I Hour (12-hour clock) as a zero-\n",
    "padded decimal number.\n",
    "\n",
    "01, 02, ..., 12\n",
    "%p Equivalent of either AM or PM. AM, PM (en_US);\n",
    "am, pm (de_DE)\n",
    "\n",
    "(1), (2)\n",
    "\n",
    "%M Minute as a zero-padded decimal\n",
    "\n",
    "number.\n",
    "\n",
    "00, 01, ..., 59\n",
    "\n",
    "%S Second as a zero-padded decimal\n",
    "\n",
    "number.\n",
    "\n",
    "00, 01, ..., 59 (3)\n",
    "\n",
    "%f Microsecond as a decimal number,\n",
    "\n",
    "zero-padded on the left.\n",
    "\n",
    "000000, 000001, ...,\n",
    "999999\n",
    "\n",
    "(4)\n",
    "\n",
    "%z UTC offset in the form +HHMM or -\n",
    "HHMM (empty string if the object is\n",
    "naive).\n",
    "\n",
    "(empty), +0000, -0400,\n",
    "+1030\n",
    "\n",
    "(5)\n",
    "\n",
    "%Z Time zone name (empty string if the\n",
    "\n",
    "object is naive).\n",
    "\n",
    "(empty), UTC, EST, CST\n",
    "\n",
    "%j Day of the year as a zero-padded\n",
    "\n",
    "decimal number.\n",
    "\n",
    "001, 002, ..., 366\n",
    "\n",
    "%U Week number of the year (Sunday as\n",
    "the first day of the week) as a zero\n",
    "padded decimal number. All days in a\n",
    "new year preceding the first Sunday\n",
    "are considered to be in week 0.\n",
    "\n",
    "00, 01, ..., 53 (6)\n",
    "\n",
    "%W Week number of the year (Monday\n",
    "as the first day of the week) as a\n",
    "decimal number. All days in a new\n",
    "year preceding the first Monday are\n",
    "considered to be in week 0.\n",
    "\n",
    "00, 01, ..., 53 (6)\n",
    "\n",
    "%c Appropriate date and time\n",
    "\n",
    "representation.\n",
    "\n",
    "Tue Aug 16 21:30:00 1988\n",
    "(en_US);\n",
    "Di 16 Aug 21:30:00 1988\n",
    "(de_DE)\n",
    "\n",
    "(1)\n",
    "\n",
    "%x Appropriate date representation. 08/16/88 (None);\n",
    "08/16/1988 (en_US);\n",
    "16.08.1988 (de_DE)\n",
    "\n",
    "(1)\n",
    "\n",
    "%X Appropriate time representation. 21:30:00 (en_US);\n",
    "21:30:00 (de_DE)\n",
    "\n",
    "(1)\n",
    "\n",
    "%% A literal '%' character. %''')"
   ]
  },
  {
   "cell_type": "code",
   "execution_count": 15,
   "id": "947122e5",
   "metadata": {},
   "outputs": [
    {
     "data": {
      "text/plain": [
       "'Wed Oct  4 15:40:31 2023'"
      ]
     },
     "execution_count": 15,
     "metadata": {},
     "output_type": "execute_result"
    }
   ],
   "source": [
    "import datetime as dt\n",
    "date=dt.datetime.now()\n",
    "date.strftime('%c')"
   ]
  },
  {
   "cell_type": "code",
   "execution_count": 16,
   "id": "6037660a",
   "metadata": {},
   "outputs": [
    {
     "name": "stderr",
     "output_type": "stream",
     "text": [
      "'w1' is not recognized as an internal or external command,\n",
      "operable program or batch file.\n"
     ]
    },
    {
     "ename": "NameError",
     "evalue": "name 'w1' is not defined",
     "output_type": "error",
     "traceback": [
      "\u001b[1;31m---------------------------------------------------------------------------\u001b[0m",
      "\u001b[1;31mNameError\u001b[0m                                 Traceback (most recent call last)",
      "Cell \u001b[1;32mIn[16], line 2\u001b[0m\n\u001b[0;32m      1\u001b[0m get_ipython()\u001b[38;5;241m.\u001b[39msystem(\u001b[38;5;124m'\u001b[39m\u001b[38;5;124mw1=12\u001b[39m\u001b[38;5;124m'\u001b[39m)\n\u001b[1;32m----> 2\u001b[0m \u001b[38;5;28mprint\u001b[39m(w1)\n",
      "\u001b[1;31mNameError\u001b[0m: name 'w1' is not defined"
     ]
    }
   ],
   "source": [
    "!w1=12\n",
    "print(w1)"
   ]
  },
  {
   "cell_type": "code",
   "execution_count": null,
   "id": "5ba61de7",
   "metadata": {},
   "outputs": [],
   "source": [
    "\n",
    "In=12\n",
    "print(In)"
   ]
  },
  {
   "cell_type": "code",
   "execution_count": null,
   "id": "542a642e",
   "metadata": {},
   "outputs": [],
   "source": [
    "a=[1,2,3,3,\"n\"]\n",
    "print(type(a))"
   ]
  },
  {
   "cell_type": "code",
   "execution_count": null,
   "id": "99588307",
   "metadata": {},
   "outputs": [],
   "source": [
    "import pandas as pd\n",
    "df=pd.DataFrame(a)\n",
    "s=pd.Series(a)\n",
    "print(df)\n",
    "print(s)\n",
    "print(type(df))\n",
    "print(type(s))"
   ]
  },
  {
   "cell_type": "code",
   "execution_count": null,
   "id": "a73db998",
   "metadata": {},
   "outputs": [],
   "source": [
    "import calendar\n",
    "m=calendar.month(2019,(1,2))\n",
    "print(m)"
   ]
  },
  {
   "cell_type": "code",
   "execution_count": null,
   "id": "ee9f8181",
   "metadata": {},
   "outputs": [],
   "source": [
    "a=12*2\n",
    "print(a)"
   ]
  },
  {
   "cell_type": "code",
   "execution_count": null,
   "id": "572184d6",
   "metadata": {},
   "outputs": [],
   "source": [
    "a=3\n",
    "b=4\n",
    "c=8\n",
    "d=3\n",
    "print(a,b,c,d)"
   ]
  },
  {
   "cell_type": "code",
   "execution_count": null,
   "id": "d06c99f0",
   "metadata": {},
   "outputs": [],
   "source": [
    "print(5*(a+b))"
   ]
  },
  {
   "cell_type": "code",
   "execution_count": null,
   "id": "a6312bcb",
   "metadata": {},
   "outputs": [],
   "source": [
    "z=a>c\n",
    "print(z)"
   ]
  },
  {
   "cell_type": "code",
   "execution_count": null,
   "id": "041de3b7",
   "metadata": {},
   "outputs": [],
   "source": [
    "a=\"values\"\n",
    "b=\"value\"\n",
    "print(a in b)"
   ]
  },
  {
   "cell_type": "code",
   "execution_count": null,
   "id": "1ef48469",
   "metadata": {},
   "outputs": [],
   "source": [
    "print(b in a)"
   ]
  },
  {
   "cell_type": "code",
   "execution_count": null,
   "id": "610cf163",
   "metadata": {},
   "outputs": [],
   "source": [
    "a=\"mukesh\"\n",
    "print(len(a))"
   ]
  },
  {
   "cell_type": "code",
   "execution_count": null,
   "id": "4c1dc231",
   "metadata": {},
   "outputs": [],
   "source": [
    "print(\"u\" in a)"
   ]
  },
  {
   "cell_type": "code",
   "execution_count": null,
   "id": "82182a32",
   "metadata": {},
   "outputs": [],
   "source": [
    "print(a[5])"
   ]
  },
  {
   "cell_type": "code",
   "execution_count": null,
   "id": "0346f373",
   "metadata": {},
   "outputs": [],
   "source": [
    "print(a[2:5])"
   ]
  },
  {
   "cell_type": "code",
   "execution_count": null,
   "id": "cfee41c0",
   "metadata": {},
   "outputs": [],
   "source": [
    "print(a[-1:-3])"
   ]
  },
  {
   "cell_type": "code",
   "execution_count": null,
   "id": "382e62a0",
   "metadata": {},
   "outputs": [],
   "source": [
    "print(a[-1:-3])"
   ]
  },
  {
   "cell_type": "code",
   "execution_count": null,
   "id": "ceebedad",
   "metadata": {},
   "outputs": [],
   "source": [
    "a=      \"    mukesh,choudhary   \"      \n",
    "print(a.upper())\n",
    "print(a.lower())\n",
    "print(a.strip())\n",
    "print(a.replace(\"mukesh\",\"Mukesh\"))\n",
    "print(a.split(\",\"))"
   ]
  },
  {
   "cell_type": "code",
   "execution_count": null,
   "id": "831a7346",
   "metadata": {},
   "outputs": [],
   "source": [
    "print(a.center(\"muke\"))\n",
    "print(a.encode())"
   ]
  },
  {
   "cell_type": "code",
   "execution_count": null,
   "id": "2313ac54",
   "metadata": {},
   "outputs": [],
   "source": [
    "txt = \"I love apples, apple are my favorite fruit\"\n",
    "x = txt.count(\"apple\", 1, 24)\n",
    "y=txt.encode(encoding=\"ascii\",error=\"replace_love\")\n",
    "print(x)"
   ]
  },
  {
   "cell_type": "code",
   "execution_count": null,
   "id": "9a4eb6dc",
   "metadata": {},
   "outputs": [],
   "source": [
    "txt = \"H\\te\\tl\\tl\\to\"\n",
    "\n",
    "x =  txt.expandtabs()\n",
    "\n",
    "print(x)"
   ]
  },
  {
   "cell_type": "code",
   "execution_count": null,
   "id": "132915d6",
   "metadata": {},
   "outputs": [],
   "source": [
    "x = 5\n",
    "y = \"John\"\n",
    "print(x)\n",
    "print(y)\n",
    "print(x,y)"
   ]
  },
  {
   "cell_type": "code",
   "execution_count": 17,
   "id": "35c2bad0",
   "metadata": {},
   "outputs": [
    {
     "data": {
      "text/plain": [
       "'Variables are essentially containers that can hold different types \\nof data, such as numbers, strings, lists, or objects. These containers\\nallow you to manipulate and work with data in your Python programs'"
      ]
     },
     "execution_count": 17,
     "metadata": {},
     "output_type": "execute_result"
    }
   ],
   "source": [
    "\"\"\"Variables are essentially containers that can hold different types \n",
    "of data, such as numbers, strings, lists, or objects. These containers\n",
    "allow you to manipulate and work with data in your Python programs\"\"\"\n"
   ]
  },
  {
   "cell_type": "code",
   "execution_count": 18,
   "id": "8e3909de",
   "metadata": {},
   "outputs": [
    {
     "name": "stdout",
     "output_type": "stream",
     "text": [
      "apple\n",
      "banana\n",
      "cherry\n"
     ]
    }
   ],
   "source": [
    "fruits = [\"apple\", \"banana\", \"cherry\"]\n",
    "x, y, z = fruits\n",
    "print(x)\n",
    "print(y)\n",
    "print(z)"
   ]
  },
  {
   "cell_type": "code",
   "execution_count": 22,
   "id": "11d0aa0e",
   "metadata": {},
   "outputs": [
    {
     "name": "stdout",
     "output_type": "stream",
     "text": [
      "<class 'tuple'>\n",
      "apple\n",
      "banana\n",
      "cherry\n"
     ]
    }
   ],
   "source": [
    "fruits = \"apple\", \"banana\", \"cherry\"\n",
    "x, y, z = fruits\n",
    "print(type(fruits))\n",
    "print(x)\n",
    "print(y)\n",
    "print(z)"
   ]
  },
  {
   "cell_type": "code",
   "execution_count": 23,
   "id": "a3f4b90a",
   "metadata": {},
   "outputs": [
    {
     "data": {
      "text/plain": [
       "'global variable'"
      ]
     },
     "execution_count": 23,
     "metadata": {},
     "output_type": "execute_result"
    }
   ],
   "source": [
    "\"global variable\""
   ]
  },
  {
   "cell_type": "code",
   "execution_count": 1,
   "id": "4beda884",
   "metadata": {},
   "outputs": [
    {
     "name": "stdout",
     "output_type": "stream",
     "text": [
      "{'a': 2}\n"
     ]
    }
   ],
   "source": [
    "a=dict(a=2)\n",
    "print(a)"
   ]
  },
  {
   "cell_type": "code",
   "execution_count": 23,
   "id": "db99a71a",
   "metadata": {},
   "outputs": [
    {
     "name": "stdout",
     "output_type": "stream",
     "text": [
      "<class 'int'>\n",
      "<class 'int'>\n",
      "<class 'int'>\n",
      "<class 'bytes'>\n",
      "<class 'int'>\n",
      "<class 'set'>\n",
      "<class 'set'>\n",
      "<class 'tuple'>\n",
      "<class 'dict'>\n",
      "<class 'dict'>\n",
      "<class 'list'>\n",
      "<class 'list'>\n",
      "<class 'NoneType'>\n"
     ]
    }
   ],
   "source": [
    "a=int(12)\n",
    "b=12\n",
    "c=int(23.3)\n",
    "d=int(True)\n",
    "e=b\"cho\"\n",
    "\n",
    "print(type(a))\n",
    "print(type(b))\n",
    "print(type(c))\n",
    "print(type(e))\n",
    "print(type(d))\n",
    "\n",
    "f={\"mukesh\",\"choudhary\"}\n",
    "print(type(f))\n",
    "g=set(\"mukesh\")\n",
    "print(type(g))\n",
    "h=tuple(\"mukesh\")\n",
    "print(type(h))\n",
    "i=dict(a=1,b=2,c=3)\n",
    "print(type(i))\n",
    "j={1:'a',2:\"b\"}\n",
    "print(type(j))\n",
    "k=list((1,2,3,4))\n",
    "print(type(k))\n",
    "l=[1,2,3,4,5]\n",
    "print(type(l))\n",
    "m=None\n",
    "print(type(m))\n",
    "\n",
    "\n"
   ]
  },
  {
   "cell_type": "code",
   "execution_count": 1,
   "id": "dfaf258d",
   "metadata": {},
   "outputs": [
    {
     "name": "stdout",
     "output_type": "stream",
     "text": [
      "                   amount12\n",
      "                  percent13\n",
      "only%(0) no.+% no.-%=\n",
      "13.56\n"
     ]
    }
   ],
   "source": [
    "a=float(input(\"                   amount\"))\n",
    "b=float(input(\"                  percent\"))\n",
    "c=str(input(\"only%(0) no.+% no.-%\"))\n",
    "d=a/100*b\n",
    "\n",
    "if c==\"0\":\n",
    "    print(d)\n",
    "\n",
    "elif c==\"+\" or c==\"=\":\n",
    "    print(d+a)\n",
    "\n",
    "elif c==\"-\":\n",
    "    print(a-d)"
   ]
  },
  {
   "cell_type": "code",
   "execution_count": 4,
   "id": "e947244b",
   "metadata": {},
   "outputs": [
    {
     "name": "stdout",
     "output_type": "stream",
     "text": [
      "<class 'float'>\n"
     ]
    },
    {
     "data": {
      "text/plain": [
       "2e+223"
      ]
     },
     "execution_count": 4,
     "metadata": {},
     "output_type": "execute_result"
    }
   ],
   "source": [
    "a=20E222\n",
    "print(type(a))\n",
    "a"
   ]
  },
  {
   "cell_type": "code",
   "execution_count": 7,
   "id": "416f51ca",
   "metadata": {},
   "outputs": [
    {
     "name": "stdout",
     "output_type": "stream",
     "text": [
      "e\n"
     ]
    }
   ],
   "source": [
    "a = \"Hello, World!\"\n",
    "print(a[1])"
   ]
  },
  {
   "cell_type": "code",
   "execution_count": 10,
   "id": "f05f1866",
   "metadata": {},
   "outputs": [
    {
     "name": "stdout",
     "output_type": "stream",
     "text": [
      "orl\n"
     ]
    }
   ],
   "source": [
    "b = \"Hello, World!\"\n",
    "print(b[-5:-2])"
   ]
  },
  {
   "cell_type": "code",
   "execution_count": 2,
   "id": "f7ff6a1e",
   "metadata": {},
   "outputs": [
    {
     "name": "stdout",
     "output_type": "stream",
     "text": [
      "3.0\n"
     ]
    }
   ],
   "source": [
    "x=lambda a,b:a+b*a/b//b**a\n",
    "print(x(3,4))"
   ]
  },
  {
   "cell_type": "code",
   "execution_count": 8,
   "id": "1afdd875",
   "metadata": {},
   "outputs": [
    {
     "name": "stdout",
     "output_type": "stream",
     "text": [
      "\n",
      "* \n",
      "* * \n",
      "* * * \n",
      "* * * * \n",
      "* * * * * \n"
     ]
    }
   ],
   "source": [
    "for i in range(0,5+1):\n",
    "    for j in range(0,i):\n",
    "        print(\"*\",end=\" \")\n",
    "    print()"
   ]
  },
  {
   "cell_type": "code",
   "execution_count": 56,
   "id": "975d304b",
   "metadata": {},
   "outputs": [
    {
     "name": "stdout",
     "output_type": "stream",
     "text": [
      "ram \t 300\n",
      "ram1234 \t 200\n",
      "sya123456789123 \t 200\n",
      "kam12345678901234567890 \t 200\n",
      "ram1234567890123456789012345678 \t 200\n",
      "ram123456789012345678901234567890123456 \t 200\n",
      "ram12345678901234567890123456789012345678901234 \t 200\n"
     ]
    }
   ],
   "source": [
    "print(\"ram \\t 300\")#\n",
    "print(\"ram1234 \\t 200\")#3\n",
    "print(\"sya123456789123 \\t 200\")#12 #9\n",
    "print(\"kam12345678901234567890 \\t 200\")#19 #7\n",
    "print(\"ram1234567890123456789012345678 \\t 200\")#27 #9\n",
    "print(\"ram123456789012345678901234567890123456 \\t 200\")#35 #8\n",
    "print(\"ram12345678901234567890123456789012345678901234 \\t 200\")#43 #8"
   ]
  },
  {
   "cell_type": "code",
   "execution_count": 1,
   "id": "e252c6ae",
   "metadata": {},
   "outputs": [
    {
     "name": "stdout",
     "output_type": "stream",
     "text": [
      "enter a number23\n",
      "enter a name23\n"
     ]
    }
   ],
   "source": [
    "a=int(input(\"enter a number\"))\n",
    "b=str(input(\"enter a name\"))"
   ]
  },
  {
   "cell_type": "code",
   "execution_count": 2,
   "id": "75d17227",
   "metadata": {},
   "outputs": [],
   "source": [
    "import pandas as pd\n",
    "df1 = pd.read_csv('d://python//avocado.csv', index_col=0, nrows=None)"
   ]
  },
  {
   "cell_type": "code",
   "execution_count": 4,
   "id": "d2ee425d",
   "metadata": {},
   "outputs": [
    {
     "data": {
      "text/html": [
       "<div>\n",
       "<style scoped>\n",
       "    .dataframe tbody tr th:only-of-type {\n",
       "        vertical-align: middle;\n",
       "    }\n",
       "\n",
       "    .dataframe tbody tr th {\n",
       "        vertical-align: top;\n",
       "    }\n",
       "\n",
       "    .dataframe thead th {\n",
       "        text-align: right;\n",
       "    }\n",
       "</style>\n",
       "<table border=\"1\" class=\"dataframe\">\n",
       "  <thead>\n",
       "    <tr style=\"text-align: right;\">\n",
       "      <th></th>\n",
       "      <th>AveragePrice</th>\n",
       "      <th>Total Volume</th>\n",
       "      <th>4046</th>\n",
       "      <th>4225</th>\n",
       "      <th>4770</th>\n",
       "      <th>Total Bags</th>\n",
       "      <th>Small Bags</th>\n",
       "      <th>Large Bags</th>\n",
       "      <th>XLarge Bags</th>\n",
       "      <th>year</th>\n",
       "    </tr>\n",
       "  </thead>\n",
       "  <tbody>\n",
       "    <tr>\n",
       "      <th>count</th>\n",
       "      <td>18249.000000</td>\n",
       "      <td>1.824900e+04</td>\n",
       "      <td>1.824900e+04</td>\n",
       "      <td>1.824900e+04</td>\n",
       "      <td>1.824900e+04</td>\n",
       "      <td>1.824900e+04</td>\n",
       "      <td>1.824900e+04</td>\n",
       "      <td>1.824900e+04</td>\n",
       "      <td>18249.000000</td>\n",
       "      <td>18249.000000</td>\n",
       "    </tr>\n",
       "    <tr>\n",
       "      <th>mean</th>\n",
       "      <td>1.405978</td>\n",
       "      <td>8.506440e+05</td>\n",
       "      <td>2.930084e+05</td>\n",
       "      <td>2.951546e+05</td>\n",
       "      <td>2.283974e+04</td>\n",
       "      <td>2.396392e+05</td>\n",
       "      <td>1.821947e+05</td>\n",
       "      <td>5.433809e+04</td>\n",
       "      <td>3106.426507</td>\n",
       "      <td>2016.147899</td>\n",
       "    </tr>\n",
       "    <tr>\n",
       "      <th>std</th>\n",
       "      <td>0.402677</td>\n",
       "      <td>3.453545e+06</td>\n",
       "      <td>1.264989e+06</td>\n",
       "      <td>1.204120e+06</td>\n",
       "      <td>1.074641e+05</td>\n",
       "      <td>9.862424e+05</td>\n",
       "      <td>7.461785e+05</td>\n",
       "      <td>2.439660e+05</td>\n",
       "      <td>17692.894652</td>\n",
       "      <td>0.939938</td>\n",
       "    </tr>\n",
       "    <tr>\n",
       "      <th>min</th>\n",
       "      <td>0.440000</td>\n",
       "      <td>8.456000e+01</td>\n",
       "      <td>0.000000e+00</td>\n",
       "      <td>0.000000e+00</td>\n",
       "      <td>0.000000e+00</td>\n",
       "      <td>0.000000e+00</td>\n",
       "      <td>0.000000e+00</td>\n",
       "      <td>0.000000e+00</td>\n",
       "      <td>0.000000</td>\n",
       "      <td>2015.000000</td>\n",
       "    </tr>\n",
       "    <tr>\n",
       "      <th>25%</th>\n",
       "      <td>1.100000</td>\n",
       "      <td>1.083858e+04</td>\n",
       "      <td>8.540700e+02</td>\n",
       "      <td>3.008780e+03</td>\n",
       "      <td>0.000000e+00</td>\n",
       "      <td>5.088640e+03</td>\n",
       "      <td>2.849420e+03</td>\n",
       "      <td>1.274700e+02</td>\n",
       "      <td>0.000000</td>\n",
       "      <td>2015.000000</td>\n",
       "    </tr>\n",
       "    <tr>\n",
       "      <th>50%</th>\n",
       "      <td>1.370000</td>\n",
       "      <td>1.073768e+05</td>\n",
       "      <td>8.645300e+03</td>\n",
       "      <td>2.906102e+04</td>\n",
       "      <td>1.849900e+02</td>\n",
       "      <td>3.974383e+04</td>\n",
       "      <td>2.636282e+04</td>\n",
       "      <td>2.647710e+03</td>\n",
       "      <td>0.000000</td>\n",
       "      <td>2016.000000</td>\n",
       "    </tr>\n",
       "    <tr>\n",
       "      <th>75%</th>\n",
       "      <td>1.660000</td>\n",
       "      <td>4.329623e+05</td>\n",
       "      <td>1.110202e+05</td>\n",
       "      <td>1.502069e+05</td>\n",
       "      <td>6.243420e+03</td>\n",
       "      <td>1.107834e+05</td>\n",
       "      <td>8.333767e+04</td>\n",
       "      <td>2.202925e+04</td>\n",
       "      <td>132.500000</td>\n",
       "      <td>2017.000000</td>\n",
       "    </tr>\n",
       "    <tr>\n",
       "      <th>max</th>\n",
       "      <td>3.250000</td>\n",
       "      <td>6.250565e+07</td>\n",
       "      <td>2.274362e+07</td>\n",
       "      <td>2.047057e+07</td>\n",
       "      <td>2.546439e+06</td>\n",
       "      <td>1.937313e+07</td>\n",
       "      <td>1.338459e+07</td>\n",
       "      <td>5.719097e+06</td>\n",
       "      <td>551693.650000</td>\n",
       "      <td>2018.000000</td>\n",
       "    </tr>\n",
       "  </tbody>\n",
       "</table>\n",
       "</div>"
      ],
      "text/plain": [
       "       AveragePrice  Total Volume          4046          4225          4770  \\\n",
       "count  18249.000000  1.824900e+04  1.824900e+04  1.824900e+04  1.824900e+04   \n",
       "mean       1.405978  8.506440e+05  2.930084e+05  2.951546e+05  2.283974e+04   \n",
       "std        0.402677  3.453545e+06  1.264989e+06  1.204120e+06  1.074641e+05   \n",
       "min        0.440000  8.456000e+01  0.000000e+00  0.000000e+00  0.000000e+00   \n",
       "25%        1.100000  1.083858e+04  8.540700e+02  3.008780e+03  0.000000e+00   \n",
       "50%        1.370000  1.073768e+05  8.645300e+03  2.906102e+04  1.849900e+02   \n",
       "75%        1.660000  4.329623e+05  1.110202e+05  1.502069e+05  6.243420e+03   \n",
       "max        3.250000  6.250565e+07  2.274362e+07  2.047057e+07  2.546439e+06   \n",
       "\n",
       "         Total Bags    Small Bags    Large Bags    XLarge Bags          year  \n",
       "count  1.824900e+04  1.824900e+04  1.824900e+04   18249.000000  18249.000000  \n",
       "mean   2.396392e+05  1.821947e+05  5.433809e+04    3106.426507   2016.147899  \n",
       "std    9.862424e+05  7.461785e+05  2.439660e+05   17692.894652      0.939938  \n",
       "min    0.000000e+00  0.000000e+00  0.000000e+00       0.000000   2015.000000  \n",
       "25%    5.088640e+03  2.849420e+03  1.274700e+02       0.000000   2015.000000  \n",
       "50%    3.974383e+04  2.636282e+04  2.647710e+03       0.000000   2016.000000  \n",
       "75%    1.107834e+05  8.333767e+04  2.202925e+04     132.500000   2017.000000  \n",
       "max    1.937313e+07  1.338459e+07  5.719097e+06  551693.650000   2018.000000  "
      ]
     },
     "execution_count": 4,
     "metadata": {},
     "output_type": "execute_result"
    }
   ],
   "source": [
    "df1.describe()"
   ]
  },
  {
   "cell_type": "code",
   "execution_count": 6,
   "id": "5852e889",
   "metadata": {},
   "outputs": [
    {
     "name": "stdout",
     "output_type": "stream",
     "text": [
      "<class 'pandas.core.frame.DataFrame'>\n",
      "Index: 18249 entries, 0 to 11\n",
      "Data columns (total 13 columns):\n",
      " #   Column        Non-Null Count  Dtype  \n",
      "---  ------        --------------  -----  \n",
      " 0   Date          18249 non-null  object \n",
      " 1   AveragePrice  18249 non-null  float64\n",
      " 2   Total Volume  18249 non-null  float64\n",
      " 3   4046          18249 non-null  float64\n",
      " 4   4225          18249 non-null  float64\n",
      " 5   4770          18249 non-null  float64\n",
      " 6   Total Bags    18249 non-null  float64\n",
      " 7   Small Bags    18249 non-null  float64\n",
      " 8   Large Bags    18249 non-null  float64\n",
      " 9   XLarge Bags   18249 non-null  float64\n",
      " 10  type          18249 non-null  object \n",
      " 11  year          18249 non-null  int64  \n",
      " 12  region        18249 non-null  object \n",
      "dtypes: float64(9), int64(1), object(3)\n",
      "memory usage: 1.9+ MB\n"
     ]
    }
   ],
   "source": [
    "df1.info()"
   ]
  },
  {
   "cell_type": "code",
   "execution_count": 7,
   "id": "7ba60f90",
   "metadata": {},
   "outputs": [
    {
     "data": {
      "text/html": [
       "<div>\n",
       "<style scoped>\n",
       "    .dataframe tbody tr th:only-of-type {\n",
       "        vertical-align: middle;\n",
       "    }\n",
       "\n",
       "    .dataframe tbody tr th {\n",
       "        vertical-align: top;\n",
       "    }\n",
       "\n",
       "    .dataframe thead th {\n",
       "        text-align: right;\n",
       "    }\n",
       "</style>\n",
       "<table border=\"1\" class=\"dataframe\">\n",
       "  <thead>\n",
       "    <tr style=\"text-align: right;\">\n",
       "      <th></th>\n",
       "      <th>Date</th>\n",
       "      <th>AveragePrice</th>\n",
       "      <th>Total Volume</th>\n",
       "      <th>4046</th>\n",
       "      <th>4225</th>\n",
       "      <th>4770</th>\n",
       "      <th>Total Bags</th>\n",
       "      <th>Small Bags</th>\n",
       "      <th>Large Bags</th>\n",
       "      <th>XLarge Bags</th>\n",
       "      <th>type</th>\n",
       "      <th>year</th>\n",
       "      <th>region</th>\n",
       "    </tr>\n",
       "  </thead>\n",
       "  <tbody>\n",
       "    <tr>\n",
       "      <th>0</th>\n",
       "      <td>2015-12-27</td>\n",
       "      <td>1.33</td>\n",
       "      <td>64236.62</td>\n",
       "      <td>1036.74</td>\n",
       "      <td>54454.85</td>\n",
       "      <td>48.16</td>\n",
       "      <td>8696.87</td>\n",
       "      <td>8603.62</td>\n",
       "      <td>93.25</td>\n",
       "      <td>0.0</td>\n",
       "      <td>conventional</td>\n",
       "      <td>2015</td>\n",
       "      <td>Albany</td>\n",
       "    </tr>\n",
       "    <tr>\n",
       "      <th>1</th>\n",
       "      <td>2015-12-20</td>\n",
       "      <td>1.35</td>\n",
       "      <td>54876.98</td>\n",
       "      <td>674.28</td>\n",
       "      <td>44638.81</td>\n",
       "      <td>58.33</td>\n",
       "      <td>9505.56</td>\n",
       "      <td>9408.07</td>\n",
       "      <td>97.49</td>\n",
       "      <td>0.0</td>\n",
       "      <td>conventional</td>\n",
       "      <td>2015</td>\n",
       "      <td>Albany</td>\n",
       "    </tr>\n",
       "    <tr>\n",
       "      <th>2</th>\n",
       "      <td>2015-12-13</td>\n",
       "      <td>0.93</td>\n",
       "      <td>118220.22</td>\n",
       "      <td>794.70</td>\n",
       "      <td>109149.67</td>\n",
       "      <td>130.50</td>\n",
       "      <td>8145.35</td>\n",
       "      <td>8042.21</td>\n",
       "      <td>103.14</td>\n",
       "      <td>0.0</td>\n",
       "      <td>conventional</td>\n",
       "      <td>2015</td>\n",
       "      <td>Albany</td>\n",
       "    </tr>\n",
       "    <tr>\n",
       "      <th>3</th>\n",
       "      <td>2015-12-06</td>\n",
       "      <td>1.08</td>\n",
       "      <td>78992.15</td>\n",
       "      <td>1132.00</td>\n",
       "      <td>71976.41</td>\n",
       "      <td>72.58</td>\n",
       "      <td>5811.16</td>\n",
       "      <td>5677.40</td>\n",
       "      <td>133.76</td>\n",
       "      <td>0.0</td>\n",
       "      <td>conventional</td>\n",
       "      <td>2015</td>\n",
       "      <td>Albany</td>\n",
       "    </tr>\n",
       "    <tr>\n",
       "      <th>4</th>\n",
       "      <td>2015-11-29</td>\n",
       "      <td>1.28</td>\n",
       "      <td>51039.60</td>\n",
       "      <td>941.48</td>\n",
       "      <td>43838.39</td>\n",
       "      <td>75.78</td>\n",
       "      <td>6183.95</td>\n",
       "      <td>5986.26</td>\n",
       "      <td>197.69</td>\n",
       "      <td>0.0</td>\n",
       "      <td>conventional</td>\n",
       "      <td>2015</td>\n",
       "      <td>Albany</td>\n",
       "    </tr>\n",
       "  </tbody>\n",
       "</table>\n",
       "</div>"
      ],
      "text/plain": [
       "         Date  AveragePrice  Total Volume     4046       4225    4770  \\\n",
       "0  2015-12-27          1.33      64236.62  1036.74   54454.85   48.16   \n",
       "1  2015-12-20          1.35      54876.98   674.28   44638.81   58.33   \n",
       "2  2015-12-13          0.93     118220.22   794.70  109149.67  130.50   \n",
       "3  2015-12-06          1.08      78992.15  1132.00   71976.41   72.58   \n",
       "4  2015-11-29          1.28      51039.60   941.48   43838.39   75.78   \n",
       "\n",
       "   Total Bags  Small Bags  Large Bags  XLarge Bags          type  year  region  \n",
       "0     8696.87     8603.62       93.25          0.0  conventional  2015  Albany  \n",
       "1     9505.56     9408.07       97.49          0.0  conventional  2015  Albany  \n",
       "2     8145.35     8042.21      103.14          0.0  conventional  2015  Albany  \n",
       "3     5811.16     5677.40      133.76          0.0  conventional  2015  Albany  \n",
       "4     6183.95     5986.26      197.69          0.0  conventional  2015  Albany  "
      ]
     },
     "execution_count": 7,
     "metadata": {},
     "output_type": "execute_result"
    }
   ],
   "source": [
    "df1.head()"
   ]
  },
  {
   "cell_type": "code",
   "execution_count": 1,
   "id": "fc434be9",
   "metadata": {},
   "outputs": [],
   "source": [
    "import numpy as np"
   ]
  },
  {
   "cell_type": "code",
   "execution_count": 12,
   "id": "0f053c0f-605e-4302-ba9c-cd74666b7c30",
   "metadata": {},
   "outputs": [
    {
     "name": "stdout",
     "output_type": "stream",
     "text": [
      "orignal : \n",
      "[1 2 3 4 5 6 7]\n",
      "dim 1\n"
     ]
    }
   ],
   "source": [
    "a=np.array([1,2,3,4,5,6,7])\n",
    "print(\"orignal : \")\n",
    "print(a)\n",
    "print(\"dim\",a.ndim)"
   ]
  },
  {
   "cell_type": "code",
   "execution_count": 23,
   "id": "83c350df-3859-415a-b140-da5ae7d8c5cd",
   "metadata": {},
   "outputs": [
    {
     "name": "stdout",
     "output_type": "stream",
     "text": [
      "orignal : \n",
      "[[ 1  2  3  4]\n",
      " [ 5  6  7  8]\n",
      " [ 9 10 11 12]\n",
      " [13 14 15 16]]\n",
      "dim 2\n"
     ]
    }
   ],
   "source": [
    "a=np.array([[1,2,3,4],[5,6,7,8],[9,10,11,12],[13,14,15,16]])\n",
    "import pandas\n",
    "print(\"orignal : \")\n",
    "print(a)\n",
    "print(\"dim\",a.ndim)"
   ]
  },
  {
   "cell_type": "code",
   "execution_count": 26,
   "id": "166f5206-92cc-4b5e-95ad-70ba2c401d0f",
   "metadata": {},
   "outputs": [
    {
     "name": "stdout",
     "output_type": "stream",
     "text": [
      "[[ 1  2  3  4]\n",
      " [ 5  6  7  8]\n",
      " [ 9 10 11 12]\n",
      " [13 14 15 16]]\n",
      "\n",
      "[[ 1  3]\n",
      " [ 9 11]]\n"
     ]
    }
   ],
   "source": [
    "print(a)\n",
    "print()\n",
    "print(a[0:6:2,:3:2])"
   ]
  },
  {
   "cell_type": "code",
   "execution_count": 27,
   "id": "8f65de54-7792-40f2-a100-b4ce9d2a5c39",
   "metadata": {},
   "outputs": [
    {
     "name": "stdout",
     "output_type": "stream",
     "text": [
      "orignal : \n",
      "[[[ 1  2  3  4]\n",
      "  [ 5  6  7  8]]\n",
      "\n",
      " [[ 9 10 11 12]\n",
      "  [13 14 15 16]]]\n",
      "dim 3\n"
     ]
    }
   ],
   "source": [
    "a=np.array([[[1,2,3,4],[5,6,7,8]],[[9,10,11,12],[13,14,15,16]]])\n",
    "import pandas\n",
    "print(\"orignal : \")\n",
    "print(a)\n",
    "print(\"dim\",a.ndim)"
   ]
  },
  {
   "cell_type": "code",
   "execution_count": 28,
   "id": "531f3b7f-0e21-4cbd-bca3-454dd9773703",
   "metadata": {},
   "outputs": [
    {
     "name": "stdout",
     "output_type": "stream",
     "text": [
      "[[[ 1  2  3  4]\n",
      "  [ 5  6  7  8]]\n",
      "\n",
      " [[ 9 10 11 12]\n",
      "  [13 14 15 16]]]\n",
      "\n",
      "[[[1 2 3 4]]]\n"
     ]
    }
   ],
   "source": [
    "print(a)\n",
    "print()\n",
    "print(a[0:6:2,:3:2])"
   ]
  },
  {
   "cell_type": "code",
   "execution_count": 35,
   "id": "a1e9cb45-466d-45f5-8808-b810f75e8903",
   "metadata": {},
   "outputs": [
    {
     "data": {
      "text/plain": [
       "array([[[ 1.,  2.,  3.,  4.],\n",
       "        [ 5.,  6.,  7.,  8.],\n",
       "        [ 9., 10., 11., 12.]],\n",
       "\n",
       "       [[13., 14., 15., 16.],\n",
       "        [17., 18., 19., 20.],\n",
       "        [21., 22., 23., 24.]]])"
      ]
     },
     "execution_count": 35,
     "metadata": {},
     "output_type": "execute_result"
    }
   ],
   "source": [
    "# Using lists\n",
    "# Initialize a 3D array with dimensions 2x3x4\n",
    "# This represents a 2x3 matrix, where each element is a 1x4 row\n",
    "three_d_array = [[[0 for _ in range(4)] for _ in range(3)] for _ in range(2)]\n",
    "\n",
    "# Fill the 3D array with values\n",
    "value = 1\n",
    "for i in range(2):\n",
    "    for j in range(3):\n",
    "        for k in range(4):\n",
    "            three_d_array[i][j][k] = value\n",
    "            value += 1\n",
    "\n",
    "# Print the 3D array\n",
    "for i in range(2):\n",
    "    for j in range(3):\n",
    "        for k in range(4):\n",
    "            pass\n",
    "        pass\n",
    "    pass\n",
    "\n",
    "# Using NumPy (a powerful numerical computing library)\n",
    "import numpy as np\n",
    "\n",
    "# Create a 3D array using NumPy\n",
    "three_d_array_np = np.zeros((2, 3, 4))\n",
    "\n",
    "# Fill the 3D array with values\n",
    "value = 1\n",
    "for i in range(2):\n",
    "    for j in range(3):\n",
    "        for k in range(4):\n",
    "            three_d_array_np[i, j, k] = value\n",
    "            value += 1\n",
    "\n",
    "# Print the NumPy 3D array\n",
    "a=three_d_array_np\n",
    "a"
   ]
  },
  {
   "cell_type": "code",
   "execution_count": 43,
   "id": "fe0e11cd-9547-4b19-99a8-3dbec2d4fb78",
   "metadata": {},
   "outputs": [
    {
     "name": "stdout",
     "output_type": "stream",
     "text": [
      "[[[ 1.  3.]\n",
      "  [ 9. 11.]]]\n"
     ]
    }
   ],
   "source": [
    "print(a[0:1,:4:2,:4:2])"
   ]
  },
  {
   "cell_type": "code",
   "execution_count": 88,
   "id": "6fb7a5a1-2d0b-4c40-9d70-2d5f97aebe92",
   "metadata": {},
   "outputs": [
    {
     "name": "stdout",
     "output_type": "stream",
     "text": [
      "15\n",
      "24\n"
     ]
    }
   ],
   "source": [
    "# Example of a 6D array using nested lists\n",
    "a=array_6d =np.array([[[[[[1, 2], [3, 4]], [[5, 6], [7, 8]]], [[[9, 10], [11, 12]], [[13, 14], [15, 16]]]],\n",
    "            [[[[17, 18], [19, 20]], [[21, 22], [23,24]]], [[[25, 26], [27, 28]], [[29, 30], [31, 32]]]]]])\n",
    "\n",
    "# Accessing elements\n",
    "element = array_6d[0][0][1][1][1][0]\n",
    "print(element)  # Output: 15\n",
    "print(a[0,1,0,1,1,1])"
   ]
  },
  {
   "cell_type": "code",
   "execution_count": 50,
   "id": "97a10ad7-253a-4f43-aa0f-8e8dd2f28ad2",
   "metadata": {},
   "outputs": [
    {
     "name": "stdout",
     "output_type": "stream",
     "text": [
      "[[[[[[ 1  2]\n",
      "     [ 3  4]]\n",
      "\n",
      "    [[ 5  6]\n",
      "     [ 7  8]]]\n",
      "\n",
      "\n",
      "   [[[ 9 10]\n",
      "     [11 12]]\n",
      "\n",
      "    [[13 14]\n",
      "     [15 16]]]]\n",
      "\n",
      "\n",
      "\n",
      "  [[[[17 18]\n",
      "     [19 20]]\n",
      "\n",
      "    [[21 22]\n",
      "     [23 24]]]\n",
      "\n",
      "\n",
      "   [[[25 26]\n",
      "     [27 28]]\n",
      "\n",
      "    [[29 30]\n",
      "     [31 32]]]]]]\n",
      "6\n"
     ]
    }
   ],
   "source": [
    "print(a)\n",
    "print(a.ndim)"
   ]
  },
  {
   "cell_type": "code",
   "execution_count": 64,
   "id": "2a06f200-9df6-458e-9d54-1a2f0c7a833d",
   "metadata": {},
   "outputs": [
    {
     "name": "stdout",
     "output_type": "stream",
     "text": [
      "0.604067199125008\n",
      "6\n",
      "[[[[[[4.17713200e-01 8.87376058e-01 1.36127155e-01 4.38926586e-01]\n",
      "     [4.24926056e-01 5.50633940e-01 9.88468381e-01 6.31533423e-01]\n",
      "     [3.75417735e-01 1.18336723e-01 2.76698112e-01 5.84132381e-01]\n",
      "     [7.73010753e-01 9.60376435e-01 8.20441587e-01 4.00842094e-01]]\n",
      "\n",
      "    [[7.51846116e-01 8.36839233e-01 5.70314614e-02 2.14545676e-01]\n",
      "     [1.82171035e-01 3.47898291e-01 7.63931900e-01 6.13216073e-01]\n",
      "     [3.64235357e-01 4.96681999e-01 1.30439168e-01 7.74697898e-01]\n",
      "     [6.91436222e-01 7.20622015e-02 5.13664701e-01 2.24670094e-01]]]\n",
      "\n",
      "\n",
      "   [[[8.99608771e-01 4.14379586e-03 4.05751413e-01 3.39533901e-01]\n",
      "     [3.07978471e-01 1.66438095e-01 4.38190460e-01 8.00792699e-01]\n",
      "     [9.65156937e-01 4.85276780e-01 6.08579087e-01 9.95717316e-01]\n",
      "     [4.87821441e-01 7.14098377e-02 6.53168091e-01 9.03602118e-01]]\n",
      "\n",
      "    [[7.12754295e-01 9.05482109e-02 7.34084449e-01 8.40084900e-01]\n",
      "     [6.04067199e-01 6.45827301e-01 9.42727854e-01 1.35632292e-01]\n",
      "     [2.25322154e-01 1.64175170e-01 9.81387323e-01 5.21418363e-01]\n",
      "     [9.36458691e-02 3.71713961e-01 1.24755846e-01 8.68647960e-01]]]\n",
      "\n",
      "\n",
      "   [[[4.06672175e-01 1.04783868e-01 1.17300587e-01 4.10608470e-01]\n",
      "     [1.35636061e-01 6.24336069e-01 5.20775445e-01 1.46727274e-01]\n",
      "     [9.79843483e-02 4.43162216e-01 9.50776884e-01 6.73706627e-01]\n",
      "     [5.47588724e-01 6.25486597e-01 2.91252173e-01 2.62145247e-01]]\n",
      "\n",
      "    [[4.02905535e-01 7.84101807e-01 6.74736603e-01 2.32381553e-01]\n",
      "     [1.04162920e-01 7.27717297e-01 7.32671397e-01 6.84461307e-01]\n",
      "     [6.09081090e-01 1.70992346e-01 3.37169946e-01 5.23666615e-01]\n",
      "     [2.79080954e-01 5.91183053e-01 5.54571784e-01 2.39026234e-01]]]]\n",
      "\n",
      "\n",
      "\n",
      "  [[[[5.03662039e-01 5.99384380e-01 4.82507081e-01 7.54008942e-01]\n",
      "     [3.47359867e-01 5.23791340e-01 1.06171307e-01 9.64085321e-01]\n",
      "     [9.50215684e-01 2.14575246e-01 5.24705028e-01 5.67584979e-01]\n",
      "     [2.71072658e-01 6.58394506e-01 1.22844847e-01 1.65288766e-01]]\n",
      "\n",
      "    [[1.95144472e-01 3.38542842e-01 1.56063560e-01 5.03662451e-01]\n",
      "     [9.72084969e-01 6.97909339e-01 4.54519820e-01 8.33630390e-01]\n",
      "     [7.05566830e-01 7.82557388e-01 5.86337024e-01 4.43428125e-01]\n",
      "     [1.58365456e-01 5.88383376e-01 4.48200685e-01 7.15511885e-01]]]\n",
      "\n",
      "\n",
      "   [[[8.77478917e-01 4.76516231e-01 4.09628048e-01 5.76819438e-01]\n",
      "     [6.45984168e-01 9.12341669e-01 4.92517538e-01 3.68910083e-01]\n",
      "     [4.47515287e-01 6.03055365e-02 2.80238300e-01 5.00618408e-01]\n",
      "     [5.13411622e-01 7.02264663e-01 4.80414689e-01 3.53291213e-01]]\n",
      "\n",
      "    [[8.14543507e-02 5.44763112e-01 9.14785891e-01 6.76987167e-01]\n",
      "     [8.42028111e-01 3.80182198e-01 1.48091103e-01 2.64578120e-01]\n",
      "     [4.22125969e-01 5.34674298e-01 9.24456609e-01 3.39767566e-01]\n",
      "     [4.47196300e-02 5.20532445e-01 9.13298905e-01 5.04696538e-01]]]\n",
      "\n",
      "\n",
      "   [[[9.48488572e-02 4.70354851e-01 6.89632628e-01 7.96436070e-01]\n",
      "     [1.45723923e-01 4.65596117e-01 3.48191729e-01 6.50076517e-01]\n",
      "     [9.29737598e-01 4.38629748e-01 7.73803566e-01 5.85720905e-01]\n",
      "     [8.08631515e-01 6.71755323e-01 4.25814106e-01 3.24595086e-01]]\n",
      "\n",
      "    [[3.61109804e-01 2.34458591e-01 7.98601577e-01 9.58500902e-01]\n",
      "     [5.92549952e-01 6.22873445e-01 5.90130498e-01 4.47806276e-01]\n",
      "     [6.38382099e-01 2.85469662e-01 9.12842108e-01 5.73945711e-01]\n",
      "     [2.49502200e-01 5.30873907e-01 2.23319344e-01 3.15330283e-01]]]]\n",
      "\n",
      "\n",
      "\n",
      "  [[[[5.61483520e-01 2.86460735e-01 9.28880916e-01 2.10181457e-01]\n",
      "     [4.25127591e-01 6.28135551e-01 5.98987653e-01 9.62907693e-02]\n",
      "     [5.70620617e-01 9.54110465e-02 5.69984769e-01 4.37329881e-01]\n",
      "     [6.55855564e-01 3.42174131e-01 6.85006209e-01 4.28645253e-01]]\n",
      "\n",
      "    [[4.13125683e-01 8.47388884e-01 7.08014893e-01 2.84002608e-01]\n",
      "     [3.33648923e-01 1.28732748e-01 8.31632455e-01 5.11472155e-01]\n",
      "     [2.05466233e-01 3.38765715e-01 6.36564219e-01 1.47083386e-01]\n",
      "     [3.48571834e-01 3.97754671e-01 6.71762700e-01 2.35851647e-01]]]\n",
      "\n",
      "\n",
      "   [[[5.25044227e-01 2.27505616e-01 5.09006819e-01 7.04075950e-01]\n",
      "     [8.82720940e-01 3.98953401e-01 2.09935416e-01 9.66130392e-02]\n",
      "     [6.51612282e-01 9.20153823e-01 5.58285804e-02 5.50956099e-01]\n",
      "     [4.16305346e-01 1.71438703e-01 4.83540246e-01 5.48658606e-01]]\n",
      "\n",
      "    [[4.97928015e-01 1.23690886e-01 3.85717477e-01 7.03265816e-01]\n",
      "     [3.79273238e-01 6.97043697e-01 3.21969814e-02 5.70647643e-02]\n",
      "     [7.34000841e-02 1.84359494e-01 6.31039900e-01 8.00731810e-01]\n",
      "     [8.59180723e-01 6.83251238e-01 8.15505629e-01 2.74082075e-01]]]\n",
      "\n",
      "\n",
      "   [[[1.51877291e-01 7.97760154e-02 6.14843246e-01 8.75117301e-01]\n",
      "     [3.18737847e-01 1.04709528e-01 6.26313744e-01 1.80434892e-01]\n",
      "     [1.66813240e-01 4.55469297e-01 7.37339244e-02 5.35752808e-01]\n",
      "     [9.46112135e-02 2.87925207e-01 5.93543580e-01 7.26699356e-01]]\n",
      "\n",
      "    [[2.58108817e-01 6.45622773e-01 3.12835967e-01 2.31056317e-01]\n",
      "     [1.83942668e-02 1.99872873e-01 5.04966551e-01 8.27688096e-01]\n",
      "     [8.16626122e-01 3.52899128e-01 8.69166914e-01 6.93762998e-01]\n",
      "     [8.34609340e-01 2.58635115e-01 3.73695819e-01 4.39847190e-01]]]]]\n",
      "\n",
      "\n",
      "\n",
      "\n",
      " [[[[[9.07312992e-01 2.01943124e-01 8.32040988e-02 4.02022182e-01]\n",
      "     [3.90263295e-01 9.43498733e-01 7.41987481e-01 8.64216909e-01]\n",
      "     [5.98922619e-02 6.50480926e-01 9.25520081e-01 8.91812069e-01]\n",
      "     [7.29314756e-01 5.16669308e-01 7.57465793e-01 5.16418077e-01]]\n",
      "\n",
      "    [[8.28115137e-01 7.58625069e-01 8.35312221e-01 8.62871299e-01]\n",
      "     [9.31483395e-01 4.45661440e-01 5.11184771e-01 9.47670192e-01]\n",
      "     [8.16193257e-01 1.60422879e-01 4.69157380e-01 6.67064471e-01]\n",
      "     [9.12658633e-01 7.35276201e-01 7.30312797e-01 7.63022685e-03]]]\n",
      "\n",
      "\n",
      "   [[[7.87175499e-01 5.03797592e-01 3.30365647e-01 8.08982794e-01]\n",
      "     [4.98686755e-02 1.50410561e-01 5.27768192e-01 4.67209413e-01]\n",
      "     [3.92171200e-01 1.62219935e-01 6.19346357e-01 7.48979393e-01]\n",
      "     [6.84720092e-01 3.29168010e-01 6.93149205e-01 4.43873003e-01]]\n",
      "\n",
      "    [[8.08210164e-01 3.04598210e-01 2.96520306e-01 8.84698820e-01]\n",
      "     [9.03663459e-01 9.52868410e-01 4.88218302e-01 2.89885733e-01]\n",
      "     [2.62713397e-01 5.78034881e-01 4.41662946e-01 7.58836481e-02]\n",
      "     [9.15559869e-01 4.47860615e-01 3.89957262e-02 6.89040637e-01]]]\n",
      "\n",
      "\n",
      "   [[[9.72541392e-01 8.25587919e-01 5.65414997e-01 3.84173203e-01]\n",
      "     [8.07606815e-01 8.17861991e-01 4.36543833e-01 2.59811365e-01]\n",
      "     [6.62193292e-01 3.50356845e-01 3.69672925e-01 5.16160172e-01]\n",
      "     [7.91403224e-01 2.17337813e-01 4.32024345e-01 8.26233912e-01]]\n",
      "\n",
      "    [[9.71682810e-01 9.87198587e-01 8.46588708e-01 3.29911089e-02]\n",
      "     [6.09038439e-01 4.96039213e-01 7.89032121e-01 7.88874876e-01]\n",
      "     [3.34769471e-01 6.15473050e-01 1.96618075e-01 9.99773866e-01]\n",
      "     [7.23937587e-01 6.66412131e-01 4.37114528e-01 2.23544428e-01]]]]\n",
      "\n",
      "\n",
      "\n",
      "  [[[[4.17993418e-01 6.34986847e-01 5.45614153e-01 4.54484214e-01]\n",
      "     [3.01410675e-01 9.13386808e-01 8.93366983e-01 4.09043174e-01]\n",
      "     [5.76256227e-01 1.96848276e-01 5.12055516e-01 4.34010030e-01]\n",
      "     [7.21943394e-01 8.88979426e-01 6.18018091e-01 6.66202907e-01]]\n",
      "\n",
      "    [[5.79935474e-01 6.33435574e-01 5.67528173e-02 9.34864340e-01]\n",
      "     [1.61068249e-01 4.53206902e-01 6.87794349e-01 4.04033107e-01]\n",
      "     [9.77664783e-01 2.39625041e-02 1.29368788e-01 4.84463700e-01]\n",
      "     [4.74991967e-01 4.24513374e-01 7.61385130e-01 5.25709086e-01]]]\n",
      "\n",
      "\n",
      "   [[[4.82831396e-01 6.90704707e-01 2.14856140e-01 6.82662628e-01]\n",
      "     [7.63955734e-01 9.50068995e-01 9.92892518e-01 3.48537551e-01]\n",
      "     [8.47677953e-03 8.90176540e-01 2.49872563e-01 5.95115486e-01]\n",
      "     [4.79618027e-01 4.77586114e-01 5.92272128e-01 9.18493701e-01]]\n",
      "\n",
      "    [[5.43295208e-01 5.89026224e-01 6.98264788e-01 6.75963192e-02]\n",
      "     [6.92378487e-01 2.27353279e-01 4.26694639e-01 3.55286313e-01]\n",
      "     [6.73512005e-01 6.07890031e-01 2.86668987e-01 4.85099055e-01]\n",
      "     [5.92834175e-01 3.19296558e-01 3.10991900e-01 7.10470288e-01]]]\n",
      "\n",
      "\n",
      "   [[[5.24092634e-01 5.97229576e-01 6.74310335e-01 3.47619387e-01]\n",
      "     [8.24220000e-01 8.26045399e-03 2.41499721e-01 7.40510145e-02]\n",
      "     [2.81553976e-01 2.84983454e-01 2.70325190e-01 8.23001344e-01]\n",
      "     [8.08530877e-01 1.69770275e-01 7.64047838e-01 8.91781270e-01]]\n",
      "\n",
      "    [[2.03260559e-02 9.53482357e-01 7.02402762e-01 3.78059335e-01]\n",
      "     [4.79424486e-01 9.48613354e-02 1.16657964e-01 6.22088503e-01]\n",
      "     [4.73337313e-01 8.72415119e-01 6.43081059e-01 9.22056739e-01]\n",
      "     [8.25868685e-01 5.23034887e-02 2.13157733e-01 4.28967160e-01]]]]\n",
      "\n",
      "\n",
      "\n",
      "  [[[[7.89266618e-02 9.99903361e-01 8.59646294e-01 1.40438390e-01]\n",
      "     [6.47216193e-01 1.98619759e-01 1.12904482e-01 4.69092295e-01]\n",
      "     [9.92222459e-01 2.97236652e-01 9.27852711e-01 3.37322652e-01]\n",
      "     [6.88928490e-01 8.77071885e-01 2.45740652e-01 8.09462472e-01]]\n",
      "\n",
      "    [[2.02869543e-01 7.24302132e-01 5.59773199e-01 9.75823804e-01]\n",
      "     [2.89996467e-01 2.65067532e-01 5.07067212e-01 7.04010470e-01]\n",
      "     [8.12088920e-02 9.95845594e-01 1.86290365e-01 8.27883353e-01]\n",
      "     [2.41512302e-01 7.18520880e-01 5.21909069e-02 1.93103042e-01]]]\n",
      "\n",
      "\n",
      "   [[[5.64262630e-02 9.94401857e-01 8.65872907e-01 5.89746315e-01]\n",
      "     [2.37053364e-01 6.47588140e-01 1.55240315e-01 2.06179820e-01]\n",
      "     [6.12894017e-01 3.83005208e-01 5.55631245e-01 8.41930590e-01]\n",
      "     [7.31158776e-01 9.45953845e-01 1.01502083e-01 4.45029397e-02]]\n",
      "\n",
      "    [[1.37379183e-04 7.50439021e-01 9.72412895e-01 4.57636311e-01]\n",
      "     [3.43219085e-01 1.38743135e-01 6.10899923e-01 4.58571788e-01]\n",
      "     [2.29817631e-01 4.64163124e-01 6.67605928e-01 3.92622579e-01]\n",
      "     [4.56505262e-01 6.97843530e-01 9.72177945e-01 5.54678788e-01]]]\n",
      "\n",
      "\n",
      "   [[[7.37998991e-01 8.84239562e-01 3.68266161e-03 8.14529122e-01]\n",
      "     [2.16778049e-01 9.32836214e-01 1.38342215e-01 7.98315583e-03]\n",
      "     [4.39319743e-01 4.37152019e-01 5.67098128e-01 4.79340154e-01]\n",
      "     [9.09441030e-01 6.94219745e-01 5.12581316e-01 6.82877139e-01]]\n",
      "\n",
      "    [[4.30430466e-01 9.19769040e-01 5.34916876e-01 8.87185415e-01]\n",
      "     [6.72501772e-01 7.99186401e-01 4.72609642e-01 7.61002647e-01]\n",
      "     [3.65589898e-01 5.87365883e-03 6.46459467e-01 2.27092250e-01]\n",
      "     [5.68156326e-02 5.44922165e-01 1.29871687e-01 3.72788507e-01]]]]]\n",
      "\n",
      "\n",
      "\n",
      "\n",
      " [[[[[9.18451485e-01 8.20221262e-01 5.41267646e-01 8.15378929e-01]\n",
      "     [1.30055124e-01 4.67142483e-01 8.65942391e-01 9.28464351e-01]\n",
      "     [2.08319394e-01 7.16844531e-01 5.54858127e-01 9.86098159e-01]\n",
      "     [9.07247584e-01 3.17558160e-01 4.58177242e-01 7.04306508e-01]]\n",
      "\n",
      "    [[9.75346531e-01 8.66381974e-01 4.35729575e-01 7.22092696e-01]\n",
      "     [6.96349570e-01 8.42655091e-01 9.22004852e-01 2.58357605e-01]\n",
      "     [5.82421490e-02 3.12574823e-01 4.68165091e-01 7.83422498e-01]\n",
      "     [5.08290482e-01 8.72556563e-01 9.69130713e-01 3.31408372e-01]]]\n",
      "\n",
      "\n",
      "   [[[3.27548082e-01 6.96178940e-01 9.32502654e-01 3.35599276e-03]\n",
      "     [6.85440715e-01 9.14737969e-01 5.12819003e-01 5.63304019e-01]\n",
      "     [2.14315123e-01 6.74636392e-01 5.99415823e-01 9.39961661e-01]\n",
      "     [3.59711622e-01 4.73228713e-01 2.11003679e-01 7.67124010e-03]]\n",
      "\n",
      "    [[9.33050959e-01 7.99044535e-01 2.38063523e-01 6.72161408e-01]\n",
      "     [4.74967110e-01 8.45583560e-01 8.76835845e-01 3.23114328e-01]\n",
      "     [6.94999163e-01 1.81690244e-01 2.24373991e-01 3.61538744e-01]\n",
      "     [2.62118156e-01 2.48119973e-01 9.79878048e-01 3.74888513e-01]]]\n",
      "\n",
      "\n",
      "   [[[4.42713324e-01 9.17847422e-01 9.81271686e-01 3.56157510e-01]\n",
      "     [9.79132070e-01 2.35420712e-02 7.56218634e-01 2.24278359e-01]\n",
      "     [3.33220446e-01 2.67624472e-01 1.63000209e-01 5.52247176e-01]\n",
      "     [8.71485516e-01 5.56563749e-01 2.47095810e-01 6.14565420e-02]]\n",
      "\n",
      "    [[6.44818349e-01 5.28930448e-01 5.71713006e-01 8.74870563e-01]\n",
      "     [4.32726123e-01 3.42794164e-02 6.00996880e-01 9.50131026e-03]\n",
      "     [3.48373879e-01 3.61087514e-01 9.98282308e-01 8.39053911e-01]\n",
      "     [6.70341555e-01 1.01810317e-01 9.14365733e-01 1.22085584e-01]]]]\n",
      "\n",
      "\n",
      "\n",
      "  [[[[9.84020515e-01 6.83210987e-01 4.62097856e-02 4.84306734e-01]\n",
      "     [7.32669298e-01 5.93962335e-01 2.66478427e-01 4.02742046e-01]\n",
      "     [1.26472995e-01 8.61874870e-01 6.93074666e-02 8.64251235e-01]\n",
      "     [1.34461927e-01 9.19929888e-01 3.61461295e-01 8.53451281e-02]]\n",
      "\n",
      "    [[2.37724662e-01 8.20593944e-01 6.41383693e-01 7.60261313e-01]\n",
      "     [5.18943431e-01 3.48279976e-01 7.18096150e-01 1.33844770e-01]\n",
      "     [7.93361191e-01 7.09826033e-01 9.23577248e-02 4.94184254e-01]\n",
      "     [6.36034145e-01 7.34579571e-02 2.16135266e-01 7.81948146e-01]]]\n",
      "\n",
      "\n",
      "   [[[4.61730941e-01 3.27380213e-01 3.66276905e-01 3.00351182e-01]\n",
      "     [7.53858543e-01 5.38815374e-01 6.98793197e-01 9.65970900e-01]\n",
      "     [1.69841540e-01 8.57918383e-01 1.13067474e-01 2.75158034e-01]\n",
      "     [1.78657986e-01 1.78412959e-01 3.31106382e-02 9.18635420e-01]]\n",
      "\n",
      "    [[9.88753340e-03 9.55136147e-01 9.00097151e-01 1.81575024e-01]\n",
      "     [7.64587740e-01 9.22581370e-01 4.86621057e-01 3.16203945e-01]\n",
      "     [8.53291261e-01 6.90321492e-02 5.80108915e-03 5.42319278e-01]\n",
      "     [9.70147379e-01 9.86304385e-01 8.07094124e-01 6.61370609e-01]]]\n",
      "\n",
      "\n",
      "   [[[8.76362715e-01 8.02481960e-01 8.27850559e-01 3.90511009e-01]\n",
      "     [3.27977018e-02 4.37113355e-02 6.02771446e-01 7.46509099e-01]\n",
      "     [4.22756224e-01 7.90567414e-01 3.61359489e-01 9.76410192e-02]\n",
      "     [8.66512378e-01 8.04718662e-01 1.13965908e-01 6.55455839e-01]]\n",
      "\n",
      "    [[8.56482277e-01 5.10196512e-01 7.83420134e-01 4.26677999e-02]\n",
      "     [2.65867818e-01 1.49700370e-01 8.81854829e-01 3.59676219e-01]\n",
      "     [8.64102407e-01 9.11190937e-01 6.66286267e-01 2.16383042e-01]\n",
      "     [3.49431346e-01 6.63542526e-01 9.74987226e-01 1.89331777e-01]]]]\n",
      "\n",
      "\n",
      "\n",
      "  [[[[4.84677721e-01 4.40490997e-01 6.55604265e-01 4.03261558e-01]\n",
      "     [3.39582436e-01 1.91280480e-02 1.18077066e-01 5.51692923e-01]\n",
      "     [7.84749248e-02 9.70280489e-03 3.22840788e-01 9.07772674e-01]\n",
      "     [3.41846550e-02 4.44096161e-01 8.68970296e-01 8.55906949e-01]]\n",
      "\n",
      "    [[2.96242755e-01 1.58508369e-01 4.39535398e-01 7.21326478e-01]\n",
      "     [3.91091589e-01 4.85706217e-01 5.19638746e-01 4.85331352e-01]\n",
      "     [2.62123818e-01 7.32806263e-01 6.38053892e-01 5.55464938e-01]\n",
      "     [3.62394489e-01 8.77995302e-01 4.68612922e-01 2.96179084e-02]]]\n",
      "\n",
      "\n",
      "   [[[4.33453867e-02 5.28675061e-01 8.69879914e-02 1.97399556e-01]\n",
      "     [4.55846173e-01 3.25892367e-02 8.87392662e-01 7.15800329e-01]\n",
      "     [5.34277555e-01 5.20697092e-01 1.99484054e-01 3.85298790e-01]\n",
      "     [5.38402573e-01 7.67707920e-02 7.50666420e-01 4.93789804e-01]]\n",
      "\n",
      "    [[5.45326587e-01 2.47720110e-01 1.59707418e-01 5.98332939e-01]\n",
      "     [5.60824987e-01 8.01870180e-01 4.30448358e-01 9.13494067e-01]\n",
      "     [6.71020654e-01 2.36896875e-01 6.76958530e-01 1.10292685e-01]\n",
      "     [7.92353694e-01 9.18910544e-01 6.26160317e-01 1.37780473e-01]]]\n",
      "\n",
      "\n",
      "   [[[5.81674519e-01 5.01796339e-01 6.31295162e-01 5.23351154e-01]\n",
      "     [8.68541047e-01 3.27311690e-01 5.72566770e-01 4.59361912e-01]\n",
      "     [4.28302213e-01 2.48799986e-02 6.22050560e-01 9.30350329e-01]\n",
      "     [4.84092841e-01 2.99412108e-01 9.26329278e-01 3.37556407e-01]]\n",
      "\n",
      "    [[2.49281987e-01 2.38053903e-01 1.77720152e-02 2.69823833e-01]\n",
      "     [7.14585457e-01 6.82636860e-01 2.05258491e-01 4.51125040e-02]\n",
      "     [4.07641025e-02 1.16940517e-01 5.56220230e-01 9.61777739e-01]\n",
      "     [4.14875295e-01 1.11395958e-02 2.12885475e-01 4.63038147e-01]]]]]\n",
      "\n",
      "\n",
      "\n",
      "\n",
      " [[[[[5.25244072e-01 8.63528625e-02 7.96124131e-01 3.91691597e-01]\n",
      "     [6.61851009e-01 4.85731838e-01 3.77205979e-01 7.32429264e-01]\n",
      "     [2.62195777e-01 8.53861148e-01 3.47357479e-01 9.70611714e-01]\n",
      "     [9.89887466e-01 2.05723687e-01 6.02642614e-01 9.07061249e-02]]\n",
      "\n",
      "    [[9.04361318e-01 3.87652267e-01 3.79294355e-01 2.05365536e-01]\n",
      "     [9.17320219e-01 5.30869443e-01 5.85359840e-01 1.52582180e-01]\n",
      "     [8.16571965e-01 3.06478222e-01 6.74099536e-01 4.14243286e-01]\n",
      "     [3.43447567e-01 1.64676803e-01 9.81515172e-01 8.81432872e-01]]]\n",
      "\n",
      "\n",
      "   [[[9.11646163e-01 5.66627962e-01 9.19678424e-01 5.70233972e-01]\n",
      "     [9.96899168e-01 8.35439205e-02 9.33988735e-03 7.19561473e-01]\n",
      "     [6.82209975e-01 2.18248642e-02 6.07729423e-01 1.92903836e-01]\n",
      "     [1.38570267e-01 1.70067540e-01 9.66101221e-01 8.54065792e-01]]\n",
      "\n",
      "    [[1.54904854e-01 1.46359119e-01 5.78764524e-01 7.40751067e-02]\n",
      "     [8.93717682e-01 7.91349365e-01 1.92239163e-02 3.54196330e-01]\n",
      "     [3.54360451e-01 6.91906636e-01 2.06989810e-01 6.78333967e-02]\n",
      "     [2.30015910e-01 6.59229017e-02 4.94222779e-01 5.76517264e-01]]]\n",
      "\n",
      "\n",
      "   [[[4.94509673e-01 9.60302086e-01 4.47207500e-01 3.20030230e-01]\n",
      "     [6.86148859e-01 1.20335622e-01 7.57999730e-01 7.79710043e-01]\n",
      "     [8.10345998e-01 2.85278752e-01 4.14787996e-01 6.25285014e-01]\n",
      "     [5.01584557e-01 6.97703954e-01 2.72396177e-01 7.33954031e-03]]\n",
      "\n",
      "    [[1.59673671e-01 4.46800564e-01 2.86149750e-01 9.37650177e-01]\n",
      "     [4.42800768e-01 5.18079919e-01 8.24029870e-01 8.06088286e-01]\n",
      "     [3.78459073e-01 6.89103669e-01 7.46506159e-01 6.12802905e-01]\n",
      "     [7.93914599e-01 6.28495081e-01 6.37573934e-01 8.97666750e-01]]]]\n",
      "\n",
      "\n",
      "\n",
      "  [[[[9.88249242e-01 9.27606566e-01 8.03191248e-01 5.03483297e-01]\n",
      "     [8.02005329e-02 4.42154670e-01 4.64645005e-01 7.98363797e-01]\n",
      "     [9.05472456e-01 1.33076221e-02 2.56490084e-01 2.07010097e-01]\n",
      "     [2.47848468e-01 1.74006264e-01 4.21476720e-01 6.62766723e-01]]\n",
      "\n",
      "    [[7.51772631e-01 8.21208827e-01 6.93294325e-01 7.50892579e-01]\n",
      "     [3.37802584e-02 3.20328419e-02 3.59977539e-01 3.83551896e-01]\n",
      "     [2.11910121e-01 2.35834275e-01 1.05265526e-01 1.55970529e-01]\n",
      "     [6.51093422e-01 5.99135534e-01 3.88437598e-02 9.95212397e-01]]]\n",
      "\n",
      "\n",
      "   [[[3.86935836e-02 8.79009935e-01 2.93107713e-01 8.28316077e-01]\n",
      "     [3.61401198e-01 4.19178580e-01 6.47451520e-01 7.37551166e-01]\n",
      "     [9.46335618e-01 7.39362631e-01 4.60415306e-01 6.69803348e-01]\n",
      "     [3.82939774e-01 5.63796236e-01 5.65568681e-01 9.67454405e-01]]\n",
      "\n",
      "    [[1.82382371e-01 6.77990812e-01 8.80205216e-01 7.87485536e-01]\n",
      "     [6.43489922e-01 3.42154054e-02 2.86929684e-01 7.81116628e-01]\n",
      "     [1.99667122e-02 9.66481849e-01 8.66925260e-01 4.29684967e-01]\n",
      "     [6.32208857e-01 5.81873756e-01 9.73651342e-01 5.19502773e-01]]]\n",
      "\n",
      "\n",
      "   [[[8.81117416e-01 9.71415124e-01 7.24501965e-01 1.43352627e-01]\n",
      "     [1.67775919e-01 6.52274647e-01 2.39416316e-01 2.27825578e-01]\n",
      "     [6.66427251e-01 3.58356822e-02 8.23361793e-01 3.24746289e-01]\n",
      "     [4.85381201e-01 3.91580889e-01 6.91602933e-01 7.09333759e-01]]\n",
      "\n",
      "    [[1.70219149e-02 6.53088613e-01 5.03468273e-01 9.44410865e-01]\n",
      "     [8.28778554e-01 2.94721011e-01 7.55312144e-01 2.50208360e-01]\n",
      "     [6.84554687e-01 3.31870046e-01 4.18344287e-01 7.05651703e-01]\n",
      "     [5.31626013e-01 3.27527692e-01 2.34066667e-02 9.68463262e-01]]]]\n",
      "\n",
      "\n",
      "\n",
      "  [[[[8.10924054e-01 3.38202429e-01 9.81766078e-01 3.53134831e-01]\n",
      "     [3.69460391e-01 9.05307368e-01 4.37068927e-01 6.58804606e-01]\n",
      "     [3.82473534e-01 5.39285856e-01 5.07961280e-01 9.22556003e-01]\n",
      "     [4.14586647e-01 2.59440747e-02 2.55073860e-01 6.51853448e-01]]\n",
      "\n",
      "    [[5.39569788e-01 5.82710498e-01 5.74731031e-01 5.40959301e-01]\n",
      "     [3.88322524e-01 8.61548906e-01 4.60421348e-01 1.88560591e-01]\n",
      "     [3.72135350e-01 3.21511691e-01 5.40562696e-01 1.06486087e-01]\n",
      "     [2.40634910e-02 8.37846127e-01 3.15087426e-01 8.11514154e-01]]]\n",
      "\n",
      "\n",
      "   [[[2.21035697e-01 4.34514100e-01 2.78568125e-01 8.37464565e-01]\n",
      "     [3.63790304e-01 1.18823302e-01 4.85605933e-01 4.88609726e-01]\n",
      "     [9.84267564e-01 4.80746235e-01 5.56019699e-01 9.72491713e-03]\n",
      "     [9.90545113e-01 2.32224509e-01 3.14930371e-01 9.86823426e-01]]\n",
      "\n",
      "    [[1.95181982e-01 5.46890216e-01 9.50231275e-01 5.95361554e-01]\n",
      "     [1.07239955e-01 6.56105973e-01 8.56204780e-01 5.20986563e-01]\n",
      "     [3.06568979e-01 8.32432358e-02 2.70925126e-02 7.36486757e-01]\n",
      "     [3.22057742e-01 3.75991257e-02 8.90892231e-01 9.16031362e-01]]]\n",
      "\n",
      "\n",
      "   [[[4.78052640e-02 9.42769428e-01 6.27439525e-01 8.98356344e-01]\n",
      "     [8.49109696e-01 3.39015732e-01 9.65951167e-01 8.83416277e-01]\n",
      "     [9.29396821e-01 1.95254605e-01 2.74075957e-01 8.97535642e-01]\n",
      "     [7.44506877e-03 6.53872701e-01 7.45254991e-01 9.77693333e-01]]\n",
      "\n",
      "    [[2.86984290e-01 8.86109998e-01 2.22299325e-01 4.07839352e-01]\n",
      "     [3.94758136e-01 6.54095294e-01 4.75034184e-01 4.09846423e-02]\n",
      "     [6.07585897e-01 5.27885917e-01 2.22670402e-01 8.12041495e-01]\n",
      "     [4.00804899e-01 5.76625127e-01 2.14251995e-01 5.74041448e-01]]]]]\n",
      "\n",
      "\n",
      "\n",
      "\n",
      " [[[[[7.10598546e-01 8.11482980e-01 3.75026492e-01 3.54407890e-01]\n",
      "     [4.08970761e-01 5.84839521e-03 4.04153862e-01 6.97820741e-01]\n",
      "     [9.28660583e-01 6.83648364e-01 6.57964796e-01 4.71733474e-01]\n",
      "     [6.69377324e-01 5.33627388e-01 7.07370484e-01 9.52033492e-01]]\n",
      "\n",
      "    [[2.76396274e-01 5.87176875e-01 8.95119358e-01 7.22553699e-01]\n",
      "     [1.98264702e-02 2.92851559e-01 4.26756019e-01 9.73465314e-01]\n",
      "     [9.02144652e-01 6.65207215e-01 2.71835098e-01 5.74627248e-01]\n",
      "     [7.62665614e-01 2.03320907e-01 1.47205430e-01 4.46769302e-01]]]\n",
      "\n",
      "\n",
      "   [[[5.85325856e-01 3.45712705e-01 9.45698365e-01 9.13215266e-01]\n",
      "     [2.08991585e-01 9.97566479e-02 4.77939534e-01 7.87582270e-01]\n",
      "     [2.81477096e-01 2.56041150e-01 7.25955289e-01 9.63121226e-01]\n",
      "     [5.42877473e-01 8.52603607e-01 1.56192823e-01 9.06820431e-01]]\n",
      "\n",
      "    [[5.24352905e-02 1.49215984e-01 4.83083671e-01 9.66373034e-01]\n",
      "     [7.10488007e-01 5.81042577e-01 2.34808733e-01 9.36934177e-01]\n",
      "     [5.61114598e-01 8.00091478e-02 9.21690154e-01 5.92331751e-01]\n",
      "     [8.99944533e-01 9.27486851e-01 5.75619236e-01 6.02201258e-01]]]\n",
      "\n",
      "\n",
      "   [[[5.14003119e-03 4.81106524e-01 6.28504831e-01 1.29614739e-01]\n",
      "     [4.94033240e-01 3.07799241e-02 3.02220017e-01 6.19713298e-01]\n",
      "     [7.33058959e-01 8.88290738e-01 2.26680311e-02 6.64033708e-01]\n",
      "     [6.82318965e-01 9.09615096e-01 5.71391504e-01 9.10576410e-02]]\n",
      "\n",
      "    [[4.86259326e-01 7.71412254e-01 9.30795761e-03 4.82625576e-01]\n",
      "     [4.79696702e-01 6.87567127e-02 8.05036102e-01 5.23190128e-01]\n",
      "     [8.18509438e-01 4.49751375e-01 7.98119316e-01 9.64288914e-02]\n",
      "     [2.40422227e-01 8.38619764e-01 9.95585475e-02 7.11596759e-01]]]]\n",
      "\n",
      "\n",
      "\n",
      "  [[[[5.63278001e-01 9.88549768e-01 3.83365123e-01 9.59693423e-01]\n",
      "     [6.27925417e-01 7.94153853e-01 9.10980953e-02 6.83180327e-02]\n",
      "     [8.69432632e-01 7.49335387e-01 2.68119167e-01 9.04860206e-01]\n",
      "     [7.51622240e-01 4.75806183e-01 1.87590993e-01 6.89536709e-01]]\n",
      "\n",
      "    [[6.58008773e-01 1.32167250e-01 1.31265207e-01 8.44205971e-01]\n",
      "     [3.05742086e-01 3.63180132e-01 9.52882795e-01 6.40311911e-01]\n",
      "     [4.87133535e-01 5.22566326e-01 7.27963365e-01 6.43307306e-01]\n",
      "     [5.42703808e-01 2.18894563e-01 6.82883783e-01 9.17583568e-01]]]\n",
      "\n",
      "\n",
      "   [[[4.68650716e-01 5.04348086e-01 7.84990012e-01 8.43195396e-01]\n",
      "     [6.74876415e-01 7.48642413e-02 8.83438109e-02 3.09520391e-01]\n",
      "     [8.97550857e-01 6.32402172e-01 8.31404489e-01 7.95667486e-02]\n",
      "     [8.97447591e-01 5.32908874e-01 1.45952128e-01 8.59661799e-01]]\n",
      "\n",
      "    [[9.89495397e-01 7.16322738e-01 5.45594842e-02 3.04955562e-01]\n",
      "     [8.86405467e-01 8.75086329e-01 3.25461198e-01 1.22759222e-01]\n",
      "     [9.09183643e-01 1.33185079e-01 3.45614454e-01 1.06755679e-01]\n",
      "     [3.56581985e-01 5.47603247e-01 5.89215289e-01 6.93691585e-01]]]\n",
      "\n",
      "\n",
      "   [[[1.64645650e-01 9.62831447e-01 9.87212490e-01 7.28276958e-02]\n",
      "     [5.90032515e-01 6.76198905e-01 3.87975107e-01 8.31848593e-01]\n",
      "     [7.41697106e-01 1.71746915e-01 1.30378388e-02 3.69275140e-01]\n",
      "     [7.86540380e-02 3.95855356e-01 9.09413466e-01 1.74886526e-01]]\n",
      "\n",
      "    [[6.58610517e-01 5.25857935e-01 8.56957675e-01 7.05659198e-02]\n",
      "     [8.55591447e-01 4.30216977e-01 2.71996670e-01 7.40795359e-01]\n",
      "     [1.11458620e-01 3.04598867e-01 2.05062207e-01 9.45069174e-01]\n",
      "     [9.07441762e-01 4.78811940e-01 3.21432454e-01 4.58427534e-01]]]]\n",
      "\n",
      "\n",
      "\n",
      "  [[[[9.42405717e-01 1.38223215e-01 8.40548123e-01 6.04820613e-01]\n",
      "     [5.73960541e-01 6.83054393e-01 9.47641059e-02 5.79270355e-01]\n",
      "     [7.11177933e-01 6.12298546e-01 7.93709899e-01 8.79469589e-02]\n",
      "     [5.39925072e-02 7.96681394e-01 7.07386725e-01 5.00286165e-01]]\n",
      "\n",
      "    [[1.40320632e-01 2.34542784e-01 4.87756393e-01 8.46140222e-01]\n",
      "     [1.78895262e-01 9.16870224e-02 7.73495212e-01 3.45359742e-01]\n",
      "     [4.94149644e-01 1.87471339e-01 9.66813814e-01 3.66365774e-01]\n",
      "     [3.68034163e-01 8.98410032e-02 9.48872766e-01 2.08747861e-01]]]\n",
      "\n",
      "\n",
      "   [[[3.65766075e-01 4.70278256e-01 7.74922028e-02 1.33820048e-01]\n",
      "     [8.14249774e-01 7.99504201e-01 7.87929195e-01 1.68307030e-01]\n",
      "     [8.26203751e-01 7.93445045e-01 8.48907716e-02 6.30908060e-01]\n",
      "     [9.55749365e-01 8.69152976e-01 8.72507850e-01 2.43850768e-01]]\n",
      "\n",
      "    [[3.77141985e-03 1.86880583e-01 9.18768993e-01 4.83802967e-01]\n",
      "     [7.45808428e-01 2.36628435e-01 9.50369357e-01 4.18601723e-01]\n",
      "     [3.63150846e-01 4.46343912e-01 6.25940335e-01 4.69249295e-02]\n",
      "     [8.18573804e-01 6.70626198e-01 1.33576058e-01 2.72358013e-01]]]\n",
      "\n",
      "\n",
      "   [[[2.40902697e-01 7.83226007e-01 9.76385469e-01 8.32711122e-01]\n",
      "     [1.36382684e-01 4.27336728e-01 1.13272206e-01 2.79401440e-01]\n",
      "     [8.92751528e-01 5.49363098e-01 6.79342849e-02 4.55009828e-01]\n",
      "     [8.42107565e-01 7.26183275e-01 7.60437279e-01 2.44603768e-01]]\n",
      "\n",
      "    [[5.91371810e-02 6.38611621e-01 1.07711447e-01 8.10537301e-01]\n",
      "     [8.22651468e-01 8.09061970e-01 7.79283330e-01 9.22784401e-01]\n",
      "     [6.64695596e-01 3.30919298e-01 6.82838571e-01 2.34488951e-01]\n",
      "     [8.71758377e-02 6.49533604e-01 8.48858034e-01 9.66056143e-01]]]]]\n",
      "\n",
      "\n",
      "\n",
      "\n",
      " [[[[[5.05061399e-01 9.66376963e-01 3.35826145e-01 4.17198817e-01]\n",
      "     [8.56139184e-01 1.98579865e-02 8.81281375e-01 4.97297971e-01]\n",
      "     [4.69761444e-02 2.04412122e-01 8.07771271e-01 8.91513401e-01]\n",
      "     [9.35176780e-01 8.04209772e-01 8.59958492e-01 6.01155901e-01]]\n",
      "\n",
      "    [[1.92132369e-01 7.13811566e-01 9.67292749e-01 7.28870073e-01]\n",
      "     [9.70260274e-01 2.99620873e-01 6.89663145e-01 4.10154986e-01]\n",
      "     [1.45753868e-02 5.81775466e-01 9.90475394e-01 5.70162669e-01]\n",
      "     [7.63763967e-01 5.89270465e-01 8.22878144e-02 2.73519714e-01]]]\n",
      "\n",
      "\n",
      "   [[[2.95530918e-01 7.56880458e-01 3.99635344e-01 8.09012525e-01]\n",
      "     [8.39284165e-01 6.24065336e-01 7.96802501e-01 3.58045111e-02]\n",
      "     [7.92016247e-01 8.96294263e-02 7.45112115e-01 6.33823449e-02]\n",
      "     [9.76535450e-01 3.27968664e-01 5.48473847e-01 5.96664542e-01]]\n",
      "\n",
      "    [[9.44650005e-01 9.53745655e-01 5.33325142e-02 9.82911731e-01]\n",
      "     [2.84042884e-01 2.32904748e-01 9.62809082e-01 1.27838832e-01]\n",
      "     [1.77493849e-01 1.58917184e-01 4.10783040e-01 9.88518995e-02]\n",
      "     [4.93394095e-01 4.75057508e-01 9.35027790e-01 8.05018439e-01]]]\n",
      "\n",
      "\n",
      "   [[[8.74237587e-02 6.44500623e-01 2.15066294e-01 8.06122022e-01]\n",
      "     [5.83278258e-01 3.84410098e-01 8.41325211e-01 6.63254385e-01]\n",
      "     [2.70769143e-02 7.24721361e-02 9.77101290e-02 6.86808561e-01]\n",
      "     [7.77116012e-01 6.31455775e-01 1.66958636e-01 1.82475008e-01]]\n",
      "\n",
      "    [[5.22741318e-01 4.92531440e-01 4.77372984e-01 6.08247766e-01]\n",
      "     [9.14351116e-01 2.19528954e-01 4.70814729e-01 1.04530355e-01]\n",
      "     [9.42204200e-02 4.24052545e-01 1.65506420e-01 9.06547665e-01]\n",
      "     [9.89553901e-01 1.04037184e-01 1.69792200e-01 5.42773537e-01]]]]\n",
      "\n",
      "\n",
      "\n",
      "  [[[[8.49365715e-01 1.00663023e-01 4.45595387e-01 9.86143836e-02]\n",
      "     [9.96642878e-01 2.90169749e-02 5.86457963e-01 7.42005521e-01]\n",
      "     [1.07426164e-01 4.73559659e-02 7.87348731e-01 3.19239010e-01]\n",
      "     [8.72046191e-01 5.64072138e-01 3.65756186e-01 9.73293564e-01]]\n",
      "\n",
      "    [[9.53844993e-01 8.57224350e-01 5.59738607e-01 5.32930577e-01]\n",
      "     [2.88242759e-01 9.68549468e-01 8.32798481e-02 9.50128793e-01]\n",
      "     [4.28767536e-01 4.98683523e-01 7.66779650e-01 2.14151242e-02]\n",
      "     [6.96257132e-01 1.36612311e-01 5.13505816e-01 1.37308479e-01]]]\n",
      "\n",
      "\n",
      "   [[[3.16395468e-01 5.90009269e-01 2.48838747e-01 1.49723419e-02]\n",
      "     [7.46403973e-01 9.34551310e-01 7.57434488e-01 3.55107048e-01]\n",
      "     [3.71632383e-01 9.70497422e-01 4.90014578e-01 1.75252519e-01]\n",
      "     [5.83942959e-01 7.07998153e-01 6.87085034e-01 3.54004156e-01]]\n",
      "\n",
      "    [[4.86429178e-01 5.00407587e-01 2.36968352e-01 6.22453790e-01]\n",
      "     [1.31945154e-02 9.32687589e-01 1.28986303e-01 5.27071417e-01]\n",
      "     [8.73209905e-01 1.23416291e-01 8.72900177e-01 9.91962861e-01]\n",
      "     [2.80650773e-01 5.60270883e-01 8.44156035e-01 2.36232469e-01]]]\n",
      "\n",
      "\n",
      "   [[[2.23873623e-02 4.23939758e-01 6.90313006e-01 3.72803802e-02]\n",
      "     [4.98693626e-01 7.60055399e-01 6.45880203e-01 8.16025730e-01]\n",
      "     [3.78487404e-01 7.81659256e-01 3.46890117e-01 5.02907237e-01]\n",
      "     [7.05604964e-01 3.50202548e-01 9.16221290e-01 5.47265711e-01]]\n",
      "\n",
      "    [[4.43085632e-01 9.55745693e-01 7.65341935e-02 6.04246323e-01]\n",
      "     [9.62864571e-01 8.76838221e-01 7.91617199e-01 5.72853768e-01]\n",
      "     [3.36777422e-01 3.91558498e-01 3.01578219e-01 3.89425672e-01]\n",
      "     [6.09654401e-01 1.20785520e-01 3.53024349e-01 8.56092777e-01]]]]\n",
      "\n",
      "\n",
      "\n",
      "  [[[[2.86585330e-01 5.03439281e-01 7.35027348e-01 5.52087071e-01]\n",
      "     [2.63557889e-02 4.59599849e-01 6.49640051e-01 6.51545845e-01]\n",
      "     [5.22181827e-02 3.83315977e-02 9.12793031e-01 2.48699184e-01]\n",
      "     [4.54078922e-01 5.86758634e-02 2.72873292e-01 7.58348653e-01]]\n",
      "\n",
      "    [[4.65483835e-01 9.58414560e-01 9.74842098e-01 2.48958878e-01]\n",
      "     [1.19971963e-01 8.43815854e-01 5.04687048e-01 8.05995626e-01]\n",
      "     [4.38129093e-01 3.98263491e-01 7.97243619e-01 1.99812756e-01]\n",
      "     [2.54495596e-01 9.35893671e-01 1.40736365e-01 6.35120329e-01]]]\n",
      "\n",
      "\n",
      "   [[[5.35396155e-01 7.20420961e-01 4.26886752e-01 9.73435426e-01]\n",
      "     [7.85096381e-01 2.64944744e-01 2.99811999e-01 9.86640986e-01]\n",
      "     [6.69460739e-01 7.55547973e-01 6.63378188e-01 7.25787104e-01]\n",
      "     [9.29813833e-01 1.53103405e-01 1.96034917e-01 9.57095837e-02]]\n",
      "\n",
      "    [[1.52650300e-01 5.97114294e-01 2.29075845e-01 4.30590393e-01]\n",
      "     [7.51625583e-01 1.03593922e-01 7.90544719e-01 3.60662893e-01]\n",
      "     [5.30325269e-01 1.76235629e-01 3.86014293e-01 5.70946535e-01]\n",
      "     [9.14688606e-02 2.46700952e-01 5.57866397e-01 9.94069522e-01]]]\n",
      "\n",
      "\n",
      "   [[[5.61086403e-01 5.21390495e-01 8.41318086e-01 8.57324079e-01]\n",
      "     [2.00830422e-01 4.34162367e-01 9.87518854e-01 3.97822102e-01]\n",
      "     [6.89350349e-01 7.63766532e-01 6.45391992e-01 9.63654026e-01]\n",
      "     [1.29702099e-01 2.86603992e-01 4.70773314e-02 5.51003895e-01]]\n",
      "\n",
      "    [[3.92331336e-01 4.28393307e-01 3.67930392e-01 7.43775187e-01]\n",
      "     [9.76394118e-01 2.31786556e-01 4.41975234e-01 3.41654519e-01]\n",
      "     [8.77236446e-01 1.91677208e-01 5.52297827e-01 7.70508451e-03]\n",
      "     [2.12118126e-01 5.96369532e-01 2.69734479e-01 8.01107532e-01]]]]]]\n"
     ]
    }
   ],
   "source": [
    "import numpy as np\n",
    "\n",
    "# Creating a 6D NumPy array\n",
    "a=array_6d_np = np.random.random((6, 3, 3, 2, 4, 4))\n",
    "\n",
    "# Accessing elements\n",
    "element_np = array_6d_np[0, 0, 1, 1, 1, 0]\n",
    "print(element_np)\n",
    "print(a.ndim)\n",
    "print(a)"
   ]
  },
  {
   "cell_type": "code",
   "execution_count": null,
   "id": "58f2da58-db2f-4c0a-8664-973f9db73703",
   "metadata": {},
   "outputs": [],
   "source": []
  },
  {
   "cell_type": "code",
   "execution_count": null,
   "id": "300cfd74-6cd8-4485-943c-874231bc0b1f",
   "metadata": {},
   "outputs": [],
   "source": []
  },
  {
   "cell_type": "code",
   "execution_count": 2,
   "id": "202ebf8c-111c-4403-b987-a9c2302c9358",
   "metadata": {},
   "outputs": [
    {
     "name": "stdout",
     "output_type": "stream",
     "text": [
      "Collecting panel\n",
      "  Downloading panel-1.3.6-py2.py3-none-any.whl.metadata (24 kB)\n",
      "Collecting bokeh<3.4.0,>=3.2.0 (from panel)\n",
      "  Downloading bokeh-3.3.2-py3-none-any.whl.metadata (12 kB)\n",
      "Collecting param<3.0,>=2.0.0 (from panel)\n",
      "  Downloading param-2.0.1-py3-none-any.whl.metadata (5.9 kB)\n",
      "Collecting pyviz-comms>=2.0.0 (from panel)\n",
      "  Downloading pyviz_comms-3.0.0-py3-none-any.whl.metadata (7.5 kB)\n",
      "Collecting xyzservices>=2021.09.1 (from panel)\n",
      "  Downloading xyzservices-2023.10.1-py3-none-any.whl.metadata (4.0 kB)\n",
      "Collecting markdown (from panel)\n",
      "  Using cached Markdown-3.5.1-py3-none-any.whl.metadata (7.1 kB)\n",
      "Requirement already satisfied: markdown-it-py in c:\\users\\admin\\appdata\\local\\programs\\python\\python312\\lib\\site-packages (from panel) (3.0.0)\n",
      "Collecting linkify-it-py (from panel)\n",
      "  Downloading linkify_it_py-2.0.2-py3-none-any.whl (19 kB)\n",
      "Collecting mdit-py-plugins (from panel)\n",
      "  Downloading mdit_py_plugins-0.4.0-py3-none-any.whl.metadata (2.7 kB)\n",
      "Requirement already satisfied: requests in c:\\users\\admin\\appdata\\local\\programs\\python\\python312\\lib\\site-packages (from panel) (2.31.0)\n",
      "Requirement already satisfied: tqdm>=4.48.0 in c:\\users\\admin\\appdata\\local\\programs\\python\\python312\\lib\\site-packages (from panel) (4.66.1)\n",
      "Requirement already satisfied: bleach in c:\\users\\admin\\appdata\\local\\programs\\python\\python312\\lib\\site-packages (from panel) (6.1.0)\n",
      "Requirement already satisfied: typing-extensions in c:\\users\\admin\\appdata\\local\\programs\\python\\python312\\lib\\site-packages (from panel) (4.8.0)\n",
      "Requirement already satisfied: pandas>=1.2 in c:\\users\\admin\\appdata\\local\\programs\\python\\python312\\lib\\site-packages (from panel) (2.1.3)\n",
      "Requirement already satisfied: Jinja2>=2.9 in c:\\users\\admin\\appdata\\local\\programs\\python\\python312\\lib\\site-packages (from bokeh<3.4.0,>=3.2.0->panel) (3.1.2)\n",
      "Requirement already satisfied: contourpy>=1 in c:\\users\\admin\\appdata\\local\\programs\\python\\python312\\lib\\site-packages (from bokeh<3.4.0,>=3.2.0->panel) (1.2.0)\n",
      "Requirement already satisfied: numpy>=1.16 in c:\\users\\admin\\appdata\\local\\programs\\python\\python312\\lib\\site-packages (from bokeh<3.4.0,>=3.2.0->panel) (1.26.2)\n",
      "Requirement already satisfied: packaging>=16.8 in c:\\users\\admin\\appdata\\local\\programs\\python\\python312\\lib\\site-packages (from bokeh<3.4.0,>=3.2.0->panel) (23.1)\n",
      "Requirement already satisfied: pillow>=7.1.0 in c:\\users\\admin\\appdata\\local\\programs\\python\\python312\\lib\\site-packages (from bokeh<3.4.0,>=3.2.0->panel) (10.1.0)\n",
      "Requirement already satisfied: PyYAML>=3.10 in c:\\users\\admin\\appdata\\local\\programs\\python\\python312\\lib\\site-packages (from bokeh<3.4.0,>=3.2.0->panel) (6.0.1)\n",
      "Requirement already satisfied: tornado>=5.1 in c:\\users\\admin\\appdata\\local\\programs\\python\\python312\\lib\\site-packages (from bokeh<3.4.0,>=3.2.0->panel) (6.3.3)\n",
      "Requirement already satisfied: python-dateutil>=2.8.2 in c:\\users\\admin\\appdata\\local\\programs\\python\\python312\\lib\\site-packages (from pandas>=1.2->panel) (2.8.2)\n",
      "Requirement already satisfied: pytz>=2020.1 in c:\\users\\admin\\appdata\\local\\programs\\python\\python312\\lib\\site-packages (from pandas>=1.2->panel) (2023.3.post1)\n",
      "Requirement already satisfied: tzdata>=2022.1 in c:\\users\\admin\\appdata\\local\\programs\\python\\python312\\lib\\site-packages (from pandas>=1.2->panel) (2023.3)\n",
      "Requirement already satisfied: colorama in c:\\users\\admin\\appdata\\local\\programs\\python\\python312\\lib\\site-packages (from tqdm>=4.48.0->panel) (0.4.6)\n",
      "Requirement already satisfied: six>=1.9.0 in c:\\users\\admin\\appdata\\local\\programs\\python\\python312\\lib\\site-packages (from bleach->panel) (1.16.0)\n",
      "Requirement already satisfied: webencodings in c:\\users\\admin\\appdata\\local\\programs\\python\\python312\\lib\\site-packages (from bleach->panel) (0.5.1)\n",
      "Collecting uc-micro-py (from linkify-it-py->panel)\n",
      "  Downloading uc_micro_py-1.0.2-py3-none-any.whl (6.2 kB)\n",
      "Requirement already satisfied: mdurl~=0.1 in c:\\users\\admin\\appdata\\local\\programs\\python\\python312\\lib\\site-packages (from markdown-it-py->panel) (0.1.2)\n",
      "Requirement already satisfied: charset-normalizer<4,>=2 in c:\\users\\admin\\appdata\\local\\programs\\python\\python312\\lib\\site-packages (from requests->panel) (3.2.0)\n",
      "Requirement already satisfied: idna<4,>=2.5 in c:\\users\\admin\\appdata\\local\\programs\\python\\python312\\lib\\site-packages (from requests->panel) (3.4)\n",
      "Requirement already satisfied: urllib3<3,>=1.21.1 in c:\\users\\admin\\appdata\\local\\programs\\python\\python312\\lib\\site-packages (from requests->panel) (2.0.4)\n",
      "Requirement already satisfied: certifi>=2017.4.17 in c:\\users\\admin\\appdata\\local\\programs\\python\\python312\\lib\\site-packages (from requests->panel) (2023.7.22)\n",
      "Requirement already satisfied: MarkupSafe>=2.0 in c:\\users\\admin\\appdata\\local\\programs\\python\\python312\\lib\\site-packages (from Jinja2>=2.9->bokeh<3.4.0,>=3.2.0->panel) (2.1.3)\n",
      "Downloading panel-1.3.6-py2.py3-none-any.whl (20.8 MB)\n",
      "   ---------------------------------------- 0.0/20.8 MB ? eta -:--:--\n",
      "   - -------------------------------------- 0.6/20.8 MB 13.6 MB/s eta 0:00:02\n",
      "   -- ------------------------------------- 1.4/20.8 MB 15.0 MB/s eta 0:00:02\n",
      "   --- ------------------------------------ 1.7/20.8 MB 13.6 MB/s eta 0:00:02\n",
      "   --- ------------------------------------ 2.0/20.8 MB 12.9 MB/s eta 0:00:02\n",
      "   ---- ----------------------------------- 2.4/20.8 MB 11.8 MB/s eta 0:00:02\n",
      "   ----- ---------------------------------- 2.8/20.8 MB 10.4 MB/s eta 0:00:02\n",
      "   ----- ---------------------------------- 3.1/20.8 MB 10.3 MB/s eta 0:00:02\n",
      "   ------ --------------------------------- 3.1/20.8 MB 10.0 MB/s eta 0:00:02\n",
      "   ------ --------------------------------- 3.1/20.8 MB 10.0 MB/s eta 0:00:02\n",
      "   ------ --------------------------------- 3.1/20.8 MB 10.0 MB/s eta 0:00:02\n",
      "   ------ --------------------------------- 3.1/20.8 MB 10.0 MB/s eta 0:00:02\n",
      "   ------ --------------------------------- 3.1/20.8 MB 10.0 MB/s eta 0:00:02\n",
      "   ------ --------------------------------- 3.1/20.8 MB 10.0 MB/s eta 0:00:02\n",
      "   ------ --------------------------------- 3.1/20.8 MB 10.0 MB/s eta 0:00:02\n",
      "   -------- ------------------------------- 4.2/20.8 MB 6.5 MB/s eta 0:00:03\n",
      "   -------- ------------------------------- 4.6/20.8 MB 6.6 MB/s eta 0:00:03\n",
      "   --------- ------------------------------ 5.0/20.8 MB 6.7 MB/s eta 0:00:03\n",
      "   ---------- ----------------------------- 5.3/20.8 MB 6.8 MB/s eta 0:00:03\n",
      "   ---------- ----------------------------- 5.6/20.8 MB 6.8 MB/s eta 0:00:03\n",
      "   ----------- ---------------------------- 6.0/20.8 MB 6.8 MB/s eta 0:00:03\n",
      "   ------------ --------------------------- 6.3/20.8 MB 6.8 MB/s eta 0:00:03\n",
      "   ------------ --------------------------- 6.6/20.8 MB 6.9 MB/s eta 0:00:03\n",
      "   ------------- -------------------------- 7.0/20.8 MB 7.0 MB/s eta 0:00:02\n",
      "   -------------- ------------------------- 7.3/20.8 MB 7.0 MB/s eta 0:00:02\n",
      "   -------------- ------------------------- 7.6/20.8 MB 7.0 MB/s eta 0:00:02\n",
      "   --------------- ------------------------ 7.9/20.8 MB 7.0 MB/s eta 0:00:02\n",
      "   --------------- ------------------------ 8.2/20.8 MB 7.0 MB/s eta 0:00:02\n",
      "   ---------------- ----------------------- 8.5/20.8 MB 7.0 MB/s eta 0:00:02\n",
      "   ----------------- ---------------------- 8.8/20.8 MB 7.1 MB/s eta 0:00:02\n",
      "   ----------------- ---------------------- 9.2/20.8 MB 7.1 MB/s eta 0:00:02\n",
      "   ------------------ --------------------- 9.5/20.8 MB 7.0 MB/s eta 0:00:02\n",
      "   ------------------ --------------------- 9.7/20.8 MB 7.1 MB/s eta 0:00:02\n",
      "   ------------------- -------------------- 10.1/20.8 MB 7.1 MB/s eta 0:00:02\n",
      "   ------------------- -------------------- 10.4/20.8 MB 7.0 MB/s eta 0:00:02\n",
      "   -------------------- ------------------- 10.7/20.8 MB 7.0 MB/s eta 0:00:02\n",
      "   --------------------- ------------------ 11.0/20.8 MB 6.8 MB/s eta 0:00:02\n",
      "   --------------------- ------------------ 11.3/20.8 MB 6.7 MB/s eta 0:00:02\n",
      "   ---------------------- ----------------- 11.7/20.8 MB 6.6 MB/s eta 0:00:02\n",
      "   ----------------------- ---------------- 12.0/20.8 MB 6.6 MB/s eta 0:00:02\n",
      "   ----------------------- ---------------- 12.3/20.8 MB 6.6 MB/s eta 0:00:02\n",
      "   ------------------------ --------------- 12.6/20.8 MB 6.5 MB/s eta 0:00:02\n",
      "   ------------------------ --------------- 12.9/20.8 MB 6.6 MB/s eta 0:00:02\n",
      "   ------------------------- -------------- 13.2/20.8 MB 6.6 MB/s eta 0:00:02\n",
      "   ------------------------- -------------- 13.5/20.8 MB 8.1 MB/s eta 0:00:01\n",
      "   -------------------------- ------------- 13.9/20.8 MB 7.8 MB/s eta 0:00:01\n",
      "   --------------------------- ------------ 14.2/20.8 MB 7.6 MB/s eta 0:00:01\n",
      "   ---------------------------- ----------- 14.6/20.8 MB 7.4 MB/s eta 0:00:01\n",
      "   ---------------------------- ----------- 14.9/20.8 MB 7.5 MB/s eta 0:00:01\n",
      "   ----------------------------- ---------- 15.2/20.8 MB 7.5 MB/s eta 0:00:01\n",
      "   ----------------------------- ---------- 15.6/20.8 MB 7.5 MB/s eta 0:00:01\n",
      "   ------------------------------ --------- 15.9/20.8 MB 7.5 MB/s eta 0:00:01\n",
      "   ------------------------------- -------- 16.2/20.8 MB 7.4 MB/s eta 0:00:01\n",
      "   ------------------------------- -------- 16.5/20.8 MB 7.4 MB/s eta 0:00:01\n",
      "   -------------------------------- ------- 16.8/20.8 MB 7.5 MB/s eta 0:00:01\n",
      "   -------------------------------- ------- 17.1/20.8 MB 7.4 MB/s eta 0:00:01\n",
      "   --------------------------------- ------ 17.4/20.8 MB 7.4 MB/s eta 0:00:01\n",
      "   ---------------------------------- ----- 17.7/20.8 MB 7.5 MB/s eta 0:00:01\n",
      "   ---------------------------------- ----- 18.0/20.8 MB 7.5 MB/s eta 0:00:01\n",
      "   ----------------------------------- ---- 18.3/20.8 MB 7.4 MB/s eta 0:00:01\n",
      "   ----------------------------------- ---- 18.6/20.8 MB 7.4 MB/s eta 0:00:01\n",
      "   ------------------------------------ --- 18.9/20.8 MB 7.4 MB/s eta 0:00:01\n",
      "   ------------------------------------- -- 19.3/20.8 MB 7.4 MB/s eta 0:00:01\n",
      "   ------------------------------------- -- 19.6/20.8 MB 7.5 MB/s eta 0:00:01\n",
      "   -------------------------------------- - 19.9/20.8 MB 7.4 MB/s eta 0:00:01\n",
      "   -------------------------------------- - 20.2/20.8 MB 7.4 MB/s eta 0:00:01\n",
      "   ---------------------------------------  20.5/20.8 MB 7.5 MB/s eta 0:00:01\n",
      "   ---------------------------------------  20.8/20.8 MB 7.4 MB/s eta 0:00:01\n",
      "   ---------------------------------------  20.8/20.8 MB 7.4 MB/s eta 0:00:01\n",
      "   ---------------------------------------- 20.8/20.8 MB 7.0 MB/s eta 0:00:00\n",
      "Downloading bokeh-3.3.2-py3-none-any.whl (6.8 MB)\n",
      "   ---------------------------------------- 0.0/6.8 MB ? eta -:--:--\n",
      "   ----- ---------------------------------- 1.0/6.8 MB 30.1 MB/s eta 0:00:01\n",
      "   ------- -------------------------------- 1.3/6.8 MB 20.6 MB/s eta 0:00:01\n",
      "   --------- ------------------------------ 1.6/6.8 MB 14.9 MB/s eta 0:00:01\n",
      "   ----------- ---------------------------- 1.9/6.8 MB 12.2 MB/s eta 0:00:01\n",
      "   ------------- -------------------------- 2.3/6.8 MB 11.3 MB/s eta 0:00:01\n",
      "   --------------- ------------------------ 2.6/6.8 MB 10.9 MB/s eta 0:00:01\n",
      "   --------------- ------------------------ 2.6/6.8 MB 10.9 MB/s eta 0:00:01\n",
      "   --------------- ------------------------ 2.6/6.8 MB 10.9 MB/s eta 0:00:01\n",
      "   --------------- ------------------------ 2.6/6.8 MB 10.9 MB/s eta 0:00:01\n",
      "   ---------------- ----------------------- 2.9/6.8 MB 7.1 MB/s eta 0:00:01\n",
      "   --------------------- ------------------ 3.6/6.8 MB 8.0 MB/s eta 0:00:01\n",
      "   -------------------------- ------------- 4.5/6.8 MB 9.1 MB/s eta 0:00:01\n",
      "   ---------------------------- ----------- 4.9/6.8 MB 8.9 MB/s eta 0:00:01\n",
      "   ------------------------------ --------- 5.2/6.8 MB 8.8 MB/s eta 0:00:01\n",
      "   -------------------------------- ------- 5.6/6.8 MB 8.9 MB/s eta 0:00:01\n",
      "   ---------------------------------- ----- 5.9/6.8 MB 8.7 MB/s eta 0:00:01\n",
      "   ------------------------------------ --- 6.2/6.8 MB 8.5 MB/s eta 0:00:01\n",
      "   ------------------------------------- -- 6.5/6.8 MB 8.6 MB/s eta 0:00:01\n",
      "   ---------------------------------------  6.8/6.8 MB 8.5 MB/s eta 0:00:01\n",
      "   ---------------------------------------- 6.8/6.8 MB 8.1 MB/s eta 0:00:00\n",
      "Downloading param-2.0.1-py3-none-any.whl (113 kB)\n",
      "   ---------------------------------------- 0.0/113.4 kB ? eta -:--:--\n",
      "   ---------------------------------------- 113.4/113.4 kB 6.9 MB/s eta 0:00:00\n",
      "Downloading pyviz_comms-3.0.0-py3-none-any.whl (82 kB)\n",
      "   ---------------------------------------- 0.0/82.2 kB ? eta -:--:--\n",
      "   ---------------------------------------- 82.2/82.2 kB 4.8 MB/s eta 0:00:00\n",
      "Downloading xyzservices-2023.10.1-py3-none-any.whl (56 kB)\n",
      "   ---------------------------------------- 0.0/56.3 kB ? eta -:--:--\n",
      "   ---------------------------------------- 56.3/56.3 kB 3.1 MB/s eta 0:00:00\n",
      "Using cached Markdown-3.5.1-py3-none-any.whl (102 kB)\n",
      "Downloading mdit_py_plugins-0.4.0-py3-none-any.whl (54 kB)\n",
      "   ---------------------------------------- 0.0/54.1 kB ? eta -:--:--\n",
      "   ---------------------------------------- 54.1/54.1 kB 2.9 MB/s eta 0:00:00\n",
      "Installing collected packages: xyzservices, uc-micro-py, param, markdown, pyviz-comms, mdit-py-plugins, linkify-it-py, bokeh, panel\n",
      "Successfully installed bokeh-3.3.2 linkify-it-py-2.0.2 markdown-3.5.1 mdit-py-plugins-0.4.0 panel-1.3.6 param-2.0.1 pyviz-comms-3.0.0 uc-micro-py-1.0.2 xyzservices-2023.10.1\n"
     ]
    },
    {
     "name": "stderr",
     "output_type": "stream",
     "text": [
      "DEPRECATION: celery 4.4.7 has a non-standard dependency specifier pytz>dev. pip 24.0 will enforce this behaviour change. A possible replacement is to upgrade to a newer version of celery or contact the author to suggest that they release a version with a conforming dependency specifiers. Discussion can be found at https://github.com/pypa/pip/issues/12063\n"
     ]
    }
   ],
   "source": [
    "!pip install panel"
   ]
  },
  {
   "cell_type": "code",
   "execution_count": 1,
   "id": "12d96b08-7319-4638-ae21-775b0585e835",
   "metadata": {},
   "outputs": [
    {
     "name": "stderr",
     "output_type": "stream",
     "text": [
      "UsageError: Line magic function `%CREATE` not found.\n"
     ]
    }
   ],
   "source": [
    "%CREATE example_db.db"
   ]
  },
  {
   "cell_type": "code",
   "execution_count": 4,
   "id": "ebfa165c-5657-4c7b-a8cd-31fb6c4fb386",
   "metadata": {},
   "outputs": [
    {
     "ename": "SyntaxError",
     "evalue": "positional argument follows keyword argument (1140142148.py, line 13)",
     "output_type": "error",
     "traceback": [
      "\u001b[1;36m  Cell \u001b[1;32mIn[4], line 13\u001b[1;36m\u001b[0m\n\u001b[1;33m    a=pandas.DataFrame(data=sid,company,name,product,model_sr,problem,contact,in_date,out_date,columns=[\"S_id\",\"comapny\",\"name\",\"product\",\"model_Sr\",\"problem\",\"contact\",\"in_date\",\"out_date\"])\u001b[0m\n\u001b[1;37m                                                                                                                                                                                              ^\u001b[0m\n\u001b[1;31mSyntaxError\u001b[0m\u001b[1;31m:\u001b[0m positional argument follows keyword argument\n"
     ]
    }
   ],
   "source": [
    "import pandas\n",
    "\n",
    "sid=[]\n",
    "company=[]\n",
    "name=[]\n",
    "product=[]\n",
    "model_sr=[]\n",
    "problem=[]\n",
    "contact=[]\n",
    "in_date=[]\n",
    "out_date=[]\n",
    "\n",
    "a=pandas.DataFrame(data=sid,company,name,product,model_sr,problem,contact,in_date,out_date,columns=[\"S_id\",\"comapny\",\"name\",\"product\",\"model_Sr\",\"problem\",\"contact\",\"in_date\",\"out_date\"])\n",
    "def info():\n",
    "    a.append(input(\"S_id\\t:\"),\n",
    "             input(\"company\\t:\"),\n",
    "             input(\"name   \\t:\"),\n",
    "             input(\"product \\t:\"),\n",
    "             input(\"model_Sr\\t:\"),\n",
    "             input(\"problem\\t:\"),\n",
    "             input(\"contact\\t:\"))\n",
    "    rint(a[-1])"
   ]
  },
  {
   "cell_type": "code",
   "execution_count": null,
   "id": "8749cbaa-3a59-4bba-b3b9-cc0dbb5dc68f",
   "metadata": {},
   "outputs": [
    {
     "name": "stdout",
     "output_type": "stream",
     "text": [
      "\n",
      "Options:\n",
      "1. Add Product\n",
      "2. Display Products\n",
      "3. Exit\n"
     ]
    },
    {
     "name": "stdout",
     "output_type": "stream",
     "text": [
      "Enter your choice (1/2/3):  2\n"
     ]
    },
    {
     "name": "stdout",
     "output_type": "stream",
     "text": [
      "No products entered yet.\n",
      "\n",
      "Options:\n",
      "1. Add Product\n",
      "2. Display Products\n",
      "3. Exit\n"
     ]
    },
    {
     "name": "stdout",
     "output_type": "stream",
     "text": [
      "Enter your choice (1/2/3):  2\n"
     ]
    },
    {
     "name": "stdout",
     "output_type": "stream",
     "text": [
      "No products entered yet.\n",
      "\n",
      "Options:\n",
      "1. Add Product\n",
      "2. Display Products\n",
      "3. Exit\n"
     ]
    },
    {
     "name": "stdout",
     "output_type": "stream",
     "text": [
      "Enter your choice (1/2/3):  2\n"
     ]
    },
    {
     "name": "stdout",
     "output_type": "stream",
     "text": [
      "No products entered yet.\n",
      "\n",
      "Options:\n",
      "1. Add Product\n",
      "2. Display Products\n",
      "3. Exit\n"
     ]
    },
    {
     "name": "stdout",
     "output_type": "stream",
     "text": [
      "Enter your choice (1/2/3):   2\n"
     ]
    },
    {
     "name": "stdout",
     "output_type": "stream",
     "text": [
      "Invalid choice. Please enter 1, 2, or 3.\n",
      "\n",
      "Options:\n",
      "1. Add Product\n",
      "2. Display Products\n",
      "3. Exit\n"
     ]
    }
   ],
   "source": [
    "class pc_entry:\n",
    "    def __init__(self):\n",
    "        self.products = {}\n",
    "\n",
    "    def add_product(self,name, price, quantity):\n",
    "        self.products[name] = {'price': price, 'quantity': quantity}\n",
    "        print(f\"Product '{name}' added successfully!\")\n",
    "\n",
    "    def display_products(self):\n",
    "        if not self.products:\n",
    "            print(\"No products entered yet.\")\n",
    "        else:\n",
    "            print(\"\\nProduct List:\")\n",
    "            print(\"{:<20} {:<10} {:<10}\".format(\"Product Name\", \"Price\", \"Quantity\"))\n",
    "            print(\"=\"*40)\n",
    "            for name, details in self.products.items():\n",
    "                print(\"{:<20} ${:<10.2f} {:<10}\".format(name, details['price'], details['quantity']))\n",
    "\n",
    "def main():\n",
    "    shop = pc_entry()\n",
    "\n",
    "    while True:\n",
    "        print(\"\\nOptions:\")\n",
    "        print(\"1. Add Product\")\n",
    "        print(\"2. Display Products\")\n",
    "        print(\"3. Exit\")\n",
    "\n",
    "        choice = input(\"Enter your choice (1/2/3): \")\n",
    "\n",
    "        if choice == '1':\n",
    "            name = input(\"Enter product name: \")\n",
    "            price = float(input(\"Enter product price: \"))\n",
    "            quantity = int(input(\"Enter product quantity: \"))\n",
    "            shop.add_product(name, price, quantity)\n",
    "        elif choice == '2':\n",
    "            shop.display_products()\n",
    "        elif choice == '3':\n",
    "            print(\"Exiting program. Goodbye!\")\n",
    "            break\n",
    "        else:\n",
    "            print(\"Invalid choice. Please enter 1, 2, or 3.\")\n",
    "\n",
    "if __name__ == \"__main__\":\n",
    "    main()\n"
   ]
  },
  {
   "cell_type": "code",
   "execution_count": 2,
   "id": "35be1589-bb2a-4167-a042-ce1f0710ba88",
   "metadata": {},
   "outputs": [
    {
     "name": "stdout",
     "output_type": "stream",
     "text": [
      "Collecting mysql.connector\n",
      "  Using cached mysql_connector-2.2.9-cp312-cp312-win_amd64.whl\n",
      "Installing collected packages: mysql.connector\n",
      "Successfully installed mysql.connector-2.2.9\n"
     ]
    },
    {
     "name": "stderr",
     "output_type": "stream",
     "text": [
      "DEPRECATION: celery 4.4.7 has a non-standard dependency specifier pytz>dev. pip 24.1 will enforce this behaviour change. A possible replacement is to upgrade to a newer version of celery or contact the author to suggest that they release a version with a conforming dependency specifiers. Discussion can be found at https://github.com/pypa/pip/issues/12063\n"
     ]
    }
   ],
   "source": [
    "! pip install mysql.connector"
   ]
  },
  {
   "cell_type": "code",
   "execution_count": 3,
   "id": "bc94f734",
   "metadata": {},
   "outputs": [
    {
     "ename": "AttributeError",
     "evalue": "module 'mysql.connector' has no attribute 'connect'",
     "output_type": "error",
     "traceback": [
      "\u001b[1;31m---------------------------------------------------------------------------\u001b[0m",
      "\u001b[1;31mAttributeError\u001b[0m                            Traceback (most recent call last)",
      "Cell \u001b[1;32mIn[3], line 2\u001b[0m\n\u001b[0;32m      1\u001b[0m \u001b[38;5;28;01mimport\u001b[39;00m \u001b[38;5;21;01mmysql\u001b[39;00m\u001b[38;5;21;01m.\u001b[39;00m\u001b[38;5;21;01mconnector\u001b[39;00m\n\u001b[1;32m----> 2\u001b[0m con \u001b[38;5;241m=\u001b[39m \u001b[43mmysql\u001b[49m\u001b[38;5;241;43m.\u001b[39;49m\u001b[43mconnector\u001b[49m\u001b[38;5;241;43m.\u001b[39;49m\u001b[43mconnect\u001b[49m(\n\u001b[0;32m      3\u001b[0m     host \u001b[38;5;241m=\u001b[39m \u001b[38;5;124m'\u001b[39m\u001b[38;5;124mlocalhost\u001b[39m\u001b[38;5;124m'\u001b[39m,\n\u001b[0;32m      4\u001b[0m     user \u001b[38;5;241m=\u001b[39m \u001b[38;5;124m'\u001b[39m\u001b[38;5;124mroot\u001b[39m\u001b[38;5;124m'\u001b[39m,\n\u001b[0;32m      5\u001b[0m     password \u001b[38;5;241m=\u001b[39m\u001b[38;5;124m'\u001b[39m\u001b[38;5;124mpython\u001b[39m\u001b[38;5;124m'\u001b[39m,\n\u001b[0;32m      6\u001b[0m     port \u001b[38;5;241m=\u001b[39m \u001b[38;5;124m'\u001b[39m\u001b[38;5;124m3306\u001b[39m\u001b[38;5;124m'\u001b[39m,\n\u001b[0;32m      7\u001b[0m     database \u001b[38;5;241m=\u001b[39m \u001b[38;5;124m'\u001b[39m\u001b[38;5;124mpy\u001b[39m\u001b[38;5;124m'\u001b[39m,\n\u001b[0;32m      8\u001b[0m     auth_plugin \u001b[38;5;241m=\u001b[39m \u001b[38;5;124m'\u001b[39m\u001b[38;5;124mmysql_native_password\u001b[39m\u001b[38;5;124m'\u001b[39m\n\u001b[0;32m      9\u001b[0m     )\n\u001b[0;32m     10\u001b[0m \u001b[38;5;28mprint\u001b[39m(con)\n\u001b[0;32m     11\u001b[0m cur\u001b[38;5;241m=\u001b[39mcon\u001b[38;5;241m.\u001b[39mcursor()\n",
      "\u001b[1;31mAttributeError\u001b[0m: module 'mysql.connector' has no attribute 'connect'"
     ]
    }
   ],
   "source": [
    "import mysql.connector\n",
    "con = mysql.connector.connect(\n",
    "    host = 'localhost',\n",
    "    user = 'root',\n",
    "    password ='python',\n",
    "    port = '3306',\n",
    "    database = 'py',\n",
    "    auth_plugin = 'mysql_native_password'\n",
    "    )\n",
    "print(con)\n",
    "cur=con.cursor()\n",
    "print(cur)"
   ]
  },
  {
   "cell_type": "code",
   "execution_count": 3,
   "id": "e400ead5",
   "metadata": {},
   "outputs": [
    {
     "ename": "NameError",
     "evalue": "name '__file__' is not defined",
     "output_type": "error",
     "traceback": [
      "\u001b[1;31m---------------------------------------------------------------------------\u001b[0m",
      "\u001b[1;31mNameError\u001b[0m                                 Traceback (most recent call last)",
      "Cell \u001b[1;32mIn[3], line 162\u001b[0m\n\u001b[0;32m    159\u001b[0m         \u001b[38;5;28;01mreturn\u001b[39;00m torch\u001b[38;5;241m.\u001b[39mmultinomial(probs, num_samples\u001b[38;5;241m=\u001b[39m\u001b[38;5;241m1\u001b[39m)\n\u001b[0;32m    161\u001b[0m prompt \u001b[38;5;241m=\u001b[39m \u001b[38;5;124m'\u001b[39m\u001b[38;5;124mThe Eiffel tower is in\u001b[39m\u001b[38;5;124m'\u001b[39m \u001b[38;5;28;01mif\u001b[39;00m \u001b[38;5;28mlen\u001b[39m(sys\u001b[38;5;241m.\u001b[39margv) \u001b[38;5;241m<\u001b[39m\u001b[38;5;241m=\u001b[39m \u001b[38;5;241m1\u001b[39m \u001b[38;5;28;01melse\u001b[39;00m sys\u001b[38;5;241m.\u001b[39margv[\u001b[38;5;241m1\u001b[39m]\n\u001b[1;32m--> 162\u001b[0m model \u001b[38;5;241m=\u001b[39m \u001b[43mGPT2\u001b[49m\u001b[43m(\u001b[49m\u001b[38;5;124;43m'\u001b[39;49m\u001b[38;5;124;43mgpt2\u001b[39;49m\u001b[38;5;124;43m'\u001b[39;49m\u001b[43m)\u001b[49m\u001b[38;5;241m.\u001b[39meval()\n\u001b[0;32m    163\u001b[0m encoding \u001b[38;5;241m=\u001b[39m BPETokenizer()\n\u001b[0;32m    164\u001b[0m \u001b[38;5;66;03m# import tiktoken\u001b[39;00m\n\u001b[0;32m    165\u001b[0m \u001b[38;5;66;03m# encoding = tiktoken.get_encoding('gpt2')\u001b[39;00m\n",
      "Cell \u001b[1;32mIn[3], line 142\u001b[0m, in \u001b[0;36mGPT2.__init__\u001b[1;34m(self, model_type)\u001b[0m\n\u001b[0;32m    140\u001b[0m \u001b[38;5;28mself\u001b[39m\u001b[38;5;241m.\u001b[39mlm_head \u001b[38;5;241m=\u001b[39m torch\u001b[38;5;241m.\u001b[39mnn\u001b[38;5;241m.\u001b[39mLinear(config\u001b[38;5;241m.\u001b[39mn_embd, config\u001b[38;5;241m.\u001b[39mvocab_size, bias\u001b[38;5;241m=\u001b[39m\u001b[38;5;28;01mFalse\u001b[39;00m)\n\u001b[0;32m    141\u001b[0m \u001b[38;5;28mself\u001b[39m\u001b[38;5;241m.\u001b[39mtransformer\u001b[38;5;241m.\u001b[39mwte\u001b[38;5;241m.\u001b[39mweight \u001b[38;5;241m=\u001b[39m \u001b[38;5;28mself\u001b[39m\u001b[38;5;241m.\u001b[39mlm_head\u001b[38;5;241m.\u001b[39mweight\n\u001b[1;32m--> 142\u001b[0m state_file \u001b[38;5;241m=\u001b[39m \u001b[43mdownload\u001b[49m\u001b[43m(\u001b[49m\u001b[43mconfig\u001b[49m\u001b[38;5;241;43m.\u001b[39;49m\u001b[43murl\u001b[49m\u001b[43m,\u001b[49m\u001b[43m \u001b[49m\u001b[43mconfig\u001b[49m\u001b[38;5;241;43m.\u001b[39;49m\u001b[43mtype\u001b[49m\u001b[43m \u001b[49m\u001b[38;5;241;43m+\u001b[39;49m\u001b[43m \u001b[49m\u001b[38;5;124;43m'\u001b[39;49m\u001b[38;5;124;43m.bin\u001b[39;49m\u001b[38;5;124;43m'\u001b[39;49m\u001b[43m)\u001b[49m\n\u001b[0;32m    143\u001b[0m state_dict \u001b[38;5;241m=\u001b[39m torch\u001b[38;5;241m.\u001b[39mload(state_file)\n\u001b[0;32m    144\u001b[0m transposed \u001b[38;5;241m=\u001b[39m [ \u001b[38;5;124m'\u001b[39m\u001b[38;5;124m.c_attn.weight\u001b[39m\u001b[38;5;124m'\u001b[39m, \u001b[38;5;124m'\u001b[39m\u001b[38;5;124m.c_fc.weight\u001b[39m\u001b[38;5;124m'\u001b[39m, \u001b[38;5;124m'\u001b[39m\u001b[38;5;124m.c_proj.weight\u001b[39m\u001b[38;5;124m'\u001b[39m ]\n",
      "Cell \u001b[1;32mIn[3], line 12\u001b[0m, in \u001b[0;36mdownload\u001b[1;34m(url, file)\u001b[0m\n\u001b[0;32m     10\u001b[0m \u001b[38;5;28;01mdef\u001b[39;00m \u001b[38;5;21mdownload\u001b[39m(url, file\u001b[38;5;241m=\u001b[39m\u001b[38;5;28;01mNone\u001b[39;00m):\n\u001b[0;32m     11\u001b[0m     file \u001b[38;5;241m=\u001b[39m file \u001b[38;5;28;01mif\u001b[39;00m file \u001b[38;5;28;01melse\u001b[39;00m url\u001b[38;5;241m.\u001b[39msplit(\u001b[38;5;124m'\u001b[39m\u001b[38;5;124m/\u001b[39m\u001b[38;5;124m'\u001b[39m)[\u001b[38;5;241m-\u001b[39m\u001b[38;5;241m1\u001b[39m]\n\u001b[1;32m---> 12\u001b[0m     path \u001b[38;5;241m=\u001b[39m os\u001b[38;5;241m.\u001b[39mpath\u001b[38;5;241m.\u001b[39mjoin(os\u001b[38;5;241m.\u001b[39mpath\u001b[38;5;241m.\u001b[39mdirname(\u001b[38;5;18;43m__file__\u001b[39;49m), file)\n\u001b[0;32m     13\u001b[0m     \u001b[38;5;28;01mif\u001b[39;00m \u001b[38;5;129;01mnot\u001b[39;00m os\u001b[38;5;241m.\u001b[39mpath\u001b[38;5;241m.\u001b[39misfile(path):\n\u001b[0;32m     14\u001b[0m         \u001b[38;5;28;01mdef\u001b[39;00m \u001b[38;5;21mreporthook\u001b[39m(count, block_size, total_size):\n",
      "\u001b[1;31mNameError\u001b[0m: name '__file__' is not defined"
     ]
    }
   ],
   "source": [
    "import collections\n",
    "import json\n",
    "import math\n",
    "import os\n",
    "import urllib.request\n",
    "import re\n",
    "import sys\n",
    "import torch\n",
    "\n",
    "def download(url, file=None):\n",
    "    file = file if file else url.split('/')[-1]\n",
    "    path = os.path.join(os.path.dirname(__file__), file)\n",
    "    if not os.path.isfile(path):\n",
    "        def reporthook(count, block_size, total_size):\n",
    "            percent = str(int(100 * count * block_size / total_size)) + '%'\n",
    "            print('\\r\\033[KDownloading ' + file + ' (' + percent + ')', end='', flush=True)\n",
    "        urllib.request.urlretrieve(url, path, reporthook=reporthook)\n",
    "        print('\\r\\033[K', end='', flush=True)\n",
    "    return path\n",
    "\n",
    "class BPETokenizer:\n",
    "\n",
    "    def __init__(self):\n",
    "        url = 'https://openaipublic.blob.core.windows.net/gpt-2/models/124M/'\n",
    "        with open(download(url + 'encoder.json'), 'r', encoding='utf-8') as file:\n",
    "            self.encoder = json.load(file)\n",
    "        self.decoder = {v:k for k,v in self.encoder.items()}\n",
    "        with open(download(url + 'vocab.bpe'), 'r', encoding='utf-8') as file:\n",
    "            vocab = file.read().split('\\n')[1:-1]\n",
    "        self.bpe_ranks = {tuple(line.split()): i for i, line in enumerate(vocab)}\n",
    "        assert len(self.encoder) == 50257 and len(self.bpe_ranks) == 50000\n",
    "        bs = list(range(33, 127)) + list(range(161, 256))\n",
    "        xs = list(range(0, 33)) + list(range(127, 161))\n",
    "        cs = bs[:] + [2**8 + i for i in range(len(xs))]\n",
    "        self.byte_encoder = dict(zip(bs + xs, [chr(n) for n in cs]))\n",
    "        self.byte_decoder = {v:k for k, v in self.byte_encoder.items()}\n",
    "\n",
    "    def encode(self, text, allowed_special=None):\n",
    "        tokens = re.findall(r\"\"\"<\\|endoftext\\|>|'s|'t|'re|'ve|'m|'ll|'d| ?\"\"\" +\n",
    "                            r\"\"\"\\w+| ?\\d+| ?[^\\s\\w\\d]+|\\s+(?!\\S)|\\s+\"\"\", text, re.UNICODE)\n",
    "        def translate(token):\n",
    "            if token == '<|endoftext|>':\n",
    "                assert allowed_special and token in allowed_special\n",
    "                return [token]\n",
    "            word = tuple(''.join(self.byte_encoder[byte] for byte in token.encode('utf-8')))\n",
    "            while len(word) != 1:\n",
    "                pairs = set((word[i], word[i+1]) for i in range(len(word)-1))\n",
    "                bigram = min(pairs, key = lambda pair: self.bpe_ranks.get(pair, float('inf')))\n",
    "                if bigram not in self.bpe_ranks:\n",
    "                    break\n",
    "                a, b = bigram\n",
    "                new_word = []\n",
    "                i = 0\n",
    "                while i < len(word):\n",
    "                    j = word.index(a, i) if a in word[i:] else len(word)\n",
    "                    new_word.extend(word[i:j])\n",
    "                    i = j\n",
    "                    if i < len(word):\n",
    "                        j = 2 if i < len(word)-1 and word[i] == a and word[i+1] == b else 1\n",
    "                        new_word.append(a+b if j == 2 else word[i])\n",
    "                        i += j\n",
    "                word = tuple(new_word)\n",
    "            return word\n",
    "        return [self.encoder[_] for token in tokens for _ in translate(token)]\n",
    "\n",
    "    def decode(self, tokens):\n",
    "        tokens = [self.decoder[token] for token in tokens]\n",
    "        buffer = bytearray([self.byte_decoder[c] for c in ''.join(tokens)])\n",
    "        return buffer.decode('utf-8', errors='replace')\n",
    "\n",
    "class GPT2Config:\n",
    "\n",
    "    def __init__(self, model_type):\n",
    "        configs = {\n",
    "            'gpt2':        [ 12, 12, 768  ], # 124M params\n",
    "            'gpt2-medium': [ 24, 16, 1024 ], # 350M params\n",
    "            'gpt2-large':  [ 36, 20, 1280 ], # 774M params\n",
    "            'gpt2-xl':     [ 48, 25, 1600 ]  # 1558M params\n",
    "        }\n",
    "        self.type = model_type\n",
    "        self.n_layer = configs[model_type][0]\n",
    "        self.n_head = configs[model_type][1]\n",
    "        self.n_embd = configs[model_type][2]\n",
    "        self.vocab_size = 50257\n",
    "        self.block_size = 1024\n",
    "        self.url = 'https://huggingface.co/' + model_type + '/resolve/main/pytorch_model.bin'\n",
    "\n",
    "class Attention(torch.nn.Module):\n",
    "\n",
    "    def __init__(self, config):\n",
    "        super().__init__()\n",
    "        self.c_attn = torch.nn.Linear(config.n_embd, 3 * config.n_embd)\n",
    "        self.c_proj = torch.nn.Linear(config.n_embd, config.n_embd)\n",
    "        self.n_head = config.n_head\n",
    "        self.n_embd = config.n_embd\n",
    "        size = config.block_size\n",
    "        self.register_buffer('bias', torch.tril(torch.ones(size, size)).view(1, 1, size, size))\n",
    "\n",
    "    def forward(self, x):\n",
    "        B, T, C = x.size() # batch, context, embedding\n",
    "        q, k, v  = self.c_attn(x).split(self.n_embd, dim=2)\n",
    "        k = k.view(B, T, self.n_head, C // self.n_head).transpose(1, 2)\n",
    "        q = q.view(B, T, self.n_head, C // self.n_head).transpose(1, 2)\n",
    "        v = v.view(B, T, self.n_head, C // self.n_head).transpose(1, 2)\n",
    "        att = (q @ k.transpose(-2, -1)) * (1.0 / math.sqrt(k.size(-1)))\n",
    "        att = att.masked_fill(self.bias[:,:,:T,:T] == 0, float('-inf'))\n",
    "        att = torch.nn.functional.softmax(att, dim=-1)\n",
    "        return self.c_proj((att @ v).transpose(1, 2).contiguous().view(B, T, C))\n",
    "\n",
    "class Block(torch.nn.Module):\n",
    "\n",
    "    def __init__(self, config):\n",
    "        super().__init__()\n",
    "        self.ln_1 = torch.nn.LayerNorm(config.n_embd)\n",
    "        self.ln_2 = torch.nn.LayerNorm(config.n_embd)\n",
    "        self.attn = Attention(config)\n",
    "        self.mlp = torch.nn.Sequential(collections.OrderedDict([\n",
    "            ('c_fc', torch.nn.Linear(config.n_embd, 4 * config.n_embd)),\n",
    "            ('act', torch.nn.GELU(approximate='tanh')),\n",
    "            ('c_proj', torch.nn.Linear(4 * config.n_embd, config.n_embd))\n",
    "        ]))\n",
    "\n",
    "    def forward(self, x):\n",
    "        x = x + self.attn(self.ln_1(x))\n",
    "        x = x + self.mlp(self.ln_2(x))\n",
    "        return x\n",
    "\n",
    "class GPT2(torch.nn.Module):\n",
    "\n",
    "    def __init__(self, model_type):\n",
    "        super().__init__()\n",
    "        config = GPT2Config(model_type)\n",
    "        self.block_size = config.block_size\n",
    "        self.transformer = torch.nn.ModuleDict(dict(\n",
    "            wte = torch.nn.Embedding(config.vocab_size, config.n_embd),\n",
    "            wpe = torch.nn.Embedding(config.block_size, config.n_embd),\n",
    "            h = torch.nn.Sequential(*[Block(config) for _ in range(config.n_layer)]),\n",
    "            ln_f = torch.nn.LayerNorm(config.n_embd)\n",
    "        ))\n",
    "        self.lm_head = torch.nn.Linear(config.n_embd, config.vocab_size, bias=False)\n",
    "        self.transformer.wte.weight = self.lm_head.weight\n",
    "        state_file = download(config.url, config.type + '.bin')\n",
    "        state_dict = torch.load(state_file)\n",
    "        transposed = [ '.c_attn.weight', '.c_fc.weight', '.c_proj.weight' ]\n",
    "        for key, value in state_dict.items():\n",
    "            if any(key.endswith(w) for w in transposed):\n",
    "                state_dict[key] = value.t()\n",
    "        self.transformer.load_state_dict(state_dict)\n",
    "\n",
    "    def forward(self, x: torch.Tensor, temperature: float = 0.1, top_k: int = 40):\n",
    "        x = torch.narrow(x, 1, 0, min(x.size(1), self.block_size))\n",
    "        pos = torch.arange(x.size()[1], dtype=torch.long, device=x.device).unsqueeze(0)\n",
    "        x = self.transformer.wte(x) + self.transformer.wpe(pos)\n",
    "        x = self.lm_head(self.transformer.ln_f(self.transformer.h(x)))\n",
    "        logits = torch.select(x, dim=1, index=-1) / temperature\n",
    "        min_top_k = torch.topk(logits, min(top_k, logits.size(-1))).values[:, [-1]]\n",
    "        logits = torch.where(logits >= min_top_k, logits, -float('Inf'))\n",
    "        probs = torch.nn.functional.softmax(logits, dim=-1)\n",
    "        return torch.multinomial(probs, num_samples=1)\n",
    "\n",
    "prompt = 'The Eiffel tower is in' if len(sys.argv) <= 1 else sys.argv[1]\n",
    "model = GPT2('gpt2').eval()\n",
    "encoding = BPETokenizer()\n",
    "# import tiktoken\n",
    "# encoding = tiktoken.get_encoding('gpt2')\n",
    "prompt = prompt if prompt != '' else '<|endoftext|>'\n",
    "context = encoding.encode(prompt, allowed_special={'<|endoftext|>'})\n",
    "print(encoding.decode(context), end='', flush=True)\n",
    "context = torch.tensor([context], dtype=torch.long)\n",
    "for _ in range(50): # max_tokens\n",
    "    y = model(context)\n",
    "    context = torch.cat((context, y), dim=1)\n",
    "    w = encoding.decode(y[0].tolist())\n",
    "    print(w, end='', flush=True)\n",
    "print('')"
   ]
  },
  {
   "cell_type": "code",
   "execution_count": 4,
   "id": "86462e18",
   "metadata": {},
   "outputs": [],
   "source": [
    "import tkinter as tk\n",
    "from tkinter import messagebox\n",
    "\n",
    "class SimpleOS:\n",
    "    def __init__(self, master):\n",
    "        self.master = master\n",
    "        master.title(\"Simple OS\")\n",
    "\n",
    "        self.label = tk.Label(master, text=\"Welcome to Simple OS!\")\n",
    "        self.label.pack()\n",
    "\n",
    "        self.command_entry = tk.Entry(master)\n",
    "        self.command_entry.pack()\n",
    "\n",
    "        self.submit_button = tk.Button(master, text=\"Submit\", command=self.submit_command)\n",
    "        self.submit_button.pack()\n",
    "\n",
    "    def submit_command(self):\n",
    "        command = self.command_entry.get()\n",
    "        self.process_command(command)\n",
    "\n",
    "    def process_command(self, command):\n",
    "        if command == \"hello\":\n",
    "            messagebox.showinfo(\"Message\", \"Hello! Welcome to Simple OS.\")\n",
    "        elif command == \"exit\":\n",
    "            self.master.quit()\n",
    "        else:\n",
    "            messagebox.showinfo(\"Message\", f\"Command '{command}' not recognized.\")\n",
    "\n",
    "root = tk.Tk()\n",
    "os = SimpleOS(root)\n",
    "root.mainloop()\n"
   ]
  },
  {
   "cell_type": "code",
   "execution_count": null,
   "id": "6c94717f",
   "metadata": {},
   "outputs": [],
   "source": [
    "def train_step(w1,b1):\n",
    "    print(\"w=\",w1)\n",
    "    trainable_variables = [w1,b1]\n",
    "    optimizer = torch.optim.SGD(trainable_variables, lr=learning_rate)\n",
    "    loss = Variable(loss2_function(), requires_grad = True)\n",
    "    print(loss.backward())\n",
    "    with torch.no_grad():\n",
    "        w1 -=(learning_rate * w1.grad)\n",
    "        b1 -= (learning_rate * b1.grad)\n",
    "        w1.grad.zero_()\n",
    "        b1.grad.zero_()\n",
    "    optimizer.step()\n",
    "    optimizer.zero_grad()"
   ]
  },
  {
   "cell_type": "code",
   "execution_count": 7,
   "id": "f5291363",
   "metadata": {},
   "outputs": [
    {
     "ename": "ValueError",
     "evalue": "invalid literal for int() with base 10: '1,3'",
     "output_type": "error",
     "traceback": [
      "\u001b[1;31m---------------------------------------------------------------------------\u001b[0m",
      "\u001b[1;31mValueError\u001b[0m                                Traceback (most recent call last)",
      "Cell \u001b[1;32mIn[7], line 20\u001b[0m\n\u001b[0;32m     17\u001b[0m   \u001b[38;5;28;01mreturn\u001b[39;00m [reflected_x, reflected_y]\n\u001b[0;32m     19\u001b[0m \u001b[38;5;66;03m# Example usage with sample input\u001b[39;00m\n\u001b[1;32m---> 20\u001b[0m num_points \u001b[38;5;241m=\u001b[39m \u001b[38;5;28;43mint\u001b[39;49m\u001b[43m(\u001b[49m\u001b[38;5;28;43minput\u001b[39;49m\u001b[43m(\u001b[49m\u001b[43m)\u001b[49m\u001b[43m)\u001b[49m\n\u001b[0;32m     21\u001b[0m \u001b[38;5;28;01mfor\u001b[39;00m _ \u001b[38;5;129;01min\u001b[39;00m \u001b[38;5;28mrange\u001b[39m(num_points):\n\u001b[0;32m     22\u001b[0m   px, py, qx, qy \u001b[38;5;241m=\u001b[39m \u001b[38;5;28mmap\u001b[39m(\u001b[38;5;28mint\u001b[39m, \u001b[38;5;28minput\u001b[39m()\u001b[38;5;241m.\u001b[39msplit(\u001b[38;5;124m\"\u001b[39m\u001b[38;5;124m,\u001b[39m\u001b[38;5;124m\"\u001b[39m))\n",
      "\u001b[1;31mValueError\u001b[0m: invalid literal for int() with base 10: '1,3'"
     ]
    }
   ],
   "source": [
    "def findPoint(px, py, qx, qy):\n",
    "  \"\"\"\n",
    "  Finds the reflection of point (px, py) across point (qx, qy).\n",
    "\n",
    "  Args:\n",
    "      px: X-coordinate of the point to reflect.\n",
    "      py: Y-coordinate of the point to reflect.\n",
    "      qx: X-coordinate of the reflection point.\n",
    "      qy: Y-coordinate of the reflection point.\n",
    "\n",
    "  Returns:\n",
    "      A list containing the X and Y coordinates of the reflected point.\n",
    "  \"\"\"\n",
    "  # Calculate the reflected coordinates\n",
    "  reflected_x = 2 * qx - px\n",
    "  reflected_y = 2 * qy - py\n",
    "  return [reflected_x, reflected_y]\n",
    "\n",
    "# Example usage with sample input\n",
    "num_points = int(input())\n",
    "for _ in range(num_points):\n",
    "  px, py, qx, qy = map(int, input().split())\n",
    "  reflected_point = findPoint(px, py, qx, qy)\n",
    "  print(*reflected_point)"
   ]
  },
  {
   "cell_type": "code",
   "execution_count": 16,
   "id": "48eab6e5",
   "metadata": {},
   "outputs": [
    {
     "name": "stdout",
     "output_type": "stream",
     "text": [
      "6 -36\n",
      "4 4\n"
     ]
    }
   ],
   "source": [
    "def findPoint(px, py, qx, qy):\n",
    "    \"\"\"\n",
    "    Finds the reflection of point (px, py) across point (qx, qy).\n",
    "\n",
    "    Args:\n",
    "        px: X-coordinate of the point to reflect.\n",
    "        py: Y-coordinate of the point to reflect.\n",
    "        qx: X-coordinate of the reflection point.\n",
    "        qy: Y-coordinate of the reflection point.\n",
    "\n",
    "    Returns:\n",
    "        A list containing the X and Y coordinates of the reflected point.\n",
    "    \"\"\"\n",
    "    # Calculate the reflected coordinates\n",
    "    reflected_x = 2 * qx - px\n",
    "    reflected_y = 2 * qy - py\n",
    "    return [reflected_x, reflected_y]\n",
    "\n",
    "# Example usage with sample input\n",
    "num_points = int(input())\n",
    "for _ in range(num_points):\n",
    "    px = int(input(\"enter px\"))\n",
    "    py = int(input(\"enter py\"))\n",
    "    qx = int(input(\"enter qx\"))\n",
    "    qy = int(input(\"enter qy\"))\n",
    "    reflected_point = findPoint(px, py, qx, qy)\n",
    "    print(*reflected_point)\n"
   ]
  },
  {
   "cell_type": "code",
   "execution_count": 17,
   "id": "f84e774b",
   "metadata": {},
   "outputs": [
    {
     "name": "stdout",
     "output_type": "stream",
     "text": [
      "5\n",
      "4\n",
      "6\n"
     ]
    }
   ],
   "source": [
    "def maximumDraws(n):\n",
    "    # Minimum number of socks to remove to guarantee a matching pair\n",
    "    return n + 1\n",
    "\n",
    "# Example usage with sample input\n",
    "def main():\n",
    "    num_test_cases = int(input())\n",
    "    for _ in range(num_test_cases):\n",
    "        n = int(input())\n",
    "        print(maximumDraws(n))\n",
    "\n",
    "if __name__ == \"__main__\":\n",
    "    main()\n"
   ]
  },
  {
   "cell_type": "code",
   "execution_count": 1,
   "id": "8669970b",
   "metadata": {},
   "outputs": [
    {
     "data": {
      "image/png": "[encoded data removed]",
      "text/plain": [
       "<Figure size 600x600 with 1 Axes>"
      ]
     },
     "metadata": {},
     "output_type": "display_data"
    }
   ],
   "source": [
    "import matplotlib.pyplot as plt\n",
    "\n",
    "# Data to plot\n",
    "labels = ['A', 'B', 'C', 'D']\n",
    "sizes = [15, 30, 45, 10]  # Values for each slice\n",
    "colors = ['gold', 'yellowgreen', 'lightcoral', 'lightskyblue']  # Colors for each slice\n",
    "explode = (0, 0.1, 0, 0)  # Explode 2nd slice (B)\n",
    "\n",
    "# Plot\n",
    "plt.figure(figsize=(6, 6))\n",
    "plt.pie(sizes, explode=explode, labels=labels, colors=colors, autopct='%1.1f%%', shadow=True, startangle=140)\n",
    "plt.axis('equal')  # Equal aspect ratio ensures that pie is drawn as a circle.\n",
    "plt.title('Simple Pie Chart')\n",
    "plt.show()\n"
   ]
  },
  {
   "cell_type": "code",
   "execution_count": 1,
   "id": "7fbbffa5",
   "metadata": {},
   "outputs": [
    {
     "name": "stdout",
     "output_type": "stream",
     "text": [
      "परिणाम: 8\n"
     ]
    }
   ],
   "source": [
    "# यह एक उदाहरण है\n",
    "परिणाम = 0\n",
    "\n",
    "def गणितीय_ऑपरेशन(परिमाण_1, परिमाण_2):\n",
    "    # यह एक फ़ंक्शन है जो दो परिमाणों को जोड़ता है\n",
    "    योग = परिमाण_1 + परिमाण_2\n",
    "    return योग\n",
    "\n",
    "# उदाहरण के लिए:\n",
    "परिणाम = गणितीय_ऑपरेशन(5, 3)\n",
    "print(\"परिणाम:\", परिणाम)\n"
   ]
  },
  {
   "cell_type": "code",
   "execution_count": 2,
   "id": "92568e35",
   "metadata": {},
   "outputs": [
    {
     "ename": "SyntaxError",
     "evalue": "invalid syntax (4215255810.py, line 6)",
     "output_type": "error",
     "traceback": [
      "\u001b[1;36m  Cell \u001b[1;32mIn[2], line 6\u001b[1;36m\u001b[0m\n\u001b[1;33m    यदि संदेश == \"नमस्ते, दुनिया!\":\u001b[0m\n\u001b[1;37m        ^\u001b[0m\n\u001b[1;31mSyntaxError\u001b[0m\u001b[1;31m:\u001b[0m invalid syntax\n"
     ]
    }
   ],
   "source": [
    "# प्रारंभिक उदाहरण\n",
    "संदेश = \"नमस्ते, दुनिया!\"\n",
    "प्रिंट(संदेश)\n",
    "\n",
    "# शर्त सहेतु 'यदि' उदाहरण\n",
    "यदि संदेश == \"नमस्ते, दुनिया!\":\n",
    "    प्रिंट(\"हाँ, यह संदेश है!\")\n",
    "अन्यथा:\n",
    "    प्रिंट(\"नहीं, यह संदेश नहीं है।\")"
   ]
  },
  {
   "cell_type": "code",
   "execution_count": null,
   "id": "e7115381",
   "metadata": {},
   "outputs": [],
   "source": []
  }
 ],
 "metadata": {
  "kernelspec": {
   "display_name": "Python 3 (ipykernel)",
   "language": "python",
   "name": "python3"
  },
  "language_info": {
   "codemirror_mode": {
    "name": "ipython",
    "version": 3
   },
   "file_extension": ".py",
   "mimetype": "text/x-python",
   "name": "python",
   "nbconvert_exporter": "python",
   "pygments_lexer": "ipython3",
   "version": "3.12.2"
  },
  "widgets": {
   "application/vnd.jupyter.widget-state+json": {
    "state": {},
    "version_major": 2,
    "version_minor": 0
   }
  }
 },
 "nbformat": 4,
 "nbformat_minor": 5
}
