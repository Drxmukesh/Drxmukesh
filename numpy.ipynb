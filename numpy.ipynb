{
 "cells": [
  {
   "cell_type": "markdown",
   "id": "328439f8",
   "metadata": {},
   "source": [
    "## numpy:\n",
    "### numpy is python library stand for numerical python and use to perform numerical opeartion \n",
    "### it uses numpy ndarray over python list as they are faster\n",
    "\n",
    "## properties of numpy ndarray are \n",
    "\n",
    "###  1) mulable\n",
    "###  2) Homogeneous data \n",
    "###  3) n dimentions\n",
    "###  4) Duplicate allowed\n",
    "###  5) sequencial/\n"
   ]
  },
  {
   "cell_type": "markdown",
   "id": "444c11d6",
   "metadata": {},
   "source": [
    "## Why numpy is faster\n",
    "### 1) numpy is mostly written is c/c++\n",
    "### 2)also numpy store data in contineous memory block \n",
    "### 3) it has featurs like vectorization and broadcasting"
   ]
  },
  {
   "cell_type": "code",
   "execution_count": 6,
   "id": "2460cf63",
   "metadata": {},
   "outputs": [
    {
     "name": "stdout",
     "output_type": "stream",
     "text": [
      "Defaulting to user installation because normal site-packages is not writeable\n",
      "Requirement already satisfied: numpy in c:\\programdata\\anaconda3\\lib\\site-packages (1.24.3)\n"
     ]
    }
   ],
   "source": [
    "!pip install numpy"
   ]
  },
  {
   "cell_type": "code",
   "execution_count": 4,
   "id": "a9a83c40",
   "metadata": {},
   "outputs": [],
   "source": [
    "import numpy as np"
   ]
  },
  {
   "cell_type": "code",
   "execution_count": 8,
   "id": "a3d99f03",
   "metadata": {},
   "outputs": [
    {
     "name": "stdout",
     "output_type": "stream",
     "text": [
      "[1 2 3 4]\n",
      "<class 'numpy.ndarray'>\n"
     ]
    }
   ],
   "source": [
    "a=np.array([1,2,3,4])\n",
    "print(a)\n",
    "print(type(a))"
   ]
  },
  {
   "cell_type": "code",
   "execution_count": 9,
   "id": "ff6d2b51",
   "metadata": {},
   "outputs": [
    {
     "name": "stdout",
     "output_type": "stream",
     "text": [
      "[[[1, 2, 3], [1, 2, 3]], [[1, 2, 3], [1, 2, 3]]]\n",
      "<class 'list'>\n"
     ]
    }
   ],
   "source": [
    "l =[[[1,2,3],[1,2,3]],[[1,2,3],[1,2,3]]]\n",
    "print(l)\n",
    "print(type(l))"
   ]
  },
  {
   "cell_type": "code",
   "execution_count": 11,
   "id": "61f1f02d",
   "metadata": {},
   "outputs": [
    {
     "name": "stdout",
     "output_type": "stream",
     "text": [
      "[[[1 2 3]\n",
      "  [1 2 3]]\n",
      "\n",
      " [[1 2 3]\n",
      "  [1 2 3]]]\n",
      "<class 'numpy.ndarray'>\n"
     ]
    }
   ],
   "source": [
    "a=np.array(l)\n",
    "print(a)\n",
    "print(type(a))"
   ]
  },
  {
   "cell_type": "code",
   "execution_count": 15,
   "id": "4741a8e8",
   "metadata": {},
   "outputs": [
    {
     "name": "stdout",
     "output_type": "stream",
     "text": [
      "[0. 0. 0.]\n",
      "<class 'numpy.ndarray'>\n",
      "______________________________\n",
      "[[[0. 0. 0.]\n",
      "  [0. 0. 0.]\n",
      "  [0. 0. 0.]\n",
      "  [0. 0. 0.]]\n",
      "\n",
      " [[0. 0. 0.]\n",
      "  [0. 0. 0.]\n",
      "  [0. 0. 0.]\n",
      "  [0. 0. 0.]]]\n",
      "<class 'numpy.ndarray'>\n"
     ]
    }
   ],
   "source": [
    "a=np.zeros(3)\n",
    "print(a)\n",
    "print(type(a))\n",
    "\n",
    "print(\"_\"*30)\n",
    "\n",
    "a = np.zeros((2,4,3))#np.zeros((metrix,row of matrix,column of metrix))\n",
    "print(a)\n",
    "print(type(a))"
   ]
  },
  {
   "cell_type": "code",
   "execution_count": 20,
   "id": "8cebe647",
   "metadata": {},
   "outputs": [
    {
     "name": "stdout",
     "output_type": "stream",
     "text": [
      "[1. 1. 1.]\n",
      "________________________________________\n",
      "[[1. 1. 1. 1.]\n",
      " [1. 1. 1. 1.]\n",
      " [1. 1. 1. 1.]]\n",
      "<class 'numpy.ndarray'>\n"
     ]
    }
   ],
   "source": [
    "a=np.ones(3)\n",
    "print(a)\n",
    "print(\"_\"*40)\n",
    "\n",
    "a=np.ones((3,4))#np.ones((metrix,row of matrix,column of metrix))\n",
    "print(a)\n",
    "print(type(a))"
   ]
  },
  {
   "cell_type": "code",
   "execution_count": 30,
   "id": "a9a16498",
   "metadata": {},
   "outputs": [
    {
     "name": "stdout",
     "output_type": "stream",
     "text": [
      "[[1. 0. 0. 0. 0. 0.]\n",
      " [0. 1. 0. 0. 0. 0.]\n",
      " [0. 0. 1. 0. 0. 0.]\n",
      " [0. 0. 0. 1. 0. 0.]]\n"
     ]
    }
   ],
   "source": [
    "a=np.eye(4,6)#np.eye(metrix,row of matri)         # digonal value are 1 other is (0)zero\n",
    "print(a)"
   ]
  },
  {
   "cell_type": "code",
   "execution_count": 33,
   "id": "d9169217",
   "metadata": {},
   "outputs": [
    {
     "name": "stdout",
     "output_type": "stream",
     "text": [
      "[10 10 10]\n",
      "________________________________________\n",
      "[[[6 6 6 6 6]\n",
      "  [6 6 6 6 6]\n",
      "  [6 6 6 6 6]\n",
      "  [6 6 6 6 6]]\n",
      "\n",
      " [[6 6 6 6 6]\n",
      "  [6 6 6 6 6]\n",
      "  [6 6 6 6 6]\n",
      "  [6 6 6 6 6]]\n",
      "\n",
      " [[6 6 6 6 6]\n",
      "  [6 6 6 6 6]\n",
      "  [6 6 6 6 6]\n",
      "  [6 6 6 6 6]]]\n"
     ]
    }
   ],
   "source": [
    "a=np.full((3),10)\n",
    "print(a)\n",
    "\n",
    "print(\"_\"*40)\n",
    "\n",
    "a= np.full((3,4,5),6)##np.full((metrix,row of matri,column of metrix),value)\n",
    "print(a)"
   ]
  },
  {
   "cell_type": "code",
   "execution_count": 39,
   "id": "8c65c57a",
   "metadata": {},
   "outputs": [
    {
     "name": "stdout",
     "output_type": "stream",
     "text": [
      "[[0.38784784 0.68538325 0.91233394 0.59911628]\n",
      " [0.49191404 0.9512205  0.70224121 0.79759286]]\n"
     ]
    }
   ],
   "source": [
    "a=np.random.rand(2,4)#no.random.rand(no. of rows , no of column)\n",
    "print(a)"
   ]
  },
  {
   "cell_type": "code",
   "execution_count": 40,
   "id": "89c25745",
   "metadata": {},
   "outputs": [
    {
     "name": "stdout",
     "output_type": "stream",
     "text": [
      "[[32800     2     3]\n",
      " [    1     2     3]]\n",
      "2\n",
      "(2, 3)\n",
      "6\n",
      "int32\n"
     ]
    }
   ],
   "source": [
    "a = np.array([[32800,2,3],[1,2,3]])\n",
    "print(a)\n",
    "print(a.ndim)\n",
    "print(a.shape)\n",
    "print(a.size)\n",
    "print(a.dtype)"
   ]
  },
  {
   "cell_type": "code",
   "execution_count": 44,
   "id": "e3e564c3",
   "metadata": {},
   "outputs": [
    {
     "name": "stdout",
     "output_type": "stream",
     "text": [
      "original :  [1 2 3]\n",
      "copy :  [10  2  3]\n",
      "****************************************\n",
      "original :  [10  2  3]\n",
      "copy :  [10  2  3]\n",
      "****************************************\n",
      "copy b :  [10  2  3]\n",
      "copy c :  [10  2  3]\n"
     ]
    }
   ],
   "source": [
    "a=np.array([1,2,3])\n",
    "x=a.copy()\n",
    "x[0]=10\n",
    "print(\"original : \",a)\n",
    "print(\"copy : \",x)\n",
    "\n",
    "print(\"*\"*40)\n",
    "\n",
    "a=np.array([1,2,3])\n",
    "x=a.view()\n",
    "b=a\n",
    "c=x\n",
    "\n",
    "x[0]=10\n",
    "print(\"original : \",a)\n",
    "print(\"copy : \",x)\n",
    "\n",
    "print(\"*\"*40)\n",
    "\n",
    "print(\"copy b : \",b)\n",
    "print(\"copy c : \",c)"
   ]
  },
  {
   "cell_type": "code",
   "execution_count": 3,
   "id": "eb4c15d5",
   "metadata": {},
   "outputs": [
    {
     "name": "stdout",
     "output_type": "stream",
     "text": [
      "orignal : \n",
      "[[ 1  2  3  4]\n",
      " [ 5  6  7  8]\n",
      " [ 9 10 11 12]]\n",
      "dim 2\n"
     ]
    }
   ],
   "source": [
    "a=np.array([[1,2,3,4],[5,6,7,8],[9,10,11,12]])\n",
    "print(\"orignal : \")\n",
    "print(a)\n",
    "print(\"dim\",a.ndim)"
   ]
  },
  {
   "cell_type": "code",
   "execution_count": 6,
   "id": "320d11ae-6767-43e9-bc12-d377c2a5e4ab",
   "metadata": {},
   "outputs": [
    {
     "name": "stdout",
     "output_type": "stream",
     "text": [
      "orignal : \n",
      "[[ 1  2  3  4]\n",
      " [ 5  6  7  8]\n",
      " [ 9 10 11 12]]\n",
      "dim 2\n"
     ]
    }
   ],
   "source": [
    "a=np.array([[1,2,3,4],[5,6,7,8],[9,10,11,12]])\n",
    "print(\"orignal : \")\n",
    "print(a)\n",
    "print(\"dim\",a.ndim)"
   ]
  },
  {
   "cell_type": "code",
   "execution_count": 7,
   "id": "4b63d18b",
   "metadata": {},
   "outputs": [
    {
     "name": "stdout",
     "output_type": "stream",
     "text": [
      "[[ 1  2  3  4]\n",
      " [ 5  6  7  8]\n",
      " [ 9 10 11 12]]\n",
      "\n",
      "[1 2 3 4]\n"
     ]
    }
   ],
   "source": [
    "print(a)\n",
    "print()\n",
    "print(a[0])"
   ]
  },
  {
   "cell_type": "code",
   "execution_count": 56,
   "id": "f83fd09b",
   "metadata": {},
   "outputs": [
    {
     "name": "stdout",
     "output_type": "stream",
     "text": [
      "[[ 1  2  3  4]\n",
      " [ 5  6  7  8]\n",
      " [ 9 10 11 12]]\n",
      "[[1 2 3 4]]\n"
     ]
    }
   ],
   "source": [
    "print(a)\n",
    "print(a[0:1])"
   ]
  },
  {
   "cell_type": "code",
   "execution_count": 58,
   "id": "2f274bee",
   "metadata": {
    "scrolled": true
   },
   "outputs": [
    {
     "name": "stdout",
     "output_type": "stream",
     "text": [
      "[[ 1  2  3  4]\n",
      " [ 5  6  7  8]\n",
      " [ 9 10 11 12]]\n",
      "\n",
      "10\n"
     ]
    }
   ],
   "source": [
    "print(a)\n",
    "print()\n",
    "print(a[2,1])"
   ]
  },
  {
   "cell_type": "code",
   "execution_count": 59,
   "id": "0d7b27c5",
   "metadata": {},
   "outputs": [
    {
     "name": "stdout",
     "output_type": "stream",
     "text": [
      "[[ 1  2  3  4]\n",
      " [ 5  6  7  8]\n",
      " [ 9 10 11 12]]\n",
      "\n",
      "[[1 2 3 4]\n",
      " [5 6 7 8]]\n"
     ]
    }
   ],
   "source": [
    "print(a)\n",
    "print()\n",
    "print(a[:2,:])"
   ]
  },
  {
   "cell_type": "code",
   "execution_count": 60,
   "id": "bf526b8b",
   "metadata": {},
   "outputs": [
    {
     "name": "stdout",
     "output_type": "stream",
     "text": [
      "[[ 1  2  3  4]\n",
      " [ 5  6  7  8]\n",
      " [ 9 10 11 12]]\n",
      "\n",
      "[[ 2  3  4]\n",
      " [ 6  7  8]\n",
      " [10 11 12]]\n"
     ]
    }
   ],
   "source": [
    "print(a)\n",
    "print()\n",
    "print(a[:,1:])"
   ]
  },
  {
   "cell_type": "code",
   "execution_count": 61,
   "id": "0cb05b7d",
   "metadata": {},
   "outputs": [
    {
     "name": "stdout",
     "output_type": "stream",
     "text": [
      "[[ 1  2  3  4]\n",
      " [ 5  6  7  8]\n",
      " [ 9 10 11 12]]\n",
      "\n",
      "[6 7 8]\n"
     ]
    }
   ],
   "source": [
    "print(a)\n",
    "print()\n",
    "print(a[1,1:])"
   ]
  },
  {
   "cell_type": "code",
   "execution_count": 62,
   "id": "25a03907",
   "metadata": {},
   "outputs": [
    {
     "name": "stdout",
     "output_type": "stream",
     "text": [
      "[[ 1  2  3  4]\n",
      " [ 5  6  7  8]\n",
      " [ 9 10 11 12]]\n",
      "\n",
      "[[ 6  7]\n",
      " [10 11]]\n"
     ]
    }
   ],
   "source": [
    "print(a)\n",
    "print()\n",
    "print(a[1:3,1:3])"
   ]
  },
  {
   "cell_type": "code",
   "execution_count": 63,
   "id": "dd51b0df",
   "metadata": {},
   "outputs": [
    {
     "name": "stdout",
     "output_type": "stream",
     "text": [
      "[[ 1  2  3  4]\n",
      " [ 5  6  7  8]\n",
      " [ 9 10 11 12]]\n",
      "\n",
      "10\n"
     ]
    }
   ],
   "source": [
    "print(a)\n",
    "print()\n",
    "print(a[2,1])"
   ]
  },
  {
   "cell_type": "code",
   "execution_count": 67,
   "id": "23624658",
   "metadata": {},
   "outputs": [
    {
     "name": "stdout",
     "output_type": "stream",
     "text": [
      "[[ 1  2  3  4]\n",
      " [ 5  6  7  8]\n",
      " [ 9 10 11 12]]\n",
      "\n",
      "[ 9 10 11 12]\n"
     ]
    }
   ],
   "source": [
    "print(a)\n",
    "print()\n",
    "print(a[-1])"
   ]
  },
  {
   "cell_type": "code",
   "execution_count": 72,
   "id": "c08df923",
   "metadata": {},
   "outputs": [
    {
     "name": "stdout",
     "output_type": "stream",
     "text": [
      "[[[ 1  2  3]\n",
      "  [11 22 33]]\n",
      "\n",
      " [[ 4  5  6]\n",
      "  [44 55 66]]]\n",
      "*********************************************\n",
      "[[ 2  3]\n",
      " [22 33]]\n",
      "3\n"
     ]
    }
   ],
   "source": [
    "a=np.array([[[1,2,3],[11,22,33]],\n",
    "           [[4,5,6],[44,55,66]]])\n",
    "\n",
    "print(a)\n",
    "print(\"*\"*45)\n",
    "print(a[0,:,1:])\n",
    "print(a.ndim)"
   ]
  },
  {
   "cell_type": "markdown",
   "id": "ebd5535e",
   "metadata": {},
   "source": [
    "# array operations:\n",
    "\n",
    "## Append:"
   ]
  },
  {
   "cell_type": "code",
   "execution_count": 85,
   "id": "3f7f3377",
   "metadata": {},
   "outputs": [
    {
     "name": "stdout",
     "output_type": "stream",
     "text": [
      "oringnal :  [1 2 3]\n",
      "dimention 1\n",
      "*********************************************\n",
      "aftre append :  [1 2 3 4 5 6]\n",
      "dimention 1\n"
     ]
    }
   ],
   "source": [
    "a=np.array([1,2,3])\n",
    "print(\"oringnal : \",a)\n",
    "print(\"dimention\",a.ndim)\n",
    "print(\"*\"*45)\n",
    "b=np.append(a,[4,5,6])\n",
    "print(\"aftre append : \",b)\n",
    "print(\"dimention\",b.ndim)"
   ]
  },
  {
   "cell_type": "code",
   "execution_count": 91,
   "id": "a644336d",
   "metadata": {},
   "outputs": [
    {
     "name": "stdout",
     "output_type": "stream",
     "text": [
      "oringnal :  [[1 2 3]\n",
      " [1 2 3]\n",
      " [1 2 3]]\n",
      "dimention 2\n",
      "*********************************************\n",
      "aftre append :  [1 2 3 1 2 3 1 2 3 4 5 6]\n",
      "dimention 1\n"
     ]
    }
   ],
   "source": [
    "a=np.array([[1,2,3],[1,2,3],[1,2,3]])\n",
    "print(\"oringnal : \",a)\n",
    "print(\"dimention\",a.ndim)\n",
    "print(\"*\"*45)\n",
    "b=np.append(a,[[4,5,6]])\n",
    "print(\"aftre append : \",b)\n",
    "print(\"dimention\",b.ndim)\n"
   ]
  },
  {
   "cell_type": "code",
   "execution_count": 102,
   "id": "3e17007e",
   "metadata": {},
   "outputs": [
    {
     "name": "stdout",
     "output_type": "stream",
     "text": [
      "[[ 1  2  3  4 44]\n",
      " [ 1  2  3  5 55]\n",
      " [ 1  2  3  6 66]]\n",
      "2\n",
      "(3, 5)\n",
      "15\n"
     ]
    }
   ],
   "source": [
    "c=np.append(a,[[4,44],[5,55],[6,66]],axis=1)\n",
    "print(c)\n",
    "print(c.ndim)\n",
    "print(c.shape)\n",
    "print(c.size)"
   ]
  },
  {
   "cell_type": "code",
   "execution_count": 103,
   "id": "bb93cca1",
   "metadata": {},
   "outputs": [
    {
     "name": "stdout",
     "output_type": "stream",
     "text": [
      "[[1 2 3]\n",
      " [1 2 3]\n",
      " [1 2 3]\n",
      " [1 2 3]\n",
      " [1 2 3]]\n",
      "2\n",
      "(5, 3)\n",
      "15\n"
     ]
    }
   ],
   "source": [
    "c=np.append(a,[[1,2,3],[1,2,3]],axis=0)\n",
    "print(c)\n",
    "print(c.ndim)\n",
    "print(c.shape)\n",
    "print(c.size)"
   ]
  },
  {
   "cell_type": "code",
   "execution_count": 14,
   "id": "2abb4e67",
   "metadata": {},
   "outputs": [
    {
     "name": "stdout",
     "output_type": "stream",
     "text": [
      "3 dimentional array\n",
      "original   : \n",
      " [[[1 2 3]\n",
      "  [1 2 3]]\n",
      "\n",
      " [[1 2 3]\n",
      "  [1 2 3]]]\n",
      "dim 3\n",
      "_____________________________________________\n",
      "after horizontal insert with single alements \n",
      " [[[1 2 3 1]\n",
      "  [1 2 3 1]]\n",
      "\n",
      " [[1 2 3 1]\n",
      "  [1 2 3 1]]]\n",
      "dim 3\n",
      "_____________________________________________\n",
      "[[[1]\n",
      "  [1]]\n",
      "\n",
      " [[1]\n",
      "  [1]]]\n",
      "______________________________\n",
      "shape of b (2, 2, 1)\n",
      "dim 3\n"
     ]
    }
   ],
   "source": [
    "import numpy as np\n",
    "print(\"3 dimentional array\")\n",
    "a=np.array([[[1,2,3],[1,2,3]],[[1,2,3],[1,2,3]]])\n",
    "print(\"original   : \\n\",a)\n",
    "print(\"dim\",a.ndim)\n",
    "print(\"_\"*45)\n",
    "\n",
    "c=np.append(a,[[[1],[1]],[[1],[1]]],axis=2)\n",
    "print(\"after horizontal insert with single alements \\n\",c)\n",
    "print(\"dim\",c.ndim)\n",
    "print(\"_\"*45)\n",
    "\n",
    "b=np.array([[[1],[1]],[[1],[1]]])\n",
    "print(b)\n",
    "print(\"_\"*30)\n",
    "print(\"shape of b\",b.shape)\n",
    "print(\"dim\",a.ndim)"
   ]
  },
  {
   "cell_type": "code",
   "execution_count": 27,
   "id": "b3fa9c82-6d97-4d87-9b01-89a6b42d0aa6",
   "metadata": {},
   "outputs": [
    {
     "name": "stdout",
     "output_type": "stream",
     "text": [
      "3 dimentional array\n",
      "original   : \n",
      " [[[1 2 3]\n",
      "  [1 2 3]]\n",
      "\n",
      " [[1 2 3]\n",
      "  [1 2 3]]]\n",
      "dim 3\n",
      "_____________________________________________\n",
      "after horizontal insert with single alements \n",
      " [[[1 2 3]\n",
      "  [1 2 3]\n",
      "  [1 2 3]\n",
      "  [1 2 3]]\n",
      "\n",
      " [[1 2 3]\n",
      "  [1 2 3]\n",
      "  [1 2 3]\n",
      "  [1 2 3]]]\n",
      "dim 3\n",
      "_____________________________________________\n",
      "[[[1]\n",
      "  [1]]\n",
      "\n",
      " [[1]\n",
      "  [1]]]\n",
      "______________________________\n",
      "shape of b (2, 2, 1)\n",
      "dim 3\n"
     ]
    }
   ],
   "source": [
    "import numpy as np\n",
    "print(\"3 dimentional array\")\n",
    "a=np.array([[[1,2,3],[1,2,3]],[[1,2,3],[1,2,3]]])\n",
    "print(\"original   : \\n\",a)\n",
    "print(\"dim\",a.ndim)\n",
    "print(\"_\"*45)\n",
    "\n",
    "c=np.append(a,[[[1,2,3],[1,2,3]],[[1,2,3],[1,2,3]]],axis=1)\n",
    "print(\"after horizontal insert with single alements \\n\",c)\n",
    "print(\"dim\",c.ndim)\n",
    "print(\"_\"*45)\n",
    "\n",
    "b=np.array([[[1],[1]],[[1],[1]]])\n",
    "print(b)\n",
    "print(\"_\"*30)\n",
    "print(\"shape of b\",b.shape)\n",
    "print(\"dim\",a.ndim)"
   ]
  },
  {
   "cell_type": "code",
   "execution_count": 28,
   "id": "506ff612-b661-49a8-a761-fc87c6764569",
   "metadata": {},
   "outputs": [
    {
     "name": "stdout",
     "output_type": "stream",
     "text": [
      "3 dimentional array\n",
      "original   : \n",
      " [[[1 2 3]\n",
      "  [1 2 3]]\n",
      "\n",
      " [[1 2 3]\n",
      "  [1 2 3]]]\n",
      "dim 3\n",
      "_____________________________________________\n",
      "after horizontal insert with single alements \n",
      " [[[1 2 3]\n",
      "  [1 2 3]]\n",
      "\n",
      " [[1 2 3]\n",
      "  [1 2 3]]\n",
      "\n",
      " [[1 2 3]\n",
      "  [1 2 3]]]\n",
      "dim 3\n",
      "_____________________________________________\n",
      "[[[1]\n",
      "  [1]]\n",
      "\n",
      " [[1]\n",
      "  [1]]]\n",
      "______________________________\n",
      "shape of b (2, 2, 1)\n",
      "dim 3\n"
     ]
    }
   ],
   "source": [
    "import numpy as np\n",
    "print(\"3 dimentional array\")\n",
    "a=np.array([[[1,2,3],[1,2,3]],[[1,2,3],[1,2,3]]])\n",
    "print(\"original   : \\n\",a)\n",
    "print(\"dim\",a.ndim)\n",
    "print(\"_\"*45)\n",
    "\n",
    "c=np.append(a,[[[1,2,3],[1,2,3]]],axis=0)\n",
    "print(\"after horizontal insert with single alements \\n\",c)\n",
    "print(\"dim\",c.ndim)\n",
    "print(\"_\"*45)\n",
    "\n",
    "b=np.array([[[1],[1]],[[1],[1]]])\n",
    "print(b)\n",
    "print(\"_\"*30)\n",
    "print(\"shape of b\",b.shape)\n",
    "print(\"dim\",a.ndim)"
   ]
  },
  {
   "cell_type": "code",
   "execution_count": 29,
   "id": "5c289fdd-55b8-45af-a6f7-8a54c577d86a",
   "metadata": {},
   "outputs": [
    {
     "name": "stdout",
     "output_type": "stream",
     "text": [
      "priginal  \n",
      " [1 2 3]\n",
      "dim 1\n",
      "_____________________________________________\n",
      "after insert : \n",
      " [1 2 4 3]\n",
      "dim 1\n"
     ]
    }
   ],
   "source": [
    "a=np.array([1,2,3])  \n",
    "print(\"priginal  \\n\",a)\n",
    "print(\"dim\",a.ndim)\n",
    "print(\"_\"*45)\n",
    "\n",
    "b= np.insert(a,2,4)\n",
    "print(\"after insert : \\n\",b)\n",
    "print(\"dim\",b.ndim)"
   ]
  },
  {
   "cell_type": "code",
   "execution_count": 33,
   "id": "7e9c38a3-6636-41e3-b525-1779546f4131",
   "metadata": {},
   "outputs": [
    {
     "name": "stdout",
     "output_type": "stream",
     "text": [
      "2 dimnetional array\n",
      "priginal  \n",
      " [[1 2 3 1]\n",
      " [1 2 3 1]\n",
      " [1 2 3 1]]\n",
      "dim 2\n",
      "_____________________________________________\n",
      "after insert : \n",
      " [[4 1 2 3 1]\n",
      " [4 1 2 3 1]\n",
      " [4 1 2 3 1]]\n",
      "dim 2\n"
     ]
    }
   ],
   "source": [
    "print(\"2 dimnetional array\")\n",
    "a=np.array([[1,2,3,1],[1,2,3,1],[1,2,3,1]])\n",
    "print(\"priginal  \\n\",a)\n",
    "print(\"dim\",a.ndim)\n",
    "print(\"_\"*45)\n",
    "\n",
    "b= np.insert(a,0,4,axis=1)\n",
    "print(\"after insert : \\n\",b)\n",
    "print(\"dim\",b.ndim)"
   ]
  },
  {
   "cell_type": "code",
   "execution_count": 41,
   "id": "884846c7-5d66-41a6-b676-6cc02705814c",
   "metadata": {},
   "outputs": [
    {
     "name": "stdout",
     "output_type": "stream",
     "text": [
      "2 dimnetional array\n",
      "priginal  \n",
      " [[1 2 3 1]\n",
      " [1 2 3 1]\n",
      " [1 2 3 1]]\n",
      "dim 2\n",
      "_____________________________________________\n",
      "after insert :(0) axis=0 \n",
      " [[1 2 3 5]\n",
      " [1 2 3 1]\n",
      " [1 2 3 1]\n",
      " [1 2 3 1]]\n",
      "dim 2\n",
      "_____________________________________________\n",
      "after insert -1 axis=0 \n",
      " [[1 2 3 1]\n",
      " [1 2 3 1]\n",
      " [1 2 3 5]\n",
      " [1 2 3 1]]\n",
      "dim 2\n"
     ]
    }
   ],
   "source": [
    "print(\"2 dimnetional array\")\n",
    "a=np.array([[1,2,3,1],[1,2,3,1],[1,2,3,1]])\n",
    "print(\"priginal  \\n\",a)\n",
    "print(\"dim\",a.ndim)\n",
    "print(\"_\"*45)\n",
    "\n",
    "b= np.insert(a,0,[[1,2,3,5]],axis=0)\n",
    "print(\"after insert :(0) axis=0 \\n\",b)\n",
    "print(\"dim\",b.ndim)\n",
    "print(\"_\"*45)\n",
    "\n",
    "b= np.insert(a,-1,[[1,2,3,5]],axis=0)\n",
    "print(\"after insert -1 axis=0 \\n\",b)\n",
    "print(\"dim\",b.ndim)"
   ]
  },
  {
   "cell_type": "code",
   "execution_count": 45,
   "id": "f54cc5b0-b31e-4f66-850e-c4282f140645",
   "metadata": {},
   "outputs": [
    {
     "name": "stdout",
     "output_type": "stream",
     "text": [
      "2 dimnetional array\n",
      "priginal  \n",
      " [[1 2 3 1]\n",
      " [1 2 3 1]\n",
      " [1 2 3 1]]\n",
      "dim 2\n",
      "_____________________________________________\n",
      "after horize insert all element  \n",
      "  [[1 2 4 3 1]\n",
      " [1 2 5 3 1]\n",
      " [1 2 6 3 1]] \n",
      " dim 2\n"
     ]
    }
   ],
   "source": [
    "print(\"2 dimnetional array\")\n",
    "a=np.array([[1,2,3,1],[1,2,3,1],[1,2,3,1]])\n",
    "print(\"priginal  \\n\",a)\n",
    "print(\"dim\",a.ndim)\n",
    "print(\"_\"*45)\n",
    "\n",
    "c=np.insert(a,2,[4,5,6],axis=1)\n",
    "print(\"after horize insert all element  \\n \",c,\"\\n dim\",c.ndim)"
   ]
  },
  {
   "cell_type": "code",
   "execution_count": 53,
   "id": "1cd1a676-8d3e-452e-aedc-eef941dd59f5",
   "metadata": {},
   "outputs": [
    {
     "name": "stdout",
     "output_type": "stream",
     "text": [
      "orignal : \n",
      " [[ 1  2  3]\n",
      " [11 12 13]\n",
      " [21 22 23]]\n",
      "_____________________________________________\n"
     ]
    }
   ],
   "source": [
    "a=np.array([[1,2,3],[11,12,13],[21,22,23]])\n",
    "print(\"orignal : \\n\",a)\n",
    "print(\"_\"*45)\n",
    "\n",
    "# c=np.delete(a,3)#it delete according to line by line reading\n",
    "# print(c)\n",
    "# print(\"_\"*45)\n",
    "\n",
    "# c=np.delete(a,[1,4,7])#it delete according to line by line reading\n",
    "# print(c)\n",
    "# print(\"_\"*45)"
   ]
  },
  {
   "cell_type": "code",
   "execution_count": 54,
   "id": "17da60ce-9482-4cc9-b3df-3784e7fbfdb1",
   "metadata": {},
   "outputs": [
    {
     "name": "stdout",
     "output_type": "stream",
     "text": [
      "orignal : \n",
      " [[ 1  2  3]\n",
      " [11 12 13]\n",
      " [21 22 23]]\n",
      "_____________________________________________\n",
      "[[11 12 13]\n",
      " [21 22 23]]\n",
      "_____________________________________________\n",
      "[[ 2  3]\n",
      " [12 13]\n",
      " [22 23]]\n",
      "_____________________________________________\n"
     ]
    }
   ],
   "source": [
    "a=np.array([[1,2,3],[11,12,13],[21,22,23]])\n",
    "print(\"orignal : \\n\",a)\n",
    "print(\"_\"*45)\n",
    "\n",
    "c=np.delete(a,0,0)#it delete according to line by line reading\n",
    "print(c)\n",
    "print(\"_\"*45)\n",
    "\n",
    "c=np.delete(a,0,1)#it delete according to line by line reading\n",
    "print(c)\n",
    "print(\"_\"*45)"
   ]
  },
  {
   "cell_type": "code",
   "execution_count": 57,
   "id": "f1a28620-88a2-412f-b211-6676d8d46bf4",
   "metadata": {},
   "outputs": [
    {
     "name": "stdout",
     "output_type": "stream",
     "text": [
      "[[2 3]\n",
      " [4 3]]\n",
      "_____________________________________________\n",
      "[[4 3]\n",
      " [2 3]]\n",
      "__________________________________\n"
     ]
    }
   ],
   "source": [
    "a=np.array([[2,3]])\n",
    "\n",
    "b=np.array([[4,3]])\n",
    "\n",
    "print(np.concatenate((a,b)))\n",
    "print(\"_\"*45)\n",
    "\n",
    "print(np.concatenate((b,a)))\n",
    "print(\"_\"*34)"
   ]
  },
  {
   "cell_type": "code",
   "execution_count": 59,
   "id": "cd22126f-1f69-4020-b66f-43af780e8bdd",
   "metadata": {},
   "outputs": [
    {
     "name": "stdout",
     "output_type": "stream",
     "text": [
      "[[4 3]]\n",
      "_____________________________________________\n",
      "[[4]\n",
      " [3]]\n"
     ]
    }
   ],
   "source": [
    "print(b)\n",
    "print(\"_\"*45)\n",
    "print(b.T)#transpose"
   ]
  },
  {
   "cell_type": "code",
   "execution_count": 81,
   "id": "f80c19ba-7ecd-4309-8acf-0b06a8a4d681",
   "metadata": {},
   "outputs": [
    {
     "name": "stdout",
     "output_type": "stream",
     "text": [
      "[[1 2]\n",
      " [3 4]]\n",
      "_____________________________________________\n",
      "[[5 6]]\n",
      "_____________________________________________\n"
     ]
    }
   ],
   "source": [
    "a=np.array([[1,2],[3,4]])\n",
    "\n",
    "b=np.array([[5,6]])\n",
    "print(a)\n",
    "print(\"_\"*45)\n",
    "\n",
    "print(b)\n",
    "print(\"_\"*45)\n",
    "\n",
    "# print(np.concatenate((a,b)),axis=0)\n",
    "# print(\"_\"*45)\n",
    "\n",
    "# print(np.concatenate((a,b)),axis=1)\n",
    "# print(\"_\"*45)\n",
    "\n",
    "# print(np.concatenate((a,b.T)),axis=1)\n",
    "# print(\"_\"*45)\n",
    "\n",
    "# print(np.concatenate((a.T,b)),axis=1)\n",
    "# print(\"_\"*45)"
   ]
  },
  {
   "cell_type": "code",
   "execution_count": 82,
   "id": "facf67b1-a206-40a4-8f7e-a36f17572a71",
   "metadata": {},
   "outputs": [
    {
     "name": "stdout",
     "output_type": "stream",
     "text": [
      "[[1 2]\n",
      " [3 4]\n",
      " [5 6]]\n",
      "_____________________________________________\n"
     ]
    }
   ],
   "source": [
    "print(np.concatenate((a,b),axis=0))\n",
    "print(\"_\"*45)"
   ]
  },
  {
   "cell_type": "code",
   "execution_count": 83,
   "id": "a1275c08-dd3c-49f3-a435-21a51098a9e2",
   "metadata": {},
   "outputs": [
    {
     "name": "stdout",
     "output_type": "stream",
     "text": [
      "[[1 2 5]\n",
      " [3 4 6]]\n",
      "_____________________________________________\n"
     ]
    }
   ],
   "source": [
    "print(np.concatenate((a,b.T),axis=1))\n",
    "print(\"_\"*45)"
   ]
  },
  {
   "cell_type": "code",
   "execution_count": 89,
   "id": "4b338b4e-63d1-4e2e-9f5d-bb59b01ecd51",
   "metadata": {},
   "outputs": [
    {
     "name": "stdout",
     "output_type": "stream",
     "text": [
      "[[1 3]\n",
      " [2 4]\n",
      " [5 6]]\n",
      "_____________________________________________\n"
     ]
    }
   ],
   "source": [
    "print(np.concatenate((a.T,b),axis=0))\n",
    "\n",
    "print(\"_\"*45)"
   ]
  },
  {
   "cell_type": "code",
   "execution_count": 90,
   "id": "62b07158-3593-4eca-8581-337c2254898c",
   "metadata": {},
   "outputs": [
    {
     "name": "stdout",
     "output_type": "stream",
     "text": [
      "[1, 2, 3, 1, 2, 3]\n"
     ]
    }
   ],
   "source": [
    "l=[1,2,3]\n",
    "ll=[1,2,3]\n",
    "print(l+ll)"
   ]
  },
  {
   "cell_type": "markdown",
   "id": "fd13425b-54b7-4fe8-a623-58e8afa394d4",
   "metadata": {},
   "source": [
    "### .....................broadcasting in numpy......................................PENDDING\n",
    "During calculations like add, multiply, difference etc. may need to consider the arrays of different shapes.\n",
    "\n",
    "In NumPy such operations use broadcasting concepts when different shaped arrays are involved.\n",
    "\n",
    "For same size arrays, binary operations can be performed on an element-by-element wise. #Broadcasting allows binary operations to be performed on arrays of different sizes as well.\n",
    "\n",
    "This may occur in case of adding a scalar or 0-D array to another array of different size.\n",
    "\n",
    " This is possible by extending this smaller dimension array to arrays of higher dimension\n",
    " \n",
    " by stretching or duplicating the smaller dimension values to higher dimensions and adding to result.\n",
    " \n",
    "Advantage of broadcasting is that this streching or duplication of values does not occur physically\n",
    "rather it occurs as a logical model for purpose of calculation.\n",
    "\n",
    "\n",
    "        Broadcasting in NumPy follows a strict set of rules for calculation in two arrays:\n",
    "Rule 1: If the two arrays differ in their number of dimensions,\n",
    "        the shape of the one with fever dimensions is padded with ones on its leading (left) side.\n",
    "        \n",
    "Rule 2: If the shape of the two arrays does not match in any dimension, the array with shape equal to 1 in that dimension is stretched to match           the other shape.\n",
    "\n",
    "Rule 3: If in any dimension the sizes disagree and neither is equal to 1, an error known as value error is raised.\n",
    "Calculation with same size arrays\n",
    "\n",
    "     arrs np.array([1,2,3,4,51 arv2 np.array([2, 4, 5, 10, 20])"
   ]
  },
  {
   "cell_type": "code",
   "execution_count": 6,
   "id": "61995d54-6195-4cfc-95be-e54b1c9118c8",
   "metadata": {},
   "outputs": [
    {
     "name": "stdout",
     "output_type": "stream",
     "text": [
      "size arr1 : 5\n",
      "size arr2 : 5\n",
      "[  2   8  15  40 100]\n"
     ]
    }
   ],
   "source": [
    "# Calculation with same size arrays\n",
    "import numpy as np\n",
    "arr1 = np.array([1,2,3,4,5])\n",
    "arr2 = np.array([2,4,5,10,20])\n",
    "res = arr1 * arr2\n",
    "print(\"size arr1 :\",arr1.size)\n",
    "print(\"size arr2 :\",arr2.size)\n",
    "print(res)"
   ]
  },
  {
   "cell_type": "code",
   "execution_count": 7,
   "id": "c0871d22-0fe1-4d0e-b680-d2254e771051",
   "metadata": {},
   "outputs": [
    {
     "name": "stdout",
     "output_type": "stream",
     "text": [
      "size arr1 : 5\n",
      "size arr2 : 5\n",
      "[  2   8  15  40 100]\n"
     ]
    }
   ],
   "source": [
    "# Calculation with different size arrays\n",
    "import numpy as np\n",
    "arr1 = np.array([1,2,3,4,5])\n",
    "arr2 = np.array([2,4,5,10,20])\n",
    "res = arr1 * arr2\n",
    "print(\"size arr1 :\",arr1.size)\n",
    "print(\"size arr2 :\",arr2.size)\n",
    "print(res)"
   ]
  },
  {
   "cell_type": "code",
   "execution_count": 26,
   "id": "04bd8c11-71f4-4f8f-8bd6-28d2b86f73d1",
   "metadata": {},
   "outputs": [
    {
     "name": "stdout",
     "output_type": "stream",
     "text": [
      "[[0]\n",
      " [1]\n",
      " [2]]\n",
      "[[1. 1.]\n",
      " [1. 1.]\n",
      " [1. 1.]]\n"
     ]
    }
   ],
   "source": [
    "#Exaple 1:adding 2-D array to a 1-D array\n",
    "arr1 = np.ones((2,3))\n",
    "# print(\"arr1 ones : \\n \",arr1)\n",
    "# print(\"shape of arr1 : \",arr1.shape)\n",
    "# print(\"-\"*20)\n",
    "\n",
    "arr2 = np.arange(3)#range in array form\n",
    "# print(\"arr2 arange : \\n\",arr2)\n",
    "# print(\"shape of arr2 : \",arr2.shape)\n",
    "\n",
    "newarr = arr2.reshape(3,1) \n",
    "print(newarr)\n",
    "\n",
    "newarr = arr1.reshape(3,2) \n",
    "print(newarr)"
   ]
  },
  {
   "cell_type": "code",
   "execution_count": 10,
   "id": "2f5b7879-08cc-4c2b-b6ed-b1a8a6d758c2",
   "metadata": {},
   "outputs": [
    {
     "name": "stdout",
     "output_type": "stream",
     "text": [
      "[0]\n",
      "[[1. 1. 1.]\n",
      " [1. 1. 1.]]\n"
     ]
    }
   ],
   "source": [
    "print(np.arange(1))\n",
    "print(np.ones((2,3)))"
   ]
  },
  {
   "cell_type": "markdown",
   "id": "2bcf9fcd-2f31-4bdf-a7b8-998f4d8dd7ea",
   "metadata": {},
   "source": [
    "#                                benefit of using numpy"
   ]
  },
  {
   "cell_type": "code",
   "execution_count": 5,
   "id": "fb401e36-5aed-4822-89bf-330cfbbb2090",
   "metadata": {},
   "outputs": [
    {
     "name": "stdout",
     "output_type": "stream",
     "text": [
      "1704787756.5935519\n",
      "[1, 3, 5, 7, 9, 11, 13, 15, 17, 19]\n",
      "0.008673429489135742\n"
     ]
    }
   ],
   "source": [
    "import time\n",
    "t=time.time()\n",
    "print(t)\n",
    "a=np.array([i for i in range(5000)])\n",
    "#multiplying 2\n",
    "a2=[(i*2)+1 for i in a]\n",
    "for i in a:\n",
    "    a2.append((i*2)+1)\n",
    "print(a2[:10])\n",
    "print(time.time()-t)"
   ]
  },
  {
   "cell_type": "code",
   "execution_count": 6,
   "id": "e932677b-6996-49be-b993-ca0af28ac63b",
   "metadata": {},
   "outputs": [
    {
     "name": "stdout",
     "output_type": "stream",
     "text": [
      "1704787757.677854\n",
      "[ 1  3  5  7  9 11 13 15 17 19]\n",
      "0.0\n"
     ]
    }
   ],
   "source": [
    "import time\n",
    "t=time.time()\n",
    "print(t)\n",
    "a3=np.array(a)\n",
    "a3=(a3*2)+1\n",
    "print(a3[:10])\n",
    "print(time.time()-t)\n"
   ]
  },
  {
   "cell_type": "code",
   "execution_count": 7,
   "id": "fbd73520-60e0-41c7-a85d-312c298e11f6",
   "metadata": {},
   "outputs": [
    {
     "name": "stdout",
     "output_type": "stream",
     "text": [
      "[10  8  6  4  2]\n"
     ]
    }
   ],
   "source": [
    "a=np.arange(10,1,-2)\n",
    "print(a)"
   ]
  },
  {
   "cell_type": "markdown",
   "id": "a1ccf48c-4542-4d4e-b1b9-0f237715df64",
   "metadata": {},
   "source": [
    "# numpy function"
   ]
  },
  {
   "cell_type": "code",
   "execution_count": 9,
   "id": "ddcc8a9a-09d2-4b82-a2a0-e5ad835e99ee",
   "metadata": {},
   "outputs": [
    {
     "name": "stdout",
     "output_type": "stream",
     "text": [
      "<class 'numpy.ndarray'>\n",
      "[0 1 2 3 4 5 6 7 8 9]\n"
     ]
    }
   ],
   "source": [
    "a=np.arange(10)\n",
    "print(type(a))\n",
    "print(a)"
   ]
  },
  {
   "cell_type": "code",
   "execution_count": 10,
   "id": "fd500974-467f-426c-8762-e395285867af",
   "metadata": {},
   "outputs": [
    {
     "name": "stdout",
     "output_type": "stream",
     "text": [
      "[2 5 8]\n"
     ]
    }
   ],
   "source": [
    "a=np.arange(2,10,3)\n",
    "print(a)"
   ]
  },
  {
   "cell_type": "code",
   "execution_count": 11,
   "id": "51544d0d-1c6c-4e8a-9873-6897ba536dc7",
   "metadata": {},
   "outputs": [
    {
     "name": "stdout",
     "output_type": "stream",
     "text": [
      "[0 1 2 3 4 5 6 7 8 9]\n",
      "[array([0, 1]), array([2, 3]), array([4, 5]), array([6, 7]), array([8, 9])]\n"
     ]
    }
   ],
   "source": [
    "a=np.arange(10)\n",
    "print(a)\n",
    "print(np.split(a,5))"
   ]
  },
  {
   "cell_type": "code",
   "execution_count": 12,
   "id": "a4f39f7e-269d-4f0d-bf4b-cbdbc1a2403b",
   "metadata": {},
   "outputs": [
    {
     "name": "stdout",
     "output_type": "stream",
     "text": [
      "[0 1 2 3 4 5 6 7 8 9]\n"
     ]
    },
    {
     "ename": "ValueError",
     "evalue": "array split does not result in an equal division",
     "output_type": "error",
     "traceback": [
      "\u001b[1;31m---------------------------------------------------------------------------\u001b[0m",
      "\u001b[1;31mValueError\u001b[0m                                Traceback (most recent call last)",
      "Cell \u001b[1;32mIn[12], line 3\u001b[0m\n\u001b[0;32m      1\u001b[0m a\u001b[38;5;241m=\u001b[39mnp\u001b[38;5;241m.\u001b[39marange(\u001b[38;5;241m10\u001b[39m)\n\u001b[0;32m      2\u001b[0m \u001b[38;5;28mprint\u001b[39m(a)\n\u001b[1;32m----> 3\u001b[0m \u001b[38;5;28mprint\u001b[39m(\u001b[43mnp\u001b[49m\u001b[38;5;241;43m.\u001b[39;49m\u001b[43msplit\u001b[49m\u001b[43m(\u001b[49m\u001b[43ma\u001b[49m\u001b[43m,\u001b[49m\u001b[38;5;241;43m7\u001b[39;49m\u001b[43m)\u001b[49m)   \u001b[38;5;66;03m#array split does not result in an equal division\u001b[39;00m\n",
      "File \u001b[1;32m~\\AppData\\Local\\Programs\\Python\\Python312\\Lib\\site-packages\\numpy\\lib\\shape_base.py:864\u001b[0m, in \u001b[0;36msplit\u001b[1;34m(ary, indices_or_sections, axis)\u001b[0m\n\u001b[0;32m    862\u001b[0m     N \u001b[38;5;241m=\u001b[39m ary\u001b[38;5;241m.\u001b[39mshape[axis]\n\u001b[0;32m    863\u001b[0m     \u001b[38;5;28;01mif\u001b[39;00m N \u001b[38;5;241m%\u001b[39m sections:\n\u001b[1;32m--> 864\u001b[0m         \u001b[38;5;28;01mraise\u001b[39;00m \u001b[38;5;167;01mValueError\u001b[39;00m(\n\u001b[0;32m    865\u001b[0m             \u001b[38;5;124m'\u001b[39m\u001b[38;5;124marray split does not result in an equal division\u001b[39m\u001b[38;5;124m'\u001b[39m) \u001b[38;5;28;01mfrom\u001b[39;00m \u001b[38;5;28;01mNone\u001b[39;00m\n\u001b[0;32m    866\u001b[0m \u001b[38;5;28;01mreturn\u001b[39;00m array_split(ary, indices_or_sections, axis)\n",
      "\u001b[1;31mValueError\u001b[0m: array split does not result in an equal division"
     ]
    }
   ],
   "source": [
    "a=np.arange(10)\n",
    "print(a)\n",
    "print(np.split(a,7))   #array split does not result in an equal division"
   ]
  },
  {
   "cell_type": "code",
   "execution_count": 13,
   "id": "ea967b2f-aac2-491c-bf30-16536c43c352",
   "metadata": {},
   "outputs": [
    {
     "name": "stdout",
     "output_type": "stream",
     "text": [
      "[array([0, 1]), array([2, 3, 4, 5]), array([6, 7, 8, 9])]\n",
      "[array([0, 1, 2]), array([3]), array([4, 5, 6]), array([7, 8, 9])]\n"
     ]
    }
   ],
   "source": [
    "a=np.arange(10)\n",
    "print(np.split(a,[2,6]))\n",
    "print(np.split(a,[3,4,7]))"
   ]
  },
  {
   "cell_type": "code",
   "execution_count": 14,
   "id": "9904ec66-89a9-4757-b7f6-3edbdbffa25a",
   "metadata": {},
   "outputs": [
    {
     "name": "stdout",
     "output_type": "stream",
     "text": [
      "(12,)\n",
      "[ 1  2  3  4  5  6  7  8  9 10 11 12]\n",
      "********************\n",
      "(3, 2, 2)\n",
      "[[[ 1  2]\n",
      "  [ 3  4]]\n",
      "\n",
      " [[ 5  6]\n",
      "  [ 7  8]]\n",
      "\n",
      " [[ 9 10]\n",
      "  [11 12]]]\n",
      "********************\n",
      "(4, 3)\n",
      "[[ 1  2  3]\n",
      " [ 4  5  6]\n",
      " [ 7  8  9]\n",
      " [10 11 12]]\n"
     ]
    }
   ],
   "source": [
    "a=np.arange(1,13)\n",
    "print(a.shape)\n",
    "print(a)\n",
    "print(\"*\"*20)\n",
    "a1=a.reshape(3,2,2)\n",
    "print(a1.shape)\n",
    "print(a1)\n",
    "print(\"*\"*20)\n",
    "\n",
    "a2=a.reshape(-1,3)\n",
    "print(a2.shape)\n",
    "print(a2)\n"
   ]
  },
  {
   "cell_type": "code",
   "execution_count": 15,
   "id": "8c006c35-cdcb-43ba-900a-fc5b159212cb",
   "metadata": {},
   "outputs": [
    {
     "name": "stdout",
     "output_type": "stream",
     "text": [
      "int32\n",
      "[9 2 3 4 5 6 7 8 9]\n"
     ]
    }
   ],
   "source": [
    "a=np.arange(1,10)\n",
    "print(a.dtype)\n",
    "a[0]=9.56\n",
    "print(a)"
   ]
  },
  {
   "cell_type": "code",
   "execution_count": 16,
   "id": "7789e951-6aa9-4d30-9a72-6ba1d720de7f",
   "metadata": {},
   "outputs": [
    {
     "name": "stdout",
     "output_type": "stream",
     "text": [
      "float16\n",
      "[8.22 2.   3.   4.   5.   6.   7.   8.   9.  ]\n"
     ]
    }
   ],
   "source": [
    "a=a.astype(np.float16)\n",
    "print(a.dtype)\n",
    "a[0]=8.222\n",
    "print(a)"
   ]
  },
  {
   "cell_type": "markdown",
   "id": "1c2e0f4f-a650-4045-9e8c-67174677e239",
   "metadata": {},
   "source": [
    "# ravel and flat"
   ]
  },
  {
   "cell_type": "code",
   "execution_count": 17,
   "id": "fe3c466c-7039-415d-adbf-bad5457c67aa",
   "metadata": {},
   "outputs": [
    {
     "name": "stdout",
     "output_type": "stream",
     "text": [
      "[[[[[[[[[[1 2 3]\n",
      "         [4 5 6]]]]]]]]]]\n",
      "10\n"
     ]
    }
   ],
   "source": [
    "a=np.array([[[[[[[[[[1,2,3],[4,5,6]]]]]]]]]])\n",
    "print(a)\n",
    "print(a.ndim)\n"
   ]
  },
  {
   "cell_type": "code",
   "execution_count": 18,
   "id": "e05ce487-ad93-4b31-9a13-97b6a7c06c84",
   "metadata": {},
   "outputs": [
    {
     "name": "stdout",
     "output_type": "stream",
     "text": [
      "[1 2 3 4 5 6]\n",
      "10\n"
     ]
    }
   ],
   "source": [
    "print(np.ravel(a))#convert into the one d array \n",
    "print(a.ndim)"
   ]
  },
  {
   "cell_type": "code",
   "execution_count": 19,
   "id": "4e891921-0cb2-4983-a350-8632e8a16a46",
   "metadata": {},
   "outputs": [
    {
     "name": "stdout",
     "output_type": "stream",
     "text": [
      "[[[ 1  2  3]\n",
      "  [ 4  5  6]]\n",
      "\n",
      " [[11 12 13]\n",
      "  [14 15 16]]]\n",
      "***************\n",
      "[[11 12 13]\n",
      " [14 15 16]]\n",
      "***************\n",
      "[14 15 16]\n"
     ]
    }
   ],
   "source": [
    "a=np.array([[[1,2,3],[4,5,6]],[[11,12,13],[14,15,16]]])\n",
    "print(a)\n",
    "print(\"*\"*15)\n",
    "print(a[1])\n",
    "print(\"*\"*15)\n",
    "print(a[1][1])"
   ]
  },
  {
   "cell_type": "code",
   "execution_count": 20,
   "id": "48d6e08e-c635-4fc7-b921-af0aeca8f414",
   "metadata": {},
   "outputs": [],
   "source": [
    "b=a.flat"
   ]
  },
  {
   "cell_type": "code",
   "execution_count": 21,
   "id": "c0fc9880-fde4-43e2-9e00-7afdb6cb880a",
   "metadata": {},
   "outputs": [
    {
     "name": "stdout",
     "output_type": "stream",
     "text": [
      "<numpy.flatiter object at 0x000002035C375800>\n"
     ]
    }
   ],
   "source": [
    "print(b)"
   ]
  },
  {
   "cell_type": "code",
   "execution_count": 1,
   "id": "15ada45d-3cb0-47a4-a10c-1d905e50c075",
   "metadata": {},
   "outputs": [],
   "source": [
    "import numpy as np"
   ]
  },
  {
   "cell_type": "markdown",
   "id": "a3985c93",
   "metadata": {},
   "source": [
    "# aggricate function"
   ]
  },
  {
   "cell_type": "code",
   "execution_count": 3,
   "id": "564df7b1",
   "metadata": {},
   "outputs": [
    {
     "name": "stdout",
     "output_type": "stream",
     "text": [
      "[[1 5 4]\n",
      " [5 1 3]\n",
      " [2 6 3]]\n",
      "***********************\n",
      "[[1 4 5]\n",
      " [1 3 5]\n",
      " [2 3 6]]\n",
      "******************************\n",
      "[[1 4 5]\n",
      " [1 3 5]\n",
      " [2 3 6]]\n",
      "***********************\n",
      "[[1 1 3]\n",
      " [2 5 3]\n",
      " [5 6 4]]\n"
     ]
    }
   ],
   "source": [
    "a=np.array([[1,5,4],[5,1,3],[2,6,3]])\n",
    "print(a)\n",
    "print(\"*\"*23)\n",
    "print(np.sort(a))#default row wise\n",
    "print(\"*\"*30)\n",
    "print(np.sort(a,axis=1))#default row wise\n",
    "print(\"*\"*23)\n",
    "print(np.sort(a,axis=0))#default column wise"
   ]
  },
  {
   "cell_type": "code",
   "execution_count": 5,
   "id": "cf475fbd",
   "metadata": {},
   "outputs": [
    {
     "name": "stdout",
     "output_type": "stream",
     "text": [
      "[[1 2 3]\n",
      " [4 5 6]\n",
      " [7 8 9]]\n",
      "____________________\n",
      "45\n",
      "____________________\n",
      "[ 6 15 24]\n",
      "____________________\n",
      "[12 15 18]\n",
      "____________________\n"
     ]
    }
   ],
   "source": [
    "a=np.array([[1,2,3],[4,5,6],[7,8,9]])\n",
    "print(a)\n",
    "print(\"_\"*20)\n",
    "print(a.sum())\n",
    "print(\"_\"*20)\n",
    "print(np.sum(a,axis=1))#sum row wise\n",
    "print(\"_\"*20)\n",
    "print(np.sum(a,axis=0))#columns\n",
    "print(\"_\"*20)"
   ]
  },
  {
   "cell_type": "code",
   "execution_count": 6,
   "id": "9a8aae71",
   "metadata": {},
   "outputs": [
    {
     "name": "stdout",
     "output_type": "stream",
     "text": [
      "[[1 2 3]\n",
      " [4 5 6]\n",
      " [7 8 9]]\n",
      "____________________\n",
      "1\n",
      "____________________\n",
      "[1 4 7]\n",
      "____________________\n",
      "[1 2 3]\n",
      "____________________\n"
     ]
    }
   ],
   "source": [
    "a=np.array([[1,2,3],[4,5,6],[7,8,9]])\n",
    "print(a)\n",
    "print(\"_\"*20)\n",
    "print(a.min())\n",
    "print(\"_\"*20)\n",
    "print(np.min(a,axis=1))#sum row wise\n",
    "print(\"_\"*20)\n",
    "print(np.min(a,axis=0))#columns\n",
    "print(\"_\"*20)"
   ]
  },
  {
   "cell_type": "code",
   "execution_count": 7,
   "id": "4e8f96d4",
   "metadata": {},
   "outputs": [
    {
     "name": "stdout",
     "output_type": "stream",
     "text": [
      "[[1 2 3]\n",
      " [4 5 6]\n",
      " [7 8 9]]\n",
      "____________________\n",
      "9\n",
      "____________________\n",
      "[3 6 9]\n",
      "____________________\n",
      "[7 8 9]\n",
      "____________________\n"
     ]
    }
   ],
   "source": [
    "a=np.array([[1,2,3],[4,5,6],[7,8,9]])\n",
    "print(a)\n",
    "print(\"_\"*20)\n",
    "print(a.max())\n",
    "print(\"_\"*20)\n",
    "print(np.max(a,axis=1))#sum row wise\n",
    "print(\"_\"*20)\n",
    "print(np.max(a,axis=0))#columns\n",
    "print(\"_\"*20)"
   ]
  },
  {
   "cell_type": "code",
   "execution_count": 8,
   "id": "1955817b",
   "metadata": {},
   "outputs": [
    {
     "name": "stdout",
     "output_type": "stream",
     "text": [
      "[[1 2 3]\n",
      " [4 5 6]\n",
      " [7 8 9]]\n",
      "____________________\n",
      "5.0\n",
      "____________________\n",
      "[2. 5. 8.]\n",
      "____________________\n",
      "[4. 5. 6.]\n",
      "____________________\n"
     ]
    }
   ],
   "source": [
    "a=np.array([[1,2,3],[4,5,6],[7,8,9]])\n",
    "print(a)\n",
    "print(\"_\"*20)\n",
    "print(a.mean())\n",
    "print(\"_\"*20)\n",
    "print(np.mean(a,axis=1))#sum row wise\n",
    "print(\"_\"*20)\n",
    "print(np.mean(a,axis=0))#columns\n",
    "print(\"_\"*20)"
   ]
  },
  {
   "cell_type": "markdown",
   "id": "cd1d5b67",
   "metadata": {},
   "source": [
    "## where function"
   ]
  },
  {
   "cell_type": "code",
   "execution_count": 14,
   "id": "74da465d",
   "metadata": {},
   "outputs": [
    {
     "name": "stdout",
     "output_type": "stream",
     "text": [
      "[[1 2 3]\n",
      " [4 5 6]\n",
      " [7 8 9]]\n",
      "____________________\n",
      "[[  1 222   3]\n",
      " [222   5 222]\n",
      " [  7 222   9]]\n",
      "____________________\n",
      "[[111   2 111]\n",
      " [  4 111   6]\n",
      " [111   8 111]]\n",
      "____________________\n"
     ]
    }
   ],
   "source": [
    "a=np.array([[1,2,3],[4,5,6],[7,8,9]])\n",
    "print(a)\n",
    "print(\"_\"*20)\n",
    "print(np.where(a%2==0,222,a))#\n",
    "print(\"_\"*20)\n",
    "print(np.where(a%2==0,a,111))#columns\n",
    "print(\"_\"*20)"
   ]
  },
  {
   "cell_type": "code",
   "execution_count": 18,
   "id": "0c54bec9",
   "metadata": {},
   "outputs": [
    {
     "name": "stdout",
     "output_type": "stream",
     "text": [
      "vote\n"
     ]
    }
   ],
   "source": [
    "a=int(input(\"enter your age\"))\n",
    "b=\"vote\" if a>=18 else \"novote\"\n",
    "print(b)"
   ]
  },
  {
   "cell_type": "code",
   "execution_count": null,
   "id": "dc22e08e",
   "metadata": {},
   "outputs": [],
   "source": []
  }
 ],
 "metadata": {
  "kernelspec": {
   "display_name": "Python 3 (ipykernel)",
   "language": "python",
   "name": "python3"
  },
  "language_info": {
   "codemirror_mode": {
    "name": "ipython",
    "version": 3
   },
   "file_extension": ".py",
   "mimetype": "text/x-python",
   "name": "python",
   "nbconvert_exporter": "python",
   "pygments_lexer": "ipython3",
   "version": "3.12.2"
  },
  "widgets": {
   "application/vnd.jupyter.widget-state+json": {
    "state": {},
    "version_major": 2,
    "version_minor": 0
   }
  }
 },
 "nbformat": 4,
 "nbformat_minor": 5
}
